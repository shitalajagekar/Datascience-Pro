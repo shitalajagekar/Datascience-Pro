{
    "cells": [
        {
            "metadata": {},
            "cell_type": "markdown",
            "source": "# BASIC BUILDING BLOCKS"
        },
        {
            "metadata": {},
            "cell_type": "code",
            "source": "x <- \"Hello World\" # Declaring a variable and storing data",
            "execution_count": 1,
            "outputs": []
        },
        {
            "metadata": {},
            "cell_type": "code",
            "source": "print(x)",
            "execution_count": 2,
            "outputs": [
                {
                    "output_type": "stream",
                    "text": "[1] \"Hello World\"\n",
                    "name": "stdout"
                }
            ]
        },
        {
            "metadata": {},
            "cell_type": "code",
            "source": "class(x)",
            "execution_count": 3,
            "outputs": [
                {
                    "output_type": "display_data",
                    "data": {
                        "text/html": "'character'",
                        "text/markdown": "'character'",
                        "text/latex": "'character'",
                        "text/plain": "[1] \"character\""
                    },
                    "metadata": {}
                }
            ]
        },
        {
            "metadata": {},
            "cell_type": "code",
            "source": "name <- readline(prompt=\"Enter your name: \") # Take input from user",
            "execution_count": null,
            "outputs": []
        },
        {
            "metadata": {},
            "cell_type": "code",
            "source": "paste(\"Hello\", \"World\")",
            "execution_count": 22,
            "outputs": [
                {
                    "output_type": "display_data",
                    "data": {
                        "text/html": "'Hello World'",
                        "text/markdown": "'Hello World'",
                        "text/latex": "'Hello World'",
                        "text/plain": "[1] \"Hello World\""
                    },
                    "metadata": {}
                }
            ]
        },
        {
            "metadata": {},
            "cell_type": "markdown",
            "source": "# VECTORS"
        },
        {
            "metadata": {},
            "cell_type": "code",
            "source": "# Define the variable vegas\nvegas <- \"Go!\"",
            "execution_count": 38,
            "outputs": []
        },
        {
            "metadata": {},
            "cell_type": "code",
            "source": "numeric_vector <- c(1, 10, 49)\ncharacter_vector <- c(\"a\", \"b\", \"c\")\n\n# boolean vector\nboolean_vector <- c(TRUE, FALSE, TRUE)",
            "execution_count": 39,
            "outputs": []
        },
        {
            "metadata": {},
            "cell_type": "code",
            "source": "# Poker winnings from Monday to Friday\npoker_vector <- c(140, -50, 20, -120, 240)\n\n# Roulette winnings from Monday to Friday\nroulette_vector <- c(-24, -50, 100, -350, 10)\n\ndays_vector <- c(\"Monday\", \"Tuesday\", \"Wednesday\", \"Thursday\", \"Friday\")\n\n# Assign days as names of poker_vector\nnames(poker_vector) <- days_vector\n\n# Assign days as names of roulette_vectors\nnames(roulette_vector) <- days_vector",
            "execution_count": 44,
            "outputs": []
        },
        {
            "metadata": {},
            "cell_type": "code",
            "source": "poker_vector",
            "execution_count": 45,
            "outputs": [
                {
                    "output_type": "display_data",
                    "data": {
                        "text/html": "<dl class=dl-horizontal>\n\t<dt>Monday</dt>\n\t\t<dd>140</dd>\n\t<dt>Tuesday</dt>\n\t\t<dd>-50</dd>\n\t<dt>Wednesday</dt>\n\t\t<dd>20</dd>\n\t<dt>Thursday</dt>\n\t\t<dd>-120</dd>\n\t<dt>Friday</dt>\n\t\t<dd>240</dd>\n</dl>\n",
                        "text/markdown": "Monday\n:   140Tuesday\n:   -50Wednesday\n:   20Thursday\n:   -120Friday\n:   240\n\n",
                        "text/latex": "\\begin{description*}\n\\item[Monday] 140\n\\item[Tuesday] -50\n\\item[Wednesday] 20\n\\item[Thursday] -120\n\\item[Friday] 240\n\\end{description*}\n",
                        "text/plain": "   Monday   Tuesday Wednesday  Thursday    Friday \n      140       -50        20      -120       240 "
                    },
                    "metadata": {}
                }
            ]
        },
        {
            "metadata": {},
            "cell_type": "code",
            "source": "roulette_vector",
            "execution_count": 46,
            "outputs": [
                {
                    "output_type": "display_data",
                    "data": {
                        "text/html": "<dl class=dl-horizontal>\n\t<dt>Monday</dt>\n\t\t<dd>-24</dd>\n\t<dt>Tuesday</dt>\n\t\t<dd>-50</dd>\n\t<dt>Wednesday</dt>\n\t\t<dd>100</dd>\n\t<dt>Thursday</dt>\n\t\t<dd>-350</dd>\n\t<dt>Friday</dt>\n\t\t<dd>10</dd>\n</dl>\n",
                        "text/markdown": "Monday\n:   -24Tuesday\n:   -50Wednesday\n:   100Thursday\n:   -350Friday\n:   10\n\n",
                        "text/latex": "\\begin{description*}\n\\item[Monday] -24\n\\item[Tuesday] -50\n\\item[Wednesday] 100\n\\item[Thursday] -350\n\\item[Friday] 10\n\\end{description*}\n",
                        "text/plain": "   Monday   Tuesday Wednesday  Thursday    Friday \n      -24       -50       100      -350        10 "
                    },
                    "metadata": {}
                }
            ]
        },
        {
            "metadata": {},
            "cell_type": "code",
            "source": "# Total winnings with poker\ntotal_poker <- sum(poker_vector)\n\n# Total winnings with roulette\ntotal_roulette <- sum(roulette_vector)\n\n# Total winnings overall\ntotal_week <- total_poker + total_roulette\n\n# Print out total_week\ntotal_week",
            "execution_count": 47,
            "outputs": [
                {
                    "output_type": "display_data",
                    "data": {
                        "text/html": "-84",
                        "text/markdown": "-84",
                        "text/latex": "-84",
                        "text/plain": "[1] -84"
                    },
                    "metadata": {}
                }
            ]
        },
        {
            "metadata": {},
            "cell_type": "code",
            "source": "total_poker > total_roulette",
            "execution_count": 48,
            "outputs": [
                {
                    "output_type": "display_data",
                    "data": {
                        "text/html": "TRUE",
                        "text/markdown": "TRUE",
                        "text/latex": "TRUE",
                        "text/plain": "[1] TRUE"
                    },
                    "metadata": {}
                }
            ]
        },
        {
            "metadata": {},
            "cell_type": "code",
            "source": "poker_wednesday <- poker_vector[3]\npoker_wednesday",
            "execution_count": 49,
            "outputs": [
                {
                    "output_type": "display_data",
                    "data": {
                        "text/html": "<strong>Wednesday:</strong> 20",
                        "text/markdown": "**Wednesday:** 20",
                        "text/latex": "\\textbf{Wednesday:} 20",
                        "text/plain": "Wednesday \n       20 "
                    },
                    "metadata": {}
                }
            ]
        },
        {
            "metadata": {},
            "cell_type": "code",
            "source": "poker_midweek <- poker_vector[c(2, 3, 4)]\npoker_midweek",
            "execution_count": 50,
            "outputs": [
                {
                    "output_type": "display_data",
                    "data": {
                        "text/html": "<dl class=dl-horizontal>\n\t<dt>Tuesday</dt>\n\t\t<dd>-50</dd>\n\t<dt>Wednesday</dt>\n\t\t<dd>20</dd>\n\t<dt>Thursday</dt>\n\t\t<dd>-120</dd>\n</dl>\n",
                        "text/markdown": "Tuesday\n:   -50Wednesday\n:   20Thursday\n:   -120\n\n",
                        "text/latex": "\\begin{description*}\n\\item[Tuesday] -50\n\\item[Wednesday] 20\n\\item[Thursday] -120\n\\end{description*}\n",
                        "text/plain": "  Tuesday Wednesday  Thursday \n      -50        20      -120 "
                    },
                    "metadata": {}
                }
            ]
        },
        {
            "metadata": {},
            "cell_type": "code",
            "source": "roulette_selection_vector <- roulette_vector[2:5]\nroulette_selection_vector",
            "execution_count": 51,
            "outputs": [
                {
                    "output_type": "display_data",
                    "data": {
                        "text/html": "<dl class=dl-horizontal>\n\t<dt>Tuesday</dt>\n\t\t<dd>-50</dd>\n\t<dt>Wednesday</dt>\n\t\t<dd>100</dd>\n\t<dt>Thursday</dt>\n\t\t<dd>-350</dd>\n\t<dt>Friday</dt>\n\t\t<dd>10</dd>\n</dl>\n",
                        "text/markdown": "Tuesday\n:   -50Wednesday\n:   100Thursday\n:   -350Friday\n:   10\n\n",
                        "text/latex": "\\begin{description*}\n\\item[Tuesday] -50\n\\item[Wednesday] 100\n\\item[Thursday] -350\n\\item[Friday] 10\n\\end{description*}\n",
                        "text/plain": "  Tuesday Wednesday  Thursday    Friday \n      -50       100      -350        10 "
                    },
                    "metadata": {}
                }
            ]
        },
        {
            "metadata": {},
            "cell_type": "code",
            "source": "# Select poker results for Monday, Tuesday and Wednesday\npoker_start <-poker_vector[c(\"Monday\", \"Tuesday\", \"Wednesday\")] \n  \n# Calculate the average of the elements in poker_start\navg <- mean(poker_start)\navg",
            "execution_count": 52,
            "outputs": [
                {
                    "output_type": "display_data",
                    "data": {
                        "text/html": "36.6666666666667",
                        "text/markdown": "36.6666666666667",
                        "text/latex": "36.6666666666667",
                        "text/plain": "[1] 36.66667"
                    },
                    "metadata": {}
                }
            ]
        },
        {
            "metadata": {},
            "cell_type": "code",
            "source": "# Which days did you make money on poker?\nselection_vector <- c(140, -50, 20, -120, 240) >0\n  \n# Print out selection_vector\nselection_vector",
            "execution_count": 53,
            "outputs": [
                {
                    "output_type": "display_data",
                    "data": {
                        "text/html": "<ol class=list-inline>\n\t<li>TRUE</li>\n\t<li>FALSE</li>\n\t<li>TRUE</li>\n\t<li>FALSE</li>\n\t<li>TRUE</li>\n</ol>\n",
                        "text/markdown": "1. TRUE\n2. FALSE\n3. TRUE\n4. FALSE\n5. TRUE\n\n\n",
                        "text/latex": "\\begin{enumerate*}\n\\item TRUE\n\\item FALSE\n\\item TRUE\n\\item FALSE\n\\item TRUE\n\\end{enumerate*}\n",
                        "text/plain": "[1]  TRUE FALSE  TRUE FALSE  TRUE"
                    },
                    "metadata": {}
                }
            ]
        },
        {
            "metadata": {},
            "cell_type": "code",
            "source": "# Which days did you make money on poker?\nselection_vector <- poker_vector > 0\n\n# Select from poker_vector these days\npoker_winning_days <- poker_vector[selection_vector]\npoker_winning_days",
            "execution_count": 55,
            "outputs": [
                {
                    "output_type": "display_data",
                    "data": {
                        "text/html": "<dl class=dl-horizontal>\n\t<dt>Monday</dt>\n\t\t<dd>140</dd>\n\t<dt>Wednesday</dt>\n\t\t<dd>20</dd>\n\t<dt>Friday</dt>\n\t\t<dd>240</dd>\n</dl>\n",
                        "text/markdown": "Monday\n:   140Wednesday\n:   20Friday\n:   240\n\n",
                        "text/latex": "\\begin{description*}\n\\item[Monday] 140\n\\item[Wednesday] 20\n\\item[Friday] 240\n\\end{description*}\n",
                        "text/plain": "   Monday Wednesday    Friday \n      140        20       240 "
                    },
                    "metadata": {}
                }
            ]
        },
        {
            "metadata": {},
            "cell_type": "code",
            "source": "# Which days did you make money on roulette?\nselection_vector <- roulette_vector >0\n\n# Select from roulette_vector these days\nroulette_winning_days <- roulette_vector[selection_vector] \nroulette_winning_days",
            "execution_count": 57,
            "outputs": [
                {
                    "output_type": "display_data",
                    "data": {
                        "text/html": "<dl class=dl-horizontal>\n\t<dt>Wednesday</dt>\n\t\t<dd>100</dd>\n\t<dt>Friday</dt>\n\t\t<dd>10</dd>\n</dl>\n",
                        "text/markdown": "Wednesday\n:   100Friday\n:   10\n\n",
                        "text/latex": "\\begin{description*}\n\\item[Wednesday] 100\n\\item[Friday] 10\n\\end{description*}\n",
                        "text/plain": "Wednesday    Friday \n      100        10 "
                    },
                    "metadata": {}
                }
            ]
        },
        {
            "metadata": {},
            "cell_type": "markdown",
            "source": "# MATRICES"
        },
        {
            "metadata": {},
            "cell_type": "code",
            "source": "matrix(1:9, byrow = TRUE, nrow=3)",
            "execution_count": 63,
            "outputs": [
                {
                    "output_type": "display_data",
                    "data": {
                        "text/html": "<table>\n<tbody>\n\t<tr><td>1</td><td>2</td><td>3</td></tr>\n\t<tr><td>4</td><td>5</td><td>6</td></tr>\n\t<tr><td>7</td><td>8</td><td>9</td></tr>\n</tbody>\n</table>\n",
                        "text/markdown": "\n| 1 | 2 | 3 |\n| 4 | 5 | 6 |\n| 7 | 8 | 9 |\n\n",
                        "text/latex": "\\begin{tabular}{lll}\n\t 1 & 2 & 3\\\\\n\t 4 & 5 & 6\\\\\n\t 7 & 8 & 9\\\\\n\\end{tabular}\n",
                        "text/plain": "     [,1] [,2] [,3]\n[1,] 1    2    3   \n[2,] 4    5    6   \n[3,] 7    8    9   "
                    },
                    "metadata": {}
                }
            ]
        },
        {
            "metadata": {},
            "cell_type": "code",
            "source": "matrix(1:9, byrow = FALSE, nrow=3)",
            "execution_count": 62,
            "outputs": [
                {
                    "output_type": "display_data",
                    "data": {
                        "text/html": "<table>\n<tbody>\n\t<tr><td>1</td><td>4</td><td>7</td></tr>\n\t<tr><td>2</td><td>5</td><td>8</td></tr>\n\t<tr><td>3</td><td>6</td><td>9</td></tr>\n</tbody>\n</table>\n",
                        "text/markdown": "\n| 1 | 4 | 7 |\n| 2 | 5 | 8 |\n| 3 | 6 | 9 |\n\n",
                        "text/latex": "\\begin{tabular}{lll}\n\t 1 & 4 & 7\\\\\n\t 2 & 5 & 8\\\\\n\t 3 & 6 & 9\\\\\n\\end{tabular}\n",
                        "text/plain": "     [,1] [,2] [,3]\n[1,] 1    4    7   \n[2,] 2    5    8   \n[3,] 3    6    9   "
                    },
                    "metadata": {}
                }
            ]
        },
        {
            "metadata": {},
            "cell_type": "code",
            "source": "# Box office Star Wars (in millions!)\nnew_hope <- c(460.998, 314.4)\nempire_strikes <- c(290.475, 247.900)\nreturn_jedi <- c(309.306, 165.8)\n\n# Construct matrix\nstar_wars_matrix <- matrix(c(new_hope, empire_strikes, return_jedi), nrow = 3, byrow = TRUE)\n\n# Vectors region and titles, used for naming\nregion <- c(\"US\", \"non-US\")\ntitles <- c(\"A New Hope\", \"The Empire Strikes Back\", \"Return of the Jedi\")\n\n# Name the columns with region\ncolnames(star_wars_matrix) <- region\n\n# Name the rows with titles\nrownames(star_wars_matrix) <- titles\n\n# Print out star_wars_matrix\nstar_wars_matrix",
            "execution_count": 64,
            "outputs": [
                {
                    "output_type": "display_data",
                    "data": {
                        "text/html": "<table>\n<thead><tr><th></th><th scope=col>US</th><th scope=col>non-US</th></tr></thead>\n<tbody>\n\t<tr><th scope=row>A New Hope</th><td>460.998</td><td>314.4  </td></tr>\n\t<tr><th scope=row>The Empire Strikes Back</th><td>290.475</td><td>247.9  </td></tr>\n\t<tr><th scope=row>Return of the Jedi</th><td>309.306</td><td>165.8  </td></tr>\n</tbody>\n</table>\n",
                        "text/markdown": "\n| <!--/--> | US | non-US |\n|---|---|---|\n| A New Hope | 460.998 | 314.4   |\n| The Empire Strikes Back | 290.475 | 247.9   |\n| Return of the Jedi | 309.306 | 165.8   |\n\n",
                        "text/latex": "\\begin{tabular}{r|ll}\n  & US & non-US\\\\\n\\hline\n\tA New Hope & 460.998 & 314.4  \\\\\n\tThe Empire Strikes Back & 290.475 & 247.9  \\\\\n\tReturn of the Jedi & 309.306 & 165.8  \\\\\n\\end{tabular}\n",
                        "text/plain": "                        US      non-US\nA New Hope              460.998 314.4 \nThe Empire Strikes Back 290.475 247.9 \nReturn of the Jedi      309.306 165.8 "
                    },
                    "metadata": {}
                }
            ]
        },
        {
            "metadata": {},
            "cell_type": "code",
            "source": "# Calculate worldwide box office figures\nworldwide_vector <- rowSums(star_wars_matrix)\nworldwide_vector",
            "execution_count": 65,
            "outputs": [
                {
                    "output_type": "display_data",
                    "data": {
                        "text/html": "<dl class=dl-horizontal>\n\t<dt>A New Hope</dt>\n\t\t<dd>775.398</dd>\n\t<dt>The Empire Strikes Back</dt>\n\t\t<dd>538.375</dd>\n\t<dt>Return of the Jedi</dt>\n\t\t<dd>475.106</dd>\n</dl>\n",
                        "text/markdown": "A New Hope\n:   775.398The Empire Strikes Back\n:   538.375Return of the Jedi\n:   475.106\n\n",
                        "text/latex": "\\begin{description*}\n\\item[A New Hope] 775.398\n\\item[The Empire Strikes Back] 538.375\n\\item[Return of the Jedi] 475.106\n\\end{description*}\n",
                        "text/plain": "             A New Hope The Empire Strikes Back      Return of the Jedi \n                775.398                 538.375                 475.106 "
                    },
                    "metadata": {}
                }
            ]
        },
        {
            "metadata": {},
            "cell_type": "code",
            "source": "# Bind the new variable worldwide_vector as a column to star_wars_matrix\nall_wars_matrix <- cbind(star_wars_matrix, worldwide_vector)\nall_wars_matrix",
            "execution_count": 69,
            "outputs": [
                {
                    "output_type": "display_data",
                    "data": {
                        "text/html": "<table>\n<thead><tr><th></th><th scope=col>US</th><th scope=col>non-US</th><th scope=col>worldwide_vector</th></tr></thead>\n<tbody>\n\t<tr><th scope=row>A New Hope</th><td>460.998</td><td>314.4  </td><td>775.398</td></tr>\n\t<tr><th scope=row>The Empire Strikes Back</th><td>290.475</td><td>247.9  </td><td>538.375</td></tr>\n\t<tr><th scope=row>Return of the Jedi</th><td>309.306</td><td>165.8  </td><td>475.106</td></tr>\n</tbody>\n</table>\n",
                        "text/markdown": "\n| <!--/--> | US | non-US | worldwide_vector |\n|---|---|---|---|\n| A New Hope | 460.998 | 314.4   | 775.398 |\n| The Empire Strikes Back | 290.475 | 247.9   | 538.375 |\n| Return of the Jedi | 309.306 | 165.8   | 475.106 |\n\n",
                        "text/latex": "\\begin{tabular}{r|lll}\n  & US & non-US & worldwide\\_vector\\\\\n\\hline\n\tA New Hope & 460.998 & 314.4   & 775.398\\\\\n\tThe Empire Strikes Back & 290.475 & 247.9   & 538.375\\\\\n\tReturn of the Jedi & 309.306 & 165.8   & 475.106\\\\\n\\end{tabular}\n",
                        "text/plain": "                        US      non-US worldwide_vector\nA New Hope              460.998 314.4  775.398         \nThe Empire Strikes Back 290.475 247.9  538.375         \nReturn of the Jedi      309.306 165.8  475.106         "
                    },
                    "metadata": {}
                }
            ]
        },
        {
            "metadata": {},
            "cell_type": "code",
            "source": "# Total revenue for US and non-US\ntotal_revenue_vector <- colSums(all_wars_matrix)\n  \n# Print out total_revenue_vector\ntotal_revenue_vector",
            "execution_count": 70,
            "outputs": [
                {
                    "output_type": "display_data",
                    "data": {
                        "text/html": "<dl class=dl-horizontal>\n\t<dt>US</dt>\n\t\t<dd>1060.779</dd>\n\t<dt>non-US</dt>\n\t\t<dd>728.1</dd>\n\t<dt>worldwide_vector</dt>\n\t\t<dd>1788.879</dd>\n</dl>\n",
                        "text/markdown": "US\n:   1060.779non-US\n:   728.1worldwide_vector\n:   1788.879\n\n",
                        "text/latex": "\\begin{description*}\n\\item[US] 1060.779\n\\item[non-US] 728.1\n\\item[worldwide\\textbackslash{}\\_vector] 1788.879\n\\end{description*}\n",
                        "text/plain": "              US           non-US worldwide_vector \n        1060.779          728.100         1788.879 "
                    },
                    "metadata": {}
                }
            ]
        },
        {
            "metadata": {},
            "cell_type": "code",
            "source": "# Select the non-US revenue for all movies\nnon_us_all <- all_wars_matrix[,2]\n  \n# Average non-US revenue\nmean(non_us_all)\n  \n# Select the non-US revenue for first two movies\nnon_us_some <- all_wars_matrix[1:2,2] \n  \n# Average non-US revenue for first two movies\nmean(non_us_some)",
            "execution_count": 71,
            "outputs": [
                {
                    "output_type": "display_data",
                    "data": {
                        "text/html": "242.7",
                        "text/markdown": "242.7",
                        "text/latex": "242.7",
                        "text/plain": "[1] 242.7"
                    },
                    "metadata": {}
                },
                {
                    "output_type": "display_data",
                    "data": {
                        "text/html": "281.15",
                        "text/markdown": "281.15",
                        "text/latex": "281.15",
                        "text/plain": "[1] 281.15"
                    },
                    "metadata": {}
                }
            ]
        },
        {
            "metadata": {},
            "cell_type": "code",
            "source": "ticket_prices_matrix = 5\n\n# Estimated number of visitors\nvisitors <- all_wars_matrix/ticket_prices_matrix\n\n# US visitors\nus_visitors <- visitors[,1]\n\n# Average number of US visitors\nmean(us_visitors)",
            "execution_count": 74,
            "outputs": [
                {
                    "output_type": "display_data",
                    "data": {
                        "text/html": "70.7186",
                        "text/markdown": "70.7186",
                        "text/latex": "70.7186",
                        "text/plain": "[1] 70.7186"
                    },
                    "metadata": {}
                }
            ]
        },
        {
            "metadata": {},
            "cell_type": "markdown",
            "source": "# FACTORS"
        },
        {
            "metadata": {},
            "cell_type": "code",
            "source": "# Gender vector\ngender_vector <- c(\"Male\", \"Female\", \"Female\", \"Male\", \"Male\")\n\n# Convert gender_vector to a factor\nfactor_gender_vector <- factor(gender_vector)\n  \n# Print out factor_gender_vector\nfactor_gender_vector",
            "execution_count": 75,
            "outputs": [
                {
                    "output_type": "display_data",
                    "data": {
                        "text/html": "<ol class=list-inline>\n\t<li>Male</li>\n\t<li>Female</li>\n\t<li>Female</li>\n\t<li>Male</li>\n\t<li>Male</li>\n</ol>\n\n<details>\n\t<summary style=display:list-item;cursor:pointer>\n\t\t<strong>Levels</strong>:\n\t</summary>\n\t<ol class=list-inline>\n\t\t<li>'Female'</li>\n\t\t<li>'Male'</li>\n\t</ol>\n</details>",
                        "text/markdown": "1. Male\n2. Female\n3. Female\n4. Male\n5. Male\n\n\n\n**Levels**: 1. 'Female'\n2. 'Male'\n\n\n",
                        "text/latex": "\\begin{enumerate*}\n\\item Male\n\\item Female\n\\item Female\n\\item Male\n\\item Male\n\\end{enumerate*}\n\n\\emph{Levels}: \\begin{enumerate*}\n\\item 'Female'\n\\item 'Male'\n\\end{enumerate*}\n",
                        "text/plain": "[1] Male   Female Female Male   Male  \nLevels: Female Male"
                    },
                    "metadata": {}
                }
            ]
        },
        {
            "metadata": {},
            "cell_type": "code",
            "source": "# Animals\nanimals_vector <- c(\"Elephant\", \"Giraffe\", \"Donkey\", \"Horse\")\nfactor_animals_vector <- factor(animals_vector)\nfactor_animals_vector\n\n# Temperature\ntemperature_vector <- c(\"High\", \"Low\", \"High\",\"Low\", \"Medium\")\nfactor_temperature_vector <- factor(temperature_vector, order = TRUE, levels = c(\"Low\", \"Medium\", \"High\"))\nfactor_temperature_vector",
            "execution_count": 76,
            "outputs": [
                {
                    "output_type": "display_data",
                    "data": {
                        "text/html": "<ol class=list-inline>\n\t<li>Elephant</li>\n\t<li>Giraffe</li>\n\t<li>Donkey</li>\n\t<li>Horse</li>\n</ol>\n\n<details>\n\t<summary style=display:list-item;cursor:pointer>\n\t\t<strong>Levels</strong>:\n\t</summary>\n\t<ol class=list-inline>\n\t\t<li>'Donkey'</li>\n\t\t<li>'Elephant'</li>\n\t\t<li>'Giraffe'</li>\n\t\t<li>'Horse'</li>\n\t</ol>\n</details>",
                        "text/markdown": "1. Elephant\n2. Giraffe\n3. Donkey\n4. Horse\n\n\n\n**Levels**: 1. 'Donkey'\n2. 'Elephant'\n3. 'Giraffe'\n4. 'Horse'\n\n\n",
                        "text/latex": "\\begin{enumerate*}\n\\item Elephant\n\\item Giraffe\n\\item Donkey\n\\item Horse\n\\end{enumerate*}\n\n\\emph{Levels}: \\begin{enumerate*}\n\\item 'Donkey'\n\\item 'Elephant'\n\\item 'Giraffe'\n\\item 'Horse'\n\\end{enumerate*}\n",
                        "text/plain": "[1] Elephant Giraffe  Donkey   Horse   \nLevels: Donkey Elephant Giraffe Horse"
                    },
                    "metadata": {}
                },
                {
                    "output_type": "display_data",
                    "data": {
                        "text/html": "<ol class=list-inline>\n\t<li>High</li>\n\t<li>Low</li>\n\t<li>High</li>\n\t<li>Low</li>\n\t<li>Medium</li>\n</ol>\n\n<details>\n\t<summary style=display:list-item;cursor:pointer>\n\t\t<strong>Levels</strong>:\n\t</summary>\n\t<ol class=list-inline>\n\t\t<li>'Low'</li>\n\t\t<li>'Medium'</li>\n\t\t<li>'High'</li>\n\t</ol>\n</details>",
                        "text/markdown": "1. High\n2. Low\n3. High\n4. Low\n5. Medium\n\n\n\n**Levels**: 1. 'Low'\n2. 'Medium'\n3. 'High'\n\n\n",
                        "text/latex": "\\begin{enumerate*}\n\\item High\n\\item Low\n\\item High\n\\item Low\n\\item Medium\n\\end{enumerate*}\n\n\\emph{Levels}: \\begin{enumerate*}\n\\item 'Low'\n\\item 'Medium'\n\\item 'High'\n\\end{enumerate*}\n",
                        "text/plain": "[1] High   Low    High   Low    Medium\nLevels: Low < Medium < High"
                    },
                    "metadata": {}
                }
            ]
        },
        {
            "metadata": {},
            "cell_type": "code",
            "source": "# Build factor_survey_vector with clean levels\nsurvey_vector <- c(\"M\", \"F\", \"F\", \"M\", \"M\")\nfactor_survey_vector <- factor(survey_vector)\nlevels(factor_survey_vector) <- c(\"Female\", \"Male\")\nfactor_survey_vector\n\n# Generate summary for survey_vector\nsummary(survey_vector)\n\n# Generate summary for factor_survey_vector\nsummary(factor_survey_vector)",
            "execution_count": 78,
            "outputs": [
                {
                    "output_type": "display_data",
                    "data": {
                        "text/html": "<ol class=list-inline>\n\t<li>Male</li>\n\t<li>Female</li>\n\t<li>Female</li>\n\t<li>Male</li>\n\t<li>Male</li>\n</ol>\n\n<details>\n\t<summary style=display:list-item;cursor:pointer>\n\t\t<strong>Levels</strong>:\n\t</summary>\n\t<ol class=list-inline>\n\t\t<li>'Female'</li>\n\t\t<li>'Male'</li>\n\t</ol>\n</details>",
                        "text/markdown": "1. Male\n2. Female\n3. Female\n4. Male\n5. Male\n\n\n\n**Levels**: 1. 'Female'\n2. 'Male'\n\n\n",
                        "text/latex": "\\begin{enumerate*}\n\\item Male\n\\item Female\n\\item Female\n\\item Male\n\\item Male\n\\end{enumerate*}\n\n\\emph{Levels}: \\begin{enumerate*}\n\\item 'Female'\n\\item 'Male'\n\\end{enumerate*}\n",
                        "text/plain": "[1] Male   Female Female Male   Male  \nLevels: Female Male"
                    },
                    "metadata": {}
                },
                {
                    "output_type": "display_data",
                    "data": {
                        "text/plain": "   Length     Class      Mode \n        5 character character "
                    },
                    "metadata": {}
                },
                {
                    "output_type": "display_data",
                    "data": {
                        "text/html": "<dl class=dl-horizontal>\n\t<dt>Female</dt>\n\t\t<dd>2</dd>\n\t<dt>Male</dt>\n\t\t<dd>3</dd>\n</dl>\n",
                        "text/markdown": "Female\n:   2Male\n:   3\n\n",
                        "text/latex": "\\begin{description*}\n\\item[Female] 2\n\\item[Male] 3\n\\end{description*}\n",
                        "text/plain": "Female   Male \n     2      3 "
                    },
                    "metadata": {}
                }
            ]
        },
        {
            "metadata": {},
            "cell_type": "code",
            "source": "# Create speed_vector\nspeed_vector <- c(\"fast\", \"slow\", \"slow\", \"fast\", \"insane\") \n\n# Convert speed_vector to ordered factor vector\nfactor_speed_vector <-  factor( speed_vector, ordered =TRUE, levels = c(\"slow\", \"fast\", \"insane\"))\n\n# Print factor_speed_vector\nfactor_speed_vector\nsummary(factor_speed_vector) ",
            "execution_count": 85,
            "outputs": [
                {
                    "output_type": "display_data",
                    "data": {
                        "text/html": "<ol class=list-inline>\n\t<li>fast</li>\n\t<li>slow</li>\n\t<li>slow</li>\n\t<li>fast</li>\n\t<li>insane</li>\n</ol>\n\n<details>\n\t<summary style=display:list-item;cursor:pointer>\n\t\t<strong>Levels</strong>:\n\t</summary>\n\t<ol class=list-inline>\n\t\t<li>'slow'</li>\n\t\t<li>'fast'</li>\n\t\t<li>'insane'</li>\n\t</ol>\n</details>",
                        "text/markdown": "1. fast\n2. slow\n3. slow\n4. fast\n5. insane\n\n\n\n**Levels**: 1. 'slow'\n2. 'fast'\n3. 'insane'\n\n\n",
                        "text/latex": "\\begin{enumerate*}\n\\item fast\n\\item slow\n\\item slow\n\\item fast\n\\item insane\n\\end{enumerate*}\n\n\\emph{Levels}: \\begin{enumerate*}\n\\item 'slow'\n\\item 'fast'\n\\item 'insane'\n\\end{enumerate*}\n",
                        "text/plain": "[1] fast   slow   slow   fast   insane\nLevels: slow < fast < insane"
                    },
                    "metadata": {}
                },
                {
                    "output_type": "display_data",
                    "data": {
                        "text/html": "<dl class=dl-horizontal>\n\t<dt>slow</dt>\n\t\t<dd>2</dd>\n\t<dt>fast</dt>\n\t\t<dd>2</dd>\n\t<dt>insane</dt>\n\t\t<dd>1</dd>\n</dl>\n",
                        "text/markdown": "slow\n:   2fast\n:   2insane\n:   1\n\n",
                        "text/latex": "\\begin{description*}\n\\item[slow] 2\n\\item[fast] 2\n\\item[insane] 1\n\\end{description*}\n",
                        "text/plain": "  slow   fast insane \n     2      2      1 "
                    },
                    "metadata": {}
                }
            ]
        },
        {
            "metadata": {},
            "cell_type": "code",
            "source": "# Factor value for second data analyst\nda2 <- factor_speed_vector[2]\n\n# Factor value for fifth data analyst\nda5 <- factor_speed_vector[5]\n\n# Is data analyst 2 faster than data analyst 5?\nda2 >da5",
            "execution_count": 86,
            "outputs": [
                {
                    "output_type": "display_data",
                    "data": {
                        "text/html": "FALSE",
                        "text/markdown": "FALSE",
                        "text/latex": "FALSE",
                        "text/plain": "[1] FALSE"
                    },
                    "metadata": {}
                }
            ]
        },
        {
            "metadata": {},
            "cell_type": "markdown",
            "source": "# DATAFRAMES"
        },
        {
            "metadata": {},
            "cell_type": "code",
            "source": "# Print out built-in R data frame\nmtcars ",
            "execution_count": 87,
            "outputs": [
                {
                    "output_type": "display_data",
                    "data": {
                        "text/html": "<table>\n<thead><tr><th></th><th scope=col>mpg</th><th scope=col>cyl</th><th scope=col>disp</th><th scope=col>hp</th><th scope=col>drat</th><th scope=col>wt</th><th scope=col>qsec</th><th scope=col>vs</th><th scope=col>am</th><th scope=col>gear</th><th scope=col>carb</th></tr></thead>\n<tbody>\n\t<tr><th scope=row>Mazda RX4</th><td>21.0 </td><td>6    </td><td>160.0</td><td>110  </td><td>3.90 </td><td>2.620</td><td>16.46</td><td>0    </td><td>1    </td><td>4    </td><td>4    </td></tr>\n\t<tr><th scope=row>Mazda RX4 Wag</th><td>21.0 </td><td>6    </td><td>160.0</td><td>110  </td><td>3.90 </td><td>2.875</td><td>17.02</td><td>0    </td><td>1    </td><td>4    </td><td>4    </td></tr>\n\t<tr><th scope=row>Datsun 710</th><td>22.8 </td><td>4    </td><td>108.0</td><td> 93  </td><td>3.85 </td><td>2.320</td><td>18.61</td><td>1    </td><td>1    </td><td>4    </td><td>1    </td></tr>\n\t<tr><th scope=row>Hornet 4 Drive</th><td>21.4 </td><td>6    </td><td>258.0</td><td>110  </td><td>3.08 </td><td>3.215</td><td>19.44</td><td>1    </td><td>0    </td><td>3    </td><td>1    </td></tr>\n\t<tr><th scope=row>Hornet Sportabout</th><td>18.7 </td><td>8    </td><td>360.0</td><td>175  </td><td>3.15 </td><td>3.440</td><td>17.02</td><td>0    </td><td>0    </td><td>3    </td><td>2    </td></tr>\n\t<tr><th scope=row>Valiant</th><td>18.1 </td><td>6    </td><td>225.0</td><td>105  </td><td>2.76 </td><td>3.460</td><td>20.22</td><td>1    </td><td>0    </td><td>3    </td><td>1    </td></tr>\n\t<tr><th scope=row>Duster 360</th><td>14.3 </td><td>8    </td><td>360.0</td><td>245  </td><td>3.21 </td><td>3.570</td><td>15.84</td><td>0    </td><td>0    </td><td>3    </td><td>4    </td></tr>\n\t<tr><th scope=row>Merc 240D</th><td>24.4 </td><td>4    </td><td>146.7</td><td> 62  </td><td>3.69 </td><td>3.190</td><td>20.00</td><td>1    </td><td>0    </td><td>4    </td><td>2    </td></tr>\n\t<tr><th scope=row>Merc 230</th><td>22.8 </td><td>4    </td><td>140.8</td><td> 95  </td><td>3.92 </td><td>3.150</td><td>22.90</td><td>1    </td><td>0    </td><td>4    </td><td>2    </td></tr>\n\t<tr><th scope=row>Merc 280</th><td>19.2 </td><td>6    </td><td>167.6</td><td>123  </td><td>3.92 </td><td>3.440</td><td>18.30</td><td>1    </td><td>0    </td><td>4    </td><td>4    </td></tr>\n\t<tr><th scope=row>Merc 280C</th><td>17.8 </td><td>6    </td><td>167.6</td><td>123  </td><td>3.92 </td><td>3.440</td><td>18.90</td><td>1    </td><td>0    </td><td>4    </td><td>4    </td></tr>\n\t<tr><th scope=row>Merc 450SE</th><td>16.4 </td><td>8    </td><td>275.8</td><td>180  </td><td>3.07 </td><td>4.070</td><td>17.40</td><td>0    </td><td>0    </td><td>3    </td><td>3    </td></tr>\n\t<tr><th scope=row>Merc 450SL</th><td>17.3 </td><td>8    </td><td>275.8</td><td>180  </td><td>3.07 </td><td>3.730</td><td>17.60</td><td>0    </td><td>0    </td><td>3    </td><td>3    </td></tr>\n\t<tr><th scope=row>Merc 450SLC</th><td>15.2 </td><td>8    </td><td>275.8</td><td>180  </td><td>3.07 </td><td>3.780</td><td>18.00</td><td>0    </td><td>0    </td><td>3    </td><td>3    </td></tr>\n\t<tr><th scope=row>Cadillac Fleetwood</th><td>10.4 </td><td>8    </td><td>472.0</td><td>205  </td><td>2.93 </td><td>5.250</td><td>17.98</td><td>0    </td><td>0    </td><td>3    </td><td>4    </td></tr>\n\t<tr><th scope=row>Lincoln Continental</th><td>10.4 </td><td>8    </td><td>460.0</td><td>215  </td><td>3.00 </td><td>5.424</td><td>17.82</td><td>0    </td><td>0    </td><td>3    </td><td>4    </td></tr>\n\t<tr><th scope=row>Chrysler Imperial</th><td>14.7 </td><td>8    </td><td>440.0</td><td>230  </td><td>3.23 </td><td>5.345</td><td>17.42</td><td>0    </td><td>0    </td><td>3    </td><td>4    </td></tr>\n\t<tr><th scope=row>Fiat 128</th><td>32.4 </td><td>4    </td><td> 78.7</td><td> 66  </td><td>4.08 </td><td>2.200</td><td>19.47</td><td>1    </td><td>1    </td><td>4    </td><td>1    </td></tr>\n\t<tr><th scope=row>Honda Civic</th><td>30.4 </td><td>4    </td><td> 75.7</td><td> 52  </td><td>4.93 </td><td>1.615</td><td>18.52</td><td>1    </td><td>1    </td><td>4    </td><td>2    </td></tr>\n\t<tr><th scope=row>Toyota Corolla</th><td>33.9 </td><td>4    </td><td> 71.1</td><td> 65  </td><td>4.22 </td><td>1.835</td><td>19.90</td><td>1    </td><td>1    </td><td>4    </td><td>1    </td></tr>\n\t<tr><th scope=row>Toyota Corona</th><td>21.5 </td><td>4    </td><td>120.1</td><td> 97  </td><td>3.70 </td><td>2.465</td><td>20.01</td><td>1    </td><td>0    </td><td>3    </td><td>1    </td></tr>\n\t<tr><th scope=row>Dodge Challenger</th><td>15.5 </td><td>8    </td><td>318.0</td><td>150  </td><td>2.76 </td><td>3.520</td><td>16.87</td><td>0    </td><td>0    </td><td>3    </td><td>2    </td></tr>\n\t<tr><th scope=row>AMC Javelin</th><td>15.2 </td><td>8    </td><td>304.0</td><td>150  </td><td>3.15 </td><td>3.435</td><td>17.30</td><td>0    </td><td>0    </td><td>3    </td><td>2    </td></tr>\n\t<tr><th scope=row>Camaro Z28</th><td>13.3 </td><td>8    </td><td>350.0</td><td>245  </td><td>3.73 </td><td>3.840</td><td>15.41</td><td>0    </td><td>0    </td><td>3    </td><td>4    </td></tr>\n\t<tr><th scope=row>Pontiac Firebird</th><td>19.2 </td><td>8    </td><td>400.0</td><td>175  </td><td>3.08 </td><td>3.845</td><td>17.05</td><td>0    </td><td>0    </td><td>3    </td><td>2    </td></tr>\n\t<tr><th scope=row>Fiat X1-9</th><td>27.3 </td><td>4    </td><td> 79.0</td><td> 66  </td><td>4.08 </td><td>1.935</td><td>18.90</td><td>1    </td><td>1    </td><td>4    </td><td>1    </td></tr>\n\t<tr><th scope=row>Porsche 914-2</th><td>26.0 </td><td>4    </td><td>120.3</td><td> 91  </td><td>4.43 </td><td>2.140</td><td>16.70</td><td>0    </td><td>1    </td><td>5    </td><td>2    </td></tr>\n\t<tr><th scope=row>Lotus Europa</th><td>30.4 </td><td>4    </td><td> 95.1</td><td>113  </td><td>3.77 </td><td>1.513</td><td>16.90</td><td>1    </td><td>1    </td><td>5    </td><td>2    </td></tr>\n\t<tr><th scope=row>Ford Pantera L</th><td>15.8 </td><td>8    </td><td>351.0</td><td>264  </td><td>4.22 </td><td>3.170</td><td>14.50</td><td>0    </td><td>1    </td><td>5    </td><td>4    </td></tr>\n\t<tr><th scope=row>Ferrari Dino</th><td>19.7 </td><td>6    </td><td>145.0</td><td>175  </td><td>3.62 </td><td>2.770</td><td>15.50</td><td>0    </td><td>1    </td><td>5    </td><td>6    </td></tr>\n\t<tr><th scope=row>Maserati Bora</th><td>15.0 </td><td>8    </td><td>301.0</td><td>335  </td><td>3.54 </td><td>3.570</td><td>14.60</td><td>0    </td><td>1    </td><td>5    </td><td>8    </td></tr>\n\t<tr><th scope=row>Volvo 142E</th><td>21.4 </td><td>4    </td><td>121.0</td><td>109  </td><td>4.11 </td><td>2.780</td><td>18.60</td><td>1    </td><td>1    </td><td>4    </td><td>2    </td></tr>\n</tbody>\n</table>\n",
                        "text/markdown": "\n| <!--/--> | mpg | cyl | disp | hp | drat | wt | qsec | vs | am | gear | carb |\n|---|---|---|---|---|---|---|---|---|---|---|---|\n| Mazda RX4 | 21.0  | 6     | 160.0 | 110   | 3.90  | 2.620 | 16.46 | 0     | 1     | 4     | 4     |\n| Mazda RX4 Wag | 21.0  | 6     | 160.0 | 110   | 3.90  | 2.875 | 17.02 | 0     | 1     | 4     | 4     |\n| Datsun 710 | 22.8  | 4     | 108.0 |  93   | 3.85  | 2.320 | 18.61 | 1     | 1     | 4     | 1     |\n| Hornet 4 Drive | 21.4  | 6     | 258.0 | 110   | 3.08  | 3.215 | 19.44 | 1     | 0     | 3     | 1     |\n| Hornet Sportabout | 18.7  | 8     | 360.0 | 175   | 3.15  | 3.440 | 17.02 | 0     | 0     | 3     | 2     |\n| Valiant | 18.1  | 6     | 225.0 | 105   | 2.76  | 3.460 | 20.22 | 1     | 0     | 3     | 1     |\n| Duster 360 | 14.3  | 8     | 360.0 | 245   | 3.21  | 3.570 | 15.84 | 0     | 0     | 3     | 4     |\n| Merc 240D | 24.4  | 4     | 146.7 |  62   | 3.69  | 3.190 | 20.00 | 1     | 0     | 4     | 2     |\n| Merc 230 | 22.8  | 4     | 140.8 |  95   | 3.92  | 3.150 | 22.90 | 1     | 0     | 4     | 2     |\n| Merc 280 | 19.2  | 6     | 167.6 | 123   | 3.92  | 3.440 | 18.30 | 1     | 0     | 4     | 4     |\n| Merc 280C | 17.8  | 6     | 167.6 | 123   | 3.92  | 3.440 | 18.90 | 1     | 0     | 4     | 4     |\n| Merc 450SE | 16.4  | 8     | 275.8 | 180   | 3.07  | 4.070 | 17.40 | 0     | 0     | 3     | 3     |\n| Merc 450SL | 17.3  | 8     | 275.8 | 180   | 3.07  | 3.730 | 17.60 | 0     | 0     | 3     | 3     |\n| Merc 450SLC | 15.2  | 8     | 275.8 | 180   | 3.07  | 3.780 | 18.00 | 0     | 0     | 3     | 3     |\n| Cadillac Fleetwood | 10.4  | 8     | 472.0 | 205   | 2.93  | 5.250 | 17.98 | 0     | 0     | 3     | 4     |\n| Lincoln Continental | 10.4  | 8     | 460.0 | 215   | 3.00  | 5.424 | 17.82 | 0     | 0     | 3     | 4     |\n| Chrysler Imperial | 14.7  | 8     | 440.0 | 230   | 3.23  | 5.345 | 17.42 | 0     | 0     | 3     | 4     |\n| Fiat 128 | 32.4  | 4     |  78.7 |  66   | 4.08  | 2.200 | 19.47 | 1     | 1     | 4     | 1     |\n| Honda Civic | 30.4  | 4     |  75.7 |  52   | 4.93  | 1.615 | 18.52 | 1     | 1     | 4     | 2     |\n| Toyota Corolla | 33.9  | 4     |  71.1 |  65   | 4.22  | 1.835 | 19.90 | 1     | 1     | 4     | 1     |\n| Toyota Corona | 21.5  | 4     | 120.1 |  97   | 3.70  | 2.465 | 20.01 | 1     | 0     | 3     | 1     |\n| Dodge Challenger | 15.5  | 8     | 318.0 | 150   | 2.76  | 3.520 | 16.87 | 0     | 0     | 3     | 2     |\n| AMC Javelin | 15.2  | 8     | 304.0 | 150   | 3.15  | 3.435 | 17.30 | 0     | 0     | 3     | 2     |\n| Camaro Z28 | 13.3  | 8     | 350.0 | 245   | 3.73  | 3.840 | 15.41 | 0     | 0     | 3     | 4     |\n| Pontiac Firebird | 19.2  | 8     | 400.0 | 175   | 3.08  | 3.845 | 17.05 | 0     | 0     | 3     | 2     |\n| Fiat X1-9 | 27.3  | 4     |  79.0 |  66   | 4.08  | 1.935 | 18.90 | 1     | 1     | 4     | 1     |\n| Porsche 914-2 | 26.0  | 4     | 120.3 |  91   | 4.43  | 2.140 | 16.70 | 0     | 1     | 5     | 2     |\n| Lotus Europa | 30.4  | 4     |  95.1 | 113   | 3.77  | 1.513 | 16.90 | 1     | 1     | 5     | 2     |\n| Ford Pantera L | 15.8  | 8     | 351.0 | 264   | 4.22  | 3.170 | 14.50 | 0     | 1     | 5     | 4     |\n| Ferrari Dino | 19.7  | 6     | 145.0 | 175   | 3.62  | 2.770 | 15.50 | 0     | 1     | 5     | 6     |\n| Maserati Bora | 15.0  | 8     | 301.0 | 335   | 3.54  | 3.570 | 14.60 | 0     | 1     | 5     | 8     |\n| Volvo 142E | 21.4  | 4     | 121.0 | 109   | 4.11  | 2.780 | 18.60 | 1     | 1     | 4     | 2     |\n\n",
                        "text/latex": "\\begin{tabular}{r|lllllllllll}\n  & mpg & cyl & disp & hp & drat & wt & qsec & vs & am & gear & carb\\\\\n\\hline\n\tMazda RX4 & 21.0  & 6     & 160.0 & 110   & 3.90  & 2.620 & 16.46 & 0     & 1     & 4     & 4    \\\\\n\tMazda RX4 Wag & 21.0  & 6     & 160.0 & 110   & 3.90  & 2.875 & 17.02 & 0     & 1     & 4     & 4    \\\\\n\tDatsun 710 & 22.8  & 4     & 108.0 &  93   & 3.85  & 2.320 & 18.61 & 1     & 1     & 4     & 1    \\\\\n\tHornet 4 Drive & 21.4  & 6     & 258.0 & 110   & 3.08  & 3.215 & 19.44 & 1     & 0     & 3     & 1    \\\\\n\tHornet Sportabout & 18.7  & 8     & 360.0 & 175   & 3.15  & 3.440 & 17.02 & 0     & 0     & 3     & 2    \\\\\n\tValiant & 18.1  & 6     & 225.0 & 105   & 2.76  & 3.460 & 20.22 & 1     & 0     & 3     & 1    \\\\\n\tDuster 360 & 14.3  & 8     & 360.0 & 245   & 3.21  & 3.570 & 15.84 & 0     & 0     & 3     & 4    \\\\\n\tMerc 240D & 24.4  & 4     & 146.7 &  62   & 3.69  & 3.190 & 20.00 & 1     & 0     & 4     & 2    \\\\\n\tMerc 230 & 22.8  & 4     & 140.8 &  95   & 3.92  & 3.150 & 22.90 & 1     & 0     & 4     & 2    \\\\\n\tMerc 280 & 19.2  & 6     & 167.6 & 123   & 3.92  & 3.440 & 18.30 & 1     & 0     & 4     & 4    \\\\\n\tMerc 280C & 17.8  & 6     & 167.6 & 123   & 3.92  & 3.440 & 18.90 & 1     & 0     & 4     & 4    \\\\\n\tMerc 450SE & 16.4  & 8     & 275.8 & 180   & 3.07  & 4.070 & 17.40 & 0     & 0     & 3     & 3    \\\\\n\tMerc 450SL & 17.3  & 8     & 275.8 & 180   & 3.07  & 3.730 & 17.60 & 0     & 0     & 3     & 3    \\\\\n\tMerc 450SLC & 15.2  & 8     & 275.8 & 180   & 3.07  & 3.780 & 18.00 & 0     & 0     & 3     & 3    \\\\\n\tCadillac Fleetwood & 10.4  & 8     & 472.0 & 205   & 2.93  & 5.250 & 17.98 & 0     & 0     & 3     & 4    \\\\\n\tLincoln Continental & 10.4  & 8     & 460.0 & 215   & 3.00  & 5.424 & 17.82 & 0     & 0     & 3     & 4    \\\\\n\tChrysler Imperial & 14.7  & 8     & 440.0 & 230   & 3.23  & 5.345 & 17.42 & 0     & 0     & 3     & 4    \\\\\n\tFiat 128 & 32.4  & 4     &  78.7 &  66   & 4.08  & 2.200 & 19.47 & 1     & 1     & 4     & 1    \\\\\n\tHonda Civic & 30.4  & 4     &  75.7 &  52   & 4.93  & 1.615 & 18.52 & 1     & 1     & 4     & 2    \\\\\n\tToyota Corolla & 33.9  & 4     &  71.1 &  65   & 4.22  & 1.835 & 19.90 & 1     & 1     & 4     & 1    \\\\\n\tToyota Corona & 21.5  & 4     & 120.1 &  97   & 3.70  & 2.465 & 20.01 & 1     & 0     & 3     & 1    \\\\\n\tDodge Challenger & 15.5  & 8     & 318.0 & 150   & 2.76  & 3.520 & 16.87 & 0     & 0     & 3     & 2    \\\\\n\tAMC Javelin & 15.2  & 8     & 304.0 & 150   & 3.15  & 3.435 & 17.30 & 0     & 0     & 3     & 2    \\\\\n\tCamaro Z28 & 13.3  & 8     & 350.0 & 245   & 3.73  & 3.840 & 15.41 & 0     & 0     & 3     & 4    \\\\\n\tPontiac Firebird & 19.2  & 8     & 400.0 & 175   & 3.08  & 3.845 & 17.05 & 0     & 0     & 3     & 2    \\\\\n\tFiat X1-9 & 27.3  & 4     &  79.0 &  66   & 4.08  & 1.935 & 18.90 & 1     & 1     & 4     & 1    \\\\\n\tPorsche 914-2 & 26.0  & 4     & 120.3 &  91   & 4.43  & 2.140 & 16.70 & 0     & 1     & 5     & 2    \\\\\n\tLotus Europa & 30.4  & 4     &  95.1 & 113   & 3.77  & 1.513 & 16.90 & 1     & 1     & 5     & 2    \\\\\n\tFord Pantera L & 15.8  & 8     & 351.0 & 264   & 4.22  & 3.170 & 14.50 & 0     & 1     & 5     & 4    \\\\\n\tFerrari Dino & 19.7  & 6     & 145.0 & 175   & 3.62  & 2.770 & 15.50 & 0     & 1     & 5     & 6    \\\\\n\tMaserati Bora & 15.0  & 8     & 301.0 & 335   & 3.54  & 3.570 & 14.60 & 0     & 1     & 5     & 8    \\\\\n\tVolvo 142E & 21.4  & 4     & 121.0 & 109   & 4.11  & 2.780 & 18.60 & 1     & 1     & 4     & 2    \\\\\n\\end{tabular}\n",
                        "text/plain": "                    mpg  cyl disp  hp  drat wt    qsec  vs am gear carb\nMazda RX4           21.0 6   160.0 110 3.90 2.620 16.46 0  1  4    4   \nMazda RX4 Wag       21.0 6   160.0 110 3.90 2.875 17.02 0  1  4    4   \nDatsun 710          22.8 4   108.0  93 3.85 2.320 18.61 1  1  4    1   \nHornet 4 Drive      21.4 6   258.0 110 3.08 3.215 19.44 1  0  3    1   \nHornet Sportabout   18.7 8   360.0 175 3.15 3.440 17.02 0  0  3    2   \nValiant             18.1 6   225.0 105 2.76 3.460 20.22 1  0  3    1   \nDuster 360          14.3 8   360.0 245 3.21 3.570 15.84 0  0  3    4   \nMerc 240D           24.4 4   146.7  62 3.69 3.190 20.00 1  0  4    2   \nMerc 230            22.8 4   140.8  95 3.92 3.150 22.90 1  0  4    2   \nMerc 280            19.2 6   167.6 123 3.92 3.440 18.30 1  0  4    4   \nMerc 280C           17.8 6   167.6 123 3.92 3.440 18.90 1  0  4    4   \nMerc 450SE          16.4 8   275.8 180 3.07 4.070 17.40 0  0  3    3   \nMerc 450SL          17.3 8   275.8 180 3.07 3.730 17.60 0  0  3    3   \nMerc 450SLC         15.2 8   275.8 180 3.07 3.780 18.00 0  0  3    3   \nCadillac Fleetwood  10.4 8   472.0 205 2.93 5.250 17.98 0  0  3    4   \nLincoln Continental 10.4 8   460.0 215 3.00 5.424 17.82 0  0  3    4   \nChrysler Imperial   14.7 8   440.0 230 3.23 5.345 17.42 0  0  3    4   \nFiat 128            32.4 4    78.7  66 4.08 2.200 19.47 1  1  4    1   \nHonda Civic         30.4 4    75.7  52 4.93 1.615 18.52 1  1  4    2   \nToyota Corolla      33.9 4    71.1  65 4.22 1.835 19.90 1  1  4    1   \nToyota Corona       21.5 4   120.1  97 3.70 2.465 20.01 1  0  3    1   \nDodge Challenger    15.5 8   318.0 150 2.76 3.520 16.87 0  0  3    2   \nAMC Javelin         15.2 8   304.0 150 3.15 3.435 17.30 0  0  3    2   \nCamaro Z28          13.3 8   350.0 245 3.73 3.840 15.41 0  0  3    4   \nPontiac Firebird    19.2 8   400.0 175 3.08 3.845 17.05 0  0  3    2   \nFiat X1-9           27.3 4    79.0  66 4.08 1.935 18.90 1  1  4    1   \nPorsche 914-2       26.0 4   120.3  91 4.43 2.140 16.70 0  1  5    2   \nLotus Europa        30.4 4    95.1 113 3.77 1.513 16.90 1  1  5    2   \nFord Pantera L      15.8 8   351.0 264 4.22 3.170 14.50 0  1  5    4   \nFerrari Dino        19.7 6   145.0 175 3.62 2.770 15.50 0  1  5    6   \nMaserati Bora       15.0 8   301.0 335 3.54 3.570 14.60 0  1  5    8   \nVolvo 142E          21.4 4   121.0 109 4.11 2.780 18.60 1  1  4    2   "
                    },
                    "metadata": {}
                }
            ]
        },
        {
            "metadata": {},
            "cell_type": "code",
            "source": "head(mtcars)\ntail(mtcars)",
            "execution_count": 88,
            "outputs": [
                {
                    "output_type": "display_data",
                    "data": {
                        "text/html": "<table>\n<thead><tr><th></th><th scope=col>mpg</th><th scope=col>cyl</th><th scope=col>disp</th><th scope=col>hp</th><th scope=col>drat</th><th scope=col>wt</th><th scope=col>qsec</th><th scope=col>vs</th><th scope=col>am</th><th scope=col>gear</th><th scope=col>carb</th></tr></thead>\n<tbody>\n\t<tr><th scope=row>Mazda RX4</th><td>21.0 </td><td>6    </td><td>160  </td><td>110  </td><td>3.90 </td><td>2.620</td><td>16.46</td><td>0    </td><td>1    </td><td>4    </td><td>4    </td></tr>\n\t<tr><th scope=row>Mazda RX4 Wag</th><td>21.0 </td><td>6    </td><td>160  </td><td>110  </td><td>3.90 </td><td>2.875</td><td>17.02</td><td>0    </td><td>1    </td><td>4    </td><td>4    </td></tr>\n\t<tr><th scope=row>Datsun 710</th><td>22.8 </td><td>4    </td><td>108  </td><td> 93  </td><td>3.85 </td><td>2.320</td><td>18.61</td><td>1    </td><td>1    </td><td>4    </td><td>1    </td></tr>\n\t<tr><th scope=row>Hornet 4 Drive</th><td>21.4 </td><td>6    </td><td>258  </td><td>110  </td><td>3.08 </td><td>3.215</td><td>19.44</td><td>1    </td><td>0    </td><td>3    </td><td>1    </td></tr>\n\t<tr><th scope=row>Hornet Sportabout</th><td>18.7 </td><td>8    </td><td>360  </td><td>175  </td><td>3.15 </td><td>3.440</td><td>17.02</td><td>0    </td><td>0    </td><td>3    </td><td>2    </td></tr>\n\t<tr><th scope=row>Valiant</th><td>18.1 </td><td>6    </td><td>225  </td><td>105  </td><td>2.76 </td><td>3.460</td><td>20.22</td><td>1    </td><td>0    </td><td>3    </td><td>1    </td></tr>\n</tbody>\n</table>\n",
                        "text/markdown": "\n| <!--/--> | mpg | cyl | disp | hp | drat | wt | qsec | vs | am | gear | carb |\n|---|---|---|---|---|---|---|---|---|---|---|---|\n| Mazda RX4 | 21.0  | 6     | 160   | 110   | 3.90  | 2.620 | 16.46 | 0     | 1     | 4     | 4     |\n| Mazda RX4 Wag | 21.0  | 6     | 160   | 110   | 3.90  | 2.875 | 17.02 | 0     | 1     | 4     | 4     |\n| Datsun 710 | 22.8  | 4     | 108   |  93   | 3.85  | 2.320 | 18.61 | 1     | 1     | 4     | 1     |\n| Hornet 4 Drive | 21.4  | 6     | 258   | 110   | 3.08  | 3.215 | 19.44 | 1     | 0     | 3     | 1     |\n| Hornet Sportabout | 18.7  | 8     | 360   | 175   | 3.15  | 3.440 | 17.02 | 0     | 0     | 3     | 2     |\n| Valiant | 18.1  | 6     | 225   | 105   | 2.76  | 3.460 | 20.22 | 1     | 0     | 3     | 1     |\n\n",
                        "text/latex": "\\begin{tabular}{r|lllllllllll}\n  & mpg & cyl & disp & hp & drat & wt & qsec & vs & am & gear & carb\\\\\n\\hline\n\tMazda RX4 & 21.0  & 6     & 160   & 110   & 3.90  & 2.620 & 16.46 & 0     & 1     & 4     & 4    \\\\\n\tMazda RX4 Wag & 21.0  & 6     & 160   & 110   & 3.90  & 2.875 & 17.02 & 0     & 1     & 4     & 4    \\\\\n\tDatsun 710 & 22.8  & 4     & 108   &  93   & 3.85  & 2.320 & 18.61 & 1     & 1     & 4     & 1    \\\\\n\tHornet 4 Drive & 21.4  & 6     & 258   & 110   & 3.08  & 3.215 & 19.44 & 1     & 0     & 3     & 1    \\\\\n\tHornet Sportabout & 18.7  & 8     & 360   & 175   & 3.15  & 3.440 & 17.02 & 0     & 0     & 3     & 2    \\\\\n\tValiant & 18.1  & 6     & 225   & 105   & 2.76  & 3.460 & 20.22 & 1     & 0     & 3     & 1    \\\\\n\\end{tabular}\n",
                        "text/plain": "                  mpg  cyl disp hp  drat wt    qsec  vs am gear carb\nMazda RX4         21.0 6   160  110 3.90 2.620 16.46 0  1  4    4   \nMazda RX4 Wag     21.0 6   160  110 3.90 2.875 17.02 0  1  4    4   \nDatsun 710        22.8 4   108   93 3.85 2.320 18.61 1  1  4    1   \nHornet 4 Drive    21.4 6   258  110 3.08 3.215 19.44 1  0  3    1   \nHornet Sportabout 18.7 8   360  175 3.15 3.440 17.02 0  0  3    2   \nValiant           18.1 6   225  105 2.76 3.460 20.22 1  0  3    1   "
                    },
                    "metadata": {}
                },
                {
                    "output_type": "display_data",
                    "data": {
                        "text/html": "<table>\n<thead><tr><th></th><th scope=col>mpg</th><th scope=col>cyl</th><th scope=col>disp</th><th scope=col>hp</th><th scope=col>drat</th><th scope=col>wt</th><th scope=col>qsec</th><th scope=col>vs</th><th scope=col>am</th><th scope=col>gear</th><th scope=col>carb</th></tr></thead>\n<tbody>\n\t<tr><th scope=row>Porsche 914-2</th><td>26.0 </td><td>4    </td><td>120.3</td><td> 91  </td><td>4.43 </td><td>2.140</td><td>16.7 </td><td>0    </td><td>1    </td><td>5    </td><td>2    </td></tr>\n\t<tr><th scope=row>Lotus Europa</th><td>30.4 </td><td>4    </td><td> 95.1</td><td>113  </td><td>3.77 </td><td>1.513</td><td>16.9 </td><td>1    </td><td>1    </td><td>5    </td><td>2    </td></tr>\n\t<tr><th scope=row>Ford Pantera L</th><td>15.8 </td><td>8    </td><td>351.0</td><td>264  </td><td>4.22 </td><td>3.170</td><td>14.5 </td><td>0    </td><td>1    </td><td>5    </td><td>4    </td></tr>\n\t<tr><th scope=row>Ferrari Dino</th><td>19.7 </td><td>6    </td><td>145.0</td><td>175  </td><td>3.62 </td><td>2.770</td><td>15.5 </td><td>0    </td><td>1    </td><td>5    </td><td>6    </td></tr>\n\t<tr><th scope=row>Maserati Bora</th><td>15.0 </td><td>8    </td><td>301.0</td><td>335  </td><td>3.54 </td><td>3.570</td><td>14.6 </td><td>0    </td><td>1    </td><td>5    </td><td>8    </td></tr>\n\t<tr><th scope=row>Volvo 142E</th><td>21.4 </td><td>4    </td><td>121.0</td><td>109  </td><td>4.11 </td><td>2.780</td><td>18.6 </td><td>1    </td><td>1    </td><td>4    </td><td>2    </td></tr>\n</tbody>\n</table>\n",
                        "text/markdown": "\n| <!--/--> | mpg | cyl | disp | hp | drat | wt | qsec | vs | am | gear | carb |\n|---|---|---|---|---|---|---|---|---|---|---|---|\n| Porsche 914-2 | 26.0  | 4     | 120.3 |  91   | 4.43  | 2.140 | 16.7  | 0     | 1     | 5     | 2     |\n| Lotus Europa | 30.4  | 4     |  95.1 | 113   | 3.77  | 1.513 | 16.9  | 1     | 1     | 5     | 2     |\n| Ford Pantera L | 15.8  | 8     | 351.0 | 264   | 4.22  | 3.170 | 14.5  | 0     | 1     | 5     | 4     |\n| Ferrari Dino | 19.7  | 6     | 145.0 | 175   | 3.62  | 2.770 | 15.5  | 0     | 1     | 5     | 6     |\n| Maserati Bora | 15.0  | 8     | 301.0 | 335   | 3.54  | 3.570 | 14.6  | 0     | 1     | 5     | 8     |\n| Volvo 142E | 21.4  | 4     | 121.0 | 109   | 4.11  | 2.780 | 18.6  | 1     | 1     | 4     | 2     |\n\n",
                        "text/latex": "\\begin{tabular}{r|lllllllllll}\n  & mpg & cyl & disp & hp & drat & wt & qsec & vs & am & gear & carb\\\\\n\\hline\n\tPorsche 914-2 & 26.0  & 4     & 120.3 &  91   & 4.43  & 2.140 & 16.7  & 0     & 1     & 5     & 2    \\\\\n\tLotus Europa & 30.4  & 4     &  95.1 & 113   & 3.77  & 1.513 & 16.9  & 1     & 1     & 5     & 2    \\\\\n\tFord Pantera L & 15.8  & 8     & 351.0 & 264   & 4.22  & 3.170 & 14.5  & 0     & 1     & 5     & 4    \\\\\n\tFerrari Dino & 19.7  & 6     & 145.0 & 175   & 3.62  & 2.770 & 15.5  & 0     & 1     & 5     & 6    \\\\\n\tMaserati Bora & 15.0  & 8     & 301.0 & 335   & 3.54  & 3.570 & 14.6  & 0     & 1     & 5     & 8    \\\\\n\tVolvo 142E & 21.4  & 4     & 121.0 & 109   & 4.11  & 2.780 & 18.6  & 1     & 1     & 4     & 2    \\\\\n\\end{tabular}\n",
                        "text/plain": "               mpg  cyl disp  hp  drat wt    qsec vs am gear carb\nPorsche 914-2  26.0 4   120.3  91 4.43 2.140 16.7 0  1  5    2   \nLotus Europa   30.4 4    95.1 113 3.77 1.513 16.9 1  1  5    2   \nFord Pantera L 15.8 8   351.0 264 4.22 3.170 14.5 0  1  5    4   \nFerrari Dino   19.7 6   145.0 175 3.62 2.770 15.5 0  1  5    6   \nMaserati Bora  15.0 8   301.0 335 3.54 3.570 14.6 0  1  5    8   \nVolvo 142E     21.4 4   121.0 109 4.11 2.780 18.6 1  1  4    2   "
                    },
                    "metadata": {}
                }
            ]
        },
        {
            "metadata": {},
            "cell_type": "code",
            "source": "#Investigate the structure of mtcars\nstr(mtcars)",
            "execution_count": 89,
            "outputs": [
                {
                    "output_type": "stream",
                    "text": "'data.frame':\t32 obs. of  11 variables:\n $ mpg : num  21 21 22.8 21.4 18.7 18.1 14.3 24.4 22.8 19.2 ...\n $ cyl : num  6 6 4 6 8 6 8 4 4 6 ...\n $ disp: num  160 160 108 258 360 ...\n $ hp  : num  110 110 93 110 175 105 245 62 95 123 ...\n $ drat: num  3.9 3.9 3.85 3.08 3.15 2.76 3.21 3.69 3.92 3.92 ...\n $ wt  : num  2.62 2.88 2.32 3.21 3.44 ...\n $ qsec: num  16.5 17 18.6 19.4 17 ...\n $ vs  : num  0 0 1 1 0 1 0 1 1 1 ...\n $ am  : num  1 1 1 0 0 0 0 0 0 0 ...\n $ gear: num  4 4 4 3 3 3 3 4 4 4 ...\n $ carb: num  4 4 1 1 2 1 4 2 2 4 ...\n",
                    "name": "stdout"
                }
            ]
        },
        {
            "metadata": {},
            "cell_type": "code",
            "source": "# Definition of vectors\nname <- c(\"Mercury\", \"Venus\", \"Earth\", \"Mars\", \"Jupiter\", \"Saturn\", \"Uranus\", \"Neptune\")\ntype <- c(\"Terrestrial planet\", \"Terrestrial planet\", \"Terrestrial planet\", \n          \"Terrestrial planet\", \"Gas giant\", \"Gas giant\", \"Gas giant\", \"Gas giant\")\ndiameter <- c(0.382, 0.949, 1, 0.532, 11.209, 9.449, 4.007, 3.883)\nrotation <- c(58.64, -243.02, 1, 1.03, 0.41, 0.43, -0.72, 0.67)\nrings <- c(FALSE, FALSE, FALSE, FALSE, TRUE, TRUE, TRUE, TRUE)\n\n# Create a data frame from the vectors\nplanets_df <-data.frame(name, type, diameter, rotation, rings)",
            "execution_count": 90,
            "outputs": []
        },
        {
            "metadata": {},
            "cell_type": "code",
            "source": "# Check the structure of planets_df\nstr(planets_df)",
            "execution_count": 91,
            "outputs": [
                {
                    "output_type": "stream",
                    "text": "'data.frame':\t8 obs. of  5 variables:\n $ name    : Factor w/ 8 levels \"Earth\",\"Jupiter\",..: 4 8 1 3 2 6 7 5\n $ type    : Factor w/ 2 levels \"Gas giant\",\"Terrestrial planet\": 2 2 2 2 1 1 1 1\n $ diameter: num  0.382 0.949 1 0.532 11.209 ...\n $ rotation: num  58.64 -243.02 1 1.03 0.41 ...\n $ rings   : logi  FALSE FALSE FALSE FALSE TRUE TRUE ...\n",
                    "name": "stdout"
                }
            ]
        },
        {
            "metadata": {},
            "cell_type": "code",
            "source": "# Print out diameter of of Mercury (row 1, column 3)\nplanets_df[1,3]\n\n# Print out data for Mars (entire fourth row)\nplanets_df[4,]",
            "execution_count": 92,
            "outputs": [
                {
                    "output_type": "display_data",
                    "data": {
                        "text/html": "0.382",
                        "text/markdown": "0.382",
                        "text/latex": "0.382",
                        "text/plain": "[1] 0.382"
                    },
                    "metadata": {}
                },
                {
                    "output_type": "display_data",
                    "data": {
                        "text/html": "<table>\n<thead><tr><th></th><th scope=col>name</th><th scope=col>type</th><th scope=col>diameter</th><th scope=col>rotation</th><th scope=col>rings</th></tr></thead>\n<tbody>\n\t<tr><th scope=row>4</th><td>Mars              </td><td>Terrestrial planet</td><td>0.532             </td><td>1.03              </td><td>FALSE             </td></tr>\n</tbody>\n</table>\n",
                        "text/markdown": "\n| <!--/--> | name | type | diameter | rotation | rings |\n|---|---|---|---|---|---|\n| 4 | Mars               | Terrestrial planet | 0.532              | 1.03               | FALSE              |\n\n",
                        "text/latex": "\\begin{tabular}{r|lllll}\n  & name & type & diameter & rotation & rings\\\\\n\\hline\n\t4 & Mars               & Terrestrial planet & 0.532              & 1.03               & FALSE             \\\\\n\\end{tabular}\n",
                        "text/plain": "  name type               diameter rotation rings\n4 Mars Terrestrial planet 0.532    1.03     FALSE"
                    },
                    "metadata": {}
                }
            ]
        },
        {
            "metadata": {},
            "cell_type": "code",
            "source": "# Select first 5 values of diameter column\nplanets_df[1:5, \"diameter\"]",
            "execution_count": 93,
            "outputs": [
                {
                    "output_type": "display_data",
                    "data": {
                        "text/html": "<ol class=list-inline>\n\t<li>0.382</li>\n\t<li>0.949</li>\n\t<li>1</li>\n\t<li>0.532</li>\n\t<li>11.209</li>\n</ol>\n",
                        "text/markdown": "1. 0.382\n2. 0.949\n3. 1\n4. 0.532\n5. 11.209\n\n\n",
                        "text/latex": "\\begin{enumerate*}\n\\item 0.382\n\\item 0.949\n\\item 1\n\\item 0.532\n\\item 11.209\n\\end{enumerate*}\n",
                        "text/plain": "[1]  0.382  0.949  1.000  0.532 11.209"
                    },
                    "metadata": {}
                }
            ]
        },
        {
            "metadata": {},
            "cell_type": "code",
            "source": "# Select the rings variable from planets_df\nrings_vector <- planets_df$rings \ndiam<- planets_df$diameter  \n# Print out rings_vector\nrings_vector\ndiam",
            "execution_count": 94,
            "outputs": [
                {
                    "output_type": "display_data",
                    "data": {
                        "text/html": "<ol class=list-inline>\n\t<li>FALSE</li>\n\t<li>FALSE</li>\n\t<li>FALSE</li>\n\t<li>FALSE</li>\n\t<li>TRUE</li>\n\t<li>TRUE</li>\n\t<li>TRUE</li>\n\t<li>TRUE</li>\n</ol>\n",
                        "text/markdown": "1. FALSE\n2. FALSE\n3. FALSE\n4. FALSE\n5. TRUE\n6. TRUE\n7. TRUE\n8. TRUE\n\n\n",
                        "text/latex": "\\begin{enumerate*}\n\\item FALSE\n\\item FALSE\n\\item FALSE\n\\item FALSE\n\\item TRUE\n\\item TRUE\n\\item TRUE\n\\item TRUE\n\\end{enumerate*}\n",
                        "text/plain": "[1] FALSE FALSE FALSE FALSE  TRUE  TRUE  TRUE  TRUE"
                    },
                    "metadata": {}
                },
                {
                    "output_type": "display_data",
                    "data": {
                        "text/html": "<ol class=list-inline>\n\t<li>0.382</li>\n\t<li>0.949</li>\n\t<li>1</li>\n\t<li>0.532</li>\n\t<li>11.209</li>\n\t<li>9.449</li>\n\t<li>4.007</li>\n\t<li>3.883</li>\n</ol>\n",
                        "text/markdown": "1. 0.382\n2. 0.949\n3. 1\n4. 0.532\n5. 11.209\n6. 9.449\n7. 4.007\n8. 3.883\n\n\n",
                        "text/latex": "\\begin{enumerate*}\n\\item 0.382\n\\item 0.949\n\\item 1\n\\item 0.532\n\\item 11.209\n\\item 9.449\n\\item 4.007\n\\item 3.883\n\\end{enumerate*}\n",
                        "text/plain": "[1]  0.382  0.949  1.000  0.532 11.209  9.449  4.007  3.883"
                    },
                    "metadata": {}
                }
            ]
        },
        {
            "metadata": {},
            "cell_type": "code",
            "source": "# Adapt the code to select all columns for planets with rings\nplanets_df[rings_vector, ]",
            "execution_count": 95,
            "outputs": [
                {
                    "output_type": "display_data",
                    "data": {
                        "text/html": "<table>\n<thead><tr><th></th><th scope=col>name</th><th scope=col>type</th><th scope=col>diameter</th><th scope=col>rotation</th><th scope=col>rings</th></tr></thead>\n<tbody>\n\t<tr><th scope=row>5</th><td>Jupiter  </td><td>Gas giant</td><td>11.209   </td><td> 0.41    </td><td>TRUE     </td></tr>\n\t<tr><th scope=row>6</th><td>Saturn   </td><td>Gas giant</td><td> 9.449   </td><td> 0.43    </td><td>TRUE     </td></tr>\n\t<tr><th scope=row>7</th><td>Uranus   </td><td>Gas giant</td><td> 4.007   </td><td>-0.72    </td><td>TRUE     </td></tr>\n\t<tr><th scope=row>8</th><td>Neptune  </td><td>Gas giant</td><td> 3.883   </td><td> 0.67    </td><td>TRUE     </td></tr>\n</tbody>\n</table>\n",
                        "text/markdown": "\n| <!--/--> | name | type | diameter | rotation | rings |\n|---|---|---|---|---|---|\n| 5 | Jupiter   | Gas giant | 11.209    |  0.41     | TRUE      |\n| 6 | Saturn    | Gas giant |  9.449    |  0.43     | TRUE      |\n| 7 | Uranus    | Gas giant |  4.007    | -0.72     | TRUE      |\n| 8 | Neptune   | Gas giant |  3.883    |  0.67     | TRUE      |\n\n",
                        "text/latex": "\\begin{tabular}{r|lllll}\n  & name & type & diameter & rotation & rings\\\\\n\\hline\n\t5 & Jupiter   & Gas giant & 11.209    &  0.41     & TRUE     \\\\\n\t6 & Saturn    & Gas giant &  9.449    &  0.43     & TRUE     \\\\\n\t7 & Uranus    & Gas giant &  4.007    & -0.72     & TRUE     \\\\\n\t8 & Neptune   & Gas giant &  3.883    &  0.67     & TRUE     \\\\\n\\end{tabular}\n",
                        "text/plain": "  name    type      diameter rotation rings\n5 Jupiter Gas giant 11.209    0.41    TRUE \n6 Saturn  Gas giant  9.449    0.43    TRUE \n7 Uranus  Gas giant  4.007   -0.72    TRUE \n8 Neptune Gas giant  3.883    0.67    TRUE "
                    },
                    "metadata": {}
                }
            ]
        },
        {
            "metadata": {},
            "cell_type": "code",
            "source": "# Select planets with diameter < 1\nsubset(planets_df, subset = diameter < 1)",
            "execution_count": 97,
            "outputs": [
                {
                    "output_type": "display_data",
                    "data": {
                        "text/html": "<table>\n<thead><tr><th></th><th scope=col>name</th><th scope=col>type</th><th scope=col>diameter</th><th scope=col>rotation</th><th scope=col>rings</th></tr></thead>\n<tbody>\n\t<tr><th scope=row>1</th><td>Mercury           </td><td>Terrestrial planet</td><td>0.382             </td><td>  58.64           </td><td>FALSE             </td></tr>\n\t<tr><th scope=row>2</th><td>Venus             </td><td>Terrestrial planet</td><td>0.949             </td><td>-243.02           </td><td>FALSE             </td></tr>\n\t<tr><th scope=row>4</th><td>Mars              </td><td>Terrestrial planet</td><td>0.532             </td><td>   1.03           </td><td>FALSE             </td></tr>\n</tbody>\n</table>\n",
                        "text/markdown": "\n| <!--/--> | name | type | diameter | rotation | rings |\n|---|---|---|---|---|---|\n| 1 | Mercury            | Terrestrial planet | 0.382              |   58.64            | FALSE              |\n| 2 | Venus              | Terrestrial planet | 0.949              | -243.02            | FALSE              |\n| 4 | Mars               | Terrestrial planet | 0.532              |    1.03            | FALSE              |\n\n",
                        "text/latex": "\\begin{tabular}{r|lllll}\n  & name & type & diameter & rotation & rings\\\\\n\\hline\n\t1 & Mercury            & Terrestrial planet & 0.382              &   58.64            & FALSE             \\\\\n\t2 & Venus              & Terrestrial planet & 0.949              & -243.02            & FALSE             \\\\\n\t4 & Mars               & Terrestrial planet & 0.532              &    1.03            & FALSE             \\\\\n\\end{tabular}\n",
                        "text/plain": "  name    type               diameter rotation rings\n1 Mercury Terrestrial planet 0.382      58.64  FALSE\n2 Venus   Terrestrial planet 0.949    -243.02  FALSE\n4 Mars    Terrestrial planet 0.532       1.03  FALSE"
                    },
                    "metadata": {}
                }
            ]
        },
        {
            "metadata": {},
            "cell_type": "code",
            "source": "# Select planets with rotation > 1\nsubset(planets_df,subset = rotation > 1)",
            "execution_count": 98,
            "outputs": [
                {
                    "output_type": "display_data",
                    "data": {
                        "text/html": "<table>\n<thead><tr><th></th><th scope=col>name</th><th scope=col>type</th><th scope=col>diameter</th><th scope=col>rotation</th><th scope=col>rings</th></tr></thead>\n<tbody>\n\t<tr><th scope=row>1</th><td>Mercury           </td><td>Terrestrial planet</td><td>0.382             </td><td>58.64             </td><td>FALSE             </td></tr>\n\t<tr><th scope=row>4</th><td>Mars              </td><td>Terrestrial planet</td><td>0.532             </td><td> 1.03             </td><td>FALSE             </td></tr>\n</tbody>\n</table>\n",
                        "text/markdown": "\n| <!--/--> | name | type | diameter | rotation | rings |\n|---|---|---|---|---|---|\n| 1 | Mercury            | Terrestrial planet | 0.382              | 58.64              | FALSE              |\n| 4 | Mars               | Terrestrial planet | 0.532              |  1.03              | FALSE              |\n\n",
                        "text/latex": "\\begin{tabular}{r|lllll}\n  & name & type & diameter & rotation & rings\\\\\n\\hline\n\t1 & Mercury            & Terrestrial planet & 0.382              & 58.64              & FALSE             \\\\\n\t4 & Mars               & Terrestrial planet & 0.532              &  1.03              & FALSE             \\\\\n\\end{tabular}\n",
                        "text/plain": "  name    type               diameter rotation rings\n1 Mercury Terrestrial planet 0.382    58.64    FALSE\n4 Mars    Terrestrial planet 0.532     1.03    FALSE"
                    },
                    "metadata": {}
                }
            ]
        },
        {
            "metadata": {},
            "cell_type": "code",
            "source": "# Use order() to create positions\npositions <- order(planets_df$diameter)\n\n# Use positions to sort planets_df\nplanets_df[positions, ]",
            "execution_count": 99,
            "outputs": [
                {
                    "output_type": "display_data",
                    "data": {
                        "text/html": "<table>\n<thead><tr><th></th><th scope=col>name</th><th scope=col>type</th><th scope=col>diameter</th><th scope=col>rotation</th><th scope=col>rings</th></tr></thead>\n<tbody>\n\t<tr><th scope=row>1</th><td>Mercury           </td><td>Terrestrial planet</td><td> 0.382            </td><td>  58.64           </td><td>FALSE             </td></tr>\n\t<tr><th scope=row>4</th><td>Mars              </td><td>Terrestrial planet</td><td> 0.532            </td><td>   1.03           </td><td>FALSE             </td></tr>\n\t<tr><th scope=row>2</th><td>Venus             </td><td>Terrestrial planet</td><td> 0.949            </td><td>-243.02           </td><td>FALSE             </td></tr>\n\t<tr><th scope=row>3</th><td>Earth             </td><td>Terrestrial planet</td><td> 1.000            </td><td>   1.00           </td><td>FALSE             </td></tr>\n\t<tr><th scope=row>8</th><td>Neptune           </td><td>Gas giant         </td><td> 3.883            </td><td>   0.67           </td><td> TRUE             </td></tr>\n\t<tr><th scope=row>7</th><td>Uranus            </td><td>Gas giant         </td><td> 4.007            </td><td>  -0.72           </td><td> TRUE             </td></tr>\n\t<tr><th scope=row>6</th><td>Saturn            </td><td>Gas giant         </td><td> 9.449            </td><td>   0.43           </td><td> TRUE             </td></tr>\n\t<tr><th scope=row>5</th><td>Jupiter           </td><td>Gas giant         </td><td>11.209            </td><td>   0.41           </td><td> TRUE             </td></tr>\n</tbody>\n</table>\n",
                        "text/markdown": "\n| <!--/--> | name | type | diameter | rotation | rings |\n|---|---|---|---|---|---|\n| 1 | Mercury            | Terrestrial planet |  0.382             |   58.64            | FALSE              |\n| 4 | Mars               | Terrestrial planet |  0.532             |    1.03            | FALSE              |\n| 2 | Venus              | Terrestrial planet |  0.949             | -243.02            | FALSE              |\n| 3 | Earth              | Terrestrial planet |  1.000             |    1.00            | FALSE              |\n| 8 | Neptune            | Gas giant          |  3.883             |    0.67            |  TRUE              |\n| 7 | Uranus             | Gas giant          |  4.007             |   -0.72            |  TRUE              |\n| 6 | Saturn             | Gas giant          |  9.449             |    0.43            |  TRUE              |\n| 5 | Jupiter            | Gas giant          | 11.209             |    0.41            |  TRUE              |\n\n",
                        "text/latex": "\\begin{tabular}{r|lllll}\n  & name & type & diameter & rotation & rings\\\\\n\\hline\n\t1 & Mercury            & Terrestrial planet &  0.382             &   58.64            & FALSE             \\\\\n\t4 & Mars               & Terrestrial planet &  0.532             &    1.03            & FALSE             \\\\\n\t2 & Venus              & Terrestrial planet &  0.949             & -243.02            & FALSE             \\\\\n\t3 & Earth              & Terrestrial planet &  1.000             &    1.00            & FALSE             \\\\\n\t8 & Neptune            & Gas giant          &  3.883             &    0.67            &  TRUE             \\\\\n\t7 & Uranus             & Gas giant          &  4.007             &   -0.72            &  TRUE             \\\\\n\t6 & Saturn             & Gas giant          &  9.449             &    0.43            &  TRUE             \\\\\n\t5 & Jupiter            & Gas giant          & 11.209             &    0.41            &  TRUE             \\\\\n\\end{tabular}\n",
                        "text/plain": "  name    type               diameter rotation rings\n1 Mercury Terrestrial planet  0.382     58.64  FALSE\n4 Mars    Terrestrial planet  0.532      1.03  FALSE\n2 Venus   Terrestrial planet  0.949   -243.02  FALSE\n3 Earth   Terrestrial planet  1.000      1.00  FALSE\n8 Neptune Gas giant           3.883      0.67   TRUE\n7 Uranus  Gas giant           4.007     -0.72   TRUE\n6 Saturn  Gas giant           9.449      0.43   TRUE\n5 Jupiter Gas giant          11.209      0.41   TRUE"
                    },
                    "metadata": {}
                }
            ]
        },
        {
            "metadata": {},
            "cell_type": "markdown",
            "source": "# LISTS"
        },
        {
            "metadata": {},
            "cell_type": "code",
            "source": "# Vector with numerics from 1 up to 10\nmy_vector <- 1:10 \n\n# Matrix with numerics from 1 up to 9\nmy_matrix <- matrix(1:9, ncol = 3)\n\n# First 10 elements of the built-in data frame mtcars\nmy_df <- mtcars[1:10,]\n\n# Adapt list() call to give the components names\nmy_list <- list(vec=my_vector, mat=my_matrix, df=my_df)\n\n# Print out my_list\nmy_list",
            "execution_count": 101,
            "outputs": [
                {
                    "output_type": "display_data",
                    "data": {
                        "text/html": "<dl>\n\t<dt>$vec</dt>\n\t\t<dd><ol class=list-inline>\n\t<li>1</li>\n\t<li>2</li>\n\t<li>3</li>\n\t<li>4</li>\n\t<li>5</li>\n\t<li>6</li>\n\t<li>7</li>\n\t<li>8</li>\n\t<li>9</li>\n\t<li>10</li>\n</ol>\n</dd>\n\t<dt>$mat</dt>\n\t\t<dd><table>\n<tbody>\n\t<tr><td>1</td><td>4</td><td>7</td></tr>\n\t<tr><td>2</td><td>5</td><td>8</td></tr>\n\t<tr><td>3</td><td>6</td><td>9</td></tr>\n</tbody>\n</table>\n</dd>\n\t<dt>$df</dt>\n\t\t<dd><table>\n<thead><tr><th></th><th scope=col>mpg</th><th scope=col>cyl</th><th scope=col>disp</th><th scope=col>hp</th><th scope=col>drat</th><th scope=col>wt</th><th scope=col>qsec</th><th scope=col>vs</th><th scope=col>am</th><th scope=col>gear</th><th scope=col>carb</th></tr></thead>\n<tbody>\n\t<tr><th scope=row>Mazda RX4</th><td>21.0 </td><td>6    </td><td>160.0</td><td>110  </td><td>3.90 </td><td>2.620</td><td>16.46</td><td>0    </td><td>1    </td><td>4    </td><td>4    </td></tr>\n\t<tr><th scope=row>Mazda RX4 Wag</th><td>21.0 </td><td>6    </td><td>160.0</td><td>110  </td><td>3.90 </td><td>2.875</td><td>17.02</td><td>0    </td><td>1    </td><td>4    </td><td>4    </td></tr>\n\t<tr><th scope=row>Datsun 710</th><td>22.8 </td><td>4    </td><td>108.0</td><td> 93  </td><td>3.85 </td><td>2.320</td><td>18.61</td><td>1    </td><td>1    </td><td>4    </td><td>1    </td></tr>\n\t<tr><th scope=row>Hornet 4 Drive</th><td>21.4 </td><td>6    </td><td>258.0</td><td>110  </td><td>3.08 </td><td>3.215</td><td>19.44</td><td>1    </td><td>0    </td><td>3    </td><td>1    </td></tr>\n\t<tr><th scope=row>Hornet Sportabout</th><td>18.7 </td><td>8    </td><td>360.0</td><td>175  </td><td>3.15 </td><td>3.440</td><td>17.02</td><td>0    </td><td>0    </td><td>3    </td><td>2    </td></tr>\n\t<tr><th scope=row>Valiant</th><td>18.1 </td><td>6    </td><td>225.0</td><td>105  </td><td>2.76 </td><td>3.460</td><td>20.22</td><td>1    </td><td>0    </td><td>3    </td><td>1    </td></tr>\n\t<tr><th scope=row>Duster 360</th><td>14.3 </td><td>8    </td><td>360.0</td><td>245  </td><td>3.21 </td><td>3.570</td><td>15.84</td><td>0    </td><td>0    </td><td>3    </td><td>4    </td></tr>\n\t<tr><th scope=row>Merc 240D</th><td>24.4 </td><td>4    </td><td>146.7</td><td> 62  </td><td>3.69 </td><td>3.190</td><td>20.00</td><td>1    </td><td>0    </td><td>4    </td><td>2    </td></tr>\n\t<tr><th scope=row>Merc 230</th><td>22.8 </td><td>4    </td><td>140.8</td><td> 95  </td><td>3.92 </td><td>3.150</td><td>22.90</td><td>1    </td><td>0    </td><td>4    </td><td>2    </td></tr>\n\t<tr><th scope=row>Merc 280</th><td>19.2 </td><td>6    </td><td>167.6</td><td>123  </td><td>3.92 </td><td>3.440</td><td>18.30</td><td>1    </td><td>0    </td><td>4    </td><td>4    </td></tr>\n</tbody>\n</table>\n</dd>\n</dl>\n",
                        "text/markdown": "$vec\n:   1. 1\n2. 2\n3. 3\n4. 4\n5. 5\n6. 6\n7. 7\n8. 8\n9. 9\n10. 10\n\n\n\n$mat\n:   \n| 1 | 4 | 7 |\n| 2 | 5 | 8 |\n| 3 | 6 | 9 |\n\n\n$df\n:   \n| <!--/--> | mpg | cyl | disp | hp | drat | wt | qsec | vs | am | gear | carb |\n|---|---|---|---|---|---|---|---|---|---|---|---|\n| Mazda RX4 | 21.0  | 6     | 160.0 | 110   | 3.90  | 2.620 | 16.46 | 0     | 1     | 4     | 4     |\n| Mazda RX4 Wag | 21.0  | 6     | 160.0 | 110   | 3.90  | 2.875 | 17.02 | 0     | 1     | 4     | 4     |\n| Datsun 710 | 22.8  | 4     | 108.0 |  93   | 3.85  | 2.320 | 18.61 | 1     | 1     | 4     | 1     |\n| Hornet 4 Drive | 21.4  | 6     | 258.0 | 110   | 3.08  | 3.215 | 19.44 | 1     | 0     | 3     | 1     |\n| Hornet Sportabout | 18.7  | 8     | 360.0 | 175   | 3.15  | 3.440 | 17.02 | 0     | 0     | 3     | 2     |\n| Valiant | 18.1  | 6     | 225.0 | 105   | 2.76  | 3.460 | 20.22 | 1     | 0     | 3     | 1     |\n| Duster 360 | 14.3  | 8     | 360.0 | 245   | 3.21  | 3.570 | 15.84 | 0     | 0     | 3     | 4     |\n| Merc 240D | 24.4  | 4     | 146.7 |  62   | 3.69  | 3.190 | 20.00 | 1     | 0     | 4     | 2     |\n| Merc 230 | 22.8  | 4     | 140.8 |  95   | 3.92  | 3.150 | 22.90 | 1     | 0     | 4     | 2     |\n| Merc 280 | 19.2  | 6     | 167.6 | 123   | 3.92  | 3.440 | 18.30 | 1     | 0     | 4     | 4     |\n\n\n\n\n",
                        "text/latex": "\\begin{description}\n\\item[\\$vec] \\begin{enumerate*}\n\\item 1\n\\item 2\n\\item 3\n\\item 4\n\\item 5\n\\item 6\n\\item 7\n\\item 8\n\\item 9\n\\item 10\n\\end{enumerate*}\n\n\\item[\\$mat] \\begin{tabular}{lll}\n\t 1 & 4 & 7\\\\\n\t 2 & 5 & 8\\\\\n\t 3 & 6 & 9\\\\\n\\end{tabular}\n\n\\item[\\$df] \\begin{tabular}{r|lllllllllll}\n  & mpg & cyl & disp & hp & drat & wt & qsec & vs & am & gear & carb\\\\\n\\hline\n\tMazda RX4 & 21.0  & 6     & 160.0 & 110   & 3.90  & 2.620 & 16.46 & 0     & 1     & 4     & 4    \\\\\n\tMazda RX4 Wag & 21.0  & 6     & 160.0 & 110   & 3.90  & 2.875 & 17.02 & 0     & 1     & 4     & 4    \\\\\n\tDatsun 710 & 22.8  & 4     & 108.0 &  93   & 3.85  & 2.320 & 18.61 & 1     & 1     & 4     & 1    \\\\\n\tHornet 4 Drive & 21.4  & 6     & 258.0 & 110   & 3.08  & 3.215 & 19.44 & 1     & 0     & 3     & 1    \\\\\n\tHornet Sportabout & 18.7  & 8     & 360.0 & 175   & 3.15  & 3.440 & 17.02 & 0     & 0     & 3     & 2    \\\\\n\tValiant & 18.1  & 6     & 225.0 & 105   & 2.76  & 3.460 & 20.22 & 1     & 0     & 3     & 1    \\\\\n\tDuster 360 & 14.3  & 8     & 360.0 & 245   & 3.21  & 3.570 & 15.84 & 0     & 0     & 3     & 4    \\\\\n\tMerc 240D & 24.4  & 4     & 146.7 &  62   & 3.69  & 3.190 & 20.00 & 1     & 0     & 4     & 2    \\\\\n\tMerc 230 & 22.8  & 4     & 140.8 &  95   & 3.92  & 3.150 & 22.90 & 1     & 0     & 4     & 2    \\\\\n\tMerc 280 & 19.2  & 6     & 167.6 & 123   & 3.92  & 3.440 & 18.30 & 1     & 0     & 4     & 4    \\\\\n\\end{tabular}\n\n\\end{description}\n",
                        "text/plain": "$vec\n [1]  1  2  3  4  5  6  7  8  9 10\n\n$mat\n     [,1] [,2] [,3]\n[1,]    1    4    7\n[2,]    2    5    8\n[3,]    3    6    9\n\n$df\n                   mpg cyl  disp  hp drat    wt  qsec vs am gear carb\nMazda RX4         21.0   6 160.0 110 3.90 2.620 16.46  0  1    4    4\nMazda RX4 Wag     21.0   6 160.0 110 3.90 2.875 17.02  0  1    4    4\nDatsun 710        22.8   4 108.0  93 3.85 2.320 18.61  1  1    4    1\nHornet 4 Drive    21.4   6 258.0 110 3.08 3.215 19.44  1  0    3    1\nHornet Sportabout 18.7   8 360.0 175 3.15 3.440 17.02  0  0    3    2\nValiant           18.1   6 225.0 105 2.76 3.460 20.22  1  0    3    1\nDuster 360        14.3   8 360.0 245 3.21 3.570 15.84  0  0    3    4\nMerc 240D         24.4   4 146.7  62 3.69 3.190 20.00  1  0    4    2\nMerc 230          22.8   4 140.8  95 3.92 3.150 22.90  1  0    4    2\nMerc 280          19.2   6 167.6 123 3.92 3.440 18.30  1  0    4    4\n"
                    },
                    "metadata": {}
                }
            ]
        },
        {
            "metadata": {},
            "cell_type": "code",
            "source": "my_list$df",
            "execution_count": 105,
            "outputs": [
                {
                    "output_type": "display_data",
                    "data": {
                        "text/html": "<table>\n<thead><tr><th></th><th scope=col>mpg</th><th scope=col>cyl</th><th scope=col>disp</th><th scope=col>hp</th><th scope=col>drat</th><th scope=col>wt</th><th scope=col>qsec</th><th scope=col>vs</th><th scope=col>am</th><th scope=col>gear</th><th scope=col>carb</th></tr></thead>\n<tbody>\n\t<tr><th scope=row>Mazda RX4</th><td>21.0 </td><td>6    </td><td>160.0</td><td>110  </td><td>3.90 </td><td>2.620</td><td>16.46</td><td>0    </td><td>1    </td><td>4    </td><td>4    </td></tr>\n\t<tr><th scope=row>Mazda RX4 Wag</th><td>21.0 </td><td>6    </td><td>160.0</td><td>110  </td><td>3.90 </td><td>2.875</td><td>17.02</td><td>0    </td><td>1    </td><td>4    </td><td>4    </td></tr>\n\t<tr><th scope=row>Datsun 710</th><td>22.8 </td><td>4    </td><td>108.0</td><td> 93  </td><td>3.85 </td><td>2.320</td><td>18.61</td><td>1    </td><td>1    </td><td>4    </td><td>1    </td></tr>\n\t<tr><th scope=row>Hornet 4 Drive</th><td>21.4 </td><td>6    </td><td>258.0</td><td>110  </td><td>3.08 </td><td>3.215</td><td>19.44</td><td>1    </td><td>0    </td><td>3    </td><td>1    </td></tr>\n\t<tr><th scope=row>Hornet Sportabout</th><td>18.7 </td><td>8    </td><td>360.0</td><td>175  </td><td>3.15 </td><td>3.440</td><td>17.02</td><td>0    </td><td>0    </td><td>3    </td><td>2    </td></tr>\n\t<tr><th scope=row>Valiant</th><td>18.1 </td><td>6    </td><td>225.0</td><td>105  </td><td>2.76 </td><td>3.460</td><td>20.22</td><td>1    </td><td>0    </td><td>3    </td><td>1    </td></tr>\n\t<tr><th scope=row>Duster 360</th><td>14.3 </td><td>8    </td><td>360.0</td><td>245  </td><td>3.21 </td><td>3.570</td><td>15.84</td><td>0    </td><td>0    </td><td>3    </td><td>4    </td></tr>\n\t<tr><th scope=row>Merc 240D</th><td>24.4 </td><td>4    </td><td>146.7</td><td> 62  </td><td>3.69 </td><td>3.190</td><td>20.00</td><td>1    </td><td>0    </td><td>4    </td><td>2    </td></tr>\n\t<tr><th scope=row>Merc 230</th><td>22.8 </td><td>4    </td><td>140.8</td><td> 95  </td><td>3.92 </td><td>3.150</td><td>22.90</td><td>1    </td><td>0    </td><td>4    </td><td>2    </td></tr>\n\t<tr><th scope=row>Merc 280</th><td>19.2 </td><td>6    </td><td>167.6</td><td>123  </td><td>3.92 </td><td>3.440</td><td>18.30</td><td>1    </td><td>0    </td><td>4    </td><td>4    </td></tr>\n</tbody>\n</table>\n",
                        "text/markdown": "\n| <!--/--> | mpg | cyl | disp | hp | drat | wt | qsec | vs | am | gear | carb |\n|---|---|---|---|---|---|---|---|---|---|---|---|\n| Mazda RX4 | 21.0  | 6     | 160.0 | 110   | 3.90  | 2.620 | 16.46 | 0     | 1     | 4     | 4     |\n| Mazda RX4 Wag | 21.0  | 6     | 160.0 | 110   | 3.90  | 2.875 | 17.02 | 0     | 1     | 4     | 4     |\n| Datsun 710 | 22.8  | 4     | 108.0 |  93   | 3.85  | 2.320 | 18.61 | 1     | 1     | 4     | 1     |\n| Hornet 4 Drive | 21.4  | 6     | 258.0 | 110   | 3.08  | 3.215 | 19.44 | 1     | 0     | 3     | 1     |\n| Hornet Sportabout | 18.7  | 8     | 360.0 | 175   | 3.15  | 3.440 | 17.02 | 0     | 0     | 3     | 2     |\n| Valiant | 18.1  | 6     | 225.0 | 105   | 2.76  | 3.460 | 20.22 | 1     | 0     | 3     | 1     |\n| Duster 360 | 14.3  | 8     | 360.0 | 245   | 3.21  | 3.570 | 15.84 | 0     | 0     | 3     | 4     |\n| Merc 240D | 24.4  | 4     | 146.7 |  62   | 3.69  | 3.190 | 20.00 | 1     | 0     | 4     | 2     |\n| Merc 230 | 22.8  | 4     | 140.8 |  95   | 3.92  | 3.150 | 22.90 | 1     | 0     | 4     | 2     |\n| Merc 280 | 19.2  | 6     | 167.6 | 123   | 3.92  | 3.440 | 18.30 | 1     | 0     | 4     | 4     |\n\n",
                        "text/latex": "\\begin{tabular}{r|lllllllllll}\n  & mpg & cyl & disp & hp & drat & wt & qsec & vs & am & gear & carb\\\\\n\\hline\n\tMazda RX4 & 21.0  & 6     & 160.0 & 110   & 3.90  & 2.620 & 16.46 & 0     & 1     & 4     & 4    \\\\\n\tMazda RX4 Wag & 21.0  & 6     & 160.0 & 110   & 3.90  & 2.875 & 17.02 & 0     & 1     & 4     & 4    \\\\\n\tDatsun 710 & 22.8  & 4     & 108.0 &  93   & 3.85  & 2.320 & 18.61 & 1     & 1     & 4     & 1    \\\\\n\tHornet 4 Drive & 21.4  & 6     & 258.0 & 110   & 3.08  & 3.215 & 19.44 & 1     & 0     & 3     & 1    \\\\\n\tHornet Sportabout & 18.7  & 8     & 360.0 & 175   & 3.15  & 3.440 & 17.02 & 0     & 0     & 3     & 2    \\\\\n\tValiant & 18.1  & 6     & 225.0 & 105   & 2.76  & 3.460 & 20.22 & 1     & 0     & 3     & 1    \\\\\n\tDuster 360 & 14.3  & 8     & 360.0 & 245   & 3.21  & 3.570 & 15.84 & 0     & 0     & 3     & 4    \\\\\n\tMerc 240D & 24.4  & 4     & 146.7 &  62   & 3.69  & 3.190 & 20.00 & 1     & 0     & 4     & 2    \\\\\n\tMerc 230 & 22.8  & 4     & 140.8 &  95   & 3.92  & 3.150 & 22.90 & 1     & 0     & 4     & 2    \\\\\n\tMerc 280 & 19.2  & 6     & 167.6 & 123   & 3.92  & 3.440 & 18.30 & 1     & 0     & 4     & 4    \\\\\n\\end{tabular}\n",
                        "text/plain": "                  mpg  cyl disp  hp  drat wt    qsec  vs am gear carb\nMazda RX4         21.0 6   160.0 110 3.90 2.620 16.46 0  1  4    4   \nMazda RX4 Wag     21.0 6   160.0 110 3.90 2.875 17.02 0  1  4    4   \nDatsun 710        22.8 4   108.0  93 3.85 2.320 18.61 1  1  4    1   \nHornet 4 Drive    21.4 6   258.0 110 3.08 3.215 19.44 1  0  3    1   \nHornet Sportabout 18.7 8   360.0 175 3.15 3.440 17.02 0  0  3    2   \nValiant           18.1 6   225.0 105 2.76 3.460 20.22 1  0  3    1   \nDuster 360        14.3 8   360.0 245 3.21 3.570 15.84 0  0  3    4   \nMerc 240D         24.4 4   146.7  62 3.69 3.190 20.00 1  0  4    2   \nMerc 230          22.8 4   140.8  95 3.92 3.150 22.90 1  0  4    2   \nMerc 280          19.2 6   167.6 123 3.92 3.440 18.30 1  0  4    4   "
                    },
                    "metadata": {}
                }
            ]
        },
        {
            "metadata": {},
            "cell_type": "markdown",
            "source": "# CONDITIONAL STATEMENTS"
        },
        {
            "metadata": {},
            "cell_type": "code",
            "source": "",
            "execution_count": null,
            "outputs": []
        },
        {
            "metadata": {},
            "cell_type": "code",
            "source": "",
            "execution_count": null,
            "outputs": []
        },
        {
            "metadata": {},
            "cell_type": "markdown",
            "source": "# CONTROL FLOW"
        },
        {
            "metadata": {},
            "cell_type": "code",
            "source": "",
            "execution_count": null,
            "outputs": []
        },
        {
            "metadata": {},
            "cell_type": "code",
            "source": "",
            "execution_count": null,
            "outputs": []
        },
        {
            "metadata": {},
            "cell_type": "markdown",
            "source": "# LOOPS"
        },
        {
            "metadata": {},
            "cell_type": "code",
            "source": "",
            "execution_count": null,
            "outputs": []
        },
        {
            "metadata": {},
            "cell_type": "code",
            "source": "",
            "execution_count": null,
            "outputs": []
        },
        {
            "metadata": {},
            "cell_type": "code",
            "source": "",
            "execution_count": null,
            "outputs": []
        },
        {
            "metadata": {},
            "cell_type": "markdown",
            "source": "# FUNCTIONS"
        },
        {
            "metadata": {},
            "cell_type": "code",
            "source": "",
            "execution_count": null,
            "outputs": []
        },
        {
            "metadata": {},
            "cell_type": "code",
            "source": "",
            "execution_count": null,
            "outputs": []
        },
        {
            "metadata": {},
            "cell_type": "code",
            "source": "",
            "execution_count": null,
            "outputs": []
        },
        {
            "metadata": {},
            "cell_type": "markdown",
            "source": "# UTILITIES"
        },
        {
            "metadata": {},
            "cell_type": "code",
            "source": "",
            "execution_count": null,
            "outputs": []
        },
        {
            "metadata": {},
            "cell_type": "code",
            "source": "",
            "execution_count": null,
            "outputs": []
        },
        {
            "metadata": {},
            "cell_type": "code",
            "source": "",
            "execution_count": null,
            "outputs": []
        },
        {
            "metadata": {},
            "cell_type": "markdown",
            "source": "# BASIC WEB SCRAPING"
        },
        {
            "metadata": {},
            "cell_type": "code",
            "source": "library(httr) # Import the library \nurl <- \"https://en.wikipedia.org/wiki/Special:Random\" # URL for the webpage to be scraped\nhtml <- GET(url) # Fetch data from the URL\ncontent <- content(html, as=\"text\") # Convert the data into text",
            "execution_count": 10,
            "outputs": []
        },
        {
            "metadata": {},
            "cell_type": "code",
            "source": "library(XML) # Import the library\nparsedHTML <- htmlParse(content, asText = TRUE) # Parse the HTML as a Tree Structure\ntitle <- xpathSApply(parsedHTML, \"//title\", xmlValue) # Fetch the 'title' node from the Tree Structure",
            "execution_count": 11,
            "outputs": []
        },
        {
            "metadata": {},
            "cell_type": "code",
            "source": "title",
            "execution_count": 12,
            "outputs": [
                {
                    "output_type": "display_data",
                    "data": {
                        "text/html": "'Robert B. Baldwin - Wikipedia'",
                        "text/markdown": "'Robert B. Baldwin - Wikipedia'",
                        "text/latex": "'Robert B. Baldwin - Wikipedia'",
                        "text/plain": "[1] \"Robert B. Baldwin - Wikipedia\""
                    },
                    "metadata": {}
                }
            ]
        },
        {
            "metadata": {},
            "cell_type": "code",
            "source": "xpathSApply(parsedHTML, \"//h1\", xmlValue)",
            "execution_count": 13,
            "outputs": [
                {
                    "output_type": "display_data",
                    "data": {
                        "text/html": "'Robert B. Baldwin'",
                        "text/markdown": "'Robert B. Baldwin'",
                        "text/latex": "'Robert B. Baldwin'",
                        "text/plain": "[1] \"Robert B. Baldwin\""
                    },
                    "metadata": {}
                }
            ]
        },
        {
            "metadata": {},
            "cell_type": "markdown",
            "source": "# REST API"
        },
        {
            "metadata": {},
            "cell_type": "markdown",
            "source": "### WEATHER DATA"
        },
        {
            "metadata": {},
            "cell_type": "code",
            "source": "city <- readline(prompt=\"Enter city name: \")",
            "execution_count": 14,
            "outputs": [
                {
                    "output_type": "stream",
                    "name": "stdout",
                    "text": "Enter city name: Mumbai\n"
                }
            ]
        },
        {
            "metadata": {},
            "cell_type": "code",
            "source": "url <- paste(\"https://api.openweathermap.org/data/2.5/weather?q=\",city,\"&appid=cbf40c31dc6e53a5b63069b956572b3a\", sep=\"\")",
            "execution_count": 15,
            "outputs": []
        },
        {
            "metadata": {},
            "cell_type": "code",
            "source": "response <- GET(url)",
            "execution_count": 16,
            "outputs": []
        },
        {
            "metadata": {},
            "cell_type": "code",
            "source": "data <- content(response)",
            "execution_count": 17,
            "outputs": []
        },
        {
            "metadata": {},
            "cell_type": "code",
            "source": "library(jsonlite)\nweather <- fromJSON(toJSON(data))",
            "execution_count": 18,
            "outputs": []
        },
        {
            "metadata": {},
            "cell_type": "code",
            "source": "paste(\"The weather on\", date(), \"is\", weather$main$temp)",
            "execution_count": 19,
            "outputs": [
                {
                    "output_type": "display_data",
                    "data": {
                        "text/html": "'The weather on Sun Dec 15 04:27:30 2019 is 297.15'",
                        "text/markdown": "'The weather on Sun Dec 15 04:27:30 2019 is 297.15'",
                        "text/latex": "'The weather on Sun Dec 15 04:27:30 2019 is 297.15'",
                        "text/plain": "[1] \"The weather on Sun Dec 15 04:27:30 2019 is 297.15\""
                    },
                    "metadata": {}
                }
            ]
        },
        {
            "metadata": {},
            "cell_type": "markdown",
            "source": "### RANDOM CAT FACT"
        },
        {
            "metadata": {},
            "cell_type": "code",
            "source": "url <- \"https://catfact.ninja/fact\"\nresponse <- GET(url)\ndata <- content(response)\nfact <- fromJSON(toJSON(data))\nfact$fact",
            "execution_count": 20,
            "outputs": [
                {
                    "output_type": "display_data",
                    "data": {
                        "text/html": "'A 2007 Gallup poll revealed that both men and women were equally likely to own a cat.'",
                        "text/markdown": "'A 2007 Gallup poll revealed that both men and women were equally likely to own a cat.'",
                        "text/latex": "'A 2007 Gallup poll revealed that both men and women were equally likely to own a cat.'",
                        "text/plain": "[1] \"A 2007 Gallup poll revealed that both men and women were equally likely to own a cat.\""
                    },
                    "metadata": {}
                }
            ]
        }
    ],
    "metadata": {
        "kernelspec": {
            "name": "r-3.6",
            "display_name": "R 3.6",
            "language": "R"
        },
        "language_info": {
            "name": "R",
            "codemirror_mode": "r",
            "pygments_lexer": "r",
            "mimetype": "text/x-r-source",
            "file_extension": ".r",
            "version": "3.6.0"
        }
    },
    "nbformat": 4,
    "nbformat_minor": 1
}