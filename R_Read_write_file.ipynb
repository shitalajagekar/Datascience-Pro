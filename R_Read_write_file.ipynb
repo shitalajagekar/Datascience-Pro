{
  "nbformat": 4,
  "nbformat_minor": 0,
  "metadata": {
    "kernelspec": {
      "display_name": "R",
      "language": "R",
      "name": "ir"
    },
    "language_info": {
      "codemirror_mode": "r",
      "file_extension": ".r",
      "mimetype": "text/x-r-source",
      "name": "R",
      "pygments_lexer": "r",
      "version": "3.6.1"
    },
    "colab": {
      "name": "Ticket Sales.ipynb",
      "provenance": []
    }
  },
  "cells": [
    {
      "cell_type": "markdown",
      "metadata": {
        "id": "gRAJ7pY-NzM2",
        "colab_type": "text"
      },
      "source": [
        "# Reading and Writing data into File"
      ]
    },
    {
      "cell_type": "code",
      "metadata": {
        "id": "mRFp81UCEjU9",
        "colab_type": "code",
        "colab": {
          "base_uri": "https://localhost:8080/",
          "height": 34
        },
        "outputId": "9a991ea2-4830-421b-bdc4-4312d4e6a013"
      },
      "source": [
        " file.create(\"data.txt\") # creating a file"
      ],
      "execution_count": 52,
      "outputs": [
        {
          "output_type": "display_data",
          "data": {
            "text/plain": [
              "[1] TRUE"
            ],
            "text/latex": "TRUE",
            "text/markdown": "TRUE",
            "text/html": [
              "TRUE"
            ]
          },
          "metadata": {
            "tags": []
          }
        }
      ]
    },
    {
      "cell_type": "code",
      "metadata": {
        "id": "kFD8uZ6-HlXf",
        "colab_type": "code",
        "colab": {}
      },
      "source": [
        "con<- file(\"data.txt\")# creating connection with file"
      ],
      "execution_count": 0,
      "outputs": []
    },
    {
      "cell_type": "code",
      "metadata": {
        "id": "qMgHCajvHlVo",
        "colab_type": "code",
        "colab": {}
      },
      "source": [
        "open(con,\"r\")# open connection with read only mode\n"
      ],
      "execution_count": 0,
      "outputs": []
    },
    {
      "cell_type": "code",
      "metadata": {
        "id": "O6Zr87ZnG2CQ",
        "colab_type": "code",
        "colab": {}
      },
      "source": [
        "data(mtcars) # load mtcars data"
      ],
      "execution_count": 0,
      "outputs": []
    },
    {
      "cell_type": "code",
      "metadata": {
        "id": "Y3HyanptG_Y-",
        "colab_type": "code",
        "colab": {}
      },
      "source": [
        "write.table(mtcars,file = \"data.txt\",sep=\"\\t\") "
      ],
      "execution_count": 0,
      "outputs": []
    },
    {
      "cell_type": "code",
      "metadata": {
        "id": "3nHfQ_8EJHwe",
        "colab_type": "code",
        "colab": {}
      },
      "source": [
        "data<- readLines(\"data.txt\")"
      ],
      "execution_count": 0,
      "outputs": []
    },
    {
      "cell_type": "code",
      "metadata": {
        "id": "MQfh9au3JWLh",
        "colab_type": "code",
        "colab": {
          "base_uri": "https://localhost:8080/",
          "height": 606
        },
        "outputId": "9a801283-fd35-459c-8ffe-f9e1f395bedf"
      },
      "source": [
        "data "
      ],
      "execution_count": 58,
      "outputs": [
        {
          "output_type": "display_data",
          "data": {
            "text/plain": [
              " [1] \"\\\"mpg\\\"\\t\\\"cyl\\\"\\t\\\"disp\\\"\\t\\\"hp\\\"\\t\\\"drat\\\"\\t\\\"wt\\\"\\t\\\"qsec\\\"\\t\\\"vs\\\"\\t\\\"am\\\"\\t\\\"gear\\\"\\t\\\"carb\\\"\"\n",
              " [2] \"\\\"Mazda RX4\\\"\\t21\\t6\\t160\\t110\\t3.9\\t2.62\\t16.46\\t0\\t1\\t4\\t4\"                                      \n",
              " [3] \"\\\"Mazda RX4 Wag\\\"\\t21\\t6\\t160\\t110\\t3.9\\t2.875\\t17.02\\t0\\t1\\t4\\t4\"                                 \n",
              " [4] \"\\\"Datsun 710\\\"\\t22.8\\t4\\t108\\t93\\t3.85\\t2.32\\t18.61\\t1\\t1\\t4\\t1\"                                   \n",
              " [5] \"\\\"Hornet 4 Drive\\\"\\t21.4\\t6\\t258\\t110\\t3.08\\t3.215\\t19.44\\t1\\t0\\t3\\t1\"                             \n",
              " [6] \"\\\"Hornet Sportabout\\\"\\t18.7\\t8\\t360\\t175\\t3.15\\t3.44\\t17.02\\t0\\t0\\t3\\t2\"                           \n",
              " [7] \"\\\"Valiant\\\"\\t18.1\\t6\\t225\\t105\\t2.76\\t3.46\\t20.22\\t1\\t0\\t3\\t1\"                                     \n",
              " [8] \"\\\"Duster 360\\\"\\t14.3\\t8\\t360\\t245\\t3.21\\t3.57\\t15.84\\t0\\t0\\t3\\t4\"                                  \n",
              " [9] \"\\\"Merc 240D\\\"\\t24.4\\t4\\t146.7\\t62\\t3.69\\t3.19\\t20\\t1\\t0\\t4\\t2\"                                     \n",
              "[10] \"\\\"Merc 230\\\"\\t22.8\\t4\\t140.8\\t95\\t3.92\\t3.15\\t22.9\\t1\\t0\\t4\\t2\"                                    \n",
              "[11] \"\\\"Merc 280\\\"\\t19.2\\t6\\t167.6\\t123\\t3.92\\t3.44\\t18.3\\t1\\t0\\t4\\t4\"                                   \n",
              "[12] \"\\\"Merc 280C\\\"\\t17.8\\t6\\t167.6\\t123\\t3.92\\t3.44\\t18.9\\t1\\t0\\t4\\t4\"                                  \n",
              "[13] \"\\\"Merc 450SE\\\"\\t16.4\\t8\\t275.8\\t180\\t3.07\\t4.07\\t17.4\\t0\\t0\\t3\\t3\"                                 \n",
              "[14] \"\\\"Merc 450SL\\\"\\t17.3\\t8\\t275.8\\t180\\t3.07\\t3.73\\t17.6\\t0\\t0\\t3\\t3\"                                 \n",
              "[15] \"\\\"Merc 450SLC\\\"\\t15.2\\t8\\t275.8\\t180\\t3.07\\t3.78\\t18\\t0\\t0\\t3\\t3\"                                  \n",
              "[16] \"\\\"Cadillac Fleetwood\\\"\\t10.4\\t8\\t472\\t205\\t2.93\\t5.25\\t17.98\\t0\\t0\\t3\\t4\"                          \n",
              "[17] \"\\\"Lincoln Continental\\\"\\t10.4\\t8\\t460\\t215\\t3\\t5.424\\t17.82\\t0\\t0\\t3\\t4\"                           \n",
              "[18] \"\\\"Chrysler Imperial\\\"\\t14.7\\t8\\t440\\t230\\t3.23\\t5.345\\t17.42\\t0\\t0\\t3\\t4\"                          \n",
              "[19] \"\\\"Fiat 128\\\"\\t32.4\\t4\\t78.7\\t66\\t4.08\\t2.2\\t19.47\\t1\\t1\\t4\\t1\"                                     \n",
              "[20] \"\\\"Honda Civic\\\"\\t30.4\\t4\\t75.7\\t52\\t4.93\\t1.615\\t18.52\\t1\\t1\\t4\\t2\"                                \n",
              "[21] \"\\\"Toyota Corolla\\\"\\t33.9\\t4\\t71.1\\t65\\t4.22\\t1.835\\t19.9\\t1\\t1\\t4\\t1\"                              \n",
              "[22] \"\\\"Toyota Corona\\\"\\t21.5\\t4\\t120.1\\t97\\t3.7\\t2.465\\t20.01\\t1\\t0\\t3\\t1\"                              \n",
              "[23] \"\\\"Dodge Challenger\\\"\\t15.5\\t8\\t318\\t150\\t2.76\\t3.52\\t16.87\\t0\\t0\\t3\\t2\"                            \n",
              "[24] \"\\\"AMC Javelin\\\"\\t15.2\\t8\\t304\\t150\\t3.15\\t3.435\\t17.3\\t0\\t0\\t3\\t2\"                                 \n",
              "[25] \"\\\"Camaro Z28\\\"\\t13.3\\t8\\t350\\t245\\t3.73\\t3.84\\t15.41\\t0\\t0\\t3\\t4\"                                  \n",
              "[26] \"\\\"Pontiac Firebird\\\"\\t19.2\\t8\\t400\\t175\\t3.08\\t3.845\\t17.05\\t0\\t0\\t3\\t2\"                           \n",
              "[27] \"\\\"Fiat X1-9\\\"\\t27.3\\t4\\t79\\t66\\t4.08\\t1.935\\t18.9\\t1\\t1\\t4\\t1\"                                     \n",
              "[28] \"\\\"Porsche 914-2\\\"\\t26\\t4\\t120.3\\t91\\t4.43\\t2.14\\t16.7\\t0\\t1\\t5\\t2\"                                 \n",
              "[29] \"\\\"Lotus Europa\\\"\\t30.4\\t4\\t95.1\\t113\\t3.77\\t1.513\\t16.9\\t1\\t1\\t5\\t2\"                               \n",
              "[30] \"\\\"Ford Pantera L\\\"\\t15.8\\t8\\t351\\t264\\t4.22\\t3.17\\t14.5\\t0\\t1\\t5\\t4\"                               \n",
              "[31] \"\\\"Ferrari Dino\\\"\\t19.7\\t6\\t145\\t175\\t3.62\\t2.77\\t15.5\\t0\\t1\\t5\\t6\"                                 \n",
              "[32] \"\\\"Maserati Bora\\\"\\t15\\t8\\t301\\t335\\t3.54\\t3.57\\t14.6\\t0\\t1\\t5\\t8\"                                  \n",
              "[33] \"\\\"Volvo 142E\\\"\\t21.4\\t4\\t121\\t109\\t4.11\\t2.78\\t18.6\\t1\\t1\\t4\\t2\"                                   "
            ],
            "text/latex": "\\begin{enumerate*}\n\\item '\"mpg\"\\textbackslash{}t\"cyl\"\\textbackslash{}t\"disp\"\\textbackslash{}t\"hp\"\\textbackslash{}t\"drat\"\\textbackslash{}t\"wt\"\\textbackslash{}t\"qsec\"\\textbackslash{}t\"vs\"\\textbackslash{}t\"am\"\\textbackslash{}t\"gear\"\\textbackslash{}t\"carb\"'\n\\item '\"Mazda RX4\"\\textbackslash{}t21\\textbackslash{}t6\\textbackslash{}t160\\textbackslash{}t110\\textbackslash{}t3.9\\textbackslash{}t2.62\\textbackslash{}t16.46\\textbackslash{}t0\\textbackslash{}t1\\textbackslash{}t4\\textbackslash{}t4'\n\\item '\"Mazda RX4 Wag\"\\textbackslash{}t21\\textbackslash{}t6\\textbackslash{}t160\\textbackslash{}t110\\textbackslash{}t3.9\\textbackslash{}t2.875\\textbackslash{}t17.02\\textbackslash{}t0\\textbackslash{}t1\\textbackslash{}t4\\textbackslash{}t4'\n\\item '\"Datsun 710\"\\textbackslash{}t22.8\\textbackslash{}t4\\textbackslash{}t108\\textbackslash{}t93\\textbackslash{}t3.85\\textbackslash{}t2.32\\textbackslash{}t18.61\\textbackslash{}t1\\textbackslash{}t1\\textbackslash{}t4\\textbackslash{}t1'\n\\item '\"Hornet 4 Drive\"\\textbackslash{}t21.4\\textbackslash{}t6\\textbackslash{}t258\\textbackslash{}t110\\textbackslash{}t3.08\\textbackslash{}t3.215\\textbackslash{}t19.44\\textbackslash{}t1\\textbackslash{}t0\\textbackslash{}t3\\textbackslash{}t1'\n\\item '\"Hornet Sportabout\"\\textbackslash{}t18.7\\textbackslash{}t8\\textbackslash{}t360\\textbackslash{}t175\\textbackslash{}t3.15\\textbackslash{}t3.44\\textbackslash{}t17.02\\textbackslash{}t0\\textbackslash{}t0\\textbackslash{}t3\\textbackslash{}t2'\n\\item '\"Valiant\"\\textbackslash{}t18.1\\textbackslash{}t6\\textbackslash{}t225\\textbackslash{}t105\\textbackslash{}t2.76\\textbackslash{}t3.46\\textbackslash{}t20.22\\textbackslash{}t1\\textbackslash{}t0\\textbackslash{}t3\\textbackslash{}t1'\n\\item '\"Duster 360\"\\textbackslash{}t14.3\\textbackslash{}t8\\textbackslash{}t360\\textbackslash{}t245\\textbackslash{}t3.21\\textbackslash{}t3.57\\textbackslash{}t15.84\\textbackslash{}t0\\textbackslash{}t0\\textbackslash{}t3\\textbackslash{}t4'\n\\item '\"Merc 240D\"\\textbackslash{}t24.4\\textbackslash{}t4\\textbackslash{}t146.7\\textbackslash{}t62\\textbackslash{}t3.69\\textbackslash{}t3.19\\textbackslash{}t20\\textbackslash{}t1\\textbackslash{}t0\\textbackslash{}t4\\textbackslash{}t2'\n\\item '\"Merc 230\"\\textbackslash{}t22.8\\textbackslash{}t4\\textbackslash{}t140.8\\textbackslash{}t95\\textbackslash{}t3.92\\textbackslash{}t3.15\\textbackslash{}t22.9\\textbackslash{}t1\\textbackslash{}t0\\textbackslash{}t4\\textbackslash{}t2'\n\\item '\"Merc 280\"\\textbackslash{}t19.2\\textbackslash{}t6\\textbackslash{}t167.6\\textbackslash{}t123\\textbackslash{}t3.92\\textbackslash{}t3.44\\textbackslash{}t18.3\\textbackslash{}t1\\textbackslash{}t0\\textbackslash{}t4\\textbackslash{}t4'\n\\item '\"Merc 280C\"\\textbackslash{}t17.8\\textbackslash{}t6\\textbackslash{}t167.6\\textbackslash{}t123\\textbackslash{}t3.92\\textbackslash{}t3.44\\textbackslash{}t18.9\\textbackslash{}t1\\textbackslash{}t0\\textbackslash{}t4\\textbackslash{}t4'\n\\item '\"Merc 450SE\"\\textbackslash{}t16.4\\textbackslash{}t8\\textbackslash{}t275.8\\textbackslash{}t180\\textbackslash{}t3.07\\textbackslash{}t4.07\\textbackslash{}t17.4\\textbackslash{}t0\\textbackslash{}t0\\textbackslash{}t3\\textbackslash{}t3'\n\\item '\"Merc 450SL\"\\textbackslash{}t17.3\\textbackslash{}t8\\textbackslash{}t275.8\\textbackslash{}t180\\textbackslash{}t3.07\\textbackslash{}t3.73\\textbackslash{}t17.6\\textbackslash{}t0\\textbackslash{}t0\\textbackslash{}t3\\textbackslash{}t3'\n\\item '\"Merc 450SLC\"\\textbackslash{}t15.2\\textbackslash{}t8\\textbackslash{}t275.8\\textbackslash{}t180\\textbackslash{}t3.07\\textbackslash{}t3.78\\textbackslash{}t18\\textbackslash{}t0\\textbackslash{}t0\\textbackslash{}t3\\textbackslash{}t3'\n\\item '\"Cadillac Fleetwood\"\\textbackslash{}t10.4\\textbackslash{}t8\\textbackslash{}t472\\textbackslash{}t205\\textbackslash{}t2.93\\textbackslash{}t5.25\\textbackslash{}t17.98\\textbackslash{}t0\\textbackslash{}t0\\textbackslash{}t3\\textbackslash{}t4'\n\\item '\"Lincoln Continental\"\\textbackslash{}t10.4\\textbackslash{}t8\\textbackslash{}t460\\textbackslash{}t215\\textbackslash{}t3\\textbackslash{}t5.424\\textbackslash{}t17.82\\textbackslash{}t0\\textbackslash{}t0\\textbackslash{}t3\\textbackslash{}t4'\n\\item '\"Chrysler Imperial\"\\textbackslash{}t14.7\\textbackslash{}t8\\textbackslash{}t440\\textbackslash{}t230\\textbackslash{}t3.23\\textbackslash{}t5.345\\textbackslash{}t17.42\\textbackslash{}t0\\textbackslash{}t0\\textbackslash{}t3\\textbackslash{}t4'\n\\item '\"Fiat 128\"\\textbackslash{}t32.4\\textbackslash{}t4\\textbackslash{}t78.7\\textbackslash{}t66\\textbackslash{}t4.08\\textbackslash{}t2.2\\textbackslash{}t19.47\\textbackslash{}t1\\textbackslash{}t1\\textbackslash{}t4\\textbackslash{}t1'\n\\item '\"Honda Civic\"\\textbackslash{}t30.4\\textbackslash{}t4\\textbackslash{}t75.7\\textbackslash{}t52\\textbackslash{}t4.93\\textbackslash{}t1.615\\textbackslash{}t18.52\\textbackslash{}t1\\textbackslash{}t1\\textbackslash{}t4\\textbackslash{}t2'\n\\item '\"Toyota Corolla\"\\textbackslash{}t33.9\\textbackslash{}t4\\textbackslash{}t71.1\\textbackslash{}t65\\textbackslash{}t4.22\\textbackslash{}t1.835\\textbackslash{}t19.9\\textbackslash{}t1\\textbackslash{}t1\\textbackslash{}t4\\textbackslash{}t1'\n\\item '\"Toyota Corona\"\\textbackslash{}t21.5\\textbackslash{}t4\\textbackslash{}t120.1\\textbackslash{}t97\\textbackslash{}t3.7\\textbackslash{}t2.465\\textbackslash{}t20.01\\textbackslash{}t1\\textbackslash{}t0\\textbackslash{}t3\\textbackslash{}t1'\n\\item '\"Dodge Challenger\"\\textbackslash{}t15.5\\textbackslash{}t8\\textbackslash{}t318\\textbackslash{}t150\\textbackslash{}t2.76\\textbackslash{}t3.52\\textbackslash{}t16.87\\textbackslash{}t0\\textbackslash{}t0\\textbackslash{}t3\\textbackslash{}t2'\n\\item '\"AMC Javelin\"\\textbackslash{}t15.2\\textbackslash{}t8\\textbackslash{}t304\\textbackslash{}t150\\textbackslash{}t3.15\\textbackslash{}t3.435\\textbackslash{}t17.3\\textbackslash{}t0\\textbackslash{}t0\\textbackslash{}t3\\textbackslash{}t2'\n\\item '\"Camaro Z28\"\\textbackslash{}t13.3\\textbackslash{}t8\\textbackslash{}t350\\textbackslash{}t245\\textbackslash{}t3.73\\textbackslash{}t3.84\\textbackslash{}t15.41\\textbackslash{}t0\\textbackslash{}t0\\textbackslash{}t3\\textbackslash{}t4'\n\\item '\"Pontiac Firebird\"\\textbackslash{}t19.2\\textbackslash{}t8\\textbackslash{}t400\\textbackslash{}t175\\textbackslash{}t3.08\\textbackslash{}t3.845\\textbackslash{}t17.05\\textbackslash{}t0\\textbackslash{}t0\\textbackslash{}t3\\textbackslash{}t2'\n\\item '\"Fiat X1-9\"\\textbackslash{}t27.3\\textbackslash{}t4\\textbackslash{}t79\\textbackslash{}t66\\textbackslash{}t4.08\\textbackslash{}t1.935\\textbackslash{}t18.9\\textbackslash{}t1\\textbackslash{}t1\\textbackslash{}t4\\textbackslash{}t1'\n\\item '\"Porsche 914-2\"\\textbackslash{}t26\\textbackslash{}t4\\textbackslash{}t120.3\\textbackslash{}t91\\textbackslash{}t4.43\\textbackslash{}t2.14\\textbackslash{}t16.7\\textbackslash{}t0\\textbackslash{}t1\\textbackslash{}t5\\textbackslash{}t2'\n\\item '\"Lotus Europa\"\\textbackslash{}t30.4\\textbackslash{}t4\\textbackslash{}t95.1\\textbackslash{}t113\\textbackslash{}t3.77\\textbackslash{}t1.513\\textbackslash{}t16.9\\textbackslash{}t1\\textbackslash{}t1\\textbackslash{}t5\\textbackslash{}t2'\n\\item '\"Ford Pantera L\"\\textbackslash{}t15.8\\textbackslash{}t8\\textbackslash{}t351\\textbackslash{}t264\\textbackslash{}t4.22\\textbackslash{}t3.17\\textbackslash{}t14.5\\textbackslash{}t0\\textbackslash{}t1\\textbackslash{}t5\\textbackslash{}t4'\n\\item '\"Ferrari Dino\"\\textbackslash{}t19.7\\textbackslash{}t6\\textbackslash{}t145\\textbackslash{}t175\\textbackslash{}t3.62\\textbackslash{}t2.77\\textbackslash{}t15.5\\textbackslash{}t0\\textbackslash{}t1\\textbackslash{}t5\\textbackslash{}t6'\n\\item '\"Maserati Bora\"\\textbackslash{}t15\\textbackslash{}t8\\textbackslash{}t301\\textbackslash{}t335\\textbackslash{}t3.54\\textbackslash{}t3.57\\textbackslash{}t14.6\\textbackslash{}t0\\textbackslash{}t1\\textbackslash{}t5\\textbackslash{}t8'\n\\item '\"Volvo 142E\"\\textbackslash{}t21.4\\textbackslash{}t4\\textbackslash{}t121\\textbackslash{}t109\\textbackslash{}t4.11\\textbackslash{}t2.78\\textbackslash{}t18.6\\textbackslash{}t1\\textbackslash{}t1\\textbackslash{}t4\\textbackslash{}t2'\n\\end{enumerate*}\n",
            "text/markdown": "1. '\"mpg\"\\t\"cyl\"\\t\"disp\"\\t\"hp\"\\t\"drat\"\\t\"wt\"\\t\"qsec\"\\t\"vs\"\\t\"am\"\\t\"gear\"\\t\"carb\"'\n2. '\"Mazda RX4\"\\t21\\t6\\t160\\t110\\t3.9\\t2.62\\t16.46\\t0\\t1\\t4\\t4'\n3. '\"Mazda RX4 Wag\"\\t21\\t6\\t160\\t110\\t3.9\\t2.875\\t17.02\\t0\\t1\\t4\\t4'\n4. '\"Datsun 710\"\\t22.8\\t4\\t108\\t93\\t3.85\\t2.32\\t18.61\\t1\\t1\\t4\\t1'\n5. '\"Hornet 4 Drive\"\\t21.4\\t6\\t258\\t110\\t3.08\\t3.215\\t19.44\\t1\\t0\\t3\\t1'\n6. '\"Hornet Sportabout\"\\t18.7\\t8\\t360\\t175\\t3.15\\t3.44\\t17.02\\t0\\t0\\t3\\t2'\n7. '\"Valiant\"\\t18.1\\t6\\t225\\t105\\t2.76\\t3.46\\t20.22\\t1\\t0\\t3\\t1'\n8. '\"Duster 360\"\\t14.3\\t8\\t360\\t245\\t3.21\\t3.57\\t15.84\\t0\\t0\\t3\\t4'\n9. '\"Merc 240D\"\\t24.4\\t4\\t146.7\\t62\\t3.69\\t3.19\\t20\\t1\\t0\\t4\\t2'\n10. '\"Merc 230\"\\t22.8\\t4\\t140.8\\t95\\t3.92\\t3.15\\t22.9\\t1\\t0\\t4\\t2'\n11. '\"Merc 280\"\\t19.2\\t6\\t167.6\\t123\\t3.92\\t3.44\\t18.3\\t1\\t0\\t4\\t4'\n12. '\"Merc 280C\"\\t17.8\\t6\\t167.6\\t123\\t3.92\\t3.44\\t18.9\\t1\\t0\\t4\\t4'\n13. '\"Merc 450SE\"\\t16.4\\t8\\t275.8\\t180\\t3.07\\t4.07\\t17.4\\t0\\t0\\t3\\t3'\n14. '\"Merc 450SL\"\\t17.3\\t8\\t275.8\\t180\\t3.07\\t3.73\\t17.6\\t0\\t0\\t3\\t3'\n15. '\"Merc 450SLC\"\\t15.2\\t8\\t275.8\\t180\\t3.07\\t3.78\\t18\\t0\\t0\\t3\\t3'\n16. '\"Cadillac Fleetwood\"\\t10.4\\t8\\t472\\t205\\t2.93\\t5.25\\t17.98\\t0\\t0\\t3\\t4'\n17. '\"Lincoln Continental\"\\t10.4\\t8\\t460\\t215\\t3\\t5.424\\t17.82\\t0\\t0\\t3\\t4'\n18. '\"Chrysler Imperial\"\\t14.7\\t8\\t440\\t230\\t3.23\\t5.345\\t17.42\\t0\\t0\\t3\\t4'\n19. '\"Fiat 128\"\\t32.4\\t4\\t78.7\\t66\\t4.08\\t2.2\\t19.47\\t1\\t1\\t4\\t1'\n20. '\"Honda Civic\"\\t30.4\\t4\\t75.7\\t52\\t4.93\\t1.615\\t18.52\\t1\\t1\\t4\\t2'\n21. '\"Toyota Corolla\"\\t33.9\\t4\\t71.1\\t65\\t4.22\\t1.835\\t19.9\\t1\\t1\\t4\\t1'\n22. '\"Toyota Corona\"\\t21.5\\t4\\t120.1\\t97\\t3.7\\t2.465\\t20.01\\t1\\t0\\t3\\t1'\n23. '\"Dodge Challenger\"\\t15.5\\t8\\t318\\t150\\t2.76\\t3.52\\t16.87\\t0\\t0\\t3\\t2'\n24. '\"AMC Javelin\"\\t15.2\\t8\\t304\\t150\\t3.15\\t3.435\\t17.3\\t0\\t0\\t3\\t2'\n25. '\"Camaro Z28\"\\t13.3\\t8\\t350\\t245\\t3.73\\t3.84\\t15.41\\t0\\t0\\t3\\t4'\n26. '\"Pontiac Firebird\"\\t19.2\\t8\\t400\\t175\\t3.08\\t3.845\\t17.05\\t0\\t0\\t3\\t2'\n27. '\"Fiat X1-9\"\\t27.3\\t4\\t79\\t66\\t4.08\\t1.935\\t18.9\\t1\\t1\\t4\\t1'\n28. '\"Porsche 914-2\"\\t26\\t4\\t120.3\\t91\\t4.43\\t2.14\\t16.7\\t0\\t1\\t5\\t2'\n29. '\"Lotus Europa\"\\t30.4\\t4\\t95.1\\t113\\t3.77\\t1.513\\t16.9\\t1\\t1\\t5\\t2'\n30. '\"Ford Pantera L\"\\t15.8\\t8\\t351\\t264\\t4.22\\t3.17\\t14.5\\t0\\t1\\t5\\t4'\n31. '\"Ferrari Dino\"\\t19.7\\t6\\t145\\t175\\t3.62\\t2.77\\t15.5\\t0\\t1\\t5\\t6'\n32. '\"Maserati Bora\"\\t15\\t8\\t301\\t335\\t3.54\\t3.57\\t14.6\\t0\\t1\\t5\\t8'\n33. '\"Volvo 142E\"\\t21.4\\t4\\t121\\t109\\t4.11\\t2.78\\t18.6\\t1\\t1\\t4\\t2'\n\n\n",
            "text/html": [
              "<ol class=list-inline>\n",
              "\t<li>'\"mpg\"\\t\"cyl\"\\t\"disp\"\\t\"hp\"\\t\"drat\"\\t\"wt\"\\t\"qsec\"\\t\"vs\"\\t\"am\"\\t\"gear\"\\t\"carb\"'</li>\n",
              "\t<li>'\"Mazda RX4\"\\t21\\t6\\t160\\t110\\t3.9\\t2.62\\t16.46\\t0\\t1\\t4\\t4'</li>\n",
              "\t<li>'\"Mazda RX4 Wag\"\\t21\\t6\\t160\\t110\\t3.9\\t2.875\\t17.02\\t0\\t1\\t4\\t4'</li>\n",
              "\t<li>'\"Datsun 710\"\\t22.8\\t4\\t108\\t93\\t3.85\\t2.32\\t18.61\\t1\\t1\\t4\\t1'</li>\n",
              "\t<li>'\"Hornet 4 Drive\"\\t21.4\\t6\\t258\\t110\\t3.08\\t3.215\\t19.44\\t1\\t0\\t3\\t1'</li>\n",
              "\t<li>'\"Hornet Sportabout\"\\t18.7\\t8\\t360\\t175\\t3.15\\t3.44\\t17.02\\t0\\t0\\t3\\t2'</li>\n",
              "\t<li>'\"Valiant\"\\t18.1\\t6\\t225\\t105\\t2.76\\t3.46\\t20.22\\t1\\t0\\t3\\t1'</li>\n",
              "\t<li>'\"Duster 360\"\\t14.3\\t8\\t360\\t245\\t3.21\\t3.57\\t15.84\\t0\\t0\\t3\\t4'</li>\n",
              "\t<li>'\"Merc 240D\"\\t24.4\\t4\\t146.7\\t62\\t3.69\\t3.19\\t20\\t1\\t0\\t4\\t2'</li>\n",
              "\t<li>'\"Merc 230\"\\t22.8\\t4\\t140.8\\t95\\t3.92\\t3.15\\t22.9\\t1\\t0\\t4\\t2'</li>\n",
              "\t<li>'\"Merc 280\"\\t19.2\\t6\\t167.6\\t123\\t3.92\\t3.44\\t18.3\\t1\\t0\\t4\\t4'</li>\n",
              "\t<li>'\"Merc 280C\"\\t17.8\\t6\\t167.6\\t123\\t3.92\\t3.44\\t18.9\\t1\\t0\\t4\\t4'</li>\n",
              "\t<li>'\"Merc 450SE\"\\t16.4\\t8\\t275.8\\t180\\t3.07\\t4.07\\t17.4\\t0\\t0\\t3\\t3'</li>\n",
              "\t<li>'\"Merc 450SL\"\\t17.3\\t8\\t275.8\\t180\\t3.07\\t3.73\\t17.6\\t0\\t0\\t3\\t3'</li>\n",
              "\t<li>'\"Merc 450SLC\"\\t15.2\\t8\\t275.8\\t180\\t3.07\\t3.78\\t18\\t0\\t0\\t3\\t3'</li>\n",
              "\t<li>'\"Cadillac Fleetwood\"\\t10.4\\t8\\t472\\t205\\t2.93\\t5.25\\t17.98\\t0\\t0\\t3\\t4'</li>\n",
              "\t<li>'\"Lincoln Continental\"\\t10.4\\t8\\t460\\t215\\t3\\t5.424\\t17.82\\t0\\t0\\t3\\t4'</li>\n",
              "\t<li>'\"Chrysler Imperial\"\\t14.7\\t8\\t440\\t230\\t3.23\\t5.345\\t17.42\\t0\\t0\\t3\\t4'</li>\n",
              "\t<li>'\"Fiat 128\"\\t32.4\\t4\\t78.7\\t66\\t4.08\\t2.2\\t19.47\\t1\\t1\\t4\\t1'</li>\n",
              "\t<li>'\"Honda Civic\"\\t30.4\\t4\\t75.7\\t52\\t4.93\\t1.615\\t18.52\\t1\\t1\\t4\\t2'</li>\n",
              "\t<li>'\"Toyota Corolla\"\\t33.9\\t4\\t71.1\\t65\\t4.22\\t1.835\\t19.9\\t1\\t1\\t4\\t1'</li>\n",
              "\t<li>'\"Toyota Corona\"\\t21.5\\t4\\t120.1\\t97\\t3.7\\t2.465\\t20.01\\t1\\t0\\t3\\t1'</li>\n",
              "\t<li>'\"Dodge Challenger\"\\t15.5\\t8\\t318\\t150\\t2.76\\t3.52\\t16.87\\t0\\t0\\t3\\t2'</li>\n",
              "\t<li>'\"AMC Javelin\"\\t15.2\\t8\\t304\\t150\\t3.15\\t3.435\\t17.3\\t0\\t0\\t3\\t2'</li>\n",
              "\t<li>'\"Camaro Z28\"\\t13.3\\t8\\t350\\t245\\t3.73\\t3.84\\t15.41\\t0\\t0\\t3\\t4'</li>\n",
              "\t<li>'\"Pontiac Firebird\"\\t19.2\\t8\\t400\\t175\\t3.08\\t3.845\\t17.05\\t0\\t0\\t3\\t2'</li>\n",
              "\t<li>'\"Fiat X1-9\"\\t27.3\\t4\\t79\\t66\\t4.08\\t1.935\\t18.9\\t1\\t1\\t4\\t1'</li>\n",
              "\t<li>'\"Porsche 914-2\"\\t26\\t4\\t120.3\\t91\\t4.43\\t2.14\\t16.7\\t0\\t1\\t5\\t2'</li>\n",
              "\t<li>'\"Lotus Europa\"\\t30.4\\t4\\t95.1\\t113\\t3.77\\t1.513\\t16.9\\t1\\t1\\t5\\t2'</li>\n",
              "\t<li>'\"Ford Pantera L\"\\t15.8\\t8\\t351\\t264\\t4.22\\t3.17\\t14.5\\t0\\t1\\t5\\t4'</li>\n",
              "\t<li>'\"Ferrari Dino\"\\t19.7\\t6\\t145\\t175\\t3.62\\t2.77\\t15.5\\t0\\t1\\t5\\t6'</li>\n",
              "\t<li>'\"Maserati Bora\"\\t15\\t8\\t301\\t335\\t3.54\\t3.57\\t14.6\\t0\\t1\\t5\\t8'</li>\n",
              "\t<li>'\"Volvo 142E\"\\t21.4\\t4\\t121\\t109\\t4.11\\t2.78\\t18.6\\t1\\t1\\t4\\t2'</li>\n",
              "</ol>\n"
            ]
          },
          "metadata": {
            "tags": []
          }
        }
      ]
    },
    {
      "cell_type": "code",
      "metadata": {
        "id": "5wJSTLiENmfO",
        "colab_type": "code",
        "colab": {
          "base_uri": "https://localhost:8080/",
          "height": 130
        },
        "outputId": "a30e4c33-c780-46c7-aa81-58cff2e3a3c2"
      },
      "source": [
        "head(data,5)"
      ],
      "execution_count": 59,
      "outputs": [
        {
          "output_type": "display_data",
          "data": {
            "text/plain": [
              "[1] \"\\\"mpg\\\"\\t\\\"cyl\\\"\\t\\\"disp\\\"\\t\\\"hp\\\"\\t\\\"drat\\\"\\t\\\"wt\\\"\\t\\\"qsec\\\"\\t\\\"vs\\\"\\t\\\"am\\\"\\t\\\"gear\\\"\\t\\\"carb\\\"\"\n",
              "[2] \"\\\"Mazda RX4\\\"\\t21\\t6\\t160\\t110\\t3.9\\t2.62\\t16.46\\t0\\t1\\t4\\t4\"                                      \n",
              "[3] \"\\\"Mazda RX4 Wag\\\"\\t21\\t6\\t160\\t110\\t3.9\\t2.875\\t17.02\\t0\\t1\\t4\\t4\"                                 \n",
              "[4] \"\\\"Datsun 710\\\"\\t22.8\\t4\\t108\\t93\\t3.85\\t2.32\\t18.61\\t1\\t1\\t4\\t1\"                                   \n",
              "[5] \"\\\"Hornet 4 Drive\\\"\\t21.4\\t6\\t258\\t110\\t3.08\\t3.215\\t19.44\\t1\\t0\\t3\\t1\"                             "
            ],
            "text/latex": "\\begin{enumerate*}\n\\item '\"mpg\"\\textbackslash{}t\"cyl\"\\textbackslash{}t\"disp\"\\textbackslash{}t\"hp\"\\textbackslash{}t\"drat\"\\textbackslash{}t\"wt\"\\textbackslash{}t\"qsec\"\\textbackslash{}t\"vs\"\\textbackslash{}t\"am\"\\textbackslash{}t\"gear\"\\textbackslash{}t\"carb\"'\n\\item '\"Mazda RX4\"\\textbackslash{}t21\\textbackslash{}t6\\textbackslash{}t160\\textbackslash{}t110\\textbackslash{}t3.9\\textbackslash{}t2.62\\textbackslash{}t16.46\\textbackslash{}t0\\textbackslash{}t1\\textbackslash{}t4\\textbackslash{}t4'\n\\item '\"Mazda RX4 Wag\"\\textbackslash{}t21\\textbackslash{}t6\\textbackslash{}t160\\textbackslash{}t110\\textbackslash{}t3.9\\textbackslash{}t2.875\\textbackslash{}t17.02\\textbackslash{}t0\\textbackslash{}t1\\textbackslash{}t4\\textbackslash{}t4'\n\\item '\"Datsun 710\"\\textbackslash{}t22.8\\textbackslash{}t4\\textbackslash{}t108\\textbackslash{}t93\\textbackslash{}t3.85\\textbackslash{}t2.32\\textbackslash{}t18.61\\textbackslash{}t1\\textbackslash{}t1\\textbackslash{}t4\\textbackslash{}t1'\n\\item '\"Hornet 4 Drive\"\\textbackslash{}t21.4\\textbackslash{}t6\\textbackslash{}t258\\textbackslash{}t110\\textbackslash{}t3.08\\textbackslash{}t3.215\\textbackslash{}t19.44\\textbackslash{}t1\\textbackslash{}t0\\textbackslash{}t3\\textbackslash{}t1'\n\\end{enumerate*}\n",
            "text/markdown": "1. '\"mpg\"\\t\"cyl\"\\t\"disp\"\\t\"hp\"\\t\"drat\"\\t\"wt\"\\t\"qsec\"\\t\"vs\"\\t\"am\"\\t\"gear\"\\t\"carb\"'\n2. '\"Mazda RX4\"\\t21\\t6\\t160\\t110\\t3.9\\t2.62\\t16.46\\t0\\t1\\t4\\t4'\n3. '\"Mazda RX4 Wag\"\\t21\\t6\\t160\\t110\\t3.9\\t2.875\\t17.02\\t0\\t1\\t4\\t4'\n4. '\"Datsun 710\"\\t22.8\\t4\\t108\\t93\\t3.85\\t2.32\\t18.61\\t1\\t1\\t4\\t1'\n5. '\"Hornet 4 Drive\"\\t21.4\\t6\\t258\\t110\\t3.08\\t3.215\\t19.44\\t1\\t0\\t3\\t1'\n\n\n",
            "text/html": [
              "<ol class=list-inline>\n",
              "\t<li>'\"mpg\"\\t\"cyl\"\\t\"disp\"\\t\"hp\"\\t\"drat\"\\t\"wt\"\\t\"qsec\"\\t\"vs\"\\t\"am\"\\t\"gear\"\\t\"carb\"'</li>\n",
              "\t<li>'\"Mazda RX4\"\\t21\\t6\\t160\\t110\\t3.9\\t2.62\\t16.46\\t0\\t1\\t4\\t4'</li>\n",
              "\t<li>'\"Mazda RX4 Wag\"\\t21\\t6\\t160\\t110\\t3.9\\t2.875\\t17.02\\t0\\t1\\t4\\t4'</li>\n",
              "\t<li>'\"Datsun 710\"\\t22.8\\t4\\t108\\t93\\t3.85\\t2.32\\t18.61\\t1\\t1\\t4\\t1'</li>\n",
              "\t<li>'\"Hornet 4 Drive\"\\t21.4\\t6\\t258\\t110\\t3.08\\t3.215\\t19.44\\t1\\t0\\t3\\t1'</li>\n",
              "</ol>\n"
            ]
          },
          "metadata": {
            "tags": []
          }
        }
      ]
    },
    {
      "cell_type": "code",
      "metadata": {
        "id": "7_R_ekg5OnE4",
        "colab_type": "code",
        "colab": {}
      },
      "source": [
        "close(con)"
      ],
      "execution_count": 0,
      "outputs": []
    },
    {
      "cell_type": "code",
      "metadata": {
        "id": "FfORbjKPO_ac",
        "colab_type": "code",
        "colab": {}
      },
      "source": [
        "con<- url(\"http://makemeanalyst.com/r-programming/reading-and-writing-data-to-and-from-r/\")"
      ],
      "execution_count": 0,
      "outputs": []
    },
    {
      "cell_type": "code",
      "metadata": {
        "id": "xxl7aZoNPEqz",
        "colab_type": "code",
        "colab": {}
      },
      "source": [
        "x<- readLines(con)"
      ],
      "execution_count": 0,
      "outputs": []
    },
    {
      "cell_type": "code",
      "metadata": {
        "id": "2Q7kC_F2PLbL",
        "colab_type": "code",
        "colab": {
          "base_uri": "https://localhost:8080/",
          "height": 521
        },
        "outputId": "07b79e30-3987-4263-d42d-e129236d5e78"
      },
      "source": [
        "head(x,25)"
      ],
      "execution_count": 63,
      "outputs": [
        {
          "output_type": "display_data",
          "data": {
            "text/plain": [
              " [1] \"<!DOCTYPE html>\"                                                                                                                                                                                                                                                                                                                                                                                                           \n",
              " [2] \"<html lang=\\\"en-US\\\" prefix=\\\"og: http://ogp.me/ns#\\\">\"                                                                                                                                                                                                                                                                                                                                                                    \n",
              " [3] \"<head>\"                                                                                                                                                                                                                                                                                                                                                                                                                    \n",
              " [4] \"<meta charset=\\\"UTF-8\\\">\"                                                                                                                                                                                                                                                                                                                                                                                                  \n",
              " [5] \"<meta name=\\\"viewport\\\" content=\\\"width=device-width, initial-scale=1\\\">\"                                                                                                                                                                                                                                                                                                                                                  \n",
              " [6] \"<link rel=\\\"profile\\\" href=\\\"http://gmpg.org/xfn/11\\\">\"                                                                                                                                                                                                                                                                                                                                                                    \n",
              " [7] \"<link rel=\\\"pingback\\\" href=\\\"http://makemeanalyst.com/xmlrpc.php\\\">\"                                                                                                                                                                                                                                                                                                                                                      \n",
              " [8] \"\"                                                                                                                                                                                                                                                                                                                                                                                                                          \n",
              " [9] \"<title>Reading and Writing Data to and from R - MAKE ME ANALYST</title>\"                                                                                                                                                                                                                                                                                                                                                   \n",
              "[10] \"\"                                                                                                                                                                                                                                                                                                                                                                                                                          \n",
              "[11] \"<!-- This site is optimized with the Yoast SEO plugin v5.3.3 - https://yoast.com/wordpress/plugins/seo/ -->\"                                                                                                                                                                                                                                                                                                               \n",
              "[12] \"<meta name=\\\"description\\\" content=\\\"Learn about various functions for Reading and Writing Data into R\\\"/>\"                                                                                                                                                                                                                                                                                                                \n",
              "[13] \"<link rel=\\\"canonical\\\" href=\\\"http://makemeanalyst.com/r-programming/reading-and-writing-data-to-and-from-r/\\\" />\"                                                                                                                                                                                                                                                                                                        \n",
              "[14] \"<meta property=\\\"og:locale\\\" content=\\\"en_US\\\" />\"                                                                                                                                                                                                                                                                                                                                                                         \n",
              "[15] \"<meta property=\\\"og:type\\\" content=\\\"article\\\" />\"                                                                                                                                                                                                                                                                                                                                                                         \n",
              "[16] \"<meta property=\\\"og:title\\\" content=\\\"Reading and Writing Data to and from R - MAKE ME ANALYST\\\" />\"                                                                                                                                                                                                                                                                                                                       \n",
              "[17] \"<meta property=\\\"og:description\\\" content=\\\"Learn about various functions for Reading and Writing Data into R\\\" />\"                                                                                                                                                                                                                                                                                                        \n",
              "[18] \"<meta property=\\\"og:url\\\" content=\\\"http://makemeanalyst.com/r-programming/reading-and-writing-data-to-and-from-r/\\\" />\"                                                                                                                                                                                                                                                                                                   \n",
              "[19] \"<meta property=\\\"og:site_name\\\" content=\\\"MAKE ME ANALYST\\\" />\"                                                                                                                                                                                                                                                                                                                                                            \n",
              "[20] \"<meta name=\\\"twitter:card\\\" content=\\\"summary\\\" />\"                                                                                                                                                                                                                                                                                                                                                                        \n",
              "[21] \"<meta name=\\\"twitter:description\\\" content=\\\"Learn about various functions for Reading and Writing Data into R\\\" />\"                                                                                                                                                                                                                                                                                                       \n",
              "[22] \"<meta name=\\\"twitter:title\\\" content=\\\"Reading and Writing Data to and from R - MAKE ME ANALYST\\\" />\"                                                                                                                                                                                                                                                                                                                      \n",
              "[23] \"<script type='application/ld+json'>{\\\"@context\\\":\\\"http:\\\\/\\\\/schema.org\\\",\\\"@type\\\":\\\"WebSite\\\",\\\"@id\\\":\\\"#website\\\",\\\"url\\\":\\\"http:\\\\/\\\\/makemeanalyst.com\\\\/\\\",\\\"name\\\":\\\"MAKE ME ANALYST\\\",\\\"alternateName\\\":\\\"MAKE ME ANALYST\\\",\\\"potentialAction\\\":{\\\"@type\\\":\\\"SearchAction\\\",\\\"target\\\":\\\"http:\\\\/\\\\/makemeanalyst.com\\\\/?s={search_term_string}\\\",\\\"query-input\\\":\\\"required name=search_term_string\\\"}}</script>\"\n",
              "[24] \"<script type='application/ld+json'>{\\\"@context\\\":\\\"http:\\\\/\\\\/schema.org\\\",\\\"@type\\\":\\\"Organization\\\",\\\"url\\\":\\\"http:\\\\/\\\\/makemeanalyst.com\\\\/r-programming\\\\/reading-and-writing-data-to-and-from-r\\\\/\\\",\\\"sameAs\\\":[],\\\"@id\\\":\\\"#organization\\\",\\\"name\\\":\\\"MAKE ME ANALYST\\\",\\\"logo\\\":\\\"http:\\\\/\\\\/makemeanalyst.com\\\\/wp-content\\\\/uploads\\\\/2017\\\\/05\\\\/logo2.png\\\"}</script>\"                                        \n",
              "[25] \"<!-- / Yoast SEO plugin. -->\"                                                                                                                                                                                                                                                                                                                                                                                              "
            ],
            "text/latex": "\\begin{enumerate*}\n\\item '<!DOCTYPE html>'\n\\item '<html lang=\"en-US\" prefix=\"og: http://ogp.me/ns\\#\">'\n\\item '<head>'\n\\item '<meta charset=\"UTF-8\">'\n\\item '<meta name=\"viewport\" content=\"width=device-width, initial-scale=1\">'\n\\item '<link rel=\"profile\" href=\"http://gmpg.org/xfn/11\">'\n\\item '<link rel=\"pingback\" href=\"http://makemeanalyst.com/xmlrpc.php\">'\n\\item ''\n\\item '<title>Reading and Writing Data to and from R - MAKE ME ANALYST</title>'\n\\item ''\n\\item '<!-- This site is optimized with the Yoast SEO plugin v5.3.3 - https://yoast.com/wordpress/plugins/seo/ -->'\n\\item '<meta name=\"description\" content=\"Learn about various functions for Reading and Writing Data into R\"/>'\n\\item '<link rel=\"canonical\" href=\"http://makemeanalyst.com/r-programming/reading-and-writing-data-to-and-from-r/\" />'\n\\item '<meta property=\"og:locale\" content=\"en\\_US\" />'\n\\item '<meta property=\"og:type\" content=\"article\" />'\n\\item '<meta property=\"og:title\" content=\"Reading and Writing Data to and from R - MAKE ME ANALYST\" />'\n\\item '<meta property=\"og:description\" content=\"Learn about various functions for Reading and Writing Data into R\" />'\n\\item '<meta property=\"og:url\" content=\"http://makemeanalyst.com/r-programming/reading-and-writing-data-to-and-from-r/\" />'\n\\item '<meta property=\"og:site\\_name\" content=\"MAKE ME ANALYST\" />'\n\\item '<meta name=\"twitter:card\" content=\"summary\" />'\n\\item '<meta name=\"twitter:description\" content=\"Learn about various functions for Reading and Writing Data into R\" />'\n\\item '<meta name=\"twitter:title\" content=\"Reading and Writing Data to and from R - MAKE ME ANALYST\" />'\n\\item '<script type=\\textbackslash{}'application/ld+json\\textbackslash{}'>\\{\"@context\":\"http:\\textbackslash{}\\textbackslash{}/\\textbackslash{}\\textbackslash{}/schema.org\",\"@type\":\"WebSite\",\"@id\":\"\\#website\",\"url\":\"http:\\textbackslash{}\\textbackslash{}/\\textbackslash{}\\textbackslash{}/makemeanalyst.com\\textbackslash{}\\textbackslash{}/\",\"name\":\"MAKE ME ANALYST\",\"alternateName\":\"MAKE ME ANALYST\",\"potentialAction\":\\{\"@type\":\"SearchAction\",\"target\":\"http:\\textbackslash{}\\textbackslash{}/\\textbackslash{}\\textbackslash{}/makemeanalyst.com\\textbackslash{}\\textbackslash{}/?s=\\{search\\_term\\_string\\}\",\"query-input\":\"required name=search\\_term\\_string\"\\}\\}</script>'\n\\item '<script type=\\textbackslash{}'application/ld+json\\textbackslash{}'>\\{\"@context\":\"http:\\textbackslash{}\\textbackslash{}/\\textbackslash{}\\textbackslash{}/schema.org\",\"@type\":\"Organization\",\"url\":\"http:\\textbackslash{}\\textbackslash{}/\\textbackslash{}\\textbackslash{}/makemeanalyst.com\\textbackslash{}\\textbackslash{}/r-programming\\textbackslash{}\\textbackslash{}/reading-and-writing-data-to-and-from-r\\textbackslash{}\\textbackslash{}/\",\"sameAs\":{[}{]},\"@id\":\"\\#organization\",\"name\":\"MAKE ME ANALYST\",\"logo\":\"http:\\textbackslash{}\\textbackslash{}/\\textbackslash{}\\textbackslash{}/makemeanalyst.com\\textbackslash{}\\textbackslash{}/wp-content\\textbackslash{}\\textbackslash{}/uploads\\textbackslash{}\\textbackslash{}/2017\\textbackslash{}\\textbackslash{}/05\\textbackslash{}\\textbackslash{}/logo2.png\"\\}</script>'\n\\item '<!-- / Yoast SEO plugin. -->'\n\\end{enumerate*}\n",
            "text/markdown": "1. '&lt;!DOCTYPE html&gt;'\n2. '&lt;html lang=\"en-US\" prefix=\"og: http://ogp.me/ns#\"&gt;'\n3. '&lt;head&gt;'\n4. '&lt;meta charset=\"UTF-8\"&gt;'\n5. '&lt;meta name=\"viewport\" content=\"width=device-width, initial-scale=1\"&gt;'\n6. '&lt;link rel=\"profile\" href=\"http://gmpg.org/xfn/11\"&gt;'\n7. '&lt;link rel=\"pingback\" href=\"http://makemeanalyst.com/xmlrpc.php\"&gt;'\n8. ''\n9. '&lt;title&gt;Reading and Writing Data to and from R - MAKE ME ANALYST&lt;/title&gt;'\n10. ''\n11. '&lt;!-- This site is optimized with the Yoast SEO plugin v5.3.3 - https://yoast.com/wordpress/plugins/seo/ --&gt;'\n12. '&lt;meta name=\"description\" content=\"Learn about various functions for Reading and Writing Data into R\"/&gt;'\n13. '&lt;link rel=\"canonical\" href=\"http://makemeanalyst.com/r-programming/reading-and-writing-data-to-and-from-r/\" /&gt;'\n14. '&lt;meta property=\"og:locale\" content=\"en_US\" /&gt;'\n15. '&lt;meta property=\"og:type\" content=\"article\" /&gt;'\n16. '&lt;meta property=\"og:title\" content=\"Reading and Writing Data to and from R - MAKE ME ANALYST\" /&gt;'\n17. '&lt;meta property=\"og:description\" content=\"Learn about various functions for Reading and Writing Data into R\" /&gt;'\n18. '&lt;meta property=\"og:url\" content=\"http://makemeanalyst.com/r-programming/reading-and-writing-data-to-and-from-r/\" /&gt;'\n19. '&lt;meta property=\"og:site_name\" content=\"MAKE ME ANALYST\" /&gt;'\n20. '&lt;meta name=\"twitter:card\" content=\"summary\" /&gt;'\n21. '&lt;meta name=\"twitter:description\" content=\"Learn about various functions for Reading and Writing Data into R\" /&gt;'\n22. '&lt;meta name=\"twitter:title\" content=\"Reading and Writing Data to and from R - MAKE ME ANALYST\" /&gt;'\n23. '&lt;script type=\\'application/ld+json\\'&gt;{\"@context\":\"http:\\\\/\\\\/schema.org\",\"@type\":\"WebSite\",\"@id\":\"#website\",\"url\":\"http:\\\\/\\\\/makemeanalyst.com\\\\/\",\"name\":\"MAKE ME ANALYST\",\"alternateName\":\"MAKE ME ANALYST\",\"potentialAction\":{\"@type\":\"SearchAction\",\"target\":\"http:\\\\/\\\\/makemeanalyst.com\\\\/?s={search_term_string}\",\"query-input\":\"required name=search_term_string\"}}&lt;/script&gt;'\n24. '&lt;script type=\\'application/ld+json\\'&gt;{\"@context\":\"http:\\\\/\\\\/schema.org\",\"@type\":\"Organization\",\"url\":\"http:\\\\/\\\\/makemeanalyst.com\\\\/r-programming\\\\/reading-and-writing-data-to-and-from-r\\\\/\",\"sameAs\":[],\"@id\":\"#organization\",\"name\":\"MAKE ME ANALYST\",\"logo\":\"http:\\\\/\\\\/makemeanalyst.com\\\\/wp-content\\\\/uploads\\\\/2017\\\\/05\\\\/logo2.png\"}&lt;/script&gt;'\n25. '&lt;!-- / Yoast SEO plugin. --&gt;'\n\n\n",
            "text/html": [
              "<ol class=list-inline>\n",
              "\t<li>'&lt;!DOCTYPE html&gt;'</li>\n",
              "\t<li>'&lt;html lang=\"en-US\" prefix=\"og: http://ogp.me/ns#\"&gt;'</li>\n",
              "\t<li>'&lt;head&gt;'</li>\n",
              "\t<li>'&lt;meta charset=\"UTF-8\"&gt;'</li>\n",
              "\t<li>'&lt;meta name=\"viewport\" content=\"width=device-width, initial-scale=1\"&gt;'</li>\n",
              "\t<li>'&lt;link rel=\"profile\" href=\"http://gmpg.org/xfn/11\"&gt;'</li>\n",
              "\t<li>'&lt;link rel=\"pingback\" href=\"http://makemeanalyst.com/xmlrpc.php\"&gt;'</li>\n",
              "\t<li>''</li>\n",
              "\t<li>'&lt;title&gt;Reading and Writing Data to and from R - MAKE ME ANALYST&lt;/title&gt;'</li>\n",
              "\t<li>''</li>\n",
              "\t<li>'&lt;!-- This site is optimized with the Yoast SEO plugin v5.3.3 - https://yoast.com/wordpress/plugins/seo/ --&gt;'</li>\n",
              "\t<li>'&lt;meta name=\"description\" content=\"Learn about various functions for Reading and Writing Data into R\"/&gt;'</li>\n",
              "\t<li>'&lt;link rel=\"canonical\" href=\"http://makemeanalyst.com/r-programming/reading-and-writing-data-to-and-from-r/\" /&gt;'</li>\n",
              "\t<li>'&lt;meta property=\"og:locale\" content=\"en_US\" /&gt;'</li>\n",
              "\t<li>'&lt;meta property=\"og:type\" content=\"article\" /&gt;'</li>\n",
              "\t<li>'&lt;meta property=\"og:title\" content=\"Reading and Writing Data to and from R - MAKE ME ANALYST\" /&gt;'</li>\n",
              "\t<li>'&lt;meta property=\"og:description\" content=\"Learn about various functions for Reading and Writing Data into R\" /&gt;'</li>\n",
              "\t<li>'&lt;meta property=\"og:url\" content=\"http://makemeanalyst.com/r-programming/reading-and-writing-data-to-and-from-r/\" /&gt;'</li>\n",
              "\t<li>'&lt;meta property=\"og:site_name\" content=\"MAKE ME ANALYST\" /&gt;'</li>\n",
              "\t<li>'&lt;meta name=\"twitter:card\" content=\"summary\" /&gt;'</li>\n",
              "\t<li>'&lt;meta name=\"twitter:description\" content=\"Learn about various functions for Reading and Writing Data into R\" /&gt;'</li>\n",
              "\t<li>'&lt;meta name=\"twitter:title\" content=\"Reading and Writing Data to and from R - MAKE ME ANALYST\" /&gt;'</li>\n",
              "\t<li>'&lt;script type=\\'application/ld+json\\'&gt;{\"@context\":\"http:\\\\/\\\\/schema.org\",\"@type\":\"WebSite\",\"@id\":\"#website\",\"url\":\"http:\\\\/\\\\/makemeanalyst.com\\\\/\",\"name\":\"MAKE ME ANALYST\",\"alternateName\":\"MAKE ME ANALYST\",\"potentialAction\":{\"@type\":\"SearchAction\",\"target\":\"http:\\\\/\\\\/makemeanalyst.com\\\\/?s={search_term_string}\",\"query-input\":\"required name=search_term_string\"}}&lt;/script&gt;'</li>\n",
              "\t<li>'&lt;script type=\\'application/ld+json\\'&gt;{\"@context\":\"http:\\\\/\\\\/schema.org\",\"@type\":\"Organization\",\"url\":\"http:\\\\/\\\\/makemeanalyst.com\\\\/r-programming\\\\/reading-and-writing-data-to-and-from-r\\\\/\",\"sameAs\":[],\"@id\":\"#organization\",\"name\":\"MAKE ME ANALYST\",\"logo\":\"http:\\\\/\\\\/makemeanalyst.com\\\\/wp-content\\\\/uploads\\\\/2017\\\\/05\\\\/logo2.png\"}&lt;/script&gt;'</li>\n",
              "\t<li>'&lt;!-- / Yoast SEO plugin. --&gt;'</li>\n",
              "</ol>\n"
            ]
          },
          "metadata": {
            "tags": []
          }
        }
      ]
    },
    {
      "cell_type": "code",
      "metadata": {
        "id": "NhvF7UrOPPyb",
        "colab_type": "code",
        "colab": {}
      },
      "source": [
        "con2<- file(\"data.txt\")"
      ],
      "execution_count": 0,
      "outputs": []
    },
    {
      "cell_type": "code",
      "metadata": {
        "id": "zaIkFe9cPq-5",
        "colab_type": "code",
        "colab": {}
      },
      "source": [
        "open(con2,\"a\")"
      ],
      "execution_count": 0,
      "outputs": []
    },
    {
      "cell_type": "code",
      "metadata": {
        "id": "HF29A442PukS",
        "colab_type": "code",
        "colab": {}
      },
      "source": [
        "write.table(x,\"data.txt\")"
      ],
      "execution_count": 0,
      "outputs": []
    },
    {
      "cell_type": "code",
      "metadata": {
        "id": "7DiOt4bQQEjD",
        "colab_type": "code",
        "colab": {}
      },
      "source": [
        "data<- readLines(\"data.txt\")"
      ],
      "execution_count": 0,
      "outputs": []
    },
    {
      "cell_type": "code",
      "metadata": {
        "id": "hcXT7sPPQOmp",
        "colab_type": "code",
        "colab": {
          "base_uri": "https://localhost:8080/",
          "height": 623
        },
        "outputId": "7e32d6a9-bc84-4647-90ce-a9e4cb254ec6"
      },
      "source": [
        "head(data,30)"
      ],
      "execution_count": 68,
      "outputs": [
        {
          "output_type": "display_data",
          "data": {
            "text/plain": [
              " [1] \"\\\"x\\\"\"                                                                                                                                                                                                                                                                                                                                                                                                                                                                                                            \n",
              " [2] \"\\\"1\\\" \\\"<!DOCTYPE html>\\\"\"                                                                                                                                                                                                                                                                                                                                                                                                                                                                                        \n",
              " [3] \"\\\"2\\\" \\\"<html lang=\\\\\\\"en-US\\\\\\\" prefix=\\\\\\\"og: http://ogp.me/ns#\\\\\\\">\\\"\"                                                                                                                                                                                                                                                                                                                                                                                                                                         \n",
              " [4] \"\\\"3\\\" \\\"<head>\\\"\"                                                                                                                                                                                                                                                                                                                                                                                                                                                                                                 \n",
              " [5] \"\\\"4\\\" \\\"<meta charset=\\\\\\\"UTF-8\\\\\\\">\\\"\"                                                                                                                                                                                                                                                                                                                                                                                                                                                                           \n",
              " [6] \"\\\"5\\\" \\\"<meta name=\\\\\\\"viewport\\\\\\\" content=\\\\\\\"width=device-width, initial-scale=1\\\\\\\">\\\"\"                                                                                                                                                                                                                                                                                                                                                                                                                       \n",
              " [7] \"\\\"6\\\" \\\"<link rel=\\\\\\\"profile\\\\\\\" href=\\\\\\\"http://gmpg.org/xfn/11\\\\\\\">\\\"\"                                                                                                                                                                                                                                                                                                                                                                                                                                         \n",
              " [8] \"\\\"7\\\" \\\"<link rel=\\\\\\\"pingback\\\\\\\" href=\\\\\\\"http://makemeanalyst.com/xmlrpc.php\\\\\\\">\\\"\"                                                                                                                                                                                                                                                                                                                                                                                                                           \n",
              " [9] \"\\\"8\\\" \\\"\\\"\"                                                                                                                                                                                                                                                                                                                                                                                                                                                                                                       \n",
              "[10] \"\\\"9\\\" \\\"<title>Reading and Writing Data to and from R - MAKE ME ANALYST</title>\\\"\"                                                                                                                                                                                                                                                                                                                                                                                                                                \n",
              "[11] \"\\\"10\\\" \\\"\\\"\"                                                                                                                                                                                                                                                                                                                                                                                                                                                                                                      \n",
              "[12] \"\\\"11\\\" \\\"<!-- This site is optimized with the Yoast SEO plugin v5.3.3 - https://yoast.com/wordpress/plugins/seo/ -->\\\"\"                                                                                                                                                                                                                                                                                                                                                                                           \n",
              "[13] \"\\\"12\\\" \\\"<meta name=\\\\\\\"description\\\\\\\" content=\\\\\\\"Learn about various functions for Reading and Writing Data into R\\\\\\\"/>\\\"\"                                                                                                                                                                                                                                                                                                                                                                                    \n",
              "[14] \"\\\"13\\\" \\\"<link rel=\\\\\\\"canonical\\\\\\\" href=\\\\\\\"http://makemeanalyst.com/r-programming/reading-and-writing-data-to-and-from-r/\\\\\\\" />\\\"\"                                                                                                                                                                                                                                                                                                                                                                            \n",
              "[15] \"\\\"14\\\" \\\"<meta property=\\\\\\\"og:locale\\\\\\\" content=\\\\\\\"en_US\\\\\\\" />\\\"\"                                                                                                                                                                                                                                                                                                                                                                                                                                             \n",
              "[16] \"\\\"15\\\" \\\"<meta property=\\\\\\\"og:type\\\\\\\" content=\\\\\\\"article\\\\\\\" />\\\"\"                                                                                                                                                                                                                                                                                                                                                                                                                                             \n",
              "[17] \"\\\"16\\\" \\\"<meta property=\\\\\\\"og:title\\\\\\\" content=\\\\\\\"Reading and Writing Data to and from R - MAKE ME ANALYST\\\\\\\" />\\\"\"                                                                                                                                                                                                                                                                                                                                                                                           \n",
              "[18] \"\\\"17\\\" \\\"<meta property=\\\\\\\"og:description\\\\\\\" content=\\\\\\\"Learn about various functions for Reading and Writing Data into R\\\\\\\" />\\\"\"                                                                                                                                                                                                                                                                                                                                                                            \n",
              "[19] \"\\\"18\\\" \\\"<meta property=\\\\\\\"og:url\\\\\\\" content=\\\\\\\"http://makemeanalyst.com/r-programming/reading-and-writing-data-to-and-from-r/\\\\\\\" />\\\"\"                                                                                                                                                                                                                                                                                                                                                                       \n",
              "[20] \"\\\"19\\\" \\\"<meta property=\\\\\\\"og:site_name\\\\\\\" content=\\\\\\\"MAKE ME ANALYST\\\\\\\" />\\\"\"                                                                                                                                                                                                                                                                                                                                                                                                                                \n",
              "[21] \"\\\"20\\\" \\\"<meta name=\\\\\\\"twitter:card\\\\\\\" content=\\\\\\\"summary\\\\\\\" />\\\"\"                                                                                                                                                                                                                                                                                                                                                                                                                                            \n",
              "[22] \"\\\"21\\\" \\\"<meta name=\\\\\\\"twitter:description\\\\\\\" content=\\\\\\\"Learn about various functions for Reading and Writing Data into R\\\\\\\" />\\\"\"                                                                                                                                                                                                                                                                                                                                                                           \n",
              "[23] \"\\\"22\\\" \\\"<meta name=\\\\\\\"twitter:title\\\\\\\" content=\\\\\\\"Reading and Writing Data to and from R - MAKE ME ANALYST\\\\\\\" />\\\"\"                                                                                                                                                                                                                                                                                                                                                                                          \n",
              "[24] \"\\\"23\\\" \\\"<script type='application/ld+json'>{\\\\\\\"@context\\\\\\\":\\\\\\\"http:\\\\/\\\\/schema.org\\\\\\\",\\\\\\\"@type\\\\\\\":\\\\\\\"WebSite\\\\\\\",\\\\\\\"@id\\\\\\\":\\\\\\\"#website\\\\\\\",\\\\\\\"url\\\\\\\":\\\\\\\"http:\\\\/\\\\/makemeanalyst.com\\\\/\\\\\\\",\\\\\\\"name\\\\\\\":\\\\\\\"MAKE ME ANALYST\\\\\\\",\\\\\\\"alternateName\\\\\\\":\\\\\\\"MAKE ME ANALYST\\\\\\\",\\\\\\\"potentialAction\\\\\\\":{\\\\\\\"@type\\\\\\\":\\\\\\\"SearchAction\\\\\\\",\\\\\\\"target\\\\\\\":\\\\\\\"http:\\\\/\\\\/makemeanalyst.com\\\\/?s={search_term_string}\\\\\\\",\\\\\\\"query-input\\\\\\\":\\\\\\\"required name=search_term_string\\\\\\\"}}</script>\\\"\"\n",
              "[25] \"\\\"24\\\" \\\"<script type='application/ld+json'>{\\\\\\\"@context\\\\\\\":\\\\\\\"http:\\\\/\\\\/schema.org\\\\\\\",\\\\\\\"@type\\\\\\\":\\\\\\\"Organization\\\\\\\",\\\\\\\"url\\\\\\\":\\\\\\\"http:\\\\/\\\\/makemeanalyst.com\\\\/r-programming\\\\/reading-and-writing-data-to-and-from-r\\\\/\\\\\\\",\\\\\\\"sameAs\\\\\\\":[],\\\\\\\"@id\\\\\\\":\\\\\\\"#organization\\\\\\\",\\\\\\\"name\\\\\\\":\\\\\\\"MAKE ME ANALYST\\\\\\\",\\\\\\\"logo\\\\\\\":\\\\\\\"http:\\\\/\\\\/makemeanalyst.com\\\\/wp-content\\\\/uploads\\\\/2017\\\\/05\\\\/logo2.png\\\\\\\"}</script>\\\"\"                                                                \n",
              "[26] \"\\\"25\\\" \\\"<!-- / Yoast SEO plugin. -->\\\"\"                                                                                                                                                                                                                                                                                                                                                                                                                                                                          \n",
              "[27] \"\\\"26\\\" \\\"\\\"\"                                                                                                                                                                                                                                                                                                                                                                                                                                                                                                      \n",
              "[28] \"\\\"27\\\" \\\"<link rel='dns-prefetch' href='//cdn.datacamp.com' />\\\"\"                                                                                                                                                                                                                                                                                                                                                                                                                                                 \n",
              "[29] \"\\\"28\\\" \\\"<link rel='dns-prefetch' href='//s0.wp.com' />\\\"\"                                                                                                                                                                                                                                                                                                                                                                                                                                                        \n",
              "[30] \"\\\"29\\\" \\\"<link rel='dns-prefetch' href='//s.gravatar.com' />\\\"\"                                                                                                                                                                                                                                                                                                                                                                                                                                                   "
            ],
            "text/latex": "\\begin{enumerate*}\n\\item '\"x\"'\n\\item '\"1\" \"<!DOCTYPE html>\"'\n\\item '\"2\" \"<html lang=\\textbackslash{}\\textbackslash{}\"en-US\\textbackslash{}\\textbackslash{}\" prefix=\\textbackslash{}\\textbackslash{}\"og: http://ogp.me/ns\\#\\textbackslash{}\\textbackslash{}\">\"'\n\\item '\"3\" \"<head>\"'\n\\item '\"4\" \"<meta charset=\\textbackslash{}\\textbackslash{}\"UTF-8\\textbackslash{}\\textbackslash{}\">\"'\n\\item '\"5\" \"<meta name=\\textbackslash{}\\textbackslash{}\"viewport\\textbackslash{}\\textbackslash{}\" content=\\textbackslash{}\\textbackslash{}\"width=device-width, initial-scale=1\\textbackslash{}\\textbackslash{}\">\"'\n\\item '\"6\" \"<link rel=\\textbackslash{}\\textbackslash{}\"profile\\textbackslash{}\\textbackslash{}\" href=\\textbackslash{}\\textbackslash{}\"http://gmpg.org/xfn/11\\textbackslash{}\\textbackslash{}\">\"'\n\\item '\"7\" \"<link rel=\\textbackslash{}\\textbackslash{}\"pingback\\textbackslash{}\\textbackslash{}\" href=\\textbackslash{}\\textbackslash{}\"http://makemeanalyst.com/xmlrpc.php\\textbackslash{}\\textbackslash{}\">\"'\n\\item '\"8\" \"\"'\n\\item '\"9\" \"<title>Reading and Writing Data to and from R - MAKE ME ANALYST</title>\"'\n\\item '\"10\" \"\"'\n\\item '\"11\" \"<!-- This site is optimized with the Yoast SEO plugin v5.3.3 - https://yoast.com/wordpress/plugins/seo/ -->\"'\n\\item '\"12\" \"<meta name=\\textbackslash{}\\textbackslash{}\"description\\textbackslash{}\\textbackslash{}\" content=\\textbackslash{}\\textbackslash{}\"Learn about various functions for Reading and Writing Data into R\\textbackslash{}\\textbackslash{}\"/>\"'\n\\item '\"13\" \"<link rel=\\textbackslash{}\\textbackslash{}\"canonical\\textbackslash{}\\textbackslash{}\" href=\\textbackslash{}\\textbackslash{}\"http://makemeanalyst.com/r-programming/reading-and-writing-data-to-and-from-r/\\textbackslash{}\\textbackslash{}\" />\"'\n\\item '\"14\" \"<meta property=\\textbackslash{}\\textbackslash{}\"og:locale\\textbackslash{}\\textbackslash{}\" content=\\textbackslash{}\\textbackslash{}\"en\\_US\\textbackslash{}\\textbackslash{}\" />\"'\n\\item '\"15\" \"<meta property=\\textbackslash{}\\textbackslash{}\"og:type\\textbackslash{}\\textbackslash{}\" content=\\textbackslash{}\\textbackslash{}\"article\\textbackslash{}\\textbackslash{}\" />\"'\n\\item '\"16\" \"<meta property=\\textbackslash{}\\textbackslash{}\"og:title\\textbackslash{}\\textbackslash{}\" content=\\textbackslash{}\\textbackslash{}\"Reading and Writing Data to and from R - MAKE ME ANALYST\\textbackslash{}\\textbackslash{}\" />\"'\n\\item '\"17\" \"<meta property=\\textbackslash{}\\textbackslash{}\"og:description\\textbackslash{}\\textbackslash{}\" content=\\textbackslash{}\\textbackslash{}\"Learn about various functions for Reading and Writing Data into R\\textbackslash{}\\textbackslash{}\" />\"'\n\\item '\"18\" \"<meta property=\\textbackslash{}\\textbackslash{}\"og:url\\textbackslash{}\\textbackslash{}\" content=\\textbackslash{}\\textbackslash{}\"http://makemeanalyst.com/r-programming/reading-and-writing-data-to-and-from-r/\\textbackslash{}\\textbackslash{}\" />\"'\n\\item '\"19\" \"<meta property=\\textbackslash{}\\textbackslash{}\"og:site\\_name\\textbackslash{}\\textbackslash{}\" content=\\textbackslash{}\\textbackslash{}\"MAKE ME ANALYST\\textbackslash{}\\textbackslash{}\" />\"'\n\\item '\"20\" \"<meta name=\\textbackslash{}\\textbackslash{}\"twitter:card\\textbackslash{}\\textbackslash{}\" content=\\textbackslash{}\\textbackslash{}\"summary\\textbackslash{}\\textbackslash{}\" />\"'\n\\item '\"21\" \"<meta name=\\textbackslash{}\\textbackslash{}\"twitter:description\\textbackslash{}\\textbackslash{}\" content=\\textbackslash{}\\textbackslash{}\"Learn about various functions for Reading and Writing Data into R\\textbackslash{}\\textbackslash{}\" />\"'\n\\item '\"22\" \"<meta name=\\textbackslash{}\\textbackslash{}\"twitter:title\\textbackslash{}\\textbackslash{}\" content=\\textbackslash{}\\textbackslash{}\"Reading and Writing Data to and from R - MAKE ME ANALYST\\textbackslash{}\\textbackslash{}\" />\"'\n\\item '\"23\" \"<script type=\\textbackslash{}'application/ld+json\\textbackslash{}'>\\{\\textbackslash{}\\textbackslash{}\"@context\\textbackslash{}\\textbackslash{}\":\\textbackslash{}\\textbackslash{}\"http:\\textbackslash{}\\textbackslash{}/\\textbackslash{}\\textbackslash{}/schema.org\\textbackslash{}\\textbackslash{}\",\\textbackslash{}\\textbackslash{}\"@type\\textbackslash{}\\textbackslash{}\":\\textbackslash{}\\textbackslash{}\"WebSite\\textbackslash{}\\textbackslash{}\",\\textbackslash{}\\textbackslash{}\"@id\\textbackslash{}\\textbackslash{}\":\\textbackslash{}\\textbackslash{}\"\\#website\\textbackslash{}\\textbackslash{}\",\\textbackslash{}\\textbackslash{}\"url\\textbackslash{}\\textbackslash{}\":\\textbackslash{}\\textbackslash{}\"http:\\textbackslash{}\\textbackslash{}/\\textbackslash{}\\textbackslash{}/makemeanalyst.com\\textbackslash{}\\textbackslash{}/\\textbackslash{}\\textbackslash{}\",\\textbackslash{}\\textbackslash{}\"name\\textbackslash{}\\textbackslash{}\":\\textbackslash{}\\textbackslash{}\"MAKE ME ANALYST\\textbackslash{}\\textbackslash{}\",\\textbackslash{}\\textbackslash{}\"alternateName\\textbackslash{}\\textbackslash{}\":\\textbackslash{}\\textbackslash{}\"MAKE ME ANALYST\\textbackslash{}\\textbackslash{}\",\\textbackslash{}\\textbackslash{}\"potentialAction\\textbackslash{}\\textbackslash{}\":\\{\\textbackslash{}\\textbackslash{}\"@type\\textbackslash{}\\textbackslash{}\":\\textbackslash{}\\textbackslash{}\"SearchAction\\textbackslash{}\\textbackslash{}\",\\textbackslash{}\\textbackslash{}\"target\\textbackslash{}\\textbackslash{}\":\\textbackslash{}\\textbackslash{}\"http:\\textbackslash{}\\textbackslash{}/\\textbackslash{}\\textbackslash{}/makemeanalyst.com\\textbackslash{}\\textbackslash{}/?s=\\{search\\_term\\_string\\}\\textbackslash{}\\textbackslash{}\",\\textbackslash{}\\textbackslash{}\"query-input\\textbackslash{}\\textbackslash{}\":\\textbackslash{}\\textbackslash{}\"required name=search\\_term\\_string\\textbackslash{}\\textbackslash{}\"\\}\\}</script>\"'\n\\item '\"24\" \"<script type=\\textbackslash{}'application/ld+json\\textbackslash{}'>\\{\\textbackslash{}\\textbackslash{}\"@context\\textbackslash{}\\textbackslash{}\":\\textbackslash{}\\textbackslash{}\"http:\\textbackslash{}\\textbackslash{}/\\textbackslash{}\\textbackslash{}/schema.org\\textbackslash{}\\textbackslash{}\",\\textbackslash{}\\textbackslash{}\"@type\\textbackslash{}\\textbackslash{}\":\\textbackslash{}\\textbackslash{}\"Organization\\textbackslash{}\\textbackslash{}\",\\textbackslash{}\\textbackslash{}\"url\\textbackslash{}\\textbackslash{}\":\\textbackslash{}\\textbackslash{}\"http:\\textbackslash{}\\textbackslash{}/\\textbackslash{}\\textbackslash{}/makemeanalyst.com\\textbackslash{}\\textbackslash{}/r-programming\\textbackslash{}\\textbackslash{}/reading-and-writing-data-to-and-from-r\\textbackslash{}\\textbackslash{}/\\textbackslash{}\\textbackslash{}\",\\textbackslash{}\\textbackslash{}\"sameAs\\textbackslash{}\\textbackslash{}\":{[}{]},\\textbackslash{}\\textbackslash{}\"@id\\textbackslash{}\\textbackslash{}\":\\textbackslash{}\\textbackslash{}\"\\#organization\\textbackslash{}\\textbackslash{}\",\\textbackslash{}\\textbackslash{}\"name\\textbackslash{}\\textbackslash{}\":\\textbackslash{}\\textbackslash{}\"MAKE ME ANALYST\\textbackslash{}\\textbackslash{}\",\\textbackslash{}\\textbackslash{}\"logo\\textbackslash{}\\textbackslash{}\":\\textbackslash{}\\textbackslash{}\"http:\\textbackslash{}\\textbackslash{}/\\textbackslash{}\\textbackslash{}/makemeanalyst.com\\textbackslash{}\\textbackslash{}/wp-content\\textbackslash{}\\textbackslash{}/uploads\\textbackslash{}\\textbackslash{}/2017\\textbackslash{}\\textbackslash{}/05\\textbackslash{}\\textbackslash{}/logo2.png\\textbackslash{}\\textbackslash{}\"\\}</script>\"'\n\\item '\"25\" \"<!-- / Yoast SEO plugin. -->\"'\n\\item '\"26\" \"\"'\n\\item '\"27\" \"<link rel=\\textbackslash{}'dns-prefetch\\textbackslash{}' href=\\textbackslash{}'//cdn.datacamp.com\\textbackslash{}' />\"'\n\\item '\"28\" \"<link rel=\\textbackslash{}'dns-prefetch\\textbackslash{}' href=\\textbackslash{}'//s0.wp.com\\textbackslash{}' />\"'\n\\item '\"29\" \"<link rel=\\textbackslash{}'dns-prefetch\\textbackslash{}' href=\\textbackslash{}'//s.gravatar.com\\textbackslash{}' />\"'\n\\end{enumerate*}\n",
            "text/markdown": "1. '\"x\"'\n2. '\"1\" \"&lt;!DOCTYPE html&gt;\"'\n3. '\"2\" \"&lt;html lang=\\\\\"en-US\\\\\" prefix=\\\\\"og: http://ogp.me/ns#\\\\\"&gt;\"'\n4. '\"3\" \"&lt;head&gt;\"'\n5. '\"4\" \"&lt;meta charset=\\\\\"UTF-8\\\\\"&gt;\"'\n6. '\"5\" \"&lt;meta name=\\\\\"viewport\\\\\" content=\\\\\"width=device-width, initial-scale=1\\\\\"&gt;\"'\n7. '\"6\" \"&lt;link rel=\\\\\"profile\\\\\" href=\\\\\"http://gmpg.org/xfn/11\\\\\"&gt;\"'\n8. '\"7\" \"&lt;link rel=\\\\\"pingback\\\\\" href=\\\\\"http://makemeanalyst.com/xmlrpc.php\\\\\"&gt;\"'\n9. '\"8\" \"\"'\n10. '\"9\" \"&lt;title&gt;Reading and Writing Data to and from R - MAKE ME ANALYST&lt;/title&gt;\"'\n11. '\"10\" \"\"'\n12. '\"11\" \"&lt;!-- This site is optimized with the Yoast SEO plugin v5.3.3 - https://yoast.com/wordpress/plugins/seo/ --&gt;\"'\n13. '\"12\" \"&lt;meta name=\\\\\"description\\\\\" content=\\\\\"Learn about various functions for Reading and Writing Data into R\\\\\"/&gt;\"'\n14. '\"13\" \"&lt;link rel=\\\\\"canonical\\\\\" href=\\\\\"http://makemeanalyst.com/r-programming/reading-and-writing-data-to-and-from-r/\\\\\" /&gt;\"'\n15. '\"14\" \"&lt;meta property=\\\\\"og:locale\\\\\" content=\\\\\"en_US\\\\\" /&gt;\"'\n16. '\"15\" \"&lt;meta property=\\\\\"og:type\\\\\" content=\\\\\"article\\\\\" /&gt;\"'\n17. '\"16\" \"&lt;meta property=\\\\\"og:title\\\\\" content=\\\\\"Reading and Writing Data to and from R - MAKE ME ANALYST\\\\\" /&gt;\"'\n18. '\"17\" \"&lt;meta property=\\\\\"og:description\\\\\" content=\\\\\"Learn about various functions for Reading and Writing Data into R\\\\\" /&gt;\"'\n19. '\"18\" \"&lt;meta property=\\\\\"og:url\\\\\" content=\\\\\"http://makemeanalyst.com/r-programming/reading-and-writing-data-to-and-from-r/\\\\\" /&gt;\"'\n20. '\"19\" \"&lt;meta property=\\\\\"og:site_name\\\\\" content=\\\\\"MAKE ME ANALYST\\\\\" /&gt;\"'\n21. '\"20\" \"&lt;meta name=\\\\\"twitter:card\\\\\" content=\\\\\"summary\\\\\" /&gt;\"'\n22. '\"21\" \"&lt;meta name=\\\\\"twitter:description\\\\\" content=\\\\\"Learn about various functions for Reading and Writing Data into R\\\\\" /&gt;\"'\n23. '\"22\" \"&lt;meta name=\\\\\"twitter:title\\\\\" content=\\\\\"Reading and Writing Data to and from R - MAKE ME ANALYST\\\\\" /&gt;\"'\n24. '\"23\" \"&lt;script type=\\'application/ld+json\\'&gt;{\\\\\"@context\\\\\":\\\\\"http:\\\\/\\\\/schema.org\\\\\",\\\\\"@type\\\\\":\\\\\"WebSite\\\\\",\\\\\"@id\\\\\":\\\\\"#website\\\\\",\\\\\"url\\\\\":\\\\\"http:\\\\/\\\\/makemeanalyst.com\\\\/\\\\\",\\\\\"name\\\\\":\\\\\"MAKE ME ANALYST\\\\\",\\\\\"alternateName\\\\\":\\\\\"MAKE ME ANALYST\\\\\",\\\\\"potentialAction\\\\\":{\\\\\"@type\\\\\":\\\\\"SearchAction\\\\\",\\\\\"target\\\\\":\\\\\"http:\\\\/\\\\/makemeanalyst.com\\\\/?s={search_term_string}\\\\\",\\\\\"query-input\\\\\":\\\\\"required name=search_term_string\\\\\"}}&lt;/script&gt;\"'\n25. '\"24\" \"&lt;script type=\\'application/ld+json\\'&gt;{\\\\\"@context\\\\\":\\\\\"http:\\\\/\\\\/schema.org\\\\\",\\\\\"@type\\\\\":\\\\\"Organization\\\\\",\\\\\"url\\\\\":\\\\\"http:\\\\/\\\\/makemeanalyst.com\\\\/r-programming\\\\/reading-and-writing-data-to-and-from-r\\\\/\\\\\",\\\\\"sameAs\\\\\":[],\\\\\"@id\\\\\":\\\\\"#organization\\\\\",\\\\\"name\\\\\":\\\\\"MAKE ME ANALYST\\\\\",\\\\\"logo\\\\\":\\\\\"http:\\\\/\\\\/makemeanalyst.com\\\\/wp-content\\\\/uploads\\\\/2017\\\\/05\\\\/logo2.png\\\\\"}&lt;/script&gt;\"'\n26. '\"25\" \"&lt;!-- / Yoast SEO plugin. --&gt;\"'\n27. '\"26\" \"\"'\n28. '\"27\" \"&lt;link rel=\\'dns-prefetch\\' href=\\'//cdn.datacamp.com\\' /&gt;\"'\n29. '\"28\" \"&lt;link rel=\\'dns-prefetch\\' href=\\'//s0.wp.com\\' /&gt;\"'\n30. '\"29\" \"&lt;link rel=\\'dns-prefetch\\' href=\\'//s.gravatar.com\\' /&gt;\"'\n\n\n",
            "text/html": [
              "<ol class=list-inline>\n",
              "\t<li>'\"x\"'</li>\n",
              "\t<li>'\"1\" \"&lt;!DOCTYPE html&gt;\"'</li>\n",
              "\t<li>'\"2\" \"&lt;html lang=\\\\\"en-US\\\\\" prefix=\\\\\"og: http://ogp.me/ns#\\\\\"&gt;\"'</li>\n",
              "\t<li>'\"3\" \"&lt;head&gt;\"'</li>\n",
              "\t<li>'\"4\" \"&lt;meta charset=\\\\\"UTF-8\\\\\"&gt;\"'</li>\n",
              "\t<li>'\"5\" \"&lt;meta name=\\\\\"viewport\\\\\" content=\\\\\"width=device-width, initial-scale=1\\\\\"&gt;\"'</li>\n",
              "\t<li>'\"6\" \"&lt;link rel=\\\\\"profile\\\\\" href=\\\\\"http://gmpg.org/xfn/11\\\\\"&gt;\"'</li>\n",
              "\t<li>'\"7\" \"&lt;link rel=\\\\\"pingback\\\\\" href=\\\\\"http://makemeanalyst.com/xmlrpc.php\\\\\"&gt;\"'</li>\n",
              "\t<li>'\"8\" \"\"'</li>\n",
              "\t<li>'\"9\" \"&lt;title&gt;Reading and Writing Data to and from R - MAKE ME ANALYST&lt;/title&gt;\"'</li>\n",
              "\t<li>'\"10\" \"\"'</li>\n",
              "\t<li>'\"11\" \"&lt;!-- This site is optimized with the Yoast SEO plugin v5.3.3 - https://yoast.com/wordpress/plugins/seo/ --&gt;\"'</li>\n",
              "\t<li>'\"12\" \"&lt;meta name=\\\\\"description\\\\\" content=\\\\\"Learn about various functions for Reading and Writing Data into R\\\\\"/&gt;\"'</li>\n",
              "\t<li>'\"13\" \"&lt;link rel=\\\\\"canonical\\\\\" href=\\\\\"http://makemeanalyst.com/r-programming/reading-and-writing-data-to-and-from-r/\\\\\" /&gt;\"'</li>\n",
              "\t<li>'\"14\" \"&lt;meta property=\\\\\"og:locale\\\\\" content=\\\\\"en_US\\\\\" /&gt;\"'</li>\n",
              "\t<li>'\"15\" \"&lt;meta property=\\\\\"og:type\\\\\" content=\\\\\"article\\\\\" /&gt;\"'</li>\n",
              "\t<li>'\"16\" \"&lt;meta property=\\\\\"og:title\\\\\" content=\\\\\"Reading and Writing Data to and from R - MAKE ME ANALYST\\\\\" /&gt;\"'</li>\n",
              "\t<li>'\"17\" \"&lt;meta property=\\\\\"og:description\\\\\" content=\\\\\"Learn about various functions for Reading and Writing Data into R\\\\\" /&gt;\"'</li>\n",
              "\t<li>'\"18\" \"&lt;meta property=\\\\\"og:url\\\\\" content=\\\\\"http://makemeanalyst.com/r-programming/reading-and-writing-data-to-and-from-r/\\\\\" /&gt;\"'</li>\n",
              "\t<li>'\"19\" \"&lt;meta property=\\\\\"og:site_name\\\\\" content=\\\\\"MAKE ME ANALYST\\\\\" /&gt;\"'</li>\n",
              "\t<li>'\"20\" \"&lt;meta name=\\\\\"twitter:card\\\\\" content=\\\\\"summary\\\\\" /&gt;\"'</li>\n",
              "\t<li>'\"21\" \"&lt;meta name=\\\\\"twitter:description\\\\\" content=\\\\\"Learn about various functions for Reading and Writing Data into R\\\\\" /&gt;\"'</li>\n",
              "\t<li>'\"22\" \"&lt;meta name=\\\\\"twitter:title\\\\\" content=\\\\\"Reading and Writing Data to and from R - MAKE ME ANALYST\\\\\" /&gt;\"'</li>\n",
              "\t<li>'\"23\" \"&lt;script type=\\'application/ld+json\\'&gt;{\\\\\"@context\\\\\":\\\\\"http:\\\\/\\\\/schema.org\\\\\",\\\\\"@type\\\\\":\\\\\"WebSite\\\\\",\\\\\"@id\\\\\":\\\\\"#website\\\\\",\\\\\"url\\\\\":\\\\\"http:\\\\/\\\\/makemeanalyst.com\\\\/\\\\\",\\\\\"name\\\\\":\\\\\"MAKE ME ANALYST\\\\\",\\\\\"alternateName\\\\\":\\\\\"MAKE ME ANALYST\\\\\",\\\\\"potentialAction\\\\\":{\\\\\"@type\\\\\":\\\\\"SearchAction\\\\\",\\\\\"target\\\\\":\\\\\"http:\\\\/\\\\/makemeanalyst.com\\\\/?s={search_term_string}\\\\\",\\\\\"query-input\\\\\":\\\\\"required name=search_term_string\\\\\"}}&lt;/script&gt;\"'</li>\n",
              "\t<li>'\"24\" \"&lt;script type=\\'application/ld+json\\'&gt;{\\\\\"@context\\\\\":\\\\\"http:\\\\/\\\\/schema.org\\\\\",\\\\\"@type\\\\\":\\\\\"Organization\\\\\",\\\\\"url\\\\\":\\\\\"http:\\\\/\\\\/makemeanalyst.com\\\\/r-programming\\\\/reading-and-writing-data-to-and-from-r\\\\/\\\\\",\\\\\"sameAs\\\\\":[],\\\\\"@id\\\\\":\\\\\"#organization\\\\\",\\\\\"name\\\\\":\\\\\"MAKE ME ANALYST\\\\\",\\\\\"logo\\\\\":\\\\\"http:\\\\/\\\\/makemeanalyst.com\\\\/wp-content\\\\/uploads\\\\/2017\\\\/05\\\\/logo2.png\\\\\"}&lt;/script&gt;\"'</li>\n",
              "\t<li>'\"25\" \"&lt;!-- / Yoast SEO plugin. --&gt;\"'</li>\n",
              "\t<li>'\"26\" \"\"'</li>\n",
              "\t<li>'\"27\" \"&lt;link rel=\\'dns-prefetch\\' href=\\'//cdn.datacamp.com\\' /&gt;\"'</li>\n",
              "\t<li>'\"28\" \"&lt;link rel=\\'dns-prefetch\\' href=\\'//s0.wp.com\\' /&gt;\"'</li>\n",
              "\t<li>'\"29\" \"&lt;link rel=\\'dns-prefetch\\' href=\\'//s.gravatar.com\\' /&gt;\"'</li>\n",
              "</ol>\n"
            ]
          },
          "metadata": {
            "tags": []
          }
        }
      ]
    },
    {
      "cell_type": "code",
      "metadata": {
        "id": "yKXXC9zpTqm7",
        "colab_type": "code",
        "colab": {}
      },
      "source": [
        "close(con2)"
      ],
      "execution_count": 0,
      "outputs": []
    },
    {
      "cell_type": "code",
      "metadata": {
        "id": "cRO9DJ9oTqlS",
        "colab_type": "code",
        "colab": {}
      },
      "source": [
        ""
      ],
      "execution_count": 0,
      "outputs": []
    },
    {
      "cell_type": "code",
      "metadata": {
        "id": "kTrMzr_FQSmo",
        "colab_type": "code",
        "colab": {}
      },
      "source": [
        "y<- data.frame(name=\"shital\",age=30)"
      ],
      "execution_count": 0,
      "outputs": []
    },
    {
      "cell_type": "code",
      "metadata": {
        "id": "7RpGj87DT_3s",
        "colab_type": "code",
        "colab": {
          "base_uri": "https://localhost:8080/",
          "height": 51
        },
        "outputId": "d32ed806-529a-4b9e-b474-0603fcf4d4bd"
      },
      "source": [
        "dput(y)"
      ],
      "execution_count": 72,
      "outputs": [
        {
          "output_type": "stream",
          "text": [
            "structure(list(name = structure(1L, .Label = \"shital\", class = \"factor\"), \n",
            "    age = 30), class = \"data.frame\", row.names = c(NA, -1L))\n"
          ],
          "name": "stdout"
        }
      ]
    },
    {
      "cell_type": "code",
      "metadata": {
        "id": "cKi7kvhkRnzb",
        "colab_type": "code",
        "colab": {
          "base_uri": "https://localhost:8080/",
          "height": 34
        },
        "outputId": "68c53ccc-7a93-43eb-f663-59e9628106c2"
      },
      "source": [
        "file.create(\"temp.txt\")"
      ],
      "execution_count": 73,
      "outputs": [
        {
          "output_type": "display_data",
          "data": {
            "text/plain": [
              "[1] TRUE"
            ],
            "text/latex": "TRUE",
            "text/markdown": "TRUE",
            "text/html": [
              "TRUE"
            ]
          },
          "metadata": {
            "tags": []
          }
        }
      ]
    },
    {
      "cell_type": "code",
      "metadata": {
        "id": "RU0E3MqcRnxx",
        "colab_type": "code",
        "colab": {}
      },
      "source": [
        "con<- file(\"temp.txt\")"
      ],
      "execution_count": 0,
      "outputs": []
    },
    {
      "cell_type": "code",
      "metadata": {
        "id": "oEti_n99Tz26",
        "colab_type": "code",
        "colab": {}
      },
      "source": [
        "open(con,\"a\")"
      ],
      "execution_count": 0,
      "outputs": []
    },
    {
      "cell_type": "code",
      "metadata": {
        "id": "Ob9n5Sp6T0KC",
        "colab_type": "code",
        "colab": {}
      },
      "source": [
        "dput(y,file = \"temp.txt\")"
      ],
      "execution_count": 0,
      "outputs": []
    },
    {
      "cell_type": "code",
      "metadata": {
        "id": "btuCi0OTTz1h",
        "colab_type": "code",
        "colab": {}
      },
      "source": [
        "d<- readLines(\"temp.txt\")"
      ],
      "execution_count": 0,
      "outputs": []
    },
    {
      "cell_type": "code",
      "metadata": {
        "id": "9ON0OCMeQ845",
        "colab_type": "code",
        "colab": {
          "base_uri": "https://localhost:8080/",
          "height": 79
        },
        "outputId": "e6409c72-0ba3-47f4-ab18-b875ad8915da"
      },
      "source": [
        "d"
      ],
      "execution_count": 78,
      "outputs": [
        {
          "output_type": "display_data",
          "data": {
            "text/plain": [
              "[1] \"structure(list(name = structure(1L, .Label = \\\"shital\\\", class = \\\"factor\\\"), \"\n",
              "[2] \"    age = 30), class = \\\"data.frame\\\", row.names = c(NA, -1L))\"                "
            ],
            "text/latex": "\\begin{enumerate*}\n\\item 'structure(list(name = structure(1L, .Label = \"shital\", class = \"factor\"), '\n\\item '    age = 30), class = \"data.frame\", row.names = c(NA, -1L))'\n\\end{enumerate*}\n",
            "text/markdown": "1. 'structure(list(name = structure(1L, .Label = \"shital\", class = \"factor\"), '\n2. <span style=white-space:pre-wrap>'    age = 30), class = \"data.frame\", row.names = c(NA, -1L))'</span>\n\n\n",
            "text/html": [
              "<ol class=list-inline>\n",
              "\t<li>'structure(list(name = structure(1L, .Label = \"shital\", class = \"factor\"), '</li>\n",
              "\t<li><span style=white-space:pre-wrap>'    age = 30), class = \"data.frame\", row.names = c(NA, -1L))'</span></li>\n",
              "</ol>\n"
            ]
          },
          "metadata": {
            "tags": []
          }
        }
      ]
    },
    {
      "cell_type": "code",
      "metadata": {
        "id": "q1JuC2OERCdg",
        "colab_type": "code",
        "colab": {}
      },
      "source": [
        ""
      ],
      "execution_count": 0,
      "outputs": []
    },
    {
      "cell_type": "code",
      "metadata": {
        "id": "ZeriM7iyRQKX",
        "colab_type": "code",
        "colab": {}
      },
      "source": [
        "z<- dget(\"temp.txt\")"
      ],
      "execution_count": 0,
      "outputs": []
    },
    {
      "cell_type": "code",
      "metadata": {
        "id": "2RVn6K1RUoAv",
        "colab_type": "code",
        "colab": {
          "base_uri": "https://localhost:8080/",
          "height": 116
        },
        "outputId": "1857f0e2-46a9-4b36-f2c2-1c96f8cc523e"
      },
      "source": [
        "z"
      ],
      "execution_count": 81,
      "outputs": [
        {
          "output_type": "display_data",
          "data": {
            "text/plain": [
              "  name   age\n",
              "1 shital 30 "
            ],
            "text/latex": "A data.frame: 1 × 2\n\\begin{tabular}{ll}\n name & age\\\\\n <fct> & <dbl>\\\\\n\\hline\n\t shital & 30\\\\\n\\end{tabular}\n",
            "text/markdown": "\nA data.frame: 1 × 2\n\n| name &lt;fct&gt; | age &lt;dbl&gt; |\n|---|---|\n| shital | 30 |\n\n",
            "text/html": [
              "<table>\n",
              "<caption>A data.frame: 1 × 2</caption>\n",
              "<thead>\n",
              "\t<tr><th scope=col>name</th><th scope=col>age</th></tr>\n",
              "\t<tr><th scope=col>&lt;fct&gt;</th><th scope=col>&lt;dbl&gt;</th></tr>\n",
              "</thead>\n",
              "<tbody>\n",
              "\t<tr><td>shital</td><td>30</td></tr>\n",
              "</tbody>\n",
              "</table>\n"
            ]
          },
          "metadata": {
            "tags": []
          }
        }
      ]
    },
    {
      "cell_type": "code",
      "metadata": {
        "id": "Huz-pFECVcMD",
        "colab_type": "code",
        "colab": {}
      },
      "source": [
        "close(con)"
      ],
      "execution_count": 0,
      "outputs": []
    },
    {
      "cell_type": "code",
      "metadata": {
        "id": "DvdEyswtVcJ5",
        "colab_type": "code",
        "colab": {}
      },
      "source": [
        "x<- 1:10"
      ],
      "execution_count": 0,
      "outputs": []
    },
    {
      "cell_type": "code",
      "metadata": {
        "id": "C8Bzyzl-ViHo",
        "colab_type": "code",
        "colab": {}
      },
      "source": [
        "d<- data.frame(Name=\"Shital\",Age=30,Gender=\"Female\")"
      ],
      "execution_count": 0,
      "outputs": []
    },
    {
      "cell_type": "code",
      "metadata": {
        "id": "fSsekxD9ViGP",
        "colab_type": "code",
        "colab": {
          "base_uri": "https://localhost:8080/",
          "height": 34
        },
        "outputId": "5e092469-3dad-4954-897d-6ddd413fb2d6"
      },
      "source": [
        "file.create(\"dump.txt\")"
      ],
      "execution_count": 85,
      "outputs": [
        {
          "output_type": "display_data",
          "data": {
            "text/plain": [
              "[1] TRUE"
            ],
            "text/latex": "TRUE",
            "text/markdown": "TRUE",
            "text/html": [
              "TRUE"
            ]
          },
          "metadata": {
            "tags": []
          }
        }
      ]
    },
    {
      "cell_type": "code",
      "metadata": {
        "id": "5bF9gSV2UowO",
        "colab_type": "code",
        "colab": {}
      },
      "source": [
        "dump(c(\"x\",\"d\"),file=\"dump.txt\")"
      ],
      "execution_count": 0,
      "outputs": []
    },
    {
      "cell_type": "code",
      "metadata": {
        "id": "1_iWIxA-Vg33",
        "colab_type": "code",
        "colab": {}
      },
      "source": [
        "rm(x,d) # after dump just remove the x and d from environment "
      ],
      "execution_count": 0,
      "outputs": []
    },
    {
      "cell_type": "code",
      "metadata": {
        "id": "4PvdrzzQWdf7",
        "colab_type": "code",
        "colab": {
          "base_uri": "https://localhost:8080/",
          "height": 95
        },
        "outputId": "b3a45b37-e95f-4cfe-c9de-5dbd8a91034a"
      },
      "source": [
        " x # now x is not available"
      ],
      "execution_count": 88,
      "outputs": [
        {
          "output_type": "error",
          "ename": "ERROR",
          "evalue": "ignored",
          "traceback": [
            "Error in eval(expr, envir, enclos): object 'x' not found\nTraceback:\n"
          ]
        }
      ]
    },
    {
      "cell_type": "code",
      "metadata": {
        "id": "oF98u9iDWdeV",
        "colab_type": "code",
        "colab": {
          "base_uri": "https://localhost:8080/",
          "height": 95
        },
        "outputId": "15e0e829-e12f-4dd9-f7fa-e61950edf910"
      },
      "source": [
        "d # now d is not available"
      ],
      "execution_count": 89,
      "outputs": [
        {
          "output_type": "error",
          "ename": "ERROR",
          "evalue": "ignored",
          "traceback": [
            "Error in eval(expr, envir, enclos): object 'd' not found\nTraceback:\n"
          ]
        }
      ]
    },
    {
      "cell_type": "code",
      "metadata": {
        "id": "yA7GFHL8Vg2R",
        "colab_type": "code",
        "colab": {}
      },
      "source": [
        "source(\"dump.txt\") # inverse the dump() and make x and d available to enviornment "
      ],
      "execution_count": 0,
      "outputs": []
    },
    {
      "cell_type": "code",
      "metadata": {
        "id": "p9GbGAvqVBs-",
        "colab_type": "code",
        "colab": {
          "base_uri": "https://localhost:8080/",
          "height": 215
        },
        "outputId": "64d0839f-4845-42a6-bcb7-2fd56e9b5777"
      },
      "source": [
        "x"
      ],
      "execution_count": 91,
      "outputs": [
        {
          "output_type": "display_data",
          "data": {
            "text/plain": [
              " [1]  1  2  3  4  5  6  7  8  9 10"
            ],
            "text/latex": "\\begin{enumerate*}\n\\item 1\n\\item 2\n\\item 3\n\\item 4\n\\item 5\n\\item 6\n\\item 7\n\\item 8\n\\item 9\n\\item 10\n\\end{enumerate*}\n",
            "text/markdown": "1. 1\n2. 2\n3. 3\n4. 4\n5. 5\n6. 6\n7. 7\n8. 8\n9. 9\n10. 10\n\n\n",
            "text/html": [
              "<ol class=list-inline>\n",
              "\t<li>1</li>\n",
              "\t<li>2</li>\n",
              "\t<li>3</li>\n",
              "\t<li>4</li>\n",
              "\t<li>5</li>\n",
              "\t<li>6</li>\n",
              "\t<li>7</li>\n",
              "\t<li>8</li>\n",
              "\t<li>9</li>\n",
              "\t<li>10</li>\n",
              "</ol>\n"
            ]
          },
          "metadata": {
            "tags": []
          }
        }
      ]
    },
    {
      "cell_type": "code",
      "metadata": {
        "id": "38tzfOHCWYgI",
        "colab_type": "code",
        "colab": {
          "base_uri": "https://localhost:8080/",
          "height": 99
        },
        "outputId": "378a95ab-1042-43b9-b5a3-a4e4e6d005a7"
      },
      "source": [
        "d"
      ],
      "execution_count": 92,
      "outputs": [
        {
          "output_type": "display_data",
          "data": {
            "text/plain": [
              "  Name   Age Gender\n",
              "1 Shital 30  Female"
            ],
            "text/latex": "A data.frame: 1 × 3\n\\begin{tabular}{lll}\n Name & Age & Gender\\\\\n <fct> & <dbl> & <fct>\\\\\n\\hline\n\t Shital & 30 & Female\\\\\n\\end{tabular}\n",
            "text/markdown": "\nA data.frame: 1 × 3\n\n| Name &lt;fct&gt; | Age &lt;dbl&gt; | Gender &lt;fct&gt; |\n|---|---|---|\n| Shital | 30 | Female |\n\n",
            "text/html": [
              "<table>\n",
              "<caption>A data.frame: 1 × 3</caption>\n",
              "<thead>\n",
              "\t<tr><th scope=col>Name</th><th scope=col>Age</th><th scope=col>Gender</th></tr>\n",
              "\t<tr><th scope=col>&lt;fct&gt;</th><th scope=col>&lt;dbl&gt;</th><th scope=col>&lt;fct&gt;</th></tr>\n",
              "</thead>\n",
              "<tbody>\n",
              "\t<tr><td>Shital</td><td>30</td><td>Female</td></tr>\n",
              "</tbody>\n",
              "</table>\n"
            ]
          },
          "metadata": {
            "tags": []
          }
        }
      ]
    },
    {
      "cell_type": "code",
      "metadata": {
        "id": "hLTbBGu7WZ4C",
        "colab_type": "code",
        "colab": {}
      },
      "source": [
        "ab<- c(123,12,34,4)"
      ],
      "execution_count": 0,
      "outputs": []
    },
    {
      "cell_type": "code",
      "metadata": {
        "id": "CoyNNwr_YODs",
        "colab_type": "code",
        "colab": {}
      },
      "source": [
        "cd<-data.frame(sr=1,subject=\"R\")"
      ],
      "execution_count": 0,
      "outputs": []
    },
    {
      "cell_type": "code",
      "metadata": {
        "id": "QiGhoHkaYXnd",
        "colab_type": "code",
        "colab": {}
      },
      "source": [
        "save(ab,cd,file=\"dump.txt\")"
      ],
      "execution_count": 0,
      "outputs": []
    },
    {
      "cell_type": "code",
      "metadata": {
        "id": "oHQfwMo3Yfi-",
        "colab_type": "code",
        "colab": {}
      },
      "source": [
        "load(\"dump.txt\")"
      ],
      "execution_count": 0,
      "outputs": []
    },
    {
      "cell_type": "code",
      "metadata": {
        "id": "wsFmD4DBYnp1",
        "colab_type": "code",
        "colab": {}
      },
      "source": [
        ""
      ],
      "execution_count": 0,
      "outputs": []
    }
  ]
}