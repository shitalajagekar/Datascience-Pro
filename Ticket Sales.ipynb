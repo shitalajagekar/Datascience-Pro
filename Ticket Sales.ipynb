{
 "cells": [
  {
   "cell_type": "code",
   "execution_count": 16,
   "metadata": {},
   "outputs": [],
   "source": [
    "sales <- read.csv(\"https://raw.githubusercontent.com/hannansatopay/DSML-R/master/sales.csv\", stringsAsFactors = FALSE)"
   ]
  },
  {
   "cell_type": "code",
   "execution_count": 17,
   "metadata": {},
   "outputs": [
    {
     "data": {
      "text/html": [
       "<table>\n",
       "<thead><tr><th scope=col>X</th><th scope=col>event_id</th><th scope=col>primary_act_id</th><th scope=col>secondary_act_id</th><th scope=col>purch_party_lkup_id</th><th scope=col>event_name</th><th scope=col>primary_act_name</th><th scope=col>secondary_act_name</th><th scope=col>major_cat_name</th><th scope=col>minor_cat_name</th><th scope=col>...</th><th scope=col>edu_1st_indv_val</th><th scope=col>edu_2nd_indv_val</th><th scope=col>adults_in_hh_num</th><th scope=col>married_ind</th><th scope=col>child_present_ind</th><th scope=col>home_owner_ind</th><th scope=col>occpn_val</th><th scope=col>occpn_1st_val</th><th scope=col>occpn_2nd_val</th><th scope=col>dist_to_ven</th></tr></thead>\n",
       "<tbody>\n",
       "\t<tr><td>1                                                             </td><td>abcaf1adb99a935fc661                                          </td><td>43f0436b905bfa7c2eec                                          </td><td>b85143bf51323b72e53c                                          </td><td>7dfa56dd7d5956b17587                                          </td><td>Xfinity Center Mansfield Premier Parking: Florida Georgia Line</td><td>XFINITY Center Mansfield Premier Parking                      </td><td>NULL                                                          </td><td>MISC                                                          </td><td>PARKING                                                       </td><td>...                                                           </td><td>NA                                                            </td><td>NA                                                            </td><td>NA                                                            </td><td>NA                                                            </td><td>NA                                                            </td><td>NA                                                            </td><td>NA                                                            </td><td>NA                                                            </td><td>NA                                                            </td><td>NA                                                            </td></tr>\n",
       "\t<tr><td>2                                                             </td><td>6c56d7f08c95f2aa453c                                          </td><td>1a3e9aecd0617706a794                                          </td><td>f53529c5679ea6ca5a48                                          </td><td>4f9e6fc637eaf7b736c2                                          </td><td>Gorge Camping - dave matthews band - sept 3-7                 </td><td>Gorge Camping                                                 </td><td>Dave Matthews Band                                            </td><td>MISC                                                          </td><td>CAMPING                                                       </td><td>...                                                           </td><td>NA                                                            </td><td>NA                                                            </td><td>NA                                                            </td><td>NA                                                            </td><td>NA                                                            </td><td>NA                                                            </td><td>NA                                                            </td><td>NA                                                            </td><td>NA                                                            </td><td>59                                                            </td></tr>\n",
       "\t<tr><td>3                                                             </td><td>c7ab4524a121f9d687d2                                          </td><td>4b677c3f5bec71eec8d1                                          </td><td>b85143bf51323b72e53c                                          </td><td>6c2545703bd527a7144d                                          </td><td>Dodge Theatre Adams Street Parking - benise                   </td><td>Parking Event                                                 </td><td>NULL                                                          </td><td>MISC                                                          </td><td>PARKING                                                       </td><td>...                                                           </td><td>NA                                                            </td><td>NA                                                            </td><td>NA                                                            </td><td>NA                                                            </td><td>NA                                                            </td><td>NA                                                            </td><td>NA                                                            </td><td>NA                                                            </td><td>NA                                                            </td><td>NA                                                            </td></tr>\n",
       "</tbody>\n",
       "</table>\n"
      ],
      "text/latex": [
       "\\begin{tabular}{r|llllllllllllllllllllllllllllllllllllllllllllll}\n",
       " X & event\\_id & primary\\_act\\_id & secondary\\_act\\_id & purch\\_party\\_lkup\\_id & event\\_name & primary\\_act\\_name & secondary\\_act\\_name & major\\_cat\\_name & minor\\_cat\\_name & ... & edu\\_1st\\_indv\\_val & edu\\_2nd\\_indv\\_val & adults\\_in\\_hh\\_num & married\\_ind & child\\_present\\_ind & home\\_owner\\_ind & occpn\\_val & occpn\\_1st\\_val & occpn\\_2nd\\_val & dist\\_to\\_ven\\\\\n",
       "\\hline\n",
       "\t 1                                                              & abcaf1adb99a935fc661                                           & 43f0436b905bfa7c2eec                                           & b85143bf51323b72e53c                                           & 7dfa56dd7d5956b17587                                           & Xfinity Center Mansfield Premier Parking: Florida Georgia Line & XFINITY Center Mansfield Premier Parking                       & NULL                                                           & MISC                                                           & PARKING                                                        & ...                                                            & NA                                                             & NA                                                             & NA                                                             & NA                                                             & NA                                                             & NA                                                             & NA                                                             & NA                                                             & NA                                                             & NA                                                            \\\\\n",
       "\t 2                                                              & 6c56d7f08c95f2aa453c                                           & 1a3e9aecd0617706a794                                           & f53529c5679ea6ca5a48                                           & 4f9e6fc637eaf7b736c2                                           & Gorge Camping - dave matthews band - sept 3-7                  & Gorge Camping                                                  & Dave Matthews Band                                             & MISC                                                           & CAMPING                                                        & ...                                                            & NA                                                             & NA                                                             & NA                                                             & NA                                                             & NA                                                             & NA                                                             & NA                                                             & NA                                                             & NA                                                             & 59                                                            \\\\\n",
       "\t 3                                                              & c7ab4524a121f9d687d2                                           & 4b677c3f5bec71eec8d1                                           & b85143bf51323b72e53c                                           & 6c2545703bd527a7144d                                           & Dodge Theatre Adams Street Parking - benise                    & Parking Event                                                  & NULL                                                           & MISC                                                           & PARKING                                                        & ...                                                            & NA                                                             & NA                                                             & NA                                                             & NA                                                             & NA                                                             & NA                                                             & NA                                                             & NA                                                             & NA                                                             & NA                                                            \\\\\n",
       "\\end{tabular}\n"
      ],
      "text/markdown": [
       "\n",
       "| X | event_id | primary_act_id | secondary_act_id | purch_party_lkup_id | event_name | primary_act_name | secondary_act_name | major_cat_name | minor_cat_name | ... | edu_1st_indv_val | edu_2nd_indv_val | adults_in_hh_num | married_ind | child_present_ind | home_owner_ind | occpn_val | occpn_1st_val | occpn_2nd_val | dist_to_ven |\n",
       "|---|---|---|---|---|---|---|---|---|---|---|---|---|---|---|---|---|---|---|---|---|\n",
       "| 1                                                              | abcaf1adb99a935fc661                                           | 43f0436b905bfa7c2eec                                           | b85143bf51323b72e53c                                           | 7dfa56dd7d5956b17587                                           | Xfinity Center Mansfield Premier Parking: Florida Georgia Line | XFINITY Center Mansfield Premier Parking                       | NULL                                                           | MISC                                                           | PARKING                                                        | ...                                                            | NA                                                             | NA                                                             | NA                                                             | NA                                                             | NA                                                             | NA                                                             | NA                                                             | NA                                                             | NA                                                             | NA                                                             |\n",
       "| 2                                                              | 6c56d7f08c95f2aa453c                                           | 1a3e9aecd0617706a794                                           | f53529c5679ea6ca5a48                                           | 4f9e6fc637eaf7b736c2                                           | Gorge Camping - dave matthews band - sept 3-7                  | Gorge Camping                                                  | Dave Matthews Band                                             | MISC                                                           | CAMPING                                                        | ...                                                            | NA                                                             | NA                                                             | NA                                                             | NA                                                             | NA                                                             | NA                                                             | NA                                                             | NA                                                             | NA                                                             | 59                                                             |\n",
       "| 3                                                              | c7ab4524a121f9d687d2                                           | 4b677c3f5bec71eec8d1                                           | b85143bf51323b72e53c                                           | 6c2545703bd527a7144d                                           | Dodge Theatre Adams Street Parking - benise                    | Parking Event                                                  | NULL                                                           | MISC                                                           | PARKING                                                        | ...                                                            | NA                                                             | NA                                                             | NA                                                             | NA                                                             | NA                                                             | NA                                                             | NA                                                             | NA                                                             | NA                                                             | NA                                                             |\n",
       "\n"
      ],
      "text/plain": [
       "  X event_id             primary_act_id       secondary_act_id    \n",
       "1 1 abcaf1adb99a935fc661 43f0436b905bfa7c2eec b85143bf51323b72e53c\n",
       "2 2 6c56d7f08c95f2aa453c 1a3e9aecd0617706a794 f53529c5679ea6ca5a48\n",
       "3 3 c7ab4524a121f9d687d2 4b677c3f5bec71eec8d1 b85143bf51323b72e53c\n",
       "  purch_party_lkup_id \n",
       "1 7dfa56dd7d5956b17587\n",
       "2 4f9e6fc637eaf7b736c2\n",
       "3 6c2545703bd527a7144d\n",
       "  event_name                                                    \n",
       "1 Xfinity Center Mansfield Premier Parking: Florida Georgia Line\n",
       "2 Gorge Camping - dave matthews band - sept 3-7                 \n",
       "3 Dodge Theatre Adams Street Parking - benise                   \n",
       "  primary_act_name                         secondary_act_name major_cat_name\n",
       "1 XFINITY Center Mansfield Premier Parking NULL               MISC          \n",
       "2 Gorge Camping                            Dave Matthews Band MISC          \n",
       "3 Parking Event                            NULL               MISC          \n",
       "  minor_cat_name ... edu_1st_indv_val edu_2nd_indv_val adults_in_hh_num\n",
       "1 PARKING        ... NA               NA               NA              \n",
       "2 CAMPING        ... NA               NA               NA              \n",
       "3 PARKING        ... NA               NA               NA              \n",
       "  married_ind child_present_ind home_owner_ind occpn_val occpn_1st_val\n",
       "1 NA          NA                NA             NA        NA           \n",
       "2 NA          NA                NA             NA        NA           \n",
       "3 NA          NA                NA             NA        NA           \n",
       "  occpn_2nd_val dist_to_ven\n",
       "1 NA            NA         \n",
       "2 NA            59         \n",
       "3 NA            NA         "
      ]
     },
     "metadata": {},
     "output_type": "display_data"
    }
   ],
   "source": [
    "head(sales, n = 3)"
   ]
  },
  {
   "cell_type": "code",
   "execution_count": 18,
   "metadata": {},
   "outputs": [
    {
     "data": {
      "text/html": [
       "<ol class=list-inline>\n",
       "\t<li>5000</li>\n",
       "\t<li>46</li>\n",
       "</ol>\n"
      ],
      "text/latex": [
       "\\begin{enumerate*}\n",
       "\\item 5000\n",
       "\\item 46\n",
       "\\end{enumerate*}\n"
      ],
      "text/markdown": [
       "1. 5000\n",
       "2. 46\n",
       "\n",
       "\n"
      ],
      "text/plain": [
       "[1] 5000   46"
      ]
     },
     "metadata": {},
     "output_type": "display_data"
    }
   ],
   "source": [
    "dim(sales)"
   ]
  },
  {
   "cell_type": "code",
   "execution_count": 19,
   "metadata": {},
   "outputs": [
    {
     "data": {
      "text/html": [
       "<ol class=list-inline>\n",
       "\t<li>'X'</li>\n",
       "\t<li>'event_id'</li>\n",
       "\t<li>'primary_act_id'</li>\n",
       "\t<li>'secondary_act_id'</li>\n",
       "\t<li>'purch_party_lkup_id'</li>\n",
       "\t<li>'event_name'</li>\n",
       "\t<li>'primary_act_name'</li>\n",
       "\t<li>'secondary_act_name'</li>\n",
       "\t<li>'major_cat_name'</li>\n",
       "\t<li>'minor_cat_name'</li>\n",
       "\t<li>'la_event_type_cat'</li>\n",
       "\t<li>'event_disp_name'</li>\n",
       "\t<li>'ticket_text'</li>\n",
       "\t<li>'tickets_purchased_qty'</li>\n",
       "\t<li>'trans_face_val_amt'</li>\n",
       "\t<li>'delivery_type_cd'</li>\n",
       "\t<li>'event_date_time'</li>\n",
       "\t<li>'event_dt'</li>\n",
       "\t<li>'presale_dt'</li>\n",
       "\t<li>'onsale_dt'</li>\n",
       "\t<li>'sales_ord_create_dttm'</li>\n",
       "\t<li>'sales_ord_tran_dt'</li>\n",
       "\t<li>'print_dt'</li>\n",
       "\t<li>'timezn_nm'</li>\n",
       "\t<li>'venue_city'</li>\n",
       "\t<li>'venue_state'</li>\n",
       "\t<li>'venue_postal_cd_sgmt_1'</li>\n",
       "\t<li>'sales_platform_cd'</li>\n",
       "\t<li>'print_flg'</li>\n",
       "\t<li>'la_valid_tkt_event_flg'</li>\n",
       "\t<li>'fin_mkt_nm'</li>\n",
       "\t<li>'web_session_cookie_val'</li>\n",
       "\t<li>'gndr_cd'</li>\n",
       "\t<li>'age_yr'</li>\n",
       "\t<li>'income_amt'</li>\n",
       "\t<li>'edu_val'</li>\n",
       "\t<li>'edu_1st_indv_val'</li>\n",
       "\t<li>'edu_2nd_indv_val'</li>\n",
       "\t<li>'adults_in_hh_num'</li>\n",
       "\t<li>'married_ind'</li>\n",
       "\t<li>'child_present_ind'</li>\n",
       "\t<li>'home_owner_ind'</li>\n",
       "\t<li>'occpn_val'</li>\n",
       "\t<li>'occpn_1st_val'</li>\n",
       "\t<li>'occpn_2nd_val'</li>\n",
       "\t<li>'dist_to_ven'</li>\n",
       "</ol>\n"
      ],
      "text/latex": [
       "\\begin{enumerate*}\n",
       "\\item 'X'\n",
       "\\item 'event\\_id'\n",
       "\\item 'primary\\_act\\_id'\n",
       "\\item 'secondary\\_act\\_id'\n",
       "\\item 'purch\\_party\\_lkup\\_id'\n",
       "\\item 'event\\_name'\n",
       "\\item 'primary\\_act\\_name'\n",
       "\\item 'secondary\\_act\\_name'\n",
       "\\item 'major\\_cat\\_name'\n",
       "\\item 'minor\\_cat\\_name'\n",
       "\\item 'la\\_event\\_type\\_cat'\n",
       "\\item 'event\\_disp\\_name'\n",
       "\\item 'ticket\\_text'\n",
       "\\item 'tickets\\_purchased\\_qty'\n",
       "\\item 'trans\\_face\\_val\\_amt'\n",
       "\\item 'delivery\\_type\\_cd'\n",
       "\\item 'event\\_date\\_time'\n",
       "\\item 'event\\_dt'\n",
       "\\item 'presale\\_dt'\n",
       "\\item 'onsale\\_dt'\n",
       "\\item 'sales\\_ord\\_create\\_dttm'\n",
       "\\item 'sales\\_ord\\_tran\\_dt'\n",
       "\\item 'print\\_dt'\n",
       "\\item 'timezn\\_nm'\n",
       "\\item 'venue\\_city'\n",
       "\\item 'venue\\_state'\n",
       "\\item 'venue\\_postal\\_cd\\_sgmt\\_1'\n",
       "\\item 'sales\\_platform\\_cd'\n",
       "\\item 'print\\_flg'\n",
       "\\item 'la\\_valid\\_tkt\\_event\\_flg'\n",
       "\\item 'fin\\_mkt\\_nm'\n",
       "\\item 'web\\_session\\_cookie\\_val'\n",
       "\\item 'gndr\\_cd'\n",
       "\\item 'age\\_yr'\n",
       "\\item 'income\\_amt'\n",
       "\\item 'edu\\_val'\n",
       "\\item 'edu\\_1st\\_indv\\_val'\n",
       "\\item 'edu\\_2nd\\_indv\\_val'\n",
       "\\item 'adults\\_in\\_hh\\_num'\n",
       "\\item 'married\\_ind'\n",
       "\\item 'child\\_present\\_ind'\n",
       "\\item 'home\\_owner\\_ind'\n",
       "\\item 'occpn\\_val'\n",
       "\\item 'occpn\\_1st\\_val'\n",
       "\\item 'occpn\\_2nd\\_val'\n",
       "\\item 'dist\\_to\\_ven'\n",
       "\\end{enumerate*}\n"
      ],
      "text/markdown": [
       "1. 'X'\n",
       "2. 'event_id'\n",
       "3. 'primary_act_id'\n",
       "4. 'secondary_act_id'\n",
       "5. 'purch_party_lkup_id'\n",
       "6. 'event_name'\n",
       "7. 'primary_act_name'\n",
       "8. 'secondary_act_name'\n",
       "9. 'major_cat_name'\n",
       "10. 'minor_cat_name'\n",
       "11. 'la_event_type_cat'\n",
       "12. 'event_disp_name'\n",
       "13. 'ticket_text'\n",
       "14. 'tickets_purchased_qty'\n",
       "15. 'trans_face_val_amt'\n",
       "16. 'delivery_type_cd'\n",
       "17. 'event_date_time'\n",
       "18. 'event_dt'\n",
       "19. 'presale_dt'\n",
       "20. 'onsale_dt'\n",
       "21. 'sales_ord_create_dttm'\n",
       "22. 'sales_ord_tran_dt'\n",
       "23. 'print_dt'\n",
       "24. 'timezn_nm'\n",
       "25. 'venue_city'\n",
       "26. 'venue_state'\n",
       "27. 'venue_postal_cd_sgmt_1'\n",
       "28. 'sales_platform_cd'\n",
       "29. 'print_flg'\n",
       "30. 'la_valid_tkt_event_flg'\n",
       "31. 'fin_mkt_nm'\n",
       "32. 'web_session_cookie_val'\n",
       "33. 'gndr_cd'\n",
       "34. 'age_yr'\n",
       "35. 'income_amt'\n",
       "36. 'edu_val'\n",
       "37. 'edu_1st_indv_val'\n",
       "38. 'edu_2nd_indv_val'\n",
       "39. 'adults_in_hh_num'\n",
       "40. 'married_ind'\n",
       "41. 'child_present_ind'\n",
       "42. 'home_owner_ind'\n",
       "43. 'occpn_val'\n",
       "44. 'occpn_1st_val'\n",
       "45. 'occpn_2nd_val'\n",
       "46. 'dist_to_ven'\n",
       "\n",
       "\n"
      ],
      "text/plain": [
       " [1] \"X\"                      \"event_id\"               \"primary_act_id\"        \n",
       " [4] \"secondary_act_id\"       \"purch_party_lkup_id\"    \"event_name\"            \n",
       " [7] \"primary_act_name\"       \"secondary_act_name\"     \"major_cat_name\"        \n",
       "[10] \"minor_cat_name\"         \"la_event_type_cat\"      \"event_disp_name\"       \n",
       "[13] \"ticket_text\"            \"tickets_purchased_qty\"  \"trans_face_val_amt\"    \n",
       "[16] \"delivery_type_cd\"       \"event_date_time\"        \"event_dt\"              \n",
       "[19] \"presale_dt\"             \"onsale_dt\"              \"sales_ord_create_dttm\" \n",
       "[22] \"sales_ord_tran_dt\"      \"print_dt\"               \"timezn_nm\"             \n",
       "[25] \"venue_city\"             \"venue_state\"            \"venue_postal_cd_sgmt_1\"\n",
       "[28] \"sales_platform_cd\"      \"print_flg\"              \"la_valid_tkt_event_flg\"\n",
       "[31] \"fin_mkt_nm\"             \"web_session_cookie_val\" \"gndr_cd\"               \n",
       "[34] \"age_yr\"                 \"income_amt\"             \"edu_val\"               \n",
       "[37] \"edu_1st_indv_val\"       \"edu_2nd_indv_val\"       \"adults_in_hh_num\"      \n",
       "[40] \"married_ind\"            \"child_present_ind\"      \"home_owner_ind\"        \n",
       "[43] \"occpn_val\"              \"occpn_1st_val\"          \"occpn_2nd_val\"         \n",
       "[46] \"dist_to_ven\"           "
      ]
     },
     "metadata": {},
     "output_type": "display_data"
    }
   ],
   "source": [
    "names(sales)"
   ]
  },
  {
   "cell_type": "code",
   "execution_count": 20,
   "metadata": {},
   "outputs": [
    {
     "name": "stdout",
     "output_type": "stream",
     "text": [
      "'data.frame':\t5000 obs. of  46 variables:\n",
      " $ X                     : int  1 2 3 4 5 6 7 8 9 10 ...\n",
      " $ event_id              : chr  \"abcaf1adb99a935fc661\" \"6c56d7f08c95f2aa453c\" \"c7ab4524a121f9d687d2\" \"394cb493f893be9b9ed1\" ...\n",
      " $ primary_act_id        : chr  \"43f0436b905bfa7c2eec\" \"1a3e9aecd0617706a794\" \"4b677c3f5bec71eec8d1\" \"b1ccea01ad6ef8522796\" ...\n",
      " $ secondary_act_id      : chr  \"b85143bf51323b72e53c\" \"f53529c5679ea6ca5a48\" \"b85143bf51323b72e53c\" \"b85143bf51323b72e53c\" ...\n",
      " $ purch_party_lkup_id   : chr  \"7dfa56dd7d5956b17587\" \"4f9e6fc637eaf7b736c2\" \"6c2545703bd527a7144d\" \"527d6b1eaffc69ddd882\" ...\n",
      " $ event_name            : chr  \"Xfinity Center Mansfield Premier Parking: Florida Georgia Line\" \"Gorge Camping - dave matthews band - sept 3-7\" \"Dodge Theatre Adams Street Parking - benise\" \"Gexa Energy Pavilion Vip Parking : kid rock with sheryl crow\" ...\n",
      " $ primary_act_name      : chr  \"XFINITY Center Mansfield Premier Parking\" \"Gorge Camping\" \"Parking Event\" \"Gexa Energy Pavilion VIP Parking\" ...\n",
      " $ secondary_act_name    : chr  \"NULL\" \"Dave Matthews Band\" \"NULL\" \"NULL\" ...\n",
      " $ major_cat_name        : chr  \"MISC\" \"MISC\" \"MISC\" \"MISC\" ...\n",
      " $ minor_cat_name        : chr  \"PARKING\" \"CAMPING\" \"PARKING\" \"PARKING\" ...\n",
      " $ la_event_type_cat     : chr  \"PARKING\" \"INVALID\" \"PARKING\" \"PARKING\" ...\n",
      " $ event_disp_name       : chr  \"Xfinity Center Mansfield Premier Parking: Florida Georgia Line\" \"Gorge Camping - dave matthews band - sept 3-7\" \"Dodge Theatre Adams Street Parking - benise\" \"Gexa Energy Pavilion Vip Parking : kid rock with sheryl crow\" ...\n",
      " $ ticket_text           : chr  \"   THIS TICKET IS VALID        FOR PARKING ONLY         GOOD THIS DAY ONLY       PREMIER PARKING PASS    XFINIT\"| __truncated__ \"%OVERNIGHT C A M P I N G%* * * * * *%GORGE CAMPGROUND%* GOOD THIS DATE ONLY *%SEP 3 - 6, 2009\" \"ADAMS STREET GARAGE%PARKING FOR 4/21/06 ONLY%DODGE THEATRE PARKING PASS%ENTRANCE ON ADAMS STREET%BENISE%GARAGE OPENS AT 6:00PM\" \"   THIS TICKET IS VALID        FOR PARKING ONLY      GOOD FOR THIS DATE ONLY       VIP PARKING PASS        GEXA\"| __truncated__ ...\n",
      " $ tickets_purchased_qty : int  1 1 1 1 1 2 1 1 1 1 ...\n",
      " $ trans_face_val_amt    : num  45 75 5 20 20 10 30 28 20 25 ...\n",
      " $ delivery_type_cd      : chr  \"eTicket\" \"TicketFast\" \"TicketFast\" \"Mail\" ...\n",
      " $ event_date_time       : chr  \"2015-09-12 23:30:00\" \"2009-09-05 01:00:00\" \"2006-04-22 01:30:00\" \"2011-09-03 00:00:00\" ...\n",
      " $ event_dt              : chr  \"2015-09-12\" \"2009-09-04\" \"2006-04-21\" \"2011-09-02\" ...\n",
      " $ presale_dt            : chr  \"NULL\" \"NULL\" \"NULL\" \"NULL\" ...\n",
      " $ onsale_dt             : chr  \"2015-05-15\" \"2009-03-13\" \"2006-02-25\" \"2011-04-22\" ...\n",
      " $ sales_ord_create_dttm : chr  \"2015-09-11 18:17:45\" \"2009-07-06 00:00:00\" \"2006-04-05 00:00:00\" \"2011-07-01 17:38:50\" ...\n",
      " $ sales_ord_tran_dt     : chr  \"2015-09-11\" \"2009-07-05\" \"2006-04-05\" \"2011-07-01\" ...\n",
      " $ print_dt              : chr  \"2015-09-12\" \"2009-09-01\" \"2006-04-05\" \"2011-07-06\" ...\n",
      " $ timezn_nm             : chr  \"EST\" \"PST\" \"MST\" \"CST\" ...\n",
      " $ venue_city            : chr  \"MANSFIELD\" \"QUINCY\" \"PHOENIX\" \"DALLAS\" ...\n",
      " $ venue_state           : chr  \"MASSACHUSETTS\" \"WASHINGTON\" \"ARIZONA\" \"TEXAS\" ...\n",
      " $ venue_postal_cd_sgmt_1: chr  \"02048\" \"98848\" \"85003\" \"75210\" ...\n",
      " $ sales_platform_cd     : chr  \"www.concerts.livenation.com\" \"NULL\" \"NULL\" \"NULL\" ...\n",
      " $ print_flg             : chr  \"T \" \"T \" \"T \" \"T \" ...\n",
      " $ la_valid_tkt_event_flg: chr  \"N \" \"N \" \"N \" \"N \" ...\n",
      " $ fin_mkt_nm            : chr  \"Boston\" \"Seattle\" \"Arizona\" \"Dallas\" ...\n",
      " $ web_session_cookie_val: chr  \"7dfa56dd7d5956b17587\" \"4f9e6fc637eaf7b736c2\" \"6c2545703bd527a7144d\" \"527d6b1eaffc69ddd882\" ...\n",
      " $ gndr_cd               : chr  NA NA NA NA ...\n",
      " $ age_yr                : chr  NA NA NA NA ...\n",
      " $ income_amt            : chr  NA NA NA NA ...\n",
      " $ edu_val               : chr  NA NA NA NA ...\n",
      " $ edu_1st_indv_val      : chr  NA NA NA NA ...\n",
      " $ edu_2nd_indv_val      : chr  NA NA NA NA ...\n",
      " $ adults_in_hh_num      : chr  NA NA NA NA ...\n",
      " $ married_ind           : chr  NA NA NA NA ...\n",
      " $ child_present_ind     : chr  NA NA NA NA ...\n",
      " $ home_owner_ind        : chr  NA NA NA NA ...\n",
      " $ occpn_val             : chr  NA NA NA NA ...\n",
      " $ occpn_1st_val         : chr  NA NA NA NA ...\n",
      " $ occpn_2nd_val         : chr  NA NA NA NA ...\n",
      " $ dist_to_ven           : int  NA 59 NA NA NA NA NA NA NA NA ...\n"
     ]
    }
   ],
   "source": [
    "str(sales)"
   ]
  },
  {
   "cell_type": "code",
   "execution_count": 21,
   "metadata": {},
   "outputs": [
    {
     "data": {
      "text/plain": [
       "       X          event_id         primary_act_id     secondary_act_id  \n",
       " Min.   :   1   Length:5000        Length:5000        Length:5000       \n",
       " 1st Qu.:1251   Class :character   Class :character   Class :character  \n",
       " Median :2500   Mode  :character   Mode  :character   Mode  :character  \n",
       " Mean   :2500                                                           \n",
       " 3rd Qu.:3750                                                           \n",
       " Max.   :5000                                                           \n",
       "                                                                        \n",
       " purch_party_lkup_id  event_name        primary_act_name   secondary_act_name\n",
       " Length:5000         Length:5000        Length:5000        Length:5000       \n",
       " Class :character    Class :character   Class :character   Class :character  \n",
       " Mode  :character    Mode  :character   Mode  :character   Mode  :character  \n",
       "                                                                             \n",
       "                                                                             \n",
       "                                                                             \n",
       "                                                                             \n",
       " major_cat_name     minor_cat_name     la_event_type_cat  event_disp_name   \n",
       " Length:5000        Length:5000        Length:5000        Length:5000       \n",
       " Class :character   Class :character   Class :character   Class :character  \n",
       " Mode  :character   Mode  :character   Mode  :character   Mode  :character  \n",
       "                                                                            \n",
       "                                                                            \n",
       "                                                                            \n",
       "                                                                            \n",
       " ticket_text        tickets_purchased_qty trans_face_val_amt delivery_type_cd  \n",
       " Length:5000        Min.   :1.000         Min.   :   1.00    Length:5000       \n",
       " Class :character   1st Qu.:1.000         1st Qu.:  20.00    Class :character  \n",
       " Mode  :character   Median :1.000         Median :  30.00    Mode  :character  \n",
       "                    Mean   :1.639         Mean   :  77.08                      \n",
       "                    3rd Qu.:2.000         3rd Qu.:  85.00                      \n",
       "                    Max.   :8.000         Max.   :1520.88                      \n",
       "                                                                               \n",
       " event_date_time      event_dt          presale_dt         onsale_dt        \n",
       " Length:5000        Length:5000        Length:5000        Length:5000       \n",
       " Class :character   Class :character   Class :character   Class :character  \n",
       " Mode  :character   Mode  :character   Mode  :character   Mode  :character  \n",
       "                                                                            \n",
       "                                                                            \n",
       "                                                                            \n",
       "                                                                            \n",
       " sales_ord_create_dttm sales_ord_tran_dt    print_dt          timezn_nm        \n",
       " Length:5000           Length:5000        Length:5000        Length:5000       \n",
       " Class :character      Class :character   Class :character   Class :character  \n",
       " Mode  :character      Mode  :character   Mode  :character   Mode  :character  \n",
       "                                                                               \n",
       "                                                                               \n",
       "                                                                               \n",
       "                                                                               \n",
       "  venue_city        venue_state        venue_postal_cd_sgmt_1\n",
       " Length:5000        Length:5000        Length:5000           \n",
       " Class :character   Class :character   Class :character      \n",
       " Mode  :character   Mode  :character   Mode  :character      \n",
       "                                                             \n",
       "                                                             \n",
       "                                                             \n",
       "                                                             \n",
       " sales_platform_cd   print_flg         la_valid_tkt_event_flg\n",
       " Length:5000        Length:5000        Length:5000           \n",
       " Class :character   Class :character   Class :character      \n",
       " Mode  :character   Mode  :character   Mode  :character      \n",
       "                                                             \n",
       "                                                             \n",
       "                                                             \n",
       "                                                             \n",
       "  fin_mkt_nm        web_session_cookie_val   gndr_cd         \n",
       " Length:5000        Length:5000            Length:5000       \n",
       " Class :character   Class :character       Class :character  \n",
       " Mode  :character   Mode  :character       Mode  :character  \n",
       "                                                             \n",
       "                                                             \n",
       "                                                             \n",
       "                                                             \n",
       "    age_yr           income_amt          edu_val          edu_1st_indv_val  \n",
       " Length:5000        Length:5000        Length:5000        Length:5000       \n",
       " Class :character   Class :character   Class :character   Class :character  \n",
       " Mode  :character   Mode  :character   Mode  :character   Mode  :character  \n",
       "                                                                            \n",
       "                                                                            \n",
       "                                                                            \n",
       "                                                                            \n",
       " edu_2nd_indv_val   adults_in_hh_num   married_ind        child_present_ind \n",
       " Length:5000        Length:5000        Length:5000        Length:5000       \n",
       " Class :character   Class :character   Class :character   Class :character  \n",
       " Mode  :character   Mode  :character   Mode  :character   Mode  :character  \n",
       "                                                                            \n",
       "                                                                            \n",
       "                                                                            \n",
       "                                                                            \n",
       " home_owner_ind      occpn_val         occpn_1st_val      occpn_2nd_val     \n",
       " Length:5000        Length:5000        Length:5000        Length:5000       \n",
       " Class :character   Class :character   Class :character   Class :character  \n",
       " Mode  :character   Mode  :character   Mode  :character   Mode  :character  \n",
       "                                                                            \n",
       "                                                                            \n",
       "                                                                            \n",
       "                                                                            \n",
       "  dist_to_ven    \n",
       " Min.   :   0.0  \n",
       " 1st Qu.:  12.0  \n",
       " Median :  26.0  \n",
       " Mean   : 158.2  \n",
       " 3rd Qu.:  77.5  \n",
       " Max.   :2548.0  \n",
       " NA's   :4677    "
      ]
     },
     "metadata": {},
     "output_type": "display_data"
    }
   ],
   "source": [
    "summary(sales)"
   ]
  },
  {
   "cell_type": "code",
   "execution_count": 23,
   "metadata": {},
   "outputs": [],
   "source": [
    "library(dplyr)"
   ]
  },
  {
   "cell_type": "code",
   "execution_count": 24,
   "metadata": {},
   "outputs": [
    {
     "name": "stdout",
     "output_type": "stream",
     "text": [
      "Observations: 5,000\n",
      "Variables: 46\n",
      "$ X                      <int> 1, 2, 3, 4, 5, 6, 7, 8, 9, 10, 11, 12, 13, 1...\n",
      "$ event_id               <chr> \"abcaf1adb99a935fc661\", \"6c56d7f08c95f2aa453...\n",
      "$ primary_act_id         <chr> \"43f0436b905bfa7c2eec\", \"1a3e9aecd0617706a79...\n",
      "$ secondary_act_id       <chr> \"b85143bf51323b72e53c\", \"f53529c5679ea6ca5a4...\n",
      "$ purch_party_lkup_id    <chr> \"7dfa56dd7d5956b17587\", \"4f9e6fc637eaf7b736c...\n",
      "$ event_name             <chr> \"Xfinity Center Mansfield Premier Parking: F...\n",
      "$ primary_act_name       <chr> \"XFINITY Center Mansfield Premier Parking\", ...\n",
      "$ secondary_act_name     <chr> \"NULL\", \"Dave Matthews Band\", \"NULL\", \"NULL\"...\n",
      "$ major_cat_name         <chr> \"MISC\", \"MISC\", \"MISC\", \"MISC\", \"MISC\", \"MIS...\n",
      "$ minor_cat_name         <chr> \"PARKING\", \"CAMPING\", \"PARKING\", \"PARKING\", ...\n",
      "$ la_event_type_cat      <chr> \"PARKING\", \"INVALID\", \"PARKING\", \"PARKING\", ...\n",
      "$ event_disp_name        <chr> \"Xfinity Center Mansfield Premier Parking: F...\n",
      "$ ticket_text            <chr> \"   THIS TICKET IS VALID        FOR PARKING ...\n",
      "$ tickets_purchased_qty  <int> 1, 1, 1, 1, 1, 2, 1, 1, 1, 1, 1, 2, 4, 1, 1,...\n",
      "$ trans_face_val_amt     <dbl> 45, 75, 5, 20, 20, 10, 30, 28, 20, 25, 20, 9...\n",
      "$ delivery_type_cd       <chr> \"eTicket\", \"TicketFast\", \"TicketFast\", \"Mail...\n",
      "$ event_date_time        <chr> \"2015-09-12 23:30:00\", \"2009-09-05 01:00:00\"...\n",
      "$ event_dt               <chr> \"2015-09-12\", \"2009-09-04\", \"2006-04-21\", \"2...\n",
      "$ presale_dt             <chr> \"NULL\", \"NULL\", \"NULL\", \"NULL\", \"2005-03-02\"...\n",
      "$ onsale_dt              <chr> \"2015-05-15\", \"2009-03-13\", \"2006-02-25\", \"2...\n",
      "$ sales_ord_create_dttm  <chr> \"2015-09-11 18:17:45\", \"2009-07-06 00:00:00\"...\n",
      "$ sales_ord_tran_dt      <chr> \"2015-09-11\", \"2009-07-05\", \"2006-04-05\", \"2...\n",
      "$ print_dt               <chr> \"2015-09-12\", \"2009-09-01\", \"2006-04-05\", \"2...\n",
      "$ timezn_nm              <chr> \"EST\", \"PST\", \"MST\", \"CST\", \"PST\", \"PST\", \"E...\n",
      "$ venue_city             <chr> \"MANSFIELD\", \"QUINCY\", \"PHOENIX\", \"DALLAS\", ...\n",
      "$ venue_state            <chr> \"MASSACHUSETTS\", \"WASHINGTON\", \"ARIZONA\", \"T...\n",
      "$ venue_postal_cd_sgmt_1 <chr> \"02048\", \"98848\", \"85003\", \"75210\", \"98092\",...\n",
      "$ sales_platform_cd      <chr> \"www.concerts.livenation.com\", \"NULL\", \"NULL...\n",
      "$ print_flg              <chr> \"T \", \"T \", \"T \", \"T \", \"T \", \"T \", \"T \", \"T...\n",
      "$ la_valid_tkt_event_flg <chr> \"N \", \"N \", \"N \", \"N \", \"N \", \"N \", \"N \", \"N...\n",
      "$ fin_mkt_nm             <chr> \"Boston\", \"Seattle\", \"Arizona\", \"Dallas\", \"S...\n",
      "$ web_session_cookie_val <chr> \"7dfa56dd7d5956b17587\", \"4f9e6fc637eaf7b736c...\n",
      "$ gndr_cd                <chr> NA, NA, NA, NA, NA, NA, \"M\", NA, NA, NA, \"M\"...\n",
      "$ age_yr                 <chr> NA, NA, NA, NA, NA, NA, \"28\", NA, NA, NA, \"8...\n",
      "$ income_amt             <chr> NA, NA, NA, NA, NA, NA, \"112500\", NA, NA, NA...\n",
      "$ edu_val                <chr> NA, NA, NA, NA, NA, NA, \"High School\", NA, N...\n",
      "$ edu_1st_indv_val       <chr> NA, NA, NA, NA, NA, NA, \"High School\", NA, N...\n",
      "$ edu_2nd_indv_val       <chr> NA, NA, NA, NA, NA, NA, \"NULL\", NA, NA, NA, ...\n",
      "$ adults_in_hh_num       <chr> NA, NA, NA, NA, NA, NA, \"4\", NA, NA, NA, \"2\"...\n",
      "$ married_ind            <chr> NA, NA, NA, NA, NA, NA, \"0\", NA, NA, NA, \"1\"...\n",
      "$ child_present_ind      <chr> NA, NA, NA, NA, NA, NA, \"1\", NA, NA, NA, \"NU...\n",
      "$ home_owner_ind         <chr> NA, NA, NA, NA, NA, NA, \"0\", NA, NA, NA, \"1\"...\n",
      "$ occpn_val              <chr> NA, NA, NA, NA, NA, NA, \"NULL\", NA, NA, NA, ...\n",
      "$ occpn_1st_val          <chr> NA, NA, NA, NA, NA, NA, \"Craftsman Blue Coll...\n",
      "$ occpn_2nd_val          <chr> NA, NA, NA, NA, NA, NA, \"NULL\", NA, NA, NA, ...\n",
      "$ dist_to_ven            <int> NA, 59, NA, NA, NA, NA, NA, NA, NA, NA, NA, ...\n"
     ]
    }
   ],
   "source": [
    "glimpse(sales)"
   ]
  },
  {
   "cell_type": "code",
   "execution_count": 30,
   "metadata": {},
   "outputs": [
    {
     "data": {
      "text/html": [
       "<table>\n",
       "<thead><tr><th scope=col>X</th><th scope=col>event_id</th></tr></thead>\n",
       "<tbody>\n",
       "\t<tr><td>1                   </td><td>abcaf1adb99a935fc661</td></tr>\n",
       "\t<tr><td>2                   </td><td>6c56d7f08c95f2aa453c</td></tr>\n",
       "\t<tr><td>3                   </td><td>c7ab4524a121f9d687d2</td></tr>\n",
       "\t<tr><td>4                   </td><td>394cb493f893be9b9ed1</td></tr>\n",
       "\t<tr><td>5                   </td><td>55b5f67e618557929f48</td></tr>\n",
       "</tbody>\n",
       "</table>\n"
      ],
      "text/latex": [
       "\\begin{tabular}{r|ll}\n",
       " X & event\\_id\\\\\n",
       "\\hline\n",
       "\t 1                    & abcaf1adb99a935fc661\\\\\n",
       "\t 2                    & 6c56d7f08c95f2aa453c\\\\\n",
       "\t 3                    & c7ab4524a121f9d687d2\\\\\n",
       "\t 4                    & 394cb493f893be9b9ed1\\\\\n",
       "\t 5                    & 55b5f67e618557929f48\\\\\n",
       "\\end{tabular}\n"
      ],
      "text/markdown": [
       "\n",
       "| X | event_id |\n",
       "|---|---|\n",
       "| 1                    | abcaf1adb99a935fc661 |\n",
       "| 2                    | 6c56d7f08c95f2aa453c |\n",
       "| 3                    | c7ab4524a121f9d687d2 |\n",
       "| 4                    | 394cb493f893be9b9ed1 |\n",
       "| 5                    | 55b5f67e618557929f48 |\n",
       "\n"
      ],
      "text/plain": [
       "  X event_id            \n",
       "1 1 abcaf1adb99a935fc661\n",
       "2 2 6c56d7f08c95f2aa453c\n",
       "3 3 c7ab4524a121f9d687d2\n",
       "4 4 394cb493f893be9b9ed1\n",
       "5 5 55b5f67e618557929f48"
      ]
     },
     "metadata": {},
     "output_type": "display_data"
    }
   ],
   "source": [
    "sales[1:5,(1:2)]"
   ]
  },
  {
   "cell_type": "code",
   "execution_count": 31,
   "metadata": {},
   "outputs": [
    {
     "data": {
      "text/html": [
       "<table>\n",
       "<thead><tr><th scope=col>primary_act_id</th><th scope=col>secondary_act_id</th><th scope=col>purch_party_lkup_id</th><th scope=col>event_name</th><th scope=col>primary_act_name</th><th scope=col>secondary_act_name</th><th scope=col>major_cat_name</th><th scope=col>minor_cat_name</th><th scope=col>la_event_type_cat</th><th scope=col>event_disp_name</th><th scope=col>...</th><th scope=col>edu_1st_indv_val</th><th scope=col>edu_2nd_indv_val</th><th scope=col>adults_in_hh_num</th><th scope=col>married_ind</th><th scope=col>child_present_ind</th><th scope=col>home_owner_ind</th><th scope=col>occpn_val</th><th scope=col>occpn_1st_val</th><th scope=col>occpn_2nd_val</th><th scope=col>dist_to_ven</th></tr></thead>\n",
       "<tbody>\n",
       "\t<tr><td>43f0436b905bfa7c2eec                                          </td><td>b85143bf51323b72e53c                                          </td><td>7dfa56dd7d5956b17587                                          </td><td>Xfinity Center Mansfield Premier Parking: Florida Georgia Line</td><td>XFINITY Center Mansfield Premier Parking                      </td><td>NULL                                                          </td><td>MISC                                                          </td><td>PARKING                                                       </td><td>PARKING                                                       </td><td>Xfinity Center Mansfield Premier Parking: Florida Georgia Line</td><td>...                                                           </td><td>NA                                                            </td><td>NA                                                            </td><td>NA                                                            </td><td>NA                                                            </td><td>NA                                                            </td><td>NA                                                            </td><td>NA                                                            </td><td>NA                                                            </td><td>NA                                                            </td><td>NA                                                            </td></tr>\n",
       "\t<tr><td>1a3e9aecd0617706a794                                          </td><td>f53529c5679ea6ca5a48                                          </td><td>4f9e6fc637eaf7b736c2                                          </td><td>Gorge Camping - dave matthews band - sept 3-7                 </td><td>Gorge Camping                                                 </td><td>Dave Matthews Band                                            </td><td>MISC                                                          </td><td>CAMPING                                                       </td><td>INVALID                                                       </td><td>Gorge Camping - dave matthews band - sept 3-7                 </td><td>...                                                           </td><td>NA                                                            </td><td>NA                                                            </td><td>NA                                                            </td><td>NA                                                            </td><td>NA                                                            </td><td>NA                                                            </td><td>NA                                                            </td><td>NA                                                            </td><td>NA                                                            </td><td>59                                                            </td></tr>\n",
       "\t<tr><td>4b677c3f5bec71eec8d1                                          </td><td>b85143bf51323b72e53c                                          </td><td>6c2545703bd527a7144d                                          </td><td>Dodge Theatre Adams Street Parking - benise                   </td><td>Parking Event                                                 </td><td>NULL                                                          </td><td>MISC                                                          </td><td>PARKING                                                       </td><td>PARKING                                                       </td><td>Dodge Theatre Adams Street Parking - benise                   </td><td>...                                                           </td><td>NA                                                            </td><td>NA                                                            </td><td>NA                                                            </td><td>NA                                                            </td><td>NA                                                            </td><td>NA                                                            </td><td>NA                                                            </td><td>NA                                                            </td><td>NA                                                            </td><td>NA                                                            </td></tr>\n",
       "\t<tr><td>b1ccea01ad6ef8522796                                          </td><td>b85143bf51323b72e53c                                          </td><td>527d6b1eaffc69ddd882                                          </td><td>Gexa Energy Pavilion Vip Parking : kid rock with sheryl crow  </td><td>Gexa Energy Pavilion VIP Parking                              </td><td>NULL                                                          </td><td>MISC                                                          </td><td>PARKING                                                       </td><td>PARKING                                                       </td><td>Gexa Energy Pavilion Vip Parking : kid rock with sheryl crow  </td><td>...                                                           </td><td>NA                                                            </td><td>NA                                                            </td><td>NA                                                            </td><td>NA                                                            </td><td>NA                                                            </td><td>NA                                                            </td><td>NA                                                            </td><td>NA                                                            </td><td>NA                                                            </td><td>NA                                                            </td></tr>\n",
       "\t<tr><td>91c03a34b562436efa3c                                          </td><td>b85143bf51323b72e53c                                          </td><td>8bd62c394a35213bdf52                                          </td><td>Premier Parking - motley crue                                 </td><td>White River Amphitheatre Premier Parking                      </td><td>NULL                                                          </td><td>MISC                                                          </td><td>PARKING                                                       </td><td>PARKING                                                       </td><td>Premier Parking - motley crue                                 </td><td>...                                                           </td><td>NA                                                            </td><td>NA                                                            </td><td>NA                                                            </td><td>NA                                                            </td><td>NA                                                            </td><td>NA                                                            </td><td>NA                                                            </td><td>NA                                                            </td><td>NA                                                            </td><td>NA                                                            </td></tr>\n",
       "</tbody>\n",
       "</table>\n"
      ],
      "text/latex": [
       "\\begin{tabular}{r|llllllllllllllllllllllllllllllllllllllllllll}\n",
       " primary\\_act\\_id & secondary\\_act\\_id & purch\\_party\\_lkup\\_id & event\\_name & primary\\_act\\_name & secondary\\_act\\_name & major\\_cat\\_name & minor\\_cat\\_name & la\\_event\\_type\\_cat & event\\_disp\\_name & ... & edu\\_1st\\_indv\\_val & edu\\_2nd\\_indv\\_val & adults\\_in\\_hh\\_num & married\\_ind & child\\_present\\_ind & home\\_owner\\_ind & occpn\\_val & occpn\\_1st\\_val & occpn\\_2nd\\_val & dist\\_to\\_ven\\\\\n",
       "\\hline\n",
       "\t 43f0436b905bfa7c2eec                                           & b85143bf51323b72e53c                                           & 7dfa56dd7d5956b17587                                           & Xfinity Center Mansfield Premier Parking: Florida Georgia Line & XFINITY Center Mansfield Premier Parking                       & NULL                                                           & MISC                                                           & PARKING                                                        & PARKING                                                        & Xfinity Center Mansfield Premier Parking: Florida Georgia Line & ...                                                            & NA                                                             & NA                                                             & NA                                                             & NA                                                             & NA                                                             & NA                                                             & NA                                                             & NA                                                             & NA                                                             & NA                                                            \\\\\n",
       "\t 1a3e9aecd0617706a794                                           & f53529c5679ea6ca5a48                                           & 4f9e6fc637eaf7b736c2                                           & Gorge Camping - dave matthews band - sept 3-7                  & Gorge Camping                                                  & Dave Matthews Band                                             & MISC                                                           & CAMPING                                                        & INVALID                                                        & Gorge Camping - dave matthews band - sept 3-7                  & ...                                                            & NA                                                             & NA                                                             & NA                                                             & NA                                                             & NA                                                             & NA                                                             & NA                                                             & NA                                                             & NA                                                             & 59                                                            \\\\\n",
       "\t 4b677c3f5bec71eec8d1                                           & b85143bf51323b72e53c                                           & 6c2545703bd527a7144d                                           & Dodge Theatre Adams Street Parking - benise                    & Parking Event                                                  & NULL                                                           & MISC                                                           & PARKING                                                        & PARKING                                                        & Dodge Theatre Adams Street Parking - benise                    & ...                                                            & NA                                                             & NA                                                             & NA                                                             & NA                                                             & NA                                                             & NA                                                             & NA                                                             & NA                                                             & NA                                                             & NA                                                            \\\\\n",
       "\t b1ccea01ad6ef8522796                                           & b85143bf51323b72e53c                                           & 527d6b1eaffc69ddd882                                           & Gexa Energy Pavilion Vip Parking : kid rock with sheryl crow   & Gexa Energy Pavilion VIP Parking                               & NULL                                                           & MISC                                                           & PARKING                                                        & PARKING                                                        & Gexa Energy Pavilion Vip Parking : kid rock with sheryl crow   & ...                                                            & NA                                                             & NA                                                             & NA                                                             & NA                                                             & NA                                                             & NA                                                             & NA                                                             & NA                                                             & NA                                                             & NA                                                            \\\\\n",
       "\t 91c03a34b562436efa3c                                           & b85143bf51323b72e53c                                           & 8bd62c394a35213bdf52                                           & Premier Parking - motley crue                                  & White River Amphitheatre Premier Parking                       & NULL                                                           & MISC                                                           & PARKING                                                        & PARKING                                                        & Premier Parking - motley crue                                  & ...                                                            & NA                                                             & NA                                                             & NA                                                             & NA                                                             & NA                                                             & NA                                                             & NA                                                             & NA                                                             & NA                                                             & NA                                                            \\\\\n",
       "\\end{tabular}\n"
      ],
      "text/markdown": [
       "\n",
       "| primary_act_id | secondary_act_id | purch_party_lkup_id | event_name | primary_act_name | secondary_act_name | major_cat_name | minor_cat_name | la_event_type_cat | event_disp_name | ... | edu_1st_indv_val | edu_2nd_indv_val | adults_in_hh_num | married_ind | child_present_ind | home_owner_ind | occpn_val | occpn_1st_val | occpn_2nd_val | dist_to_ven |\n",
       "|---|---|---|---|---|---|---|---|---|---|---|---|---|---|---|---|---|---|---|---|---|\n",
       "| 43f0436b905bfa7c2eec                                           | b85143bf51323b72e53c                                           | 7dfa56dd7d5956b17587                                           | Xfinity Center Mansfield Premier Parking: Florida Georgia Line | XFINITY Center Mansfield Premier Parking                       | NULL                                                           | MISC                                                           | PARKING                                                        | PARKING                                                        | Xfinity Center Mansfield Premier Parking: Florida Georgia Line | ...                                                            | NA                                                             | NA                                                             | NA                                                             | NA                                                             | NA                                                             | NA                                                             | NA                                                             | NA                                                             | NA                                                             | NA                                                             |\n",
       "| 1a3e9aecd0617706a794                                           | f53529c5679ea6ca5a48                                           | 4f9e6fc637eaf7b736c2                                           | Gorge Camping - dave matthews band - sept 3-7                  | Gorge Camping                                                  | Dave Matthews Band                                             | MISC                                                           | CAMPING                                                        | INVALID                                                        | Gorge Camping - dave matthews band - sept 3-7                  | ...                                                            | NA                                                             | NA                                                             | NA                                                             | NA                                                             | NA                                                             | NA                                                             | NA                                                             | NA                                                             | NA                                                             | 59                                                             |\n",
       "| 4b677c3f5bec71eec8d1                                           | b85143bf51323b72e53c                                           | 6c2545703bd527a7144d                                           | Dodge Theatre Adams Street Parking - benise                    | Parking Event                                                  | NULL                                                           | MISC                                                           | PARKING                                                        | PARKING                                                        | Dodge Theatre Adams Street Parking - benise                    | ...                                                            | NA                                                             | NA                                                             | NA                                                             | NA                                                             | NA                                                             | NA                                                             | NA                                                             | NA                                                             | NA                                                             | NA                                                             |\n",
       "| b1ccea01ad6ef8522796                                           | b85143bf51323b72e53c                                           | 527d6b1eaffc69ddd882                                           | Gexa Energy Pavilion Vip Parking : kid rock with sheryl crow   | Gexa Energy Pavilion VIP Parking                               | NULL                                                           | MISC                                                           | PARKING                                                        | PARKING                                                        | Gexa Energy Pavilion Vip Parking : kid rock with sheryl crow   | ...                                                            | NA                                                             | NA                                                             | NA                                                             | NA                                                             | NA                                                             | NA                                                             | NA                                                             | NA                                                             | NA                                                             | NA                                                             |\n",
       "| 91c03a34b562436efa3c                                           | b85143bf51323b72e53c                                           | 8bd62c394a35213bdf52                                           | Premier Parking - motley crue                                  | White River Amphitheatre Premier Parking                       | NULL                                                           | MISC                                                           | PARKING                                                        | PARKING                                                        | Premier Parking - motley crue                                  | ...                                                            | NA                                                             | NA                                                             | NA                                                             | NA                                                             | NA                                                             | NA                                                             | NA                                                             | NA                                                             | NA                                                             | NA                                                             |\n",
       "\n"
      ],
      "text/plain": [
       "  primary_act_id       secondary_act_id     purch_party_lkup_id \n",
       "1 43f0436b905bfa7c2eec b85143bf51323b72e53c 7dfa56dd7d5956b17587\n",
       "2 1a3e9aecd0617706a794 f53529c5679ea6ca5a48 4f9e6fc637eaf7b736c2\n",
       "3 4b677c3f5bec71eec8d1 b85143bf51323b72e53c 6c2545703bd527a7144d\n",
       "4 b1ccea01ad6ef8522796 b85143bf51323b72e53c 527d6b1eaffc69ddd882\n",
       "5 91c03a34b562436efa3c b85143bf51323b72e53c 8bd62c394a35213bdf52\n",
       "  event_name                                                    \n",
       "1 Xfinity Center Mansfield Premier Parking: Florida Georgia Line\n",
       "2 Gorge Camping - dave matthews band - sept 3-7                 \n",
       "3 Dodge Theatre Adams Street Parking - benise                   \n",
       "4 Gexa Energy Pavilion Vip Parking : kid rock with sheryl crow  \n",
       "5 Premier Parking - motley crue                                 \n",
       "  primary_act_name                         secondary_act_name major_cat_name\n",
       "1 XFINITY Center Mansfield Premier Parking NULL               MISC          \n",
       "2 Gorge Camping                            Dave Matthews Band MISC          \n",
       "3 Parking Event                            NULL               MISC          \n",
       "4 Gexa Energy Pavilion VIP Parking         NULL               MISC          \n",
       "5 White River Amphitheatre Premier Parking NULL               MISC          \n",
       "  minor_cat_name la_event_type_cat\n",
       "1 PARKING        PARKING          \n",
       "2 CAMPING        INVALID          \n",
       "3 PARKING        PARKING          \n",
       "4 PARKING        PARKING          \n",
       "5 PARKING        PARKING          \n",
       "  event_disp_name                                                ...\n",
       "1 Xfinity Center Mansfield Premier Parking: Florida Georgia Line ...\n",
       "2 Gorge Camping - dave matthews band - sept 3-7                  ...\n",
       "3 Dodge Theatre Adams Street Parking - benise                    ...\n",
       "4 Gexa Energy Pavilion Vip Parking : kid rock with sheryl crow   ...\n",
       "5 Premier Parking - motley crue                                  ...\n",
       "  edu_1st_indv_val edu_2nd_indv_val adults_in_hh_num married_ind\n",
       "1 NA               NA               NA               NA         \n",
       "2 NA               NA               NA               NA         \n",
       "3 NA               NA               NA               NA         \n",
       "4 NA               NA               NA               NA         \n",
       "5 NA               NA               NA               NA         \n",
       "  child_present_ind home_owner_ind occpn_val occpn_1st_val occpn_2nd_val\n",
       "1 NA                NA             NA        NA            NA           \n",
       "2 NA                NA             NA        NA            NA           \n",
       "3 NA                NA             NA        NA            NA           \n",
       "4 NA                NA             NA        NA            NA           \n",
       "5 NA                NA             NA        NA            NA           \n",
       "  dist_to_ven\n",
       "1 NA         \n",
       "2 59         \n",
       "3 NA         \n",
       "4 NA         \n",
       "5 NA         "
      ]
     },
     "metadata": {},
     "output_type": "display_data"
    }
   ],
   "source": [
    "sales[1:5,-(1:2)]"
   ]
  },
  {
   "cell_type": "code",
   "execution_count": 33,
   "metadata": {},
   "outputs": [],
   "source": [
    "sales2 <- sales[,-(1)]"
   ]
  },
  {
   "cell_type": "code",
   "execution_count": 34,
   "metadata": {
    "scrolled": false
   },
   "outputs": [
    {
     "data": {
      "text/html": [
       "<table>\n",
       "<thead><tr><th scope=col>event_id</th><th scope=col>primary_act_id</th><th scope=col>secondary_act_id</th><th scope=col>purch_party_lkup_id</th><th scope=col>event_name</th><th scope=col>primary_act_name</th><th scope=col>secondary_act_name</th><th scope=col>major_cat_name</th><th scope=col>minor_cat_name</th><th scope=col>la_event_type_cat</th><th scope=col>...</th><th scope=col>edu_1st_indv_val</th><th scope=col>edu_2nd_indv_val</th><th scope=col>adults_in_hh_num</th><th scope=col>married_ind</th><th scope=col>child_present_ind</th><th scope=col>home_owner_ind</th><th scope=col>occpn_val</th><th scope=col>occpn_1st_val</th><th scope=col>occpn_2nd_val</th><th scope=col>dist_to_ven</th></tr></thead>\n",
       "<tbody>\n",
       "\t<tr><td>abcaf1adb99a935fc661                                          </td><td>43f0436b905bfa7c2eec                                          </td><td>b85143bf51323b72e53c                                          </td><td>7dfa56dd7d5956b17587                                          </td><td>Xfinity Center Mansfield Premier Parking: Florida Georgia Line</td><td>XFINITY Center Mansfield Premier Parking                      </td><td>NULL                                                          </td><td>MISC                                                          </td><td>PARKING                                                       </td><td>PARKING                                                       </td><td>...                                                           </td><td>NA                                                            </td><td>NA                                                            </td><td>NA                                                            </td><td>NA                                                            </td><td>NA                                                            </td><td>NA                                                            </td><td>NA                                                            </td><td>NA                                                            </td><td>NA                                                            </td><td>NA                                                            </td></tr>\n",
       "\t<tr><td>6c56d7f08c95f2aa453c                                          </td><td>1a3e9aecd0617706a794                                          </td><td>f53529c5679ea6ca5a48                                          </td><td>4f9e6fc637eaf7b736c2                                          </td><td>Gorge Camping - dave matthews band - sept 3-7                 </td><td>Gorge Camping                                                 </td><td>Dave Matthews Band                                            </td><td>MISC                                                          </td><td>CAMPING                                                       </td><td>INVALID                                                       </td><td>...                                                           </td><td>NA                                                            </td><td>NA                                                            </td><td>NA                                                            </td><td>NA                                                            </td><td>NA                                                            </td><td>NA                                                            </td><td>NA                                                            </td><td>NA                                                            </td><td>NA                                                            </td><td>59                                                            </td></tr>\n",
       "\t<tr><td>c7ab4524a121f9d687d2                                          </td><td>4b677c3f5bec71eec8d1                                          </td><td>b85143bf51323b72e53c                                          </td><td>6c2545703bd527a7144d                                          </td><td>Dodge Theatre Adams Street Parking - benise                   </td><td>Parking Event                                                 </td><td>NULL                                                          </td><td>MISC                                                          </td><td>PARKING                                                       </td><td>PARKING                                                       </td><td>...                                                           </td><td>NA                                                            </td><td>NA                                                            </td><td>NA                                                            </td><td>NA                                                            </td><td>NA                                                            </td><td>NA                                                            </td><td>NA                                                            </td><td>NA                                                            </td><td>NA                                                            </td><td>NA                                                            </td></tr>\n",
       "\t<tr><td>394cb493f893be9b9ed1                                          </td><td>b1ccea01ad6ef8522796                                          </td><td>b85143bf51323b72e53c                                          </td><td>527d6b1eaffc69ddd882                                          </td><td>Gexa Energy Pavilion Vip Parking : kid rock with sheryl crow  </td><td>Gexa Energy Pavilion VIP Parking                              </td><td>NULL                                                          </td><td>MISC                                                          </td><td>PARKING                                                       </td><td>PARKING                                                       </td><td>...                                                           </td><td>NA                                                            </td><td>NA                                                            </td><td>NA                                                            </td><td>NA                                                            </td><td>NA                                                            </td><td>NA                                                            </td><td>NA                                                            </td><td>NA                                                            </td><td>NA                                                            </td><td>NA                                                            </td></tr>\n",
       "\t<tr><td>55b5f67e618557929f48                                          </td><td>91c03a34b562436efa3c                                          </td><td>b85143bf51323b72e53c                                          </td><td>8bd62c394a35213bdf52                                          </td><td>Premier Parking - motley crue                                 </td><td>White River Amphitheatre Premier Parking                      </td><td>NULL                                                          </td><td>MISC                                                          </td><td>PARKING                                                       </td><td>PARKING                                                       </td><td>...                                                           </td><td>NA                                                            </td><td>NA                                                            </td><td>NA                                                            </td><td>NA                                                            </td><td>NA                                                            </td><td>NA                                                            </td><td>NA                                                            </td><td>NA                                                            </td><td>NA                                                            </td><td>NA                                                            </td></tr>\n",
       "\t<tr><td>4f10fd8b9f550352bd56                                          </td><td>ac4b847b3fde66f2117e                                          </td><td>63814f3d63317f1b56c4                                          </td><td>3b3a628f83135acd0676                                          </td><td>Fast Lane Access: Journey                                     </td><td>Fast Lane Access                                              </td><td>Journey                                                       </td><td>MISC                                                          </td><td>SPECIAL ENTRY (UPSELL)                                        </td><td>UPSELL                                                        </td><td>...                                                           </td><td>NA                                                            </td><td>NA                                                            </td><td>NA                                                            </td><td>NA                                                            </td><td>NA                                                            </td><td>NA                                                            </td><td>NA                                                            </td><td>NA                                                            </td><td>NA                                                            </td><td>NA                                                            </td></tr>\n",
       "</tbody>\n",
       "</table>\n"
      ],
      "text/latex": [
       "\\begin{tabular}{r|lllllllllllllllllllllllllllllllllllllllllllll}\n",
       " event\\_id & primary\\_act\\_id & secondary\\_act\\_id & purch\\_party\\_lkup\\_id & event\\_name & primary\\_act\\_name & secondary\\_act\\_name & major\\_cat\\_name & minor\\_cat\\_name & la\\_event\\_type\\_cat & ... & edu\\_1st\\_indv\\_val & edu\\_2nd\\_indv\\_val & adults\\_in\\_hh\\_num & married\\_ind & child\\_present\\_ind & home\\_owner\\_ind & occpn\\_val & occpn\\_1st\\_val & occpn\\_2nd\\_val & dist\\_to\\_ven\\\\\n",
       "\\hline\n",
       "\t abcaf1adb99a935fc661                                           & 43f0436b905bfa7c2eec                                           & b85143bf51323b72e53c                                           & 7dfa56dd7d5956b17587                                           & Xfinity Center Mansfield Premier Parking: Florida Georgia Line & XFINITY Center Mansfield Premier Parking                       & NULL                                                           & MISC                                                           & PARKING                                                        & PARKING                                                        & ...                                                            & NA                                                             & NA                                                             & NA                                                             & NA                                                             & NA                                                             & NA                                                             & NA                                                             & NA                                                             & NA                                                             & NA                                                            \\\\\n",
       "\t 6c56d7f08c95f2aa453c                                           & 1a3e9aecd0617706a794                                           & f53529c5679ea6ca5a48                                           & 4f9e6fc637eaf7b736c2                                           & Gorge Camping - dave matthews band - sept 3-7                  & Gorge Camping                                                  & Dave Matthews Band                                             & MISC                                                           & CAMPING                                                        & INVALID                                                        & ...                                                            & NA                                                             & NA                                                             & NA                                                             & NA                                                             & NA                                                             & NA                                                             & NA                                                             & NA                                                             & NA                                                             & 59                                                            \\\\\n",
       "\t c7ab4524a121f9d687d2                                           & 4b677c3f5bec71eec8d1                                           & b85143bf51323b72e53c                                           & 6c2545703bd527a7144d                                           & Dodge Theatre Adams Street Parking - benise                    & Parking Event                                                  & NULL                                                           & MISC                                                           & PARKING                                                        & PARKING                                                        & ...                                                            & NA                                                             & NA                                                             & NA                                                             & NA                                                             & NA                                                             & NA                                                             & NA                                                             & NA                                                             & NA                                                             & NA                                                            \\\\\n",
       "\t 394cb493f893be9b9ed1                                           & b1ccea01ad6ef8522796                                           & b85143bf51323b72e53c                                           & 527d6b1eaffc69ddd882                                           & Gexa Energy Pavilion Vip Parking : kid rock with sheryl crow   & Gexa Energy Pavilion VIP Parking                               & NULL                                                           & MISC                                                           & PARKING                                                        & PARKING                                                        & ...                                                            & NA                                                             & NA                                                             & NA                                                             & NA                                                             & NA                                                             & NA                                                             & NA                                                             & NA                                                             & NA                                                             & NA                                                            \\\\\n",
       "\t 55b5f67e618557929f48                                           & 91c03a34b562436efa3c                                           & b85143bf51323b72e53c                                           & 8bd62c394a35213bdf52                                           & Premier Parking - motley crue                                  & White River Amphitheatre Premier Parking                       & NULL                                                           & MISC                                                           & PARKING                                                        & PARKING                                                        & ...                                                            & NA                                                             & NA                                                             & NA                                                             & NA                                                             & NA                                                             & NA                                                             & NA                                                             & NA                                                             & NA                                                             & NA                                                            \\\\\n",
       "\t 4f10fd8b9f550352bd56                                           & ac4b847b3fde66f2117e                                           & 63814f3d63317f1b56c4                                           & 3b3a628f83135acd0676                                           & Fast Lane Access: Journey                                      & Fast Lane Access                                               & Journey                                                        & MISC                                                           & SPECIAL ENTRY (UPSELL)                                         & UPSELL                                                         & ...                                                            & NA                                                             & NA                                                             & NA                                                             & NA                                                             & NA                                                             & NA                                                             & NA                                                             & NA                                                             & NA                                                             & NA                                                            \\\\\n",
       "\\end{tabular}\n"
      ],
      "text/markdown": [
       "\n",
       "| event_id | primary_act_id | secondary_act_id | purch_party_lkup_id | event_name | primary_act_name | secondary_act_name | major_cat_name | minor_cat_name | la_event_type_cat | ... | edu_1st_indv_val | edu_2nd_indv_val | adults_in_hh_num | married_ind | child_present_ind | home_owner_ind | occpn_val | occpn_1st_val | occpn_2nd_val | dist_to_ven |\n",
       "|---|---|---|---|---|---|---|---|---|---|---|---|---|---|---|---|---|---|---|---|---|\n",
       "| abcaf1adb99a935fc661                                           | 43f0436b905bfa7c2eec                                           | b85143bf51323b72e53c                                           | 7dfa56dd7d5956b17587                                           | Xfinity Center Mansfield Premier Parking: Florida Georgia Line | XFINITY Center Mansfield Premier Parking                       | NULL                                                           | MISC                                                           | PARKING                                                        | PARKING                                                        | ...                                                            | NA                                                             | NA                                                             | NA                                                             | NA                                                             | NA                                                             | NA                                                             | NA                                                             | NA                                                             | NA                                                             | NA                                                             |\n",
       "| 6c56d7f08c95f2aa453c                                           | 1a3e9aecd0617706a794                                           | f53529c5679ea6ca5a48                                           | 4f9e6fc637eaf7b736c2                                           | Gorge Camping - dave matthews band - sept 3-7                  | Gorge Camping                                                  | Dave Matthews Band                                             | MISC                                                           | CAMPING                                                        | INVALID                                                        | ...                                                            | NA                                                             | NA                                                             | NA                                                             | NA                                                             | NA                                                             | NA                                                             | NA                                                             | NA                                                             | NA                                                             | 59                                                             |\n",
       "| c7ab4524a121f9d687d2                                           | 4b677c3f5bec71eec8d1                                           | b85143bf51323b72e53c                                           | 6c2545703bd527a7144d                                           | Dodge Theatre Adams Street Parking - benise                    | Parking Event                                                  | NULL                                                           | MISC                                                           | PARKING                                                        | PARKING                                                        | ...                                                            | NA                                                             | NA                                                             | NA                                                             | NA                                                             | NA                                                             | NA                                                             | NA                                                             | NA                                                             | NA                                                             | NA                                                             |\n",
       "| 394cb493f893be9b9ed1                                           | b1ccea01ad6ef8522796                                           | b85143bf51323b72e53c                                           | 527d6b1eaffc69ddd882                                           | Gexa Energy Pavilion Vip Parking : kid rock with sheryl crow   | Gexa Energy Pavilion VIP Parking                               | NULL                                                           | MISC                                                           | PARKING                                                        | PARKING                                                        | ...                                                            | NA                                                             | NA                                                             | NA                                                             | NA                                                             | NA                                                             | NA                                                             | NA                                                             | NA                                                             | NA                                                             | NA                                                             |\n",
       "| 55b5f67e618557929f48                                           | 91c03a34b562436efa3c                                           | b85143bf51323b72e53c                                           | 8bd62c394a35213bdf52                                           | Premier Parking - motley crue                                  | White River Amphitheatre Premier Parking                       | NULL                                                           | MISC                                                           | PARKING                                                        | PARKING                                                        | ...                                                            | NA                                                             | NA                                                             | NA                                                             | NA                                                             | NA                                                             | NA                                                             | NA                                                             | NA                                                             | NA                                                             | NA                                                             |\n",
       "| 4f10fd8b9f550352bd56                                           | ac4b847b3fde66f2117e                                           | 63814f3d63317f1b56c4                                           | 3b3a628f83135acd0676                                           | Fast Lane Access: Journey                                      | Fast Lane Access                                               | Journey                                                        | MISC                                                           | SPECIAL ENTRY (UPSELL)                                         | UPSELL                                                         | ...                                                            | NA                                                             | NA                                                             | NA                                                             | NA                                                             | NA                                                             | NA                                                             | NA                                                             | NA                                                             | NA                                                             | NA                                                             |\n",
       "\n"
      ],
      "text/plain": [
       "  event_id             primary_act_id       secondary_act_id    \n",
       "1 abcaf1adb99a935fc661 43f0436b905bfa7c2eec b85143bf51323b72e53c\n",
       "2 6c56d7f08c95f2aa453c 1a3e9aecd0617706a794 f53529c5679ea6ca5a48\n",
       "3 c7ab4524a121f9d687d2 4b677c3f5bec71eec8d1 b85143bf51323b72e53c\n",
       "4 394cb493f893be9b9ed1 b1ccea01ad6ef8522796 b85143bf51323b72e53c\n",
       "5 55b5f67e618557929f48 91c03a34b562436efa3c b85143bf51323b72e53c\n",
       "6 4f10fd8b9f550352bd56 ac4b847b3fde66f2117e 63814f3d63317f1b56c4\n",
       "  purch_party_lkup_id \n",
       "1 7dfa56dd7d5956b17587\n",
       "2 4f9e6fc637eaf7b736c2\n",
       "3 6c2545703bd527a7144d\n",
       "4 527d6b1eaffc69ddd882\n",
       "5 8bd62c394a35213bdf52\n",
       "6 3b3a628f83135acd0676\n",
       "  event_name                                                    \n",
       "1 Xfinity Center Mansfield Premier Parking: Florida Georgia Line\n",
       "2 Gorge Camping - dave matthews band - sept 3-7                 \n",
       "3 Dodge Theatre Adams Street Parking - benise                   \n",
       "4 Gexa Energy Pavilion Vip Parking : kid rock with sheryl crow  \n",
       "5 Premier Parking - motley crue                                 \n",
       "6 Fast Lane Access: Journey                                     \n",
       "  primary_act_name                         secondary_act_name major_cat_name\n",
       "1 XFINITY Center Mansfield Premier Parking NULL               MISC          \n",
       "2 Gorge Camping                            Dave Matthews Band MISC          \n",
       "3 Parking Event                            NULL               MISC          \n",
       "4 Gexa Energy Pavilion VIP Parking         NULL               MISC          \n",
       "5 White River Amphitheatre Premier Parking NULL               MISC          \n",
       "6 Fast Lane Access                         Journey            MISC          \n",
       "  minor_cat_name         la_event_type_cat ... edu_1st_indv_val\n",
       "1 PARKING                PARKING           ... NA              \n",
       "2 CAMPING                INVALID           ... NA              \n",
       "3 PARKING                PARKING           ... NA              \n",
       "4 PARKING                PARKING           ... NA              \n",
       "5 PARKING                PARKING           ... NA              \n",
       "6 SPECIAL ENTRY (UPSELL) UPSELL            ... NA              \n",
       "  edu_2nd_indv_val adults_in_hh_num married_ind child_present_ind\n",
       "1 NA               NA               NA          NA               \n",
       "2 NA               NA               NA          NA               \n",
       "3 NA               NA               NA          NA               \n",
       "4 NA               NA               NA          NA               \n",
       "5 NA               NA               NA          NA               \n",
       "6 NA               NA               NA          NA               \n",
       "  home_owner_ind occpn_val occpn_1st_val occpn_2nd_val dist_to_ven\n",
       "1 NA             NA        NA            NA            NA         \n",
       "2 NA             NA        NA            NA            59         \n",
       "3 NA             NA        NA            NA            NA         \n",
       "4 NA             NA        NA            NA            NA         \n",
       "5 NA             NA        NA            NA            NA         \n",
       "6 NA             NA        NA            NA            NA         "
      ]
     },
     "metadata": {},
     "output_type": "display_data"
    }
   ],
   "source": [
    "head(sales2)"
   ]
  },
  {
   "cell_type": "code",
   "execution_count": 44,
   "metadata": {},
   "outputs": [],
   "source": [
    "keep <- c(5: (ncol(sales)-15))"
   ]
  },
  {
   "cell_type": "code",
   "execution_count": 46,
   "metadata": {},
   "outputs": [],
   "source": [
    "sales3 <- sales2[keep]"
   ]
  },
  {
   "cell_type": "code",
   "execution_count": 47,
   "metadata": {},
   "outputs": [
    {
     "data": {
      "text/html": [
       "<table>\n",
       "<thead><tr><th scope=col>event_name</th><th scope=col>primary_act_name</th><th scope=col>secondary_act_name</th><th scope=col>major_cat_name</th><th scope=col>minor_cat_name</th><th scope=col>la_event_type_cat</th><th scope=col>event_disp_name</th><th scope=col>ticket_text</th><th scope=col>tickets_purchased_qty</th><th scope=col>trans_face_val_amt</th><th scope=col>...</th><th scope=col>print_dt</th><th scope=col>timezn_nm</th><th scope=col>venue_city</th><th scope=col>venue_state</th><th scope=col>venue_postal_cd_sgmt_1</th><th scope=col>sales_platform_cd</th><th scope=col>print_flg</th><th scope=col>la_valid_tkt_event_flg</th><th scope=col>fin_mkt_nm</th><th scope=col>web_session_cookie_val</th></tr></thead>\n",
       "<tbody>\n",
       "\t<tr><td>Xfinity Center Mansfield Premier Parking: Florida Georgia Line                                                                                              </td><td>XFINITY Center Mansfield Premier Parking                                                                                                                    </td><td>NULL                                                                                                                                                        </td><td>MISC                                                                                                                                                        </td><td>PARKING                                                                                                                                                     </td><td>PARKING                                                                                                                                                     </td><td>Xfinity Center Mansfield Premier Parking: Florida Georgia Line                                                                                              </td><td>   THIS TICKET IS VALID        FOR PARKING ONLY         GOOD THIS DAY ONLY       PREMIER PARKING PASS    XFINITY CENTER,LOTS 4 PM  SAT SEP 12 2015 7:30 PM  </td><td>1                                                                                                                                                           </td><td>45                                                                                                                                                          </td><td>...                                                                                                                                                         </td><td>2015-09-12                                                                                                                                                  </td><td>EST                                                                                                                                                         </td><td>MANSFIELD                                                                                                                                                   </td><td>MASSACHUSETTS                                                                                                                                               </td><td>02048                                                                                                                                                       </td><td>www.concerts.livenation.com                                                                                                                                 </td><td>T                                                                                                                                                           </td><td>N                                                                                                                                                           </td><td>Boston                                                                                                                                                      </td><td>7dfa56dd7d5956b17587                                                                                                                                        </td></tr>\n",
       "\t<tr><td>Gorge Camping - dave matthews band - sept 3-7                                                                                                               </td><td>Gorge Camping                                                                                                                                               </td><td>Dave Matthews Band                                                                                                                                          </td><td>MISC                                                                                                                                                        </td><td>CAMPING                                                                                                                                                     </td><td>INVALID                                                                                                                                                     </td><td>Gorge Camping - dave matthews band - sept 3-7                                                                                                               </td><td>%OVERNIGHT C A M P I N G%* * * * * *%GORGE CAMPGROUND%* GOOD THIS DATE ONLY *%SEP 3 - 6, 2009                                                               </td><td>1                                                                                                                                                           </td><td>75                                                                                                                                                          </td><td>...                                                                                                                                                         </td><td>2009-09-01                                                                                                                                                  </td><td>PST                                                                                                                                                         </td><td>QUINCY                                                                                                                                                      </td><td>WASHINGTON                                                                                                                                                  </td><td>98848                                                                                                                                                       </td><td>NULL                                                                                                                                                        </td><td>T                                                                                                                                                           </td><td>N                                                                                                                                                           </td><td>Seattle                                                                                                                                                     </td><td>4f9e6fc637eaf7b736c2                                                                                                                                        </td></tr>\n",
       "\t<tr><td>Dodge Theatre Adams Street Parking - benise                                                                                                                 </td><td>Parking Event                                                                                                                                               </td><td>NULL                                                                                                                                                        </td><td>MISC                                                                                                                                                        </td><td>PARKING                                                                                                                                                     </td><td>PARKING                                                                                                                                                     </td><td>Dodge Theatre Adams Street Parking - benise                                                                                                                 </td><td>ADAMS STREET GARAGE%PARKING FOR 4/21/06 ONLY%DODGE THEATRE PARKING PASS%ENTRANCE ON ADAMS STREET%BENISE%GARAGE OPENS AT 6:00PM                              </td><td>1                                                                                                                                                           </td><td> 5                                                                                                                                                          </td><td>...                                                                                                                                                         </td><td>2006-04-05                                                                                                                                                  </td><td>MST                                                                                                                                                         </td><td>PHOENIX                                                                                                                                                     </td><td>ARIZONA                                                                                                                                                     </td><td>85003                                                                                                                                                       </td><td>NULL                                                                                                                                                        </td><td>T                                                                                                                                                           </td><td>N                                                                                                                                                           </td><td>Arizona                                                                                                                                                     </td><td>6c2545703bd527a7144d                                                                                                                                        </td></tr>\n",
       "\t<tr><td>Gexa Energy Pavilion Vip Parking : kid rock with sheryl crow                                                                                                </td><td>Gexa Energy Pavilion VIP Parking                                                                                                                            </td><td>NULL                                                                                                                                                        </td><td>MISC                                                                                                                                                        </td><td>PARKING                                                                                                                                                     </td><td>PARKING                                                                                                                                                     </td><td>Gexa Energy Pavilion Vip Parking : kid rock with sheryl crow                                                                                                </td><td>   THIS TICKET IS VALID        FOR PARKING ONLY      GOOD FOR THIS DATE ONLY       VIP PARKING PASS        GEXA ENERGY PAVILION    FRI SEP 02 2011 7:00 PM  </td><td>1                                                                                                                                                           </td><td>20                                                                                                                                                          </td><td>...                                                                                                                                                         </td><td>2011-07-06                                                                                                                                                  </td><td>CST                                                                                                                                                         </td><td>DALLAS                                                                                                                                                      </td><td>TEXAS                                                                                                                                                       </td><td>75210                                                                                                                                                       </td><td>NULL                                                                                                                                                        </td><td>T                                                                                                                                                           </td><td>N                                                                                                                                                           </td><td>Dallas                                                                                                                                                      </td><td>527d6b1eaffc69ddd882                                                                                                                                        </td></tr>\n",
       "\t<tr><td>Premier Parking - motley crue                                                                                                                               </td><td>White River Amphitheatre Premier Parking                                                                                                                    </td><td>NULL                                                                                                                                                        </td><td>MISC                                                                                                                                                        </td><td>PARKING                                                                                                                                                     </td><td>PARKING                                                                                                                                                     </td><td>Premier Parking - motley crue                                                                                                                               </td><td>THIS TICKET IS VALID%FOR PARKING ONLY%GOOD THIS DATE ONLY%PREMIER PARKING PASS%WHITE RIVER AMPHITHEATRE%SAT JUL 30, 2005 6:00PM                             </td><td>1                                                                                                                                                           </td><td>20                                                                                                                                                          </td><td>...                                                                                                                                                         </td><td>2005-06-28                                                                                                                                                  </td><td>PST                                                                                                                                                         </td><td>AUBURN                                                                                                                                                      </td><td>WASHINGTON                                                                                                                                                  </td><td>98092                                                                                                                                                       </td><td>NULL                                                                                                                                                        </td><td>T                                                                                                                                                           </td><td>N                                                                                                                                                           </td><td>Seattle                                                                                                                                                     </td><td>8bd62c394a35213bdf52                                                                                                                                        </td></tr>\n",
       "\t<tr><td>Fast Lane Access: Journey                                                                                                                                   </td><td>Fast Lane Access                                                                                                                                            </td><td>Journey                                                                                                                                                     </td><td>MISC                                                                                                                                                        </td><td>SPECIAL ENTRY (UPSELL)                                                                                                                                      </td><td>UPSELL                                                                                                                                                      </td><td>Fast Lane Access: Journey                                                                                                                                   </td><td>        FAST LANE                  JOURNEY               FAST LANE EVENT         THIS IS NOT A TICKET    SAN MANUEL AMPHITHEATER   SAT JUL 21 2012 7:00 PM  </td><td>2                                                                                                                                                           </td><td>10                                                                                                                                                          </td><td>...                                                                                                                                                         </td><td>2012-07-21                                                                                                                                                  </td><td>PST                                                                                                                                                         </td><td>SAN BERNARDINO                                                                                                                                              </td><td>CALIFORNIA                                                                                                                                                  </td><td>92407                                                                                                                                                       </td><td>www.livenation.com                                                                                                                                          </td><td>T                                                                                                                                                           </td><td>N                                                                                                                                                           </td><td>Los Angeles                                                                                                                                                 </td><td>3b3a628f83135acd0676                                                                                                                                        </td></tr>\n",
       "</tbody>\n",
       "</table>\n"
      ],
      "text/latex": [
       "\\begin{tabular}{r|lllllllllllllllllllllllllll}\n",
       " event\\_name & primary\\_act\\_name & secondary\\_act\\_name & major\\_cat\\_name & minor\\_cat\\_name & la\\_event\\_type\\_cat & event\\_disp\\_name & ticket\\_text & tickets\\_purchased\\_qty & trans\\_face\\_val\\_amt & ... & print\\_dt & timezn\\_nm & venue\\_city & venue\\_state & venue\\_postal\\_cd\\_sgmt\\_1 & sales\\_platform\\_cd & print\\_flg & la\\_valid\\_tkt\\_event\\_flg & fin\\_mkt\\_nm & web\\_session\\_cookie\\_val\\\\\n",
       "\\hline\n",
       "\t Xfinity Center Mansfield Premier Parking: Florida Georgia Line                                                                                               & XFINITY Center Mansfield Premier Parking                                                                                                                     & NULL                                                                                                                                                         & MISC                                                                                                                                                         & PARKING                                                                                                                                                      & PARKING                                                                                                                                                      & Xfinity Center Mansfield Premier Parking: Florida Georgia Line                                                                                               &    THIS TICKET IS VALID        FOR PARKING ONLY         GOOD THIS DAY ONLY       PREMIER PARKING PASS    XFINITY CENTER,LOTS 4 PM  SAT SEP 12 2015 7:30 PM   & 1                                                                                                                                                            & 45                                                                                                                                                           & ...                                                                                                                                                          & 2015-09-12                                                                                                                                                   & EST                                                                                                                                                          & MANSFIELD                                                                                                                                                    & MASSACHUSETTS                                                                                                                                                & 02048                                                                                                                                                        & www.concerts.livenation.com                                                                                                                                  & T                                                                                                                                                            & N                                                                                                                                                            & Boston                                                                                                                                                       & 7dfa56dd7d5956b17587                                                                                                                                        \\\\\n",
       "\t Gorge Camping - dave matthews band - sept 3-7                                                                                                                          & Gorge Camping                                                                                                                                                          & Dave Matthews Band                                                                                                                                                     & MISC                                                                                                                                                                   & CAMPING                                                                                                                                                                & INVALID                                                                                                                                                                & Gorge Camping - dave matthews band - sept 3-7                                                                                                                          & \\%OVERNIGHT C A M P I N G\\%* * * * * *\\%GORGE CAMPGROUND\\%* GOOD THIS DATE ONLY *\\%SEP 3 - 6, 2009                                                                & 1                                                                                                                                                                      & 75                                                                                                                                                                     & ...                                                                                                                                                                    & 2009-09-01                                                                                                                                                             & PST                                                                                                                                                                    & QUINCY                                                                                                                                                                 & WASHINGTON                                                                                                                                                             & 98848                                                                                                                                                                  & NULL                                                                                                                                                                   & T                                                                                                                                                                      & N                                                                                                                                                                      & Seattle                                                                                                                                                                & 4f9e6fc637eaf7b736c2                                                                                                                                                  \\\\\n",
       "\t Dodge Theatre Adams Street Parking - benise                                                                                                                            & Parking Event                                                                                                                                                          & NULL                                                                                                                                                                   & MISC                                                                                                                                                                   & PARKING                                                                                                                                                                & PARKING                                                                                                                                                                & Dodge Theatre Adams Street Parking - benise                                                                                                                            & ADAMS STREET GARAGE\\%PARKING FOR 4/21/06 ONLY\\%DODGE THEATRE PARKING PASS\\%ENTRANCE ON ADAMS STREET\\%BENISE\\%GARAGE OPENS AT 6:00PM                               & 1                                                                                                                                                                      &  5                                                                                                                                                                     & ...                                                                                                                                                                    & 2006-04-05                                                                                                                                                             & MST                                                                                                                                                                    & PHOENIX                                                                                                                                                                & ARIZONA                                                                                                                                                                & 85003                                                                                                                                                                  & NULL                                                                                                                                                                   & T                                                                                                                                                                      & N                                                                                                                                                                      & Arizona                                                                                                                                                                & 6c2545703bd527a7144d                                                                                                                                                  \\\\\n",
       "\t Gexa Energy Pavilion Vip Parking : kid rock with sheryl crow                                                                                                 & Gexa Energy Pavilion VIP Parking                                                                                                                             & NULL                                                                                                                                                         & MISC                                                                                                                                                         & PARKING                                                                                                                                                      & PARKING                                                                                                                                                      & Gexa Energy Pavilion Vip Parking : kid rock with sheryl crow                                                                                                 &    THIS TICKET IS VALID        FOR PARKING ONLY      GOOD FOR THIS DATE ONLY       VIP PARKING PASS        GEXA ENERGY PAVILION    FRI SEP 02 2011 7:00 PM   & 1                                                                                                                                                            & 20                                                                                                                                                           & ...                                                                                                                                                          & 2011-07-06                                                                                                                                                   & CST                                                                                                                                                          & DALLAS                                                                                                                                                       & TEXAS                                                                                                                                                        & 75210                                                                                                                                                        & NULL                                                                                                                                                         & T                                                                                                                                                            & N                                                                                                                                                            & Dallas                                                                                                                                                       & 527d6b1eaffc69ddd882                                                                                                                                        \\\\\n",
       "\t Premier Parking - motley crue                                                                                                                                          & White River Amphitheatre Premier Parking                                                                                                                               & NULL                                                                                                                                                                   & MISC                                                                                                                                                                   & PARKING                                                                                                                                                                & PARKING                                                                                                                                                                & Premier Parking - motley crue                                                                                                                                          & THIS TICKET IS VALID\\%FOR PARKING ONLY\\%GOOD THIS DATE ONLY\\%PREMIER PARKING PASS\\%WHITE RIVER AMPHITHEATRE\\%SAT JUL 30, 2005 6:00PM                              & 1                                                                                                                                                                      & 20                                                                                                                                                                     & ...                                                                                                                                                                    & 2005-06-28                                                                                                                                                             & PST                                                                                                                                                                    & AUBURN                                                                                                                                                                 & WASHINGTON                                                                                                                                                             & 98092                                                                                                                                                                  & NULL                                                                                                                                                                   & T                                                                                                                                                                      & N                                                                                                                                                                      & Seattle                                                                                                                                                                & 8bd62c394a35213bdf52                                                                                                                                                  \\\\\n",
       "\t Fast Lane Access: Journey                                                                                                                                    & Fast Lane Access                                                                                                                                             & Journey                                                                                                                                                      & MISC                                                                                                                                                         & SPECIAL ENTRY (UPSELL)                                                                                                                                       & UPSELL                                                                                                                                                       & Fast Lane Access: Journey                                                                                                                                    &         FAST LANE                  JOURNEY               FAST LANE EVENT         THIS IS NOT A TICKET    SAN MANUEL AMPHITHEATER   SAT JUL 21 2012 7:00 PM   & 2                                                                                                                                                            & 10                                                                                                                                                           & ...                                                                                                                                                          & 2012-07-21                                                                                                                                                   & PST                                                                                                                                                          & SAN BERNARDINO                                                                                                                                               & CALIFORNIA                                                                                                                                                   & 92407                                                                                                                                                        & www.livenation.com                                                                                                                                           & T                                                                                                                                                            & N                                                                                                                                                            & Los Angeles                                                                                                                                                  & 3b3a628f83135acd0676                                                                                                                                        \\\\\n",
       "\\end{tabular}\n"
      ],
      "text/markdown": [
       "\n",
       "| event_name | primary_act_name | secondary_act_name | major_cat_name | minor_cat_name | la_event_type_cat | event_disp_name | ticket_text | tickets_purchased_qty | trans_face_val_amt | ... | print_dt | timezn_nm | venue_city | venue_state | venue_postal_cd_sgmt_1 | sales_platform_cd | print_flg | la_valid_tkt_event_flg | fin_mkt_nm | web_session_cookie_val |\n",
       "|---|---|---|---|---|---|---|---|---|---|---|---|---|---|---|---|---|---|---|---|---|\n",
       "| Xfinity Center Mansfield Premier Parking: Florida Georgia Line                                                                                               | XFINITY Center Mansfield Premier Parking                                                                                                                     | NULL                                                                                                                                                         | MISC                                                                                                                                                         | PARKING                                                                                                                                                      | PARKING                                                                                                                                                      | Xfinity Center Mansfield Premier Parking: Florida Georgia Line                                                                                               |    THIS TICKET IS VALID        FOR PARKING ONLY         GOOD THIS DAY ONLY       PREMIER PARKING PASS    XFINITY CENTER,LOTS 4 PM  SAT SEP 12 2015 7:30 PM   | 1                                                                                                                                                            | 45                                                                                                                                                           | ...                                                                                                                                                          | 2015-09-12                                                                                                                                                   | EST                                                                                                                                                          | MANSFIELD                                                                                                                                                    | MASSACHUSETTS                                                                                                                                                | 02048                                                                                                                                                        | www.concerts.livenation.com                                                                                                                                  | T                                                                                                                                                            | N                                                                                                                                                            | Boston                                                                                                                                                       | 7dfa56dd7d5956b17587                                                                                                                                         |\n",
       "| Gorge Camping - dave matthews band - sept 3-7                                                                                                                | Gorge Camping                                                                                                                                                | Dave Matthews Band                                                                                                                                           | MISC                                                                                                                                                         | CAMPING                                                                                                                                                      | INVALID                                                                                                                                                      | Gorge Camping - dave matthews band - sept 3-7                                                                                                                | %OVERNIGHT C A M P I N G%* * * * * *%GORGE CAMPGROUND%* GOOD THIS DATE ONLY *%SEP 3 - 6, 2009                                                                | 1                                                                                                                                                            | 75                                                                                                                                                           | ...                                                                                                                                                          | 2009-09-01                                                                                                                                                   | PST                                                                                                                                                          | QUINCY                                                                                                                                                       | WASHINGTON                                                                                                                                                   | 98848                                                                                                                                                        | NULL                                                                                                                                                         | T                                                                                                                                                            | N                                                                                                                                                            | Seattle                                                                                                                                                      | 4f9e6fc637eaf7b736c2                                                                                                                                         |\n",
       "| Dodge Theatre Adams Street Parking - benise                                                                                                                  | Parking Event                                                                                                                                                | NULL                                                                                                                                                         | MISC                                                                                                                                                         | PARKING                                                                                                                                                      | PARKING                                                                                                                                                      | Dodge Theatre Adams Street Parking - benise                                                                                                                  | ADAMS STREET GARAGE%PARKING FOR 4/21/06 ONLY%DODGE THEATRE PARKING PASS%ENTRANCE ON ADAMS STREET%BENISE%GARAGE OPENS AT 6:00PM                               | 1                                                                                                                                                            |  5                                                                                                                                                           | ...                                                                                                                                                          | 2006-04-05                                                                                                                                                   | MST                                                                                                                                                          | PHOENIX                                                                                                                                                      | ARIZONA                                                                                                                                                      | 85003                                                                                                                                                        | NULL                                                                                                                                                         | T                                                                                                                                                            | N                                                                                                                                                            | Arizona                                                                                                                                                      | 6c2545703bd527a7144d                                                                                                                                         |\n",
       "| Gexa Energy Pavilion Vip Parking : kid rock with sheryl crow                                                                                                 | Gexa Energy Pavilion VIP Parking                                                                                                                             | NULL                                                                                                                                                         | MISC                                                                                                                                                         | PARKING                                                                                                                                                      | PARKING                                                                                                                                                      | Gexa Energy Pavilion Vip Parking : kid rock with sheryl crow                                                                                                 |    THIS TICKET IS VALID        FOR PARKING ONLY      GOOD FOR THIS DATE ONLY       VIP PARKING PASS        GEXA ENERGY PAVILION    FRI SEP 02 2011 7:00 PM   | 1                                                                                                                                                            | 20                                                                                                                                                           | ...                                                                                                                                                          | 2011-07-06                                                                                                                                                   | CST                                                                                                                                                          | DALLAS                                                                                                                                                       | TEXAS                                                                                                                                                        | 75210                                                                                                                                                        | NULL                                                                                                                                                         | T                                                                                                                                                            | N                                                                                                                                                            | Dallas                                                                                                                                                       | 527d6b1eaffc69ddd882                                                                                                                                         |\n",
       "| Premier Parking - motley crue                                                                                                                                | White River Amphitheatre Premier Parking                                                                                                                     | NULL                                                                                                                                                         | MISC                                                                                                                                                         | PARKING                                                                                                                                                      | PARKING                                                                                                                                                      | Premier Parking - motley crue                                                                                                                                | THIS TICKET IS VALID%FOR PARKING ONLY%GOOD THIS DATE ONLY%PREMIER PARKING PASS%WHITE RIVER AMPHITHEATRE%SAT JUL 30, 2005 6:00PM                              | 1                                                                                                                                                            | 20                                                                                                                                                           | ...                                                                                                                                                          | 2005-06-28                                                                                                                                                   | PST                                                                                                                                                          | AUBURN                                                                                                                                                       | WASHINGTON                                                                                                                                                   | 98092                                                                                                                                                        | NULL                                                                                                                                                         | T                                                                                                                                                            | N                                                                                                                                                            | Seattle                                                                                                                                                      | 8bd62c394a35213bdf52                                                                                                                                         |\n",
       "| Fast Lane Access: Journey                                                                                                                                    | Fast Lane Access                                                                                                                                             | Journey                                                                                                                                                      | MISC                                                                                                                                                         | SPECIAL ENTRY (UPSELL)                                                                                                                                       | UPSELL                                                                                                                                                       | Fast Lane Access: Journey                                                                                                                                    |         FAST LANE                  JOURNEY               FAST LANE EVENT         THIS IS NOT A TICKET    SAN MANUEL AMPHITHEATER   SAT JUL 21 2012 7:00 PM   | 2                                                                                                                                                            | 10                                                                                                                                                           | ...                                                                                                                                                          | 2012-07-21                                                                                                                                                   | PST                                                                                                                                                          | SAN BERNARDINO                                                                                                                                               | CALIFORNIA                                                                                                                                                   | 92407                                                                                                                                                        | www.livenation.com                                                                                                                                           | T                                                                                                                                                            | N                                                                                                                                                            | Los Angeles                                                                                                                                                  | 3b3a628f83135acd0676                                                                                                                                         |\n",
       "\n"
      ],
      "text/plain": [
       "  event_name                                                    \n",
       "1 Xfinity Center Mansfield Premier Parking: Florida Georgia Line\n",
       "2 Gorge Camping - dave matthews band - sept 3-7                 \n",
       "3 Dodge Theatre Adams Street Parking - benise                   \n",
       "4 Gexa Energy Pavilion Vip Parking : kid rock with sheryl crow  \n",
       "5 Premier Parking - motley crue                                 \n",
       "6 Fast Lane Access: Journey                                     \n",
       "  primary_act_name                         secondary_act_name major_cat_name\n",
       "1 XFINITY Center Mansfield Premier Parking NULL               MISC          \n",
       "2 Gorge Camping                            Dave Matthews Band MISC          \n",
       "3 Parking Event                            NULL               MISC          \n",
       "4 Gexa Energy Pavilion VIP Parking         NULL               MISC          \n",
       "5 White River Amphitheatre Premier Parking NULL               MISC          \n",
       "6 Fast Lane Access                         Journey            MISC          \n",
       "  minor_cat_name         la_event_type_cat\n",
       "1 PARKING                PARKING          \n",
       "2 CAMPING                INVALID          \n",
       "3 PARKING                PARKING          \n",
       "4 PARKING                PARKING          \n",
       "5 PARKING                PARKING          \n",
       "6 SPECIAL ENTRY (UPSELL) UPSELL           \n",
       "  event_disp_name                                               \n",
       "1 Xfinity Center Mansfield Premier Parking: Florida Georgia Line\n",
       "2 Gorge Camping - dave matthews band - sept 3-7                 \n",
       "3 Dodge Theatre Adams Street Parking - benise                   \n",
       "4 Gexa Energy Pavilion Vip Parking : kid rock with sheryl crow  \n",
       "5 Premier Parking - motley crue                                 \n",
       "6 Fast Lane Access: Journey                                     \n",
       "  ticket_text                                                                                                                                                 \n",
       "1    THIS TICKET IS VALID        FOR PARKING ONLY         GOOD THIS DAY ONLY       PREMIER PARKING PASS    XFINITY CENTER,LOTS 4 PM  SAT SEP 12 2015 7:30 PM  \n",
       "2 %OVERNIGHT C A M P I N G%* * * * * *%GORGE CAMPGROUND%* GOOD THIS DATE ONLY *%SEP 3 - 6, 2009                                                               \n",
       "3 ADAMS STREET GARAGE%PARKING FOR 4/21/06 ONLY%DODGE THEATRE PARKING PASS%ENTRANCE ON ADAMS STREET%BENISE%GARAGE OPENS AT 6:00PM                              \n",
       "4    THIS TICKET IS VALID        FOR PARKING ONLY      GOOD FOR THIS DATE ONLY       VIP PARKING PASS        GEXA ENERGY PAVILION    FRI SEP 02 2011 7:00 PM  \n",
       "5 THIS TICKET IS VALID%FOR PARKING ONLY%GOOD THIS DATE ONLY%PREMIER PARKING PASS%WHITE RIVER AMPHITHEATRE%SAT JUL 30, 2005 6:00PM                             \n",
       "6         FAST LANE                  JOURNEY               FAST LANE EVENT         THIS IS NOT A TICKET    SAN MANUEL AMPHITHEATER   SAT JUL 21 2012 7:00 PM  \n",
       "  tickets_purchased_qty trans_face_val_amt ... print_dt   timezn_nm\n",
       "1 1                     45                 ... 2015-09-12 EST      \n",
       "2 1                     75                 ... 2009-09-01 PST      \n",
       "3 1                      5                 ... 2006-04-05 MST      \n",
       "4 1                     20                 ... 2011-07-06 CST      \n",
       "5 1                     20                 ... 2005-06-28 PST      \n",
       "6 2                     10                 ... 2012-07-21 PST      \n",
       "  venue_city     venue_state   venue_postal_cd_sgmt_1\n",
       "1 MANSFIELD      MASSACHUSETTS 02048                 \n",
       "2 QUINCY         WASHINGTON    98848                 \n",
       "3 PHOENIX        ARIZONA       85003                 \n",
       "4 DALLAS         TEXAS         75210                 \n",
       "5 AUBURN         WASHINGTON    98092                 \n",
       "6 SAN BERNARDINO CALIFORNIA    92407                 \n",
       "  sales_platform_cd           print_flg la_valid_tkt_event_flg fin_mkt_nm \n",
       "1 www.concerts.livenation.com T         N                      Boston     \n",
       "2 NULL                        T         N                      Seattle    \n",
       "3 NULL                        T         N                      Arizona    \n",
       "4 NULL                        T         N                      Dallas     \n",
       "5 NULL                        T         N                      Seattle    \n",
       "6 www.livenation.com          T         N                      Los Angeles\n",
       "  web_session_cookie_val\n",
       "1 7dfa56dd7d5956b17587  \n",
       "2 4f9e6fc637eaf7b736c2  \n",
       "3 6c2545703bd527a7144d  \n",
       "4 527d6b1eaffc69ddd882  \n",
       "5 8bd62c394a35213bdf52  \n",
       "6 3b3a628f83135acd0676  "
      ]
     },
     "metadata": {},
     "output_type": "display_data"
    }
   ],
   "source": [
    "head(sales3)"
   ]
  },
  {
   "cell_type": "code",
   "execution_count": 49,
   "metadata": {},
   "outputs": [
    {
     "data": {
      "text/html": [
       "<table>\n",
       "<thead><tr><th scope=col>event_name</th><th scope=col>primary_act_name</th></tr></thead>\n",
       "<tbody>\n",
       "\t<tr><td>Xfinity Center Mansfield Premier Parking: Florida Georgia Line</td><td>XFINITY Center Mansfield Premier Parking                      </td></tr>\n",
       "\t<tr><td>Gorge Camping - dave matthews band - sept 3-7                 </td><td>Gorge Camping                                                 </td></tr>\n",
       "\t<tr><td>Dodge Theatre Adams Street Parking - benise                   </td><td>Parking Event                                                 </td></tr>\n",
       "\t<tr><td>Gexa Energy Pavilion Vip Parking : kid rock with sheryl crow  </td><td>Gexa Energy Pavilion VIP Parking                              </td></tr>\n",
       "\t<tr><td>Premier Parking - motley crue                                 </td><td>White River Amphitheatre Premier Parking                      </td></tr>\n",
       "\t<tr><td>Fast Lane Access: Journey                                     </td><td>Fast Lane Access                                              </td></tr>\n",
       "</tbody>\n",
       "</table>\n"
      ],
      "text/latex": [
       "\\begin{tabular}{r|ll}\n",
       " event\\_name & primary\\_act\\_name\\\\\n",
       "\\hline\n",
       "\t Xfinity Center Mansfield Premier Parking: Florida Georgia Line & XFINITY Center Mansfield Premier Parking                      \\\\\n",
       "\t Gorge Camping - dave matthews band - sept 3-7                  & Gorge Camping                                                 \\\\\n",
       "\t Dodge Theatre Adams Street Parking - benise                    & Parking Event                                                 \\\\\n",
       "\t Gexa Energy Pavilion Vip Parking : kid rock with sheryl crow   & Gexa Energy Pavilion VIP Parking                              \\\\\n",
       "\t Premier Parking - motley crue                                  & White River Amphitheatre Premier Parking                      \\\\\n",
       "\t Fast Lane Access: Journey                                      & Fast Lane Access                                              \\\\\n",
       "\\end{tabular}\n"
      ],
      "text/markdown": [
       "\n",
       "| event_name | primary_act_name |\n",
       "|---|---|\n",
       "| Xfinity Center Mansfield Premier Parking: Florida Georgia Line | XFINITY Center Mansfield Premier Parking                       |\n",
       "| Gorge Camping - dave matthews band - sept 3-7                  | Gorge Camping                                                  |\n",
       "| Dodge Theatre Adams Street Parking - benise                    | Parking Event                                                  |\n",
       "| Gexa Energy Pavilion Vip Parking : kid rock with sheryl crow   | Gexa Energy Pavilion VIP Parking                               |\n",
       "| Premier Parking - motley crue                                  | White River Amphitheatre Premier Parking                       |\n",
       "| Fast Lane Access: Journey                                      | Fast Lane Access                                               |\n",
       "\n"
      ],
      "text/plain": [
       "  event_name                                                    \n",
       "1 Xfinity Center Mansfield Premier Parking: Florida Georgia Line\n",
       "2 Gorge Camping - dave matthews band - sept 3-7                 \n",
       "3 Dodge Theatre Adams Street Parking - benise                   \n",
       "4 Gexa Energy Pavilion Vip Parking : kid rock with sheryl crow  \n",
       "5 Premier Parking - motley crue                                 \n",
       "6 Fast Lane Access: Journey                                     \n",
       "  primary_act_name                        \n",
       "1 XFINITY Center Mansfield Premier Parking\n",
       "2 Gorge Camping                           \n",
       "3 Parking Event                           \n",
       "4 Gexa Energy Pavilion VIP Parking        \n",
       "5 White River Amphitheatre Premier Parking\n",
       "6 Fast Lane Access                        "
      ]
     },
     "metadata": {},
     "output_type": "display_data"
    }
   ],
   "source": [
    "head(sales3[c(\"event_name\", \"primary_act_name\")])"
   ]
  },
  {
   "cell_type": "code",
   "execution_count": 50,
   "metadata": {},
   "outputs": [],
   "source": [
    "library(tidyr)"
   ]
  },
  {
   "cell_type": "code",
   "execution_count": 66,
   "metadata": {},
   "outputs": [],
   "source": [
    "sales4 <- separate(sales3, event_date_time, c(\"event_dt\", \"event_time\"), sep = \" \", remove = FALSE)"
   ]
  },
  {
   "cell_type": "code",
   "execution_count": 67,
   "metadata": {},
   "outputs": [
    {
     "data": {
      "text/html": [
       "<table>\n",
       "<thead><tr><th scope=col>event_name</th><th scope=col>primary_act_name</th><th scope=col>secondary_act_name</th><th scope=col>major_cat_name</th><th scope=col>minor_cat_name</th><th scope=col>la_event_type_cat</th><th scope=col>event_disp_name</th><th scope=col>ticket_text</th><th scope=col>tickets_purchased_qty</th><th scope=col>trans_face_val_amt</th><th scope=col>...</th><th scope=col>print_dt</th><th scope=col>timezn_nm</th><th scope=col>venue_city</th><th scope=col>venue_state</th><th scope=col>venue_postal_cd_sgmt_1</th><th scope=col>sales_platform_cd</th><th scope=col>print_flg</th><th scope=col>la_valid_tkt_event_flg</th><th scope=col>fin_mkt_nm</th><th scope=col>web_session_cookie_val</th></tr></thead>\n",
       "<tbody>\n",
       "\t<tr><td>Xfinity Center Mansfield Premier Parking: Florida Georgia Line                                                                                              </td><td>XFINITY Center Mansfield Premier Parking                                                                                                                    </td><td>NULL                                                                                                                                                        </td><td>MISC                                                                                                                                                        </td><td>PARKING                                                                                                                                                     </td><td>PARKING                                                                                                                                                     </td><td>Xfinity Center Mansfield Premier Parking: Florida Georgia Line                                                                                              </td><td>   THIS TICKET IS VALID        FOR PARKING ONLY         GOOD THIS DAY ONLY       PREMIER PARKING PASS    XFINITY CENTER,LOTS 4 PM  SAT SEP 12 2015 7:30 PM  </td><td>1                                                                                                                                                           </td><td>45                                                                                                                                                          </td><td>...                                                                                                                                                         </td><td>2015-09-12                                                                                                                                                  </td><td>EST                                                                                                                                                         </td><td>MANSFIELD                                                                                                                                                   </td><td>MASSACHUSETTS                                                                                                                                               </td><td>02048                                                                                                                                                       </td><td>www.concerts.livenation.com                                                                                                                                 </td><td>T                                                                                                                                                           </td><td>N                                                                                                                                                           </td><td>Boston                                                                                                                                                      </td><td>7dfa56dd7d5956b17587                                                                                                                                        </td></tr>\n",
       "\t<tr><td>Gorge Camping - dave matthews band - sept 3-7                                                                                                               </td><td>Gorge Camping                                                                                                                                               </td><td>Dave Matthews Band                                                                                                                                          </td><td>MISC                                                                                                                                                        </td><td>CAMPING                                                                                                                                                     </td><td>INVALID                                                                                                                                                     </td><td>Gorge Camping - dave matthews band - sept 3-7                                                                                                               </td><td>%OVERNIGHT C A M P I N G%* * * * * *%GORGE CAMPGROUND%* GOOD THIS DATE ONLY *%SEP 3 - 6, 2009                                                               </td><td>1                                                                                                                                                           </td><td>75                                                                                                                                                          </td><td>...                                                                                                                                                         </td><td>2009-09-01                                                                                                                                                  </td><td>PST                                                                                                                                                         </td><td>QUINCY                                                                                                                                                      </td><td>WASHINGTON                                                                                                                                                  </td><td>98848                                                                                                                                                       </td><td>NULL                                                                                                                                                        </td><td>T                                                                                                                                                           </td><td>N                                                                                                                                                           </td><td>Seattle                                                                                                                                                     </td><td>4f9e6fc637eaf7b736c2                                                                                                                                        </td></tr>\n",
       "\t<tr><td>Dodge Theatre Adams Street Parking - benise                                                                                                                 </td><td>Parking Event                                                                                                                                               </td><td>NULL                                                                                                                                                        </td><td>MISC                                                                                                                                                        </td><td>PARKING                                                                                                                                                     </td><td>PARKING                                                                                                                                                     </td><td>Dodge Theatre Adams Street Parking - benise                                                                                                                 </td><td>ADAMS STREET GARAGE%PARKING FOR 4/21/06 ONLY%DODGE THEATRE PARKING PASS%ENTRANCE ON ADAMS STREET%BENISE%GARAGE OPENS AT 6:00PM                              </td><td>1                                                                                                                                                           </td><td> 5                                                                                                                                                          </td><td>...                                                                                                                                                         </td><td>2006-04-05                                                                                                                                                  </td><td>MST                                                                                                                                                         </td><td>PHOENIX                                                                                                                                                     </td><td>ARIZONA                                                                                                                                                     </td><td>85003                                                                                                                                                       </td><td>NULL                                                                                                                                                        </td><td>T                                                                                                                                                           </td><td>N                                                                                                                                                           </td><td>Arizona                                                                                                                                                     </td><td>6c2545703bd527a7144d                                                                                                                                        </td></tr>\n",
       "\t<tr><td>Gexa Energy Pavilion Vip Parking : kid rock with sheryl crow                                                                                                </td><td>Gexa Energy Pavilion VIP Parking                                                                                                                            </td><td>NULL                                                                                                                                                        </td><td>MISC                                                                                                                                                        </td><td>PARKING                                                                                                                                                     </td><td>PARKING                                                                                                                                                     </td><td>Gexa Energy Pavilion Vip Parking : kid rock with sheryl crow                                                                                                </td><td>   THIS TICKET IS VALID        FOR PARKING ONLY      GOOD FOR THIS DATE ONLY       VIP PARKING PASS        GEXA ENERGY PAVILION    FRI SEP 02 2011 7:00 PM  </td><td>1                                                                                                                                                           </td><td>20                                                                                                                                                          </td><td>...                                                                                                                                                         </td><td>2011-07-06                                                                                                                                                  </td><td>CST                                                                                                                                                         </td><td>DALLAS                                                                                                                                                      </td><td>TEXAS                                                                                                                                                       </td><td>75210                                                                                                                                                       </td><td>NULL                                                                                                                                                        </td><td>T                                                                                                                                                           </td><td>N                                                                                                                                                           </td><td>Dallas                                                                                                                                                      </td><td>527d6b1eaffc69ddd882                                                                                                                                        </td></tr>\n",
       "\t<tr><td>Premier Parking - motley crue                                                                                                                               </td><td>White River Amphitheatre Premier Parking                                                                                                                    </td><td>NULL                                                                                                                                                        </td><td>MISC                                                                                                                                                        </td><td>PARKING                                                                                                                                                     </td><td>PARKING                                                                                                                                                     </td><td>Premier Parking - motley crue                                                                                                                               </td><td>THIS TICKET IS VALID%FOR PARKING ONLY%GOOD THIS DATE ONLY%PREMIER PARKING PASS%WHITE RIVER AMPHITHEATRE%SAT JUL 30, 2005 6:00PM                             </td><td>1                                                                                                                                                           </td><td>20                                                                                                                                                          </td><td>...                                                                                                                                                         </td><td>2005-06-28                                                                                                                                                  </td><td>PST                                                                                                                                                         </td><td>AUBURN                                                                                                                                                      </td><td>WASHINGTON                                                                                                                                                  </td><td>98092                                                                                                                                                       </td><td>NULL                                                                                                                                                        </td><td>T                                                                                                                                                           </td><td>N                                                                                                                                                           </td><td>Seattle                                                                                                                                                     </td><td>8bd62c394a35213bdf52                                                                                                                                        </td></tr>\n",
       "\t<tr><td>Fast Lane Access: Journey                                                                                                                                   </td><td>Fast Lane Access                                                                                                                                            </td><td>Journey                                                                                                                                                     </td><td>MISC                                                                                                                                                        </td><td>SPECIAL ENTRY (UPSELL)                                                                                                                                      </td><td>UPSELL                                                                                                                                                      </td><td>Fast Lane Access: Journey                                                                                                                                   </td><td>        FAST LANE                  JOURNEY               FAST LANE EVENT         THIS IS NOT A TICKET    SAN MANUEL AMPHITHEATER   SAT JUL 21 2012 7:00 PM  </td><td>2                                                                                                                                                           </td><td>10                                                                                                                                                          </td><td>...                                                                                                                                                         </td><td>2012-07-21                                                                                                                                                  </td><td>PST                                                                                                                                                         </td><td>SAN BERNARDINO                                                                                                                                              </td><td>CALIFORNIA                                                                                                                                                  </td><td>92407                                                                                                                                                       </td><td>www.livenation.com                                                                                                                                          </td><td>T                                                                                                                                                           </td><td>N                                                                                                                                                           </td><td>Los Angeles                                                                                                                                                 </td><td>3b3a628f83135acd0676                                                                                                                                        </td></tr>\n",
       "</tbody>\n",
       "</table>\n"
      ],
      "text/latex": [
       "\\begin{tabular}{r|llllllllllllllllllllllllllll}\n",
       " event\\_name & primary\\_act\\_name & secondary\\_act\\_name & major\\_cat\\_name & minor\\_cat\\_name & la\\_event\\_type\\_cat & event\\_disp\\_name & ticket\\_text & tickets\\_purchased\\_qty & trans\\_face\\_val\\_amt & ... & print\\_dt & timezn\\_nm & venue\\_city & venue\\_state & venue\\_postal\\_cd\\_sgmt\\_1 & sales\\_platform\\_cd & print\\_flg & la\\_valid\\_tkt\\_event\\_flg & fin\\_mkt\\_nm & web\\_session\\_cookie\\_val\\\\\n",
       "\\hline\n",
       "\t Xfinity Center Mansfield Premier Parking: Florida Georgia Line                                                                                               & XFINITY Center Mansfield Premier Parking                                                                                                                     & NULL                                                                                                                                                         & MISC                                                                                                                                                         & PARKING                                                                                                                                                      & PARKING                                                                                                                                                      & Xfinity Center Mansfield Premier Parking: Florida Georgia Line                                                                                               &    THIS TICKET IS VALID        FOR PARKING ONLY         GOOD THIS DAY ONLY       PREMIER PARKING PASS    XFINITY CENTER,LOTS 4 PM  SAT SEP 12 2015 7:30 PM   & 1                                                                                                                                                            & 45                                                                                                                                                           & ...                                                                                                                                                          & 2015-09-12                                                                                                                                                   & EST                                                                                                                                                          & MANSFIELD                                                                                                                                                    & MASSACHUSETTS                                                                                                                                                & 02048                                                                                                                                                        & www.concerts.livenation.com                                                                                                                                  & T                                                                                                                                                            & N                                                                                                                                                            & Boston                                                                                                                                                       & 7dfa56dd7d5956b17587                                                                                                                                        \\\\\n",
       "\t Gorge Camping - dave matthews band - sept 3-7                                                                                                                          & Gorge Camping                                                                                                                                                          & Dave Matthews Band                                                                                                                                                     & MISC                                                                                                                                                                   & CAMPING                                                                                                                                                                & INVALID                                                                                                                                                                & Gorge Camping - dave matthews band - sept 3-7                                                                                                                          & \\%OVERNIGHT C A M P I N G\\%* * * * * *\\%GORGE CAMPGROUND\\%* GOOD THIS DATE ONLY *\\%SEP 3 - 6, 2009                                                                & 1                                                                                                                                                                      & 75                                                                                                                                                                     & ...                                                                                                                                                                    & 2009-09-01                                                                                                                                                             & PST                                                                                                                                                                    & QUINCY                                                                                                                                                                 & WASHINGTON                                                                                                                                                             & 98848                                                                                                                                                                  & NULL                                                                                                                                                                   & T                                                                                                                                                                      & N                                                                                                                                                                      & Seattle                                                                                                                                                                & 4f9e6fc637eaf7b736c2                                                                                                                                                  \\\\\n",
       "\t Dodge Theatre Adams Street Parking - benise                                                                                                                            & Parking Event                                                                                                                                                          & NULL                                                                                                                                                                   & MISC                                                                                                                                                                   & PARKING                                                                                                                                                                & PARKING                                                                                                                                                                & Dodge Theatre Adams Street Parking - benise                                                                                                                            & ADAMS STREET GARAGE\\%PARKING FOR 4/21/06 ONLY\\%DODGE THEATRE PARKING PASS\\%ENTRANCE ON ADAMS STREET\\%BENISE\\%GARAGE OPENS AT 6:00PM                               & 1                                                                                                                                                                      &  5                                                                                                                                                                     & ...                                                                                                                                                                    & 2006-04-05                                                                                                                                                             & MST                                                                                                                                                                    & PHOENIX                                                                                                                                                                & ARIZONA                                                                                                                                                                & 85003                                                                                                                                                                  & NULL                                                                                                                                                                   & T                                                                                                                                                                      & N                                                                                                                                                                      & Arizona                                                                                                                                                                & 6c2545703bd527a7144d                                                                                                                                                  \\\\\n",
       "\t Gexa Energy Pavilion Vip Parking : kid rock with sheryl crow                                                                                                 & Gexa Energy Pavilion VIP Parking                                                                                                                             & NULL                                                                                                                                                         & MISC                                                                                                                                                         & PARKING                                                                                                                                                      & PARKING                                                                                                                                                      & Gexa Energy Pavilion Vip Parking : kid rock with sheryl crow                                                                                                 &    THIS TICKET IS VALID        FOR PARKING ONLY      GOOD FOR THIS DATE ONLY       VIP PARKING PASS        GEXA ENERGY PAVILION    FRI SEP 02 2011 7:00 PM   & 1                                                                                                                                                            & 20                                                                                                                                                           & ...                                                                                                                                                          & 2011-07-06                                                                                                                                                   & CST                                                                                                                                                          & DALLAS                                                                                                                                                       & TEXAS                                                                                                                                                        & 75210                                                                                                                                                        & NULL                                                                                                                                                         & T                                                                                                                                                            & N                                                                                                                                                            & Dallas                                                                                                                                                       & 527d6b1eaffc69ddd882                                                                                                                                        \\\\\n",
       "\t Premier Parking - motley crue                                                                                                                                          & White River Amphitheatre Premier Parking                                                                                                                               & NULL                                                                                                                                                                   & MISC                                                                                                                                                                   & PARKING                                                                                                                                                                & PARKING                                                                                                                                                                & Premier Parking - motley crue                                                                                                                                          & THIS TICKET IS VALID\\%FOR PARKING ONLY\\%GOOD THIS DATE ONLY\\%PREMIER PARKING PASS\\%WHITE RIVER AMPHITHEATRE\\%SAT JUL 30, 2005 6:00PM                              & 1                                                                                                                                                                      & 20                                                                                                                                                                     & ...                                                                                                                                                                    & 2005-06-28                                                                                                                                                             & PST                                                                                                                                                                    & AUBURN                                                                                                                                                                 & WASHINGTON                                                                                                                                                             & 98092                                                                                                                                                                  & NULL                                                                                                                                                                   & T                                                                                                                                                                      & N                                                                                                                                                                      & Seattle                                                                                                                                                                & 8bd62c394a35213bdf52                                                                                                                                                  \\\\\n",
       "\t Fast Lane Access: Journey                                                                                                                                    & Fast Lane Access                                                                                                                                             & Journey                                                                                                                                                      & MISC                                                                                                                                                         & SPECIAL ENTRY (UPSELL)                                                                                                                                       & UPSELL                                                                                                                                                       & Fast Lane Access: Journey                                                                                                                                    &         FAST LANE                  JOURNEY               FAST LANE EVENT         THIS IS NOT A TICKET    SAN MANUEL AMPHITHEATER   SAT JUL 21 2012 7:00 PM   & 2                                                                                                                                                            & 10                                                                                                                                                           & ...                                                                                                                                                          & 2012-07-21                                                                                                                                                   & PST                                                                                                                                                          & SAN BERNARDINO                                                                                                                                               & CALIFORNIA                                                                                                                                                   & 92407                                                                                                                                                        & www.livenation.com                                                                                                                                           & T                                                                                                                                                            & N                                                                                                                                                            & Los Angeles                                                                                                                                                  & 3b3a628f83135acd0676                                                                                                                                        \\\\\n",
       "\\end{tabular}\n"
      ],
      "text/markdown": [
       "\n",
       "| event_name | primary_act_name | secondary_act_name | major_cat_name | minor_cat_name | la_event_type_cat | event_disp_name | ticket_text | tickets_purchased_qty | trans_face_val_amt | ... | print_dt | timezn_nm | venue_city | venue_state | venue_postal_cd_sgmt_1 | sales_platform_cd | print_flg | la_valid_tkt_event_flg | fin_mkt_nm | web_session_cookie_val |\n",
       "|---|---|---|---|---|---|---|---|---|---|---|---|---|---|---|---|---|---|---|---|---|\n",
       "| Xfinity Center Mansfield Premier Parking: Florida Georgia Line                                                                                               | XFINITY Center Mansfield Premier Parking                                                                                                                     | NULL                                                                                                                                                         | MISC                                                                                                                                                         | PARKING                                                                                                                                                      | PARKING                                                                                                                                                      | Xfinity Center Mansfield Premier Parking: Florida Georgia Line                                                                                               |    THIS TICKET IS VALID        FOR PARKING ONLY         GOOD THIS DAY ONLY       PREMIER PARKING PASS    XFINITY CENTER,LOTS 4 PM  SAT SEP 12 2015 7:30 PM   | 1                                                                                                                                                            | 45                                                                                                                                                           | ...                                                                                                                                                          | 2015-09-12                                                                                                                                                   | EST                                                                                                                                                          | MANSFIELD                                                                                                                                                    | MASSACHUSETTS                                                                                                                                                | 02048                                                                                                                                                        | www.concerts.livenation.com                                                                                                                                  | T                                                                                                                                                            | N                                                                                                                                                            | Boston                                                                                                                                                       | 7dfa56dd7d5956b17587                                                                                                                                         |\n",
       "| Gorge Camping - dave matthews band - sept 3-7                                                                                                                | Gorge Camping                                                                                                                                                | Dave Matthews Band                                                                                                                                           | MISC                                                                                                                                                         | CAMPING                                                                                                                                                      | INVALID                                                                                                                                                      | Gorge Camping - dave matthews band - sept 3-7                                                                                                                | %OVERNIGHT C A M P I N G%* * * * * *%GORGE CAMPGROUND%* GOOD THIS DATE ONLY *%SEP 3 - 6, 2009                                                                | 1                                                                                                                                                            | 75                                                                                                                                                           | ...                                                                                                                                                          | 2009-09-01                                                                                                                                                   | PST                                                                                                                                                          | QUINCY                                                                                                                                                       | WASHINGTON                                                                                                                                                   | 98848                                                                                                                                                        | NULL                                                                                                                                                         | T                                                                                                                                                            | N                                                                                                                                                            | Seattle                                                                                                                                                      | 4f9e6fc637eaf7b736c2                                                                                                                                         |\n",
       "| Dodge Theatre Adams Street Parking - benise                                                                                                                  | Parking Event                                                                                                                                                | NULL                                                                                                                                                         | MISC                                                                                                                                                         | PARKING                                                                                                                                                      | PARKING                                                                                                                                                      | Dodge Theatre Adams Street Parking - benise                                                                                                                  | ADAMS STREET GARAGE%PARKING FOR 4/21/06 ONLY%DODGE THEATRE PARKING PASS%ENTRANCE ON ADAMS STREET%BENISE%GARAGE OPENS AT 6:00PM                               | 1                                                                                                                                                            |  5                                                                                                                                                           | ...                                                                                                                                                          | 2006-04-05                                                                                                                                                   | MST                                                                                                                                                          | PHOENIX                                                                                                                                                      | ARIZONA                                                                                                                                                      | 85003                                                                                                                                                        | NULL                                                                                                                                                         | T                                                                                                                                                            | N                                                                                                                                                            | Arizona                                                                                                                                                      | 6c2545703bd527a7144d                                                                                                                                         |\n",
       "| Gexa Energy Pavilion Vip Parking : kid rock with sheryl crow                                                                                                 | Gexa Energy Pavilion VIP Parking                                                                                                                             | NULL                                                                                                                                                         | MISC                                                                                                                                                         | PARKING                                                                                                                                                      | PARKING                                                                                                                                                      | Gexa Energy Pavilion Vip Parking : kid rock with sheryl crow                                                                                                 |    THIS TICKET IS VALID        FOR PARKING ONLY      GOOD FOR THIS DATE ONLY       VIP PARKING PASS        GEXA ENERGY PAVILION    FRI SEP 02 2011 7:00 PM   | 1                                                                                                                                                            | 20                                                                                                                                                           | ...                                                                                                                                                          | 2011-07-06                                                                                                                                                   | CST                                                                                                                                                          | DALLAS                                                                                                                                                       | TEXAS                                                                                                                                                        | 75210                                                                                                                                                        | NULL                                                                                                                                                         | T                                                                                                                                                            | N                                                                                                                                                            | Dallas                                                                                                                                                       | 527d6b1eaffc69ddd882                                                                                                                                         |\n",
       "| Premier Parking - motley crue                                                                                                                                | White River Amphitheatre Premier Parking                                                                                                                     | NULL                                                                                                                                                         | MISC                                                                                                                                                         | PARKING                                                                                                                                                      | PARKING                                                                                                                                                      | Premier Parking - motley crue                                                                                                                                | THIS TICKET IS VALID%FOR PARKING ONLY%GOOD THIS DATE ONLY%PREMIER PARKING PASS%WHITE RIVER AMPHITHEATRE%SAT JUL 30, 2005 6:00PM                              | 1                                                                                                                                                            | 20                                                                                                                                                           | ...                                                                                                                                                          | 2005-06-28                                                                                                                                                   | PST                                                                                                                                                          | AUBURN                                                                                                                                                       | WASHINGTON                                                                                                                                                   | 98092                                                                                                                                                        | NULL                                                                                                                                                         | T                                                                                                                                                            | N                                                                                                                                                            | Seattle                                                                                                                                                      | 8bd62c394a35213bdf52                                                                                                                                         |\n",
       "| Fast Lane Access: Journey                                                                                                                                    | Fast Lane Access                                                                                                                                             | Journey                                                                                                                                                      | MISC                                                                                                                                                         | SPECIAL ENTRY (UPSELL)                                                                                                                                       | UPSELL                                                                                                                                                       | Fast Lane Access: Journey                                                                                                                                    |         FAST LANE                  JOURNEY               FAST LANE EVENT         THIS IS NOT A TICKET    SAN MANUEL AMPHITHEATER   SAT JUL 21 2012 7:00 PM   | 2                                                                                                                                                            | 10                                                                                                                                                           | ...                                                                                                                                                          | 2012-07-21                                                                                                                                                   | PST                                                                                                                                                          | SAN BERNARDINO                                                                                                                                               | CALIFORNIA                                                                                                                                                   | 92407                                                                                                                                                        | www.livenation.com                                                                                                                                           | T                                                                                                                                                            | N                                                                                                                                                            | Los Angeles                                                                                                                                                  | 3b3a628f83135acd0676                                                                                                                                         |\n",
       "\n"
      ],
      "text/plain": [
       "  event_name                                                    \n",
       "1 Xfinity Center Mansfield Premier Parking: Florida Georgia Line\n",
       "2 Gorge Camping - dave matthews band - sept 3-7                 \n",
       "3 Dodge Theatre Adams Street Parking - benise                   \n",
       "4 Gexa Energy Pavilion Vip Parking : kid rock with sheryl crow  \n",
       "5 Premier Parking - motley crue                                 \n",
       "6 Fast Lane Access: Journey                                     \n",
       "  primary_act_name                         secondary_act_name major_cat_name\n",
       "1 XFINITY Center Mansfield Premier Parking NULL               MISC          \n",
       "2 Gorge Camping                            Dave Matthews Band MISC          \n",
       "3 Parking Event                            NULL               MISC          \n",
       "4 Gexa Energy Pavilion VIP Parking         NULL               MISC          \n",
       "5 White River Amphitheatre Premier Parking NULL               MISC          \n",
       "6 Fast Lane Access                         Journey            MISC          \n",
       "  minor_cat_name         la_event_type_cat\n",
       "1 PARKING                PARKING          \n",
       "2 CAMPING                INVALID          \n",
       "3 PARKING                PARKING          \n",
       "4 PARKING                PARKING          \n",
       "5 PARKING                PARKING          \n",
       "6 SPECIAL ENTRY (UPSELL) UPSELL           \n",
       "  event_disp_name                                               \n",
       "1 Xfinity Center Mansfield Premier Parking: Florida Georgia Line\n",
       "2 Gorge Camping - dave matthews band - sept 3-7                 \n",
       "3 Dodge Theatre Adams Street Parking - benise                   \n",
       "4 Gexa Energy Pavilion Vip Parking : kid rock with sheryl crow  \n",
       "5 Premier Parking - motley crue                                 \n",
       "6 Fast Lane Access: Journey                                     \n",
       "  ticket_text                                                                                                                                                 \n",
       "1    THIS TICKET IS VALID        FOR PARKING ONLY         GOOD THIS DAY ONLY       PREMIER PARKING PASS    XFINITY CENTER,LOTS 4 PM  SAT SEP 12 2015 7:30 PM  \n",
       "2 %OVERNIGHT C A M P I N G%* * * * * *%GORGE CAMPGROUND%* GOOD THIS DATE ONLY *%SEP 3 - 6, 2009                                                               \n",
       "3 ADAMS STREET GARAGE%PARKING FOR 4/21/06 ONLY%DODGE THEATRE PARKING PASS%ENTRANCE ON ADAMS STREET%BENISE%GARAGE OPENS AT 6:00PM                              \n",
       "4    THIS TICKET IS VALID        FOR PARKING ONLY      GOOD FOR THIS DATE ONLY       VIP PARKING PASS        GEXA ENERGY PAVILION    FRI SEP 02 2011 7:00 PM  \n",
       "5 THIS TICKET IS VALID%FOR PARKING ONLY%GOOD THIS DATE ONLY%PREMIER PARKING PASS%WHITE RIVER AMPHITHEATRE%SAT JUL 30, 2005 6:00PM                             \n",
       "6         FAST LANE                  JOURNEY               FAST LANE EVENT         THIS IS NOT A TICKET    SAN MANUEL AMPHITHEATER   SAT JUL 21 2012 7:00 PM  \n",
       "  tickets_purchased_qty trans_face_val_amt ... print_dt   timezn_nm\n",
       "1 1                     45                 ... 2015-09-12 EST      \n",
       "2 1                     75                 ... 2009-09-01 PST      \n",
       "3 1                      5                 ... 2006-04-05 MST      \n",
       "4 1                     20                 ... 2011-07-06 CST      \n",
       "5 1                     20                 ... 2005-06-28 PST      \n",
       "6 2                     10                 ... 2012-07-21 PST      \n",
       "  venue_city     venue_state   venue_postal_cd_sgmt_1\n",
       "1 MANSFIELD      MASSACHUSETTS 02048                 \n",
       "2 QUINCY         WASHINGTON    98848                 \n",
       "3 PHOENIX        ARIZONA       85003                 \n",
       "4 DALLAS         TEXAS         75210                 \n",
       "5 AUBURN         WASHINGTON    98092                 \n",
       "6 SAN BERNARDINO CALIFORNIA    92407                 \n",
       "  sales_platform_cd           print_flg la_valid_tkt_event_flg fin_mkt_nm \n",
       "1 www.concerts.livenation.com T         N                      Boston     \n",
       "2 NULL                        T         N                      Seattle    \n",
       "3 NULL                        T         N                      Arizona    \n",
       "4 NULL                        T         N                      Dallas     \n",
       "5 NULL                        T         N                      Seattle    \n",
       "6 www.livenation.com          T         N                      Los Angeles\n",
       "  web_session_cookie_val\n",
       "1 7dfa56dd7d5956b17587  \n",
       "2 4f9e6fc637eaf7b736c2  \n",
       "3 6c2545703bd527a7144d  \n",
       "4 527d6b1eaffc69ddd882  \n",
       "5 8bd62c394a35213bdf52  \n",
       "6 3b3a628f83135acd0676  "
      ]
     },
     "metadata": {},
     "output_type": "display_data"
    }
   ],
   "source": [
    "head(sales4)"
   ]
  },
  {
   "cell_type": "code",
   "execution_count": 68,
   "metadata": {},
   "outputs": [
    {
     "data": {
      "text/html": [
       "<table>\n",
       "<thead><tr><th scope=col>event_date_time</th><th scope=col>event_dt</th><th scope=col>event_time</th></tr></thead>\n",
       "<tbody>\n",
       "\t<tr><td>2015-09-12 23:30:00</td><td>2015-09-12         </td><td>23:30:00           </td></tr>\n",
       "\t<tr><td>2009-09-05 01:00:00</td><td>2009-09-05         </td><td>01:00:00           </td></tr>\n",
       "\t<tr><td>2006-04-22 01:30:00</td><td>2006-04-22         </td><td>01:30:00           </td></tr>\n",
       "\t<tr><td>2011-09-03 00:00:00</td><td>2011-09-03         </td><td>00:00:00           </td></tr>\n",
       "\t<tr><td>2005-07-31 01:00:00</td><td>2005-07-31         </td><td>01:00:00           </td></tr>\n",
       "\t<tr><td>2012-07-22 02:00:00</td><td>2012-07-22         </td><td>02:00:00           </td></tr>\n",
       "</tbody>\n",
       "</table>\n"
      ],
      "text/latex": [
       "\\begin{tabular}{r|lll}\n",
       " event\\_date\\_time & event\\_dt & event\\_time\\\\\n",
       "\\hline\n",
       "\t 2015-09-12 23:30:00 & 2015-09-12          & 23:30:00           \\\\\n",
       "\t 2009-09-05 01:00:00 & 2009-09-05          & 01:00:00           \\\\\n",
       "\t 2006-04-22 01:30:00 & 2006-04-22          & 01:30:00           \\\\\n",
       "\t 2011-09-03 00:00:00 & 2011-09-03          & 00:00:00           \\\\\n",
       "\t 2005-07-31 01:00:00 & 2005-07-31          & 01:00:00           \\\\\n",
       "\t 2012-07-22 02:00:00 & 2012-07-22          & 02:00:00           \\\\\n",
       "\\end{tabular}\n"
      ],
      "text/markdown": [
       "\n",
       "| event_date_time | event_dt | event_time |\n",
       "|---|---|---|\n",
       "| 2015-09-12 23:30:00 | 2015-09-12          | 23:30:00            |\n",
       "| 2009-09-05 01:00:00 | 2009-09-05          | 01:00:00            |\n",
       "| 2006-04-22 01:30:00 | 2006-04-22          | 01:30:00            |\n",
       "| 2011-09-03 00:00:00 | 2011-09-03          | 00:00:00            |\n",
       "| 2005-07-31 01:00:00 | 2005-07-31          | 01:00:00            |\n",
       "| 2012-07-22 02:00:00 | 2012-07-22          | 02:00:00            |\n",
       "\n"
      ],
      "text/plain": [
       "  event_date_time     event_dt   event_time\n",
       "1 2015-09-12 23:30:00 2015-09-12 23:30:00  \n",
       "2 2009-09-05 01:00:00 2009-09-05 01:00:00  \n",
       "3 2006-04-22 01:30:00 2006-04-22 01:30:00  \n",
       "4 2011-09-03 00:00:00 2011-09-03 00:00:00  \n",
       "5 2005-07-31 01:00:00 2005-07-31 01:00:00  \n",
       "6 2012-07-22 02:00:00 2012-07-22 02:00:00  "
      ]
     },
     "metadata": {},
     "output_type": "display_data"
    }
   ],
   "source": [
    "head(sales4[c(\"event_date_time\", \"event_dt\", \"event_time\")])"
   ]
  },
  {
   "cell_type": "code",
   "execution_count": 69,
   "metadata": {},
   "outputs": [
    {
     "name": "stderr",
     "output_type": "stream",
     "text": [
      "Warning message:\n",
      "\"Expected 2 pieces. Missing pieces filled with `NA` in 4 rows [2516, 3863, 4082, 4183].\""
     ]
    }
   ],
   "source": [
    "sales5 <- separate(sales4, sales_ord_create_dttm, c(\"ord_create_dt\", \"ord_create_time\"), sep = \" \")"
   ]
  },
  {
   "cell_type": "code",
   "execution_count": 70,
   "metadata": {},
   "outputs": [],
   "source": [
    "issues <- c(2516, 3863, 4082, 4183)"
   ]
  },
  {
   "cell_type": "code",
   "execution_count": 71,
   "metadata": {},
   "outputs": [
    {
     "data": {
      "text/html": [
       "<ol class=list-inline>\n",
       "\t<li>'NULL'</li>\n",
       "\t<li>'NULL'</li>\n",
       "\t<li>'NULL'</li>\n",
       "\t<li>'NULL'</li>\n",
       "</ol>\n"
      ],
      "text/latex": [
       "\\begin{enumerate*}\n",
       "\\item 'NULL'\n",
       "\\item 'NULL'\n",
       "\\item 'NULL'\n",
       "\\item 'NULL'\n",
       "\\end{enumerate*}\n"
      ],
      "text/markdown": [
       "1. 'NULL'\n",
       "2. 'NULL'\n",
       "3. 'NULL'\n",
       "4. 'NULL'\n",
       "\n",
       "\n"
      ],
      "text/plain": [
       "[1] \"NULL\" \"NULL\" \"NULL\" \"NULL\""
      ]
     },
     "metadata": {},
     "output_type": "display_data"
    }
   ],
   "source": [
    "sales3$sales_ord_create_dttm[issues]"
   ]
  },
  {
   "cell_type": "code",
   "execution_count": 72,
   "metadata": {},
   "outputs": [
    {
     "data": {
      "text/html": [
       "'2013-08-04 23:07:19'"
      ],
      "text/latex": [
       "'2013-08-04 23:07:19'"
      ],
      "text/markdown": [
       "'2013-08-04 23:07:19'"
      ],
      "text/plain": [
       "[1] \"2013-08-04 23:07:19\""
      ]
     },
     "metadata": {},
     "output_type": "display_data"
    }
   ],
   "source": [
    "sales3$sales_ord_create_dttm[2517]"
   ]
  },
  {
   "cell_type": "code",
   "execution_count": 73,
   "metadata": {},
   "outputs": [],
   "source": [
    "library(stringr)"
   ]
  },
  {
   "cell_type": "code",
   "execution_count": 83,
   "metadata": {},
   "outputs": [],
   "source": [
    "date_cols <- str_detect(names(sales5), \"dt\")"
   ]
  },
  {
   "cell_type": "code",
   "execution_count": 89,
   "metadata": {},
   "outputs": [],
   "source": [
    "library(lubridate)"
   ]
  },
  {
   "cell_type": "code",
   "execution_count": 90,
   "metadata": {},
   "outputs": [
    {
     "name": "stderr",
     "output_type": "stream",
     "text": [
      "Warning message:\n",
      "\" 2892 failed to parse.\"Warning message:\n",
      "\" 101 failed to parse.\"Warning message:\n",
      "\" 4 failed to parse.\"Warning message:\n",
      "\" 424 failed to parse.\""
     ]
    }
   ],
   "source": [
    "sales5[, date_cols] <- lapply(sales5[, date_cols], ymd)"
   ]
  },
  {
   "cell_type": "code",
   "execution_count": 97,
   "metadata": {},
   "outputs": [],
   "source": [
    "missing <- lapply(sales5[, date_cols], is.na)"
   ]
  },
  {
   "cell_type": "code",
   "execution_count": 94,
   "metadata": {},
   "outputs": [],
   "source": [
    "num_missing <- sapply(missing, sum)"
   ]
  },
  {
   "cell_type": "code",
   "execution_count": 95,
   "metadata": {},
   "outputs": [
    {
     "data": {
      "text/html": [
       "<dl class=dl-horizontal>\n",
       "\t<dt>event_dt</dt>\n",
       "\t\t<dd>0</dd>\n",
       "\t<dt>presale_dt</dt>\n",
       "\t\t<dd>2892</dd>\n",
       "\t<dt>onsale_dt</dt>\n",
       "\t\t<dd>101</dd>\n",
       "\t<dt>ord_create_dt</dt>\n",
       "\t\t<dd>4</dd>\n",
       "\t<dt>sales_ord_tran_dt</dt>\n",
       "\t\t<dd>0</dd>\n",
       "\t<dt>print_dt</dt>\n",
       "\t\t<dd>424</dd>\n",
       "</dl>\n"
      ],
      "text/latex": [
       "\\begin{description*}\n",
       "\\item[event\\textbackslash{}\\_dt] 0\n",
       "\\item[presale\\textbackslash{}\\_dt] 2892\n",
       "\\item[onsale\\textbackslash{}\\_dt] 101\n",
       "\\item[ord\\textbackslash{}\\_create\\textbackslash{}\\_dt] 4\n",
       "\\item[sales\\textbackslash{}\\_ord\\textbackslash{}\\_tran\\textbackslash{}\\_dt] 0\n",
       "\\item[print\\textbackslash{}\\_dt] 424\n",
       "\\end{description*}\n"
      ],
      "text/markdown": [
       "event_dt\n",
       ":   0presale_dt\n",
       ":   2892onsale_dt\n",
       ":   101ord_create_dt\n",
       ":   4sales_ord_tran_dt\n",
       ":   0print_dt\n",
       ":   424\n",
       "\n"
      ],
      "text/plain": [
       "         event_dt        presale_dt         onsale_dt     ord_create_dt \n",
       "                0              2892               101                 4 \n",
       "sales_ord_tran_dt          print_dt \n",
       "                0               424 "
      ]
     },
     "metadata": {},
     "output_type": "display_data"
    }
   ],
   "source": [
    "num_missing"
   ]
  },
  {
   "cell_type": "code",
   "execution_count": 99,
   "metadata": {},
   "outputs": [
    {
     "data": {
      "text/html": [
       "<dl class=dl-horizontal>\n",
       "\t<dt>event_name</dt>\n",
       "\t\t<dd>0</dd>\n",
       "\t<dt>primary_act_name</dt>\n",
       "\t\t<dd>0</dd>\n",
       "\t<dt>secondary_act_name</dt>\n",
       "\t\t<dd>0</dd>\n",
       "\t<dt>major_cat_name</dt>\n",
       "\t\t<dd>0</dd>\n",
       "\t<dt>minor_cat_name</dt>\n",
       "\t\t<dd>0</dd>\n",
       "\t<dt>la_event_type_cat</dt>\n",
       "\t\t<dd>0</dd>\n",
       "\t<dt>event_disp_name</dt>\n",
       "\t\t<dd>0</dd>\n",
       "\t<dt>ticket_text</dt>\n",
       "\t\t<dd>0</dd>\n",
       "\t<dt>tickets_purchased_qty</dt>\n",
       "\t\t<dd>0</dd>\n",
       "\t<dt>trans_face_val_amt</dt>\n",
       "\t\t<dd>0</dd>\n",
       "\t<dt>delivery_type_cd</dt>\n",
       "\t\t<dd>0</dd>\n",
       "\t<dt>event_date_time</dt>\n",
       "\t\t<dd>0</dd>\n",
       "\t<dt>event_dt</dt>\n",
       "\t\t<dd>0</dd>\n",
       "\t<dt>event_time</dt>\n",
       "\t\t<dd>0</dd>\n",
       "\t<dt>presale_dt</dt>\n",
       "\t\t<dd>2892</dd>\n",
       "\t<dt>onsale_dt</dt>\n",
       "\t\t<dd>101</dd>\n",
       "\t<dt>ord_create_dt</dt>\n",
       "\t\t<dd>4</dd>\n",
       "\t<dt>ord_create_time</dt>\n",
       "\t\t<dd>4</dd>\n",
       "\t<dt>sales_ord_tran_dt</dt>\n",
       "\t\t<dd>0</dd>\n",
       "\t<dt>print_dt</dt>\n",
       "\t\t<dd>424</dd>\n",
       "\t<dt>timezn_nm</dt>\n",
       "\t\t<dd>0</dd>\n",
       "\t<dt>venue_city</dt>\n",
       "\t\t<dd>0</dd>\n",
       "\t<dt>venue_state</dt>\n",
       "\t\t<dd>0</dd>\n",
       "\t<dt>venue_postal_cd_sgmt_1</dt>\n",
       "\t\t<dd>0</dd>\n",
       "\t<dt>sales_platform_cd</dt>\n",
       "\t\t<dd>0</dd>\n",
       "\t<dt>print_flg</dt>\n",
       "\t\t<dd>0</dd>\n",
       "\t<dt>la_valid_tkt_event_flg</dt>\n",
       "\t\t<dd>0</dd>\n",
       "\t<dt>fin_mkt_nm</dt>\n",
       "\t\t<dd>0</dd>\n",
       "\t<dt>web_session_cookie_val</dt>\n",
       "\t\t<dd>0</dd>\n",
       "</dl>\n"
      ],
      "text/latex": [
       "\\begin{description*}\n",
       "\\item[event\\textbackslash{}\\_name] 0\n",
       "\\item[primary\\textbackslash{}\\_act\\textbackslash{}\\_name] 0\n",
       "\\item[secondary\\textbackslash{}\\_act\\textbackslash{}\\_name] 0\n",
       "\\item[major\\textbackslash{}\\_cat\\textbackslash{}\\_name] 0\n",
       "\\item[minor\\textbackslash{}\\_cat\\textbackslash{}\\_name] 0\n",
       "\\item[la\\textbackslash{}\\_event\\textbackslash{}\\_type\\textbackslash{}\\_cat] 0\n",
       "\\item[event\\textbackslash{}\\_disp\\textbackslash{}\\_name] 0\n",
       "\\item[ticket\\textbackslash{}\\_text] 0\n",
       "\\item[tickets\\textbackslash{}\\_purchased\\textbackslash{}\\_qty] 0\n",
       "\\item[trans\\textbackslash{}\\_face\\textbackslash{}\\_val\\textbackslash{}\\_amt] 0\n",
       "\\item[delivery\\textbackslash{}\\_type\\textbackslash{}\\_cd] 0\n",
       "\\item[event\\textbackslash{}\\_date\\textbackslash{}\\_time] 0\n",
       "\\item[event\\textbackslash{}\\_dt] 0\n",
       "\\item[event\\textbackslash{}\\_time] 0\n",
       "\\item[presale\\textbackslash{}\\_dt] 2892\n",
       "\\item[onsale\\textbackslash{}\\_dt] 101\n",
       "\\item[ord\\textbackslash{}\\_create\\textbackslash{}\\_dt] 4\n",
       "\\item[ord\\textbackslash{}\\_create\\textbackslash{}\\_time] 4\n",
       "\\item[sales\\textbackslash{}\\_ord\\textbackslash{}\\_tran\\textbackslash{}\\_dt] 0\n",
       "\\item[print\\textbackslash{}\\_dt] 424\n",
       "\\item[timezn\\textbackslash{}\\_nm] 0\n",
       "\\item[venue\\textbackslash{}\\_city] 0\n",
       "\\item[venue\\textbackslash{}\\_state] 0\n",
       "\\item[venue\\textbackslash{}\\_postal\\textbackslash{}\\_cd\\textbackslash{}\\_sgmt\\textbackslash{}\\_1] 0\n",
       "\\item[sales\\textbackslash{}\\_platform\\textbackslash{}\\_cd] 0\n",
       "\\item[print\\textbackslash{}\\_flg] 0\n",
       "\\item[la\\textbackslash{}\\_valid\\textbackslash{}\\_tkt\\textbackslash{}\\_event\\textbackslash{}\\_flg] 0\n",
       "\\item[fin\\textbackslash{}\\_mkt\\textbackslash{}\\_nm] 0\n",
       "\\item[web\\textbackslash{}\\_session\\textbackslash{}\\_cookie\\textbackslash{}\\_val] 0\n",
       "\\end{description*}\n"
      ],
      "text/markdown": [
       "event_name\n",
       ":   0primary_act_name\n",
       ":   0secondary_act_name\n",
       ":   0major_cat_name\n",
       ":   0minor_cat_name\n",
       ":   0la_event_type_cat\n",
       ":   0event_disp_name\n",
       ":   0ticket_text\n",
       ":   0tickets_purchased_qty\n",
       ":   0trans_face_val_amt\n",
       ":   0delivery_type_cd\n",
       ":   0event_date_time\n",
       ":   0event_dt\n",
       ":   0event_time\n",
       ":   0presale_dt\n",
       ":   2892onsale_dt\n",
       ":   101ord_create_dt\n",
       ":   4ord_create_time\n",
       ":   4sales_ord_tran_dt\n",
       ":   0print_dt\n",
       ":   424timezn_nm\n",
       ":   0venue_city\n",
       ":   0venue_state\n",
       ":   0venue_postal_cd_sgmt_1\n",
       ":   0sales_platform_cd\n",
       ":   0print_flg\n",
       ":   0la_valid_tkt_event_flg\n",
       ":   0fin_mkt_nm\n",
       ":   0web_session_cookie_val\n",
       ":   0\n",
       "\n"
      ],
      "text/plain": [
       "            event_name       primary_act_name     secondary_act_name \n",
       "                     0                      0                      0 \n",
       "        major_cat_name         minor_cat_name      la_event_type_cat \n",
       "                     0                      0                      0 \n",
       "       event_disp_name            ticket_text  tickets_purchased_qty \n",
       "                     0                      0                      0 \n",
       "    trans_face_val_amt       delivery_type_cd        event_date_time \n",
       "                     0                      0                      0 \n",
       "              event_dt             event_time             presale_dt \n",
       "                     0                      0                   2892 \n",
       "             onsale_dt          ord_create_dt        ord_create_time \n",
       "                   101                      4                      4 \n",
       "     sales_ord_tran_dt               print_dt              timezn_nm \n",
       "                     0                    424                      0 \n",
       "            venue_city            venue_state venue_postal_cd_sgmt_1 \n",
       "                     0                      0                      0 \n",
       "     sales_platform_cd              print_flg la_valid_tkt_event_flg \n",
       "                     0                      0                      0 \n",
       "            fin_mkt_nm web_session_cookie_val \n",
       "                     0                      0 "
      ]
     },
     "metadata": {},
     "output_type": "display_data"
    }
   ],
   "source": [
    "## Check for missing values in all the columns\n",
    "sapply(lapply(sales5, is.na), sum)"
   ]
  },
  {
   "cell_type": "code",
   "execution_count": 106,
   "metadata": {},
   "outputs": [],
   "source": [
    "sales6 <- unite(sales5, venue_city_state, venue_city, venue_state, sep = \", \", remove = FALSE)"
   ]
  },
  {
   "cell_type": "code",
   "execution_count": 107,
   "metadata": {},
   "outputs": [
    {
     "data": {
      "text/html": [
       "<table>\n",
       "<thead><tr><th scope=col>venue_city</th><th scope=col>venue_state</th><th scope=col>venue_city_state</th></tr></thead>\n",
       "<tbody>\n",
       "\t<tr><td>MANSFIELD                 </td><td>MASSACHUSETTS             </td><td>MANSFIELD, MASSACHUSETTS  </td></tr>\n",
       "\t<tr><td>QUINCY                    </td><td>WASHINGTON                </td><td>QUINCY, WASHINGTON        </td></tr>\n",
       "\t<tr><td>PHOENIX                   </td><td>ARIZONA                   </td><td>PHOENIX, ARIZONA          </td></tr>\n",
       "\t<tr><td>DALLAS                    </td><td>TEXAS                     </td><td>DALLAS, TEXAS             </td></tr>\n",
       "\t<tr><td>AUBURN                    </td><td>WASHINGTON                </td><td>AUBURN, WASHINGTON        </td></tr>\n",
       "\t<tr><td>SAN BERNARDINO            </td><td>CALIFORNIA                </td><td>SAN BERNARDINO, CALIFORNIA</td></tr>\n",
       "</tbody>\n",
       "</table>\n"
      ],
      "text/latex": [
       "\\begin{tabular}{r|lll}\n",
       " venue\\_city & venue\\_state & venue\\_city\\_state\\\\\n",
       "\\hline\n",
       "\t MANSFIELD                  & MASSACHUSETTS              & MANSFIELD, MASSACHUSETTS  \\\\\n",
       "\t QUINCY                     & WASHINGTON                 & QUINCY, WASHINGTON        \\\\\n",
       "\t PHOENIX                    & ARIZONA                    & PHOENIX, ARIZONA          \\\\\n",
       "\t DALLAS                     & TEXAS                      & DALLAS, TEXAS             \\\\\n",
       "\t AUBURN                     & WASHINGTON                 & AUBURN, WASHINGTON        \\\\\n",
       "\t SAN BERNARDINO             & CALIFORNIA                 & SAN BERNARDINO, CALIFORNIA\\\\\n",
       "\\end{tabular}\n"
      ],
      "text/markdown": [
       "\n",
       "| venue_city | venue_state | venue_city_state |\n",
       "|---|---|---|\n",
       "| MANSFIELD                  | MASSACHUSETTS              | MANSFIELD, MASSACHUSETTS   |\n",
       "| QUINCY                     | WASHINGTON                 | QUINCY, WASHINGTON         |\n",
       "| PHOENIX                    | ARIZONA                    | PHOENIX, ARIZONA           |\n",
       "| DALLAS                     | TEXAS                      | DALLAS, TEXAS              |\n",
       "| AUBURN                     | WASHINGTON                 | AUBURN, WASHINGTON         |\n",
       "| SAN BERNARDINO             | CALIFORNIA                 | SAN BERNARDINO, CALIFORNIA |\n",
       "\n"
      ],
      "text/plain": [
       "  venue_city     venue_state   venue_city_state          \n",
       "1 MANSFIELD      MASSACHUSETTS MANSFIELD, MASSACHUSETTS  \n",
       "2 QUINCY         WASHINGTON    QUINCY, WASHINGTON        \n",
       "3 PHOENIX        ARIZONA       PHOENIX, ARIZONA          \n",
       "4 DALLAS         TEXAS         DALLAS, TEXAS             \n",
       "5 AUBURN         WASHINGTON    AUBURN, WASHINGTON        \n",
       "6 SAN BERNARDINO CALIFORNIA    SAN BERNARDINO, CALIFORNIA"
      ]
     },
     "metadata": {},
     "output_type": "display_data"
    }
   ],
   "source": [
    "head(sales6[c(\"venue_city\", \"venue_state\", \"venue_city_state\")])"
   ]
  }
 ],
 "metadata": {
  "kernelspec": {
   "display_name": "R",
   "language": "R",
   "name": "ir"
  },
  "language_info": {
   "codemirror_mode": "r",
   "file_extension": ".r",
   "mimetype": "text/x-r-source",
   "name": "R",
   "pygments_lexer": "r",
   "version": "3.6.1"
  }
 },
 "nbformat": 4,
 "nbformat_minor": 2
}
