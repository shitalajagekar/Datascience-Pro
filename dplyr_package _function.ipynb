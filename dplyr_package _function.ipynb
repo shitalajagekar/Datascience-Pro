{
  "nbformat": 4,
  "nbformat_minor": 0,
  "metadata": {
    "kernelspec": {
      "display_name": "R",
      "language": "R",
      "name": "ir"
    },
    "language_info": {
      "codemirror_mode": "r",
      "file_extension": ".r",
      "mimetype": "text/x-r-source",
      "name": "R",
      "pygments_lexer": "r",
      "version": "3.6.1"
    },
    "colab": {
      "name": "Copy of Ticket Sales.ipynb",
      "provenance": []
    }
  },
  "cells": [
    {
      "cell_type": "code",
      "metadata": {
        "id": "AXH9pvng02UI",
        "colab_type": "code",
        "outputId": "7b0f1bf2-51f8-443f-8e59-071683363744",
        "colab": {
          "base_uri": "https://localhost:8080/",
          "height": 72
        }
      },
      "source": [
        "install.packages(\"dplyr\")"
      ],
      "execution_count": 63,
      "outputs": [
        {
          "output_type": "stream",
          "text": [
            "Installing package into ‘/usr/local/lib/R/site-library’\n",
            "(as ‘lib’ is unspecified)\n",
            "\n"
          ],
          "name": "stderr"
        }
      ]
    },
    {
      "cell_type": "code",
      "metadata": {
        "id": "iecr7K341YhY",
        "colab_type": "code",
        "colab": {}
      },
      "source": [
        "library(dplyr)"
      ],
      "execution_count": 0,
      "outputs": []
    },
    {
      "cell_type": "code",
      "metadata": {
        "id": "vxyQAIsR06Fj",
        "colab_type": "code",
        "outputId": "d5cd2681-e671-48cc-c9d8-bc022317a946",
        "colab": {
          "base_uri": "https://localhost:8080/",
          "height": 72
        }
      },
      "source": [
        "install.packages(\"gapminder\")"
      ],
      "execution_count": 65,
      "outputs": [
        {
          "output_type": "stream",
          "text": [
            "Installing package into ‘/usr/local/lib/R/site-library’\n",
            "(as ‘lib’ is unspecified)\n",
            "\n"
          ],
          "name": "stderr"
        }
      ]
    },
    {
      "cell_type": "code",
      "metadata": {
        "id": "-tdnN7ny1Pzv",
        "colab_type": "code",
        "colab": {}
      },
      "source": [
        "library(gapminder)"
      ],
      "execution_count": 0,
      "outputs": []
    },
    {
      "cell_type": "code",
      "metadata": {
        "id": "7ZAu79wQ1UFm",
        "colab_type": "code",
        "outputId": "8f43a73c-4b0e-44d1-dd65-4a85de71b51d",
        "colab": {
          "base_uri": "https://localhost:8080/",
          "height": 1000
        }
      },
      "source": [
        "head(gapminder,50)"
      ],
      "execution_count": 67,
      "outputs": [
        {
          "output_type": "display_data",
          "data": {
            "text/plain": [
              "   country     continent year lifeExp pop      gdpPercap\n",
              "1  Afghanistan Asia      1952 28.801   8425333  779.4453\n",
              "2  Afghanistan Asia      1957 30.332   9240934  820.8530\n",
              "3  Afghanistan Asia      1962 31.997  10267083  853.1007\n",
              "4  Afghanistan Asia      1967 34.020  11537966  836.1971\n",
              "5  Afghanistan Asia      1972 36.088  13079460  739.9811\n",
              "6  Afghanistan Asia      1977 38.438  14880372  786.1134\n",
              "7  Afghanistan Asia      1982 39.854  12881816  978.0114\n",
              "8  Afghanistan Asia      1987 40.822  13867957  852.3959\n",
              "9  Afghanistan Asia      1992 41.674  16317921  649.3414\n",
              "10 Afghanistan Asia      1997 41.763  22227415  635.3414\n",
              "11 Afghanistan Asia      2002 42.129  25268405  726.7341\n",
              "12 Afghanistan Asia      2007 43.828  31889923  974.5803\n",
              "13 Albania     Europe    1952 55.230   1282697 1601.0561\n",
              "14 Albania     Europe    1957 59.280   1476505 1942.2842\n",
              "15 Albania     Europe    1962 64.820   1728137 2312.8890\n",
              "16 Albania     Europe    1967 66.220   1984060 2760.1969\n",
              "17 Albania     Europe    1972 67.690   2263554 3313.4222\n",
              "18 Albania     Europe    1977 68.930   2509048 3533.0039\n",
              "19 Albania     Europe    1982 70.420   2780097 3630.8807\n",
              "20 Albania     Europe    1987 72.000   3075321 3738.9327\n",
              "21 Albania     Europe    1992 71.581   3326498 2497.4379\n",
              "22 Albania     Europe    1997 72.950   3428038 3193.0546\n",
              "23 Albania     Europe    2002 75.651   3508512 4604.2117\n",
              "24 Albania     Europe    2007 76.423   3600523 5937.0295\n",
              "25 Algeria     Africa    1952 43.077   9279525 2449.0082\n",
              "26 Algeria     Africa    1957 45.685  10270856 3013.9760\n",
              "27 Algeria     Africa    1962 48.303  11000948 2550.8169\n",
              "28 Algeria     Africa    1967 51.407  12760499 3246.9918\n",
              "29 Algeria     Africa    1972 54.518  14760787 4182.6638\n",
              "30 Algeria     Africa    1977 58.014  17152804 4910.4168\n",
              "31 Algeria     Africa    1982 61.368  20033753 5745.1602\n",
              "32 Algeria     Africa    1987 65.799  23254956 5681.3585\n",
              "33 Algeria     Africa    1992 67.744  26298373 5023.2166\n",
              "34 Algeria     Africa    1997 69.152  29072015 4797.2951\n",
              "35 Algeria     Africa    2002 70.994  31287142 5288.0404\n",
              "36 Algeria     Africa    2007 72.301  33333216 6223.3675\n",
              "37 Angola      Africa    1952 30.015   4232095 3520.6103\n",
              "38 Angola      Africa    1957 31.999   4561361 3827.9405\n",
              "39 Angola      Africa    1962 34.000   4826015 4269.2767\n",
              "40 Angola      Africa    1967 35.985   5247469 5522.7764\n",
              "41 Angola      Africa    1972 37.928   5894858 5473.2880\n",
              "42 Angola      Africa    1977 39.483   6162675 3008.6474\n",
              "43 Angola      Africa    1982 39.942   7016384 2756.9537\n",
              "44 Angola      Africa    1987 39.906   7874230 2430.2083\n",
              "45 Angola      Africa    1992 40.647   8735988 2627.8457\n",
              "46 Angola      Africa    1997 40.963   9875024 2277.1409\n",
              "47 Angola      Africa    2002 41.003  10866106 2773.2873\n",
              "48 Angola      Africa    2007 42.731  12420476 4797.2313\n",
              "49 Argentina   Americas  1952 62.485  17876956 5911.3151\n",
              "50 Argentina   Americas  1957 64.399  19610538 6856.8562"
            ],
            "text/latex": "A tibble: 50 × 6\n\\begin{tabular}{llllll}\n country & continent & year & lifeExp & pop & gdpPercap\\\\\n <fct> & <fct> & <int> & <dbl> & <int> & <dbl>\\\\\n\\hline\n\t Afghanistan & Asia     & 1952 & 28.801 &  8425333 &  779.4453\\\\\n\t Afghanistan & Asia     & 1957 & 30.332 &  9240934 &  820.8530\\\\\n\t Afghanistan & Asia     & 1962 & 31.997 & 10267083 &  853.1007\\\\\n\t Afghanistan & Asia     & 1967 & 34.020 & 11537966 &  836.1971\\\\\n\t Afghanistan & Asia     & 1972 & 36.088 & 13079460 &  739.9811\\\\\n\t Afghanistan & Asia     & 1977 & 38.438 & 14880372 &  786.1134\\\\\n\t Afghanistan & Asia     & 1982 & 39.854 & 12881816 &  978.0114\\\\\n\t Afghanistan & Asia     & 1987 & 40.822 & 13867957 &  852.3959\\\\\n\t Afghanistan & Asia     & 1992 & 41.674 & 16317921 &  649.3414\\\\\n\t Afghanistan & Asia     & 1997 & 41.763 & 22227415 &  635.3414\\\\\n\t Afghanistan & Asia     & 2002 & 42.129 & 25268405 &  726.7341\\\\\n\t Afghanistan & Asia     & 2007 & 43.828 & 31889923 &  974.5803\\\\\n\t Albania     & Europe   & 1952 & 55.230 &  1282697 & 1601.0561\\\\\n\t Albania     & Europe   & 1957 & 59.280 &  1476505 & 1942.2842\\\\\n\t Albania     & Europe   & 1962 & 64.820 &  1728137 & 2312.8890\\\\\n\t Albania     & Europe   & 1967 & 66.220 &  1984060 & 2760.1969\\\\\n\t Albania     & Europe   & 1972 & 67.690 &  2263554 & 3313.4222\\\\\n\t Albania     & Europe   & 1977 & 68.930 &  2509048 & 3533.0039\\\\\n\t Albania     & Europe   & 1982 & 70.420 &  2780097 & 3630.8807\\\\\n\t Albania     & Europe   & 1987 & 72.000 &  3075321 & 3738.9327\\\\\n\t Albania     & Europe   & 1992 & 71.581 &  3326498 & 2497.4379\\\\\n\t Albania     & Europe   & 1997 & 72.950 &  3428038 & 3193.0546\\\\\n\t Albania     & Europe   & 2002 & 75.651 &  3508512 & 4604.2117\\\\\n\t Albania     & Europe   & 2007 & 76.423 &  3600523 & 5937.0295\\\\\n\t Algeria     & Africa   & 1952 & 43.077 &  9279525 & 2449.0082\\\\\n\t Algeria     & Africa   & 1957 & 45.685 & 10270856 & 3013.9760\\\\\n\t Algeria     & Africa   & 1962 & 48.303 & 11000948 & 2550.8169\\\\\n\t Algeria     & Africa   & 1967 & 51.407 & 12760499 & 3246.9918\\\\\n\t Algeria     & Africa   & 1972 & 54.518 & 14760787 & 4182.6638\\\\\n\t Algeria     & Africa   & 1977 & 58.014 & 17152804 & 4910.4168\\\\\n\t Algeria     & Africa   & 1982 & 61.368 & 20033753 & 5745.1602\\\\\n\t Algeria     & Africa   & 1987 & 65.799 & 23254956 & 5681.3585\\\\\n\t Algeria     & Africa   & 1992 & 67.744 & 26298373 & 5023.2166\\\\\n\t Algeria     & Africa   & 1997 & 69.152 & 29072015 & 4797.2951\\\\\n\t Algeria     & Africa   & 2002 & 70.994 & 31287142 & 5288.0404\\\\\n\t Algeria     & Africa   & 2007 & 72.301 & 33333216 & 6223.3675\\\\\n\t Angola      & Africa   & 1952 & 30.015 &  4232095 & 3520.6103\\\\\n\t Angola      & Africa   & 1957 & 31.999 &  4561361 & 3827.9405\\\\\n\t Angola      & Africa   & 1962 & 34.000 &  4826015 & 4269.2767\\\\\n\t Angola      & Africa   & 1967 & 35.985 &  5247469 & 5522.7764\\\\\n\t Angola      & Africa   & 1972 & 37.928 &  5894858 & 5473.2880\\\\\n\t Angola      & Africa   & 1977 & 39.483 &  6162675 & 3008.6474\\\\\n\t Angola      & Africa   & 1982 & 39.942 &  7016384 & 2756.9537\\\\\n\t Angola      & Africa   & 1987 & 39.906 &  7874230 & 2430.2083\\\\\n\t Angola      & Africa   & 1992 & 40.647 &  8735988 & 2627.8457\\\\\n\t Angola      & Africa   & 1997 & 40.963 &  9875024 & 2277.1409\\\\\n\t Angola      & Africa   & 2002 & 41.003 & 10866106 & 2773.2873\\\\\n\t Angola      & Africa   & 2007 & 42.731 & 12420476 & 4797.2313\\\\\n\t Argentina   & Americas & 1952 & 62.485 & 17876956 & 5911.3151\\\\\n\t Argentina   & Americas & 1957 & 64.399 & 19610538 & 6856.8562\\\\\n\\end{tabular}\n",
            "text/markdown": "\nA tibble: 50 × 6\n\n| country &lt;fct&gt; | continent &lt;fct&gt; | year &lt;int&gt; | lifeExp &lt;dbl&gt; | pop &lt;int&gt; | gdpPercap &lt;dbl&gt; |\n|---|---|---|---|---|---|\n| Afghanistan | Asia     | 1952 | 28.801 |  8425333 |  779.4453 |\n| Afghanistan | Asia     | 1957 | 30.332 |  9240934 |  820.8530 |\n| Afghanistan | Asia     | 1962 | 31.997 | 10267083 |  853.1007 |\n| Afghanistan | Asia     | 1967 | 34.020 | 11537966 |  836.1971 |\n| Afghanistan | Asia     | 1972 | 36.088 | 13079460 |  739.9811 |\n| Afghanistan | Asia     | 1977 | 38.438 | 14880372 |  786.1134 |\n| Afghanistan | Asia     | 1982 | 39.854 | 12881816 |  978.0114 |\n| Afghanistan | Asia     | 1987 | 40.822 | 13867957 |  852.3959 |\n| Afghanistan | Asia     | 1992 | 41.674 | 16317921 |  649.3414 |\n| Afghanistan | Asia     | 1997 | 41.763 | 22227415 |  635.3414 |\n| Afghanistan | Asia     | 2002 | 42.129 | 25268405 |  726.7341 |\n| Afghanistan | Asia     | 2007 | 43.828 | 31889923 |  974.5803 |\n| Albania     | Europe   | 1952 | 55.230 |  1282697 | 1601.0561 |\n| Albania     | Europe   | 1957 | 59.280 |  1476505 | 1942.2842 |\n| Albania     | Europe   | 1962 | 64.820 |  1728137 | 2312.8890 |\n| Albania     | Europe   | 1967 | 66.220 |  1984060 | 2760.1969 |\n| Albania     | Europe   | 1972 | 67.690 |  2263554 | 3313.4222 |\n| Albania     | Europe   | 1977 | 68.930 |  2509048 | 3533.0039 |\n| Albania     | Europe   | 1982 | 70.420 |  2780097 | 3630.8807 |\n| Albania     | Europe   | 1987 | 72.000 |  3075321 | 3738.9327 |\n| Albania     | Europe   | 1992 | 71.581 |  3326498 | 2497.4379 |\n| Albania     | Europe   | 1997 | 72.950 |  3428038 | 3193.0546 |\n| Albania     | Europe   | 2002 | 75.651 |  3508512 | 4604.2117 |\n| Albania     | Europe   | 2007 | 76.423 |  3600523 | 5937.0295 |\n| Algeria     | Africa   | 1952 | 43.077 |  9279525 | 2449.0082 |\n| Algeria     | Africa   | 1957 | 45.685 | 10270856 | 3013.9760 |\n| Algeria     | Africa   | 1962 | 48.303 | 11000948 | 2550.8169 |\n| Algeria     | Africa   | 1967 | 51.407 | 12760499 | 3246.9918 |\n| Algeria     | Africa   | 1972 | 54.518 | 14760787 | 4182.6638 |\n| Algeria     | Africa   | 1977 | 58.014 | 17152804 | 4910.4168 |\n| Algeria     | Africa   | 1982 | 61.368 | 20033753 | 5745.1602 |\n| Algeria     | Africa   | 1987 | 65.799 | 23254956 | 5681.3585 |\n| Algeria     | Africa   | 1992 | 67.744 | 26298373 | 5023.2166 |\n| Algeria     | Africa   | 1997 | 69.152 | 29072015 | 4797.2951 |\n| Algeria     | Africa   | 2002 | 70.994 | 31287142 | 5288.0404 |\n| Algeria     | Africa   | 2007 | 72.301 | 33333216 | 6223.3675 |\n| Angola      | Africa   | 1952 | 30.015 |  4232095 | 3520.6103 |\n| Angola      | Africa   | 1957 | 31.999 |  4561361 | 3827.9405 |\n| Angola      | Africa   | 1962 | 34.000 |  4826015 | 4269.2767 |\n| Angola      | Africa   | 1967 | 35.985 |  5247469 | 5522.7764 |\n| Angola      | Africa   | 1972 | 37.928 |  5894858 | 5473.2880 |\n| Angola      | Africa   | 1977 | 39.483 |  6162675 | 3008.6474 |\n| Angola      | Africa   | 1982 | 39.942 |  7016384 | 2756.9537 |\n| Angola      | Africa   | 1987 | 39.906 |  7874230 | 2430.2083 |\n| Angola      | Africa   | 1992 | 40.647 |  8735988 | 2627.8457 |\n| Angola      | Africa   | 1997 | 40.963 |  9875024 | 2277.1409 |\n| Angola      | Africa   | 2002 | 41.003 | 10866106 | 2773.2873 |\n| Angola      | Africa   | 2007 | 42.731 | 12420476 | 4797.2313 |\n| Argentina   | Americas | 1952 | 62.485 | 17876956 | 5911.3151 |\n| Argentina   | Americas | 1957 | 64.399 | 19610538 | 6856.8562 |\n\n",
            "text/html": [
              "<table>\n",
              "<caption>A tibble: 50 × 6</caption>\n",
              "<thead>\n",
              "\t<tr><th scope=col>country</th><th scope=col>continent</th><th scope=col>year</th><th scope=col>lifeExp</th><th scope=col>pop</th><th scope=col>gdpPercap</th></tr>\n",
              "\t<tr><th scope=col>&lt;fct&gt;</th><th scope=col>&lt;fct&gt;</th><th scope=col>&lt;int&gt;</th><th scope=col>&lt;dbl&gt;</th><th scope=col>&lt;int&gt;</th><th scope=col>&lt;dbl&gt;</th></tr>\n",
              "</thead>\n",
              "<tbody>\n",
              "\t<tr><td>Afghanistan</td><td>Asia    </td><td>1952</td><td>28.801</td><td> 8425333</td><td> 779.4453</td></tr>\n",
              "\t<tr><td>Afghanistan</td><td>Asia    </td><td>1957</td><td>30.332</td><td> 9240934</td><td> 820.8530</td></tr>\n",
              "\t<tr><td>Afghanistan</td><td>Asia    </td><td>1962</td><td>31.997</td><td>10267083</td><td> 853.1007</td></tr>\n",
              "\t<tr><td>Afghanistan</td><td>Asia    </td><td>1967</td><td>34.020</td><td>11537966</td><td> 836.1971</td></tr>\n",
              "\t<tr><td>Afghanistan</td><td>Asia    </td><td>1972</td><td>36.088</td><td>13079460</td><td> 739.9811</td></tr>\n",
              "\t<tr><td>Afghanistan</td><td>Asia    </td><td>1977</td><td>38.438</td><td>14880372</td><td> 786.1134</td></tr>\n",
              "\t<tr><td>Afghanistan</td><td>Asia    </td><td>1982</td><td>39.854</td><td>12881816</td><td> 978.0114</td></tr>\n",
              "\t<tr><td>Afghanistan</td><td>Asia    </td><td>1987</td><td>40.822</td><td>13867957</td><td> 852.3959</td></tr>\n",
              "\t<tr><td>Afghanistan</td><td>Asia    </td><td>1992</td><td>41.674</td><td>16317921</td><td> 649.3414</td></tr>\n",
              "\t<tr><td>Afghanistan</td><td>Asia    </td><td>1997</td><td>41.763</td><td>22227415</td><td> 635.3414</td></tr>\n",
              "\t<tr><td>Afghanistan</td><td>Asia    </td><td>2002</td><td>42.129</td><td>25268405</td><td> 726.7341</td></tr>\n",
              "\t<tr><td>Afghanistan</td><td>Asia    </td><td>2007</td><td>43.828</td><td>31889923</td><td> 974.5803</td></tr>\n",
              "\t<tr><td>Albania    </td><td>Europe  </td><td>1952</td><td>55.230</td><td> 1282697</td><td>1601.0561</td></tr>\n",
              "\t<tr><td>Albania    </td><td>Europe  </td><td>1957</td><td>59.280</td><td> 1476505</td><td>1942.2842</td></tr>\n",
              "\t<tr><td>Albania    </td><td>Europe  </td><td>1962</td><td>64.820</td><td> 1728137</td><td>2312.8890</td></tr>\n",
              "\t<tr><td>Albania    </td><td>Europe  </td><td>1967</td><td>66.220</td><td> 1984060</td><td>2760.1969</td></tr>\n",
              "\t<tr><td>Albania    </td><td>Europe  </td><td>1972</td><td>67.690</td><td> 2263554</td><td>3313.4222</td></tr>\n",
              "\t<tr><td>Albania    </td><td>Europe  </td><td>1977</td><td>68.930</td><td> 2509048</td><td>3533.0039</td></tr>\n",
              "\t<tr><td>Albania    </td><td>Europe  </td><td>1982</td><td>70.420</td><td> 2780097</td><td>3630.8807</td></tr>\n",
              "\t<tr><td>Albania    </td><td>Europe  </td><td>1987</td><td>72.000</td><td> 3075321</td><td>3738.9327</td></tr>\n",
              "\t<tr><td>Albania    </td><td>Europe  </td><td>1992</td><td>71.581</td><td> 3326498</td><td>2497.4379</td></tr>\n",
              "\t<tr><td>Albania    </td><td>Europe  </td><td>1997</td><td>72.950</td><td> 3428038</td><td>3193.0546</td></tr>\n",
              "\t<tr><td>Albania    </td><td>Europe  </td><td>2002</td><td>75.651</td><td> 3508512</td><td>4604.2117</td></tr>\n",
              "\t<tr><td>Albania    </td><td>Europe  </td><td>2007</td><td>76.423</td><td> 3600523</td><td>5937.0295</td></tr>\n",
              "\t<tr><td>Algeria    </td><td>Africa  </td><td>1952</td><td>43.077</td><td> 9279525</td><td>2449.0082</td></tr>\n",
              "\t<tr><td>Algeria    </td><td>Africa  </td><td>1957</td><td>45.685</td><td>10270856</td><td>3013.9760</td></tr>\n",
              "\t<tr><td>Algeria    </td><td>Africa  </td><td>1962</td><td>48.303</td><td>11000948</td><td>2550.8169</td></tr>\n",
              "\t<tr><td>Algeria    </td><td>Africa  </td><td>1967</td><td>51.407</td><td>12760499</td><td>3246.9918</td></tr>\n",
              "\t<tr><td>Algeria    </td><td>Africa  </td><td>1972</td><td>54.518</td><td>14760787</td><td>4182.6638</td></tr>\n",
              "\t<tr><td>Algeria    </td><td>Africa  </td><td>1977</td><td>58.014</td><td>17152804</td><td>4910.4168</td></tr>\n",
              "\t<tr><td>Algeria    </td><td>Africa  </td><td>1982</td><td>61.368</td><td>20033753</td><td>5745.1602</td></tr>\n",
              "\t<tr><td>Algeria    </td><td>Africa  </td><td>1987</td><td>65.799</td><td>23254956</td><td>5681.3585</td></tr>\n",
              "\t<tr><td>Algeria    </td><td>Africa  </td><td>1992</td><td>67.744</td><td>26298373</td><td>5023.2166</td></tr>\n",
              "\t<tr><td>Algeria    </td><td>Africa  </td><td>1997</td><td>69.152</td><td>29072015</td><td>4797.2951</td></tr>\n",
              "\t<tr><td>Algeria    </td><td>Africa  </td><td>2002</td><td>70.994</td><td>31287142</td><td>5288.0404</td></tr>\n",
              "\t<tr><td>Algeria    </td><td>Africa  </td><td>2007</td><td>72.301</td><td>33333216</td><td>6223.3675</td></tr>\n",
              "\t<tr><td>Angola     </td><td>Africa  </td><td>1952</td><td>30.015</td><td> 4232095</td><td>3520.6103</td></tr>\n",
              "\t<tr><td>Angola     </td><td>Africa  </td><td>1957</td><td>31.999</td><td> 4561361</td><td>3827.9405</td></tr>\n",
              "\t<tr><td>Angola     </td><td>Africa  </td><td>1962</td><td>34.000</td><td> 4826015</td><td>4269.2767</td></tr>\n",
              "\t<tr><td>Angola     </td><td>Africa  </td><td>1967</td><td>35.985</td><td> 5247469</td><td>5522.7764</td></tr>\n",
              "\t<tr><td>Angola     </td><td>Africa  </td><td>1972</td><td>37.928</td><td> 5894858</td><td>5473.2880</td></tr>\n",
              "\t<tr><td>Angola     </td><td>Africa  </td><td>1977</td><td>39.483</td><td> 6162675</td><td>3008.6474</td></tr>\n",
              "\t<tr><td>Angola     </td><td>Africa  </td><td>1982</td><td>39.942</td><td> 7016384</td><td>2756.9537</td></tr>\n",
              "\t<tr><td>Angola     </td><td>Africa  </td><td>1987</td><td>39.906</td><td> 7874230</td><td>2430.2083</td></tr>\n",
              "\t<tr><td>Angola     </td><td>Africa  </td><td>1992</td><td>40.647</td><td> 8735988</td><td>2627.8457</td></tr>\n",
              "\t<tr><td>Angola     </td><td>Africa  </td><td>1997</td><td>40.963</td><td> 9875024</td><td>2277.1409</td></tr>\n",
              "\t<tr><td>Angola     </td><td>Africa  </td><td>2002</td><td>41.003</td><td>10866106</td><td>2773.2873</td></tr>\n",
              "\t<tr><td>Angola     </td><td>Africa  </td><td>2007</td><td>42.731</td><td>12420476</td><td>4797.2313</td></tr>\n",
              "\t<tr><td>Argentina  </td><td>Americas</td><td>1952</td><td>62.485</td><td>17876956</td><td>5911.3151</td></tr>\n",
              "\t<tr><td>Argentina  </td><td>Americas</td><td>1957</td><td>64.399</td><td>19610538</td><td>6856.8562</td></tr>\n",
              "</tbody>\n",
              "</table>\n"
            ]
          },
          "metadata": {
            "tags": []
          }
        }
      ]
    },
    {
      "cell_type": "code",
      "metadata": {
        "id": "WeoRr0fZ16qz",
        "colab_type": "code",
        "colab": {
          "base_uri": "https://localhost:8080/",
          "height": 148
        },
        "outputId": "ad893a2b-b44b-442b-fe14-4dfe7811bf68"
      },
      "source": [
        "names(gapminder)"
      ],
      "execution_count": 68,
      "outputs": [
        {
          "output_type": "display_data",
          "data": {
            "text/plain": [
              "[1] \"country\"   \"continent\" \"year\"      \"lifeExp\"   \"pop\"       \"gdpPercap\""
            ],
            "text/latex": "\\begin{enumerate*}\n\\item 'country'\n\\item 'continent'\n\\item 'year'\n\\item 'lifeExp'\n\\item 'pop'\n\\item 'gdpPercap'\n\\end{enumerate*}\n",
            "text/markdown": "1. 'country'\n2. 'continent'\n3. 'year'\n4. 'lifeExp'\n5. 'pop'\n6. 'gdpPercap'\n\n\n",
            "text/html": [
              "<ol class=list-inline>\n",
              "\t<li>'country'</li>\n",
              "\t<li>'continent'</li>\n",
              "\t<li>'year'</li>\n",
              "\t<li>'lifeExp'</li>\n",
              "\t<li>'pop'</li>\n",
              "\t<li>'gdpPercap'</li>\n",
              "</ol>\n"
            ]
          },
          "metadata": {
            "tags": []
          }
        }
      ]
    },
    {
      "cell_type": "code",
      "metadata": {
        "id": "pxaVziJs2DVQ",
        "colab_type": "code",
        "colab": {}
      },
      "source": [
        "dump<- select(gapminder,country:year)"
      ],
      "execution_count": 0,
      "outputs": []
    },
    {
      "cell_type": "code",
      "metadata": {
        "id": "Z0ervVnI2Hv_",
        "colab_type": "code",
        "outputId": "1e713b67-be05-4b66-9913-cb8a4860dbf5",
        "colab": {
          "base_uri": "https://localhost:8080/",
          "height": 204
        }
      },
      "source": [
        "head(dump)"
      ],
      "execution_count": 70,
      "outputs": [
        {
          "output_type": "display_data",
          "data": {
            "text/plain": [
              "  country     continent year\n",
              "1 Afghanistan Asia      1952\n",
              "2 Afghanistan Asia      1957\n",
              "3 Afghanistan Asia      1962\n",
              "4 Afghanistan Asia      1967\n",
              "5 Afghanistan Asia      1972\n",
              "6 Afghanistan Asia      1977"
            ],
            "text/latex": "A tibble: 6 × 3\n\\begin{tabular}{lll}\n country & continent & year\\\\\n <fct> & <fct> & <int>\\\\\n\\hline\n\t Afghanistan & Asia & 1952\\\\\n\t Afghanistan & Asia & 1957\\\\\n\t Afghanistan & Asia & 1962\\\\\n\t Afghanistan & Asia & 1967\\\\\n\t Afghanistan & Asia & 1972\\\\\n\t Afghanistan & Asia & 1977\\\\\n\\end{tabular}\n",
            "text/markdown": "\nA tibble: 6 × 3\n\n| country &lt;fct&gt; | continent &lt;fct&gt; | year &lt;int&gt; |\n|---|---|---|\n| Afghanistan | Asia | 1952 |\n| Afghanistan | Asia | 1957 |\n| Afghanistan | Asia | 1962 |\n| Afghanistan | Asia | 1967 |\n| Afghanistan | Asia | 1972 |\n| Afghanistan | Asia | 1977 |\n\n",
            "text/html": [
              "<table>\n",
              "<caption>A tibble: 6 × 3</caption>\n",
              "<thead>\n",
              "\t<tr><th scope=col>country</th><th scope=col>continent</th><th scope=col>year</th></tr>\n",
              "\t<tr><th scope=col>&lt;fct&gt;</th><th scope=col>&lt;fct&gt;</th><th scope=col>&lt;int&gt;</th></tr>\n",
              "</thead>\n",
              "<tbody>\n",
              "\t<tr><td>Afghanistan</td><td>Asia</td><td>1952</td></tr>\n",
              "\t<tr><td>Afghanistan</td><td>Asia</td><td>1957</td></tr>\n",
              "\t<tr><td>Afghanistan</td><td>Asia</td><td>1962</td></tr>\n",
              "\t<tr><td>Afghanistan</td><td>Asia</td><td>1967</td></tr>\n",
              "\t<tr><td>Afghanistan</td><td>Asia</td><td>1972</td></tr>\n",
              "\t<tr><td>Afghanistan</td><td>Asia</td><td>1977</td></tr>\n",
              "</tbody>\n",
              "</table>\n"
            ]
          },
          "metadata": {
            "tags": []
          }
        }
      ]
    },
    {
      "cell_type": "code",
      "metadata": {
        "id": "yQmnNLAZ2yDZ",
        "colab_type": "code",
        "colab": {}
      },
      "source": [
        "dump<- select(gapminder,-(country:year))"
      ],
      "execution_count": 0,
      "outputs": []
    },
    {
      "cell_type": "code",
      "metadata": {
        "id": "8zK5oIIO28mE",
        "colab_type": "code",
        "colab": {
          "base_uri": "https://localhost:8080/",
          "height": 204
        },
        "outputId": "25dd60b6-bc2d-4702-93a8-6263befe1b09"
      },
      "source": [
        "head(dump) "
      ],
      "execution_count": 74,
      "outputs": [
        {
          "output_type": "display_data",
          "data": {
            "text/plain": [
              "  lifeExp pop      gdpPercap\n",
              "1 28.801   8425333 779.4453 \n",
              "2 30.332   9240934 820.8530 \n",
              "3 31.997  10267083 853.1007 \n",
              "4 34.020  11537966 836.1971 \n",
              "5 36.088  13079460 739.9811 \n",
              "6 38.438  14880372 786.1134 "
            ],
            "text/latex": "A tibble: 6 × 3\n\\begin{tabular}{lll}\n lifeExp & pop & gdpPercap\\\\\n <dbl> & <int> & <dbl>\\\\\n\\hline\n\t 28.801 &  8425333 & 779.4453\\\\\n\t 30.332 &  9240934 & 820.8530\\\\\n\t 31.997 & 10267083 & 853.1007\\\\\n\t 34.020 & 11537966 & 836.1971\\\\\n\t 36.088 & 13079460 & 739.9811\\\\\n\t 38.438 & 14880372 & 786.1134\\\\\n\\end{tabular}\n",
            "text/markdown": "\nA tibble: 6 × 3\n\n| lifeExp &lt;dbl&gt; | pop &lt;int&gt; | gdpPercap &lt;dbl&gt; |\n|---|---|---|\n| 28.801 |  8425333 | 779.4453 |\n| 30.332 |  9240934 | 820.8530 |\n| 31.997 | 10267083 | 853.1007 |\n| 34.020 | 11537966 | 836.1971 |\n| 36.088 | 13079460 | 739.9811 |\n| 38.438 | 14880372 | 786.1134 |\n\n",
            "text/html": [
              "<table>\n",
              "<caption>A tibble: 6 × 3</caption>\n",
              "<thead>\n",
              "\t<tr><th scope=col>lifeExp</th><th scope=col>pop</th><th scope=col>gdpPercap</th></tr>\n",
              "\t<tr><th scope=col>&lt;dbl&gt;</th><th scope=col>&lt;int&gt;</th><th scope=col>&lt;dbl&gt;</th></tr>\n",
              "</thead>\n",
              "<tbody>\n",
              "\t<tr><td>28.801</td><td> 8425333</td><td>779.4453</td></tr>\n",
              "\t<tr><td>30.332</td><td> 9240934</td><td>820.8530</td></tr>\n",
              "\t<tr><td>31.997</td><td>10267083</td><td>853.1007</td></tr>\n",
              "\t<tr><td>34.020</td><td>11537966</td><td>836.1971</td></tr>\n",
              "\t<tr><td>36.088</td><td>13079460</td><td>739.9811</td></tr>\n",
              "\t<tr><td>38.438</td><td>14880372</td><td>786.1134</td></tr>\n",
              "</tbody>\n",
              "</table>\n"
            ]
          },
          "metadata": {
            "tags": []
          }
        }
      ]
    },
    {
      "cell_type": "code",
      "metadata": {
        "id": "-3Dpky6P3Ji6",
        "colab_type": "code",
        "colab": {}
      },
      "source": [
        "i<- match(\"pop\",names(gapminder)) # assignning 'pop' column index value to i"
      ],
      "execution_count": 0,
      "outputs": []
    },
    {
      "cell_type": "code",
      "metadata": {
        "id": "9eLknXy93WTy",
        "colab_type": "code",
        "colab": {}
      },
      "source": [
        "j<- match(\"country\",names(gapminder))# assignning 'counntry' column index value to i"
      ],
      "execution_count": 0,
      "outputs": []
    },
    {
      "cell_type": "code",
      "metadata": {
        "id": "Qzhr7cBD3mJ_",
        "colab_type": "code",
        "colab": {
          "base_uri": "https://localhost:8080/",
          "height": 221
        },
        "outputId": "ec854f3f-5709-448b-dee8-ac233bfa2c72"
      },
      "source": [
        "head(gapminder[,-(i:j)])"
      ],
      "execution_count": 77,
      "outputs": [
        {
          "output_type": "display_data",
          "data": {
            "text/plain": [
              "  gdpPercap\n",
              "1 779.4453 \n",
              "2 820.8530 \n",
              "3 853.1007 \n",
              "4 836.1971 \n",
              "5 739.9811 \n",
              "6 786.1134 "
            ],
            "text/latex": "A tibble: 6 × 1\n\\begin{tabular}{l}\n gdpPercap\\\\\n <dbl>\\\\\n\\hline\n\t 779.4453\\\\\n\t 820.8530\\\\\n\t 853.1007\\\\\n\t 836.1971\\\\\n\t 739.9811\\\\\n\t 786.1134\\\\\n\\end{tabular}\n",
            "text/markdown": "\nA tibble: 6 × 1\n\n| gdpPercap &lt;dbl&gt; |\n|---|\n| 779.4453 |\n| 820.8530 |\n| 853.1007 |\n| 836.1971 |\n| 739.9811 |\n| 786.1134 |\n\n",
            "text/html": [
              "<table>\n",
              "<caption>A tibble: 6 × 1</caption>\n",
              "<thead>\n",
              "\t<tr><th scope=col>gdpPercap</th></tr>\n",
              "\t<tr><th scope=col>&lt;dbl&gt;</th></tr>\n",
              "</thead>\n",
              "<tbody>\n",
              "\t<tr><td>779.4453</td></tr>\n",
              "\t<tr><td>820.8530</td></tr>\n",
              "\t<tr><td>853.1007</td></tr>\n",
              "\t<tr><td>836.1971</td></tr>\n",
              "\t<tr><td>739.9811</td></tr>\n",
              "\t<tr><td>786.1134</td></tr>\n",
              "</tbody>\n",
              "</table>\n"
            ]
          },
          "metadata": {
            "tags": []
          }
        }
      ]
    },
    {
      "cell_type": "code",
      "metadata": {
        "id": "H8RLkk7a3yo3",
        "colab_type": "code",
        "colab": {}
      },
      "source": [
        "dump<- select(gapminder,ends_with(\"p\"))# ends_with :- disply the column names that ends with 'p' catacter"
      ],
      "execution_count": 0,
      "outputs": []
    },
    {
      "cell_type": "code",
      "metadata": {
        "id": "AsJBxBgT30qV",
        "colab_type": "code",
        "colab": {
          "base_uri": "https://localhost:8080/",
          "height": 90
        },
        "outputId": "6c8b3e5d-976a-424c-da1f-bca1dba4dc66"
      },
      "source": [
        "str(dump)"
      ],
      "execution_count": 79,
      "outputs": [
        {
          "output_type": "stream",
          "text": [
            "Classes ‘tbl_df’, ‘tbl’ and 'data.frame':\t1704 obs. of  3 variables:\n",
            " $ lifeExp  : num  28.8 30.3 32 34 36.1 ...\n",
            " $ pop      : int  8425333 9240934 10267083 11537966 13079460 14880372 12881816 13867957 16317921 22227415 ...\n",
            " $ gdpPercap: num  779 821 853 836 740 ...\n"
          ],
          "name": "stdout"
        }
      ]
    },
    {
      "cell_type": "code",
      "metadata": {
        "id": "v1D3jddJ6i7c",
        "colab_type": "code",
        "colab": {}
      },
      "source": [
        "dump<- select(gapminder,starts_with(\"c\"))"
      ],
      "execution_count": 0,
      "outputs": []
    },
    {
      "cell_type": "code",
      "metadata": {
        "id": "VuvRbxWE7QGR",
        "colab_type": "code",
        "colab": {
          "base_uri": "https://localhost:8080/",
          "height": 72
        },
        "outputId": "f2876a31-9ce3-43c2-ebc8-168f6c1d5e0b"
      },
      "source": [
        "str(dump)"
      ],
      "execution_count": 81,
      "outputs": [
        {
          "output_type": "stream",
          "text": [
            "Classes ‘tbl_df’, ‘tbl’ and 'data.frame':\t1704 obs. of  2 variables:\n",
            " $ country  : Factor w/ 142 levels \"Afghanistan\",..: 1 1 1 1 1 1 1 1 1 1 ...\n",
            " $ continent: Factor w/ 5 levels \"Africa\",\"Americas\",..: 3 3 3 3 3 3 3 3 3 3 ...\n"
          ],
          "name": "stdout"
        }
      ]
    },
    {
      "cell_type": "code",
      "metadata": {
        "id": "w7nVkCls8c6_",
        "colab_type": "code",
        "colab": {}
      },
      "source": [
        ""
      ],
      "execution_count": 0,
      "outputs": []
    },
    {
      "cell_type": "markdown",
      "metadata": {
        "id": "L-kcgvqAHxj6",
        "colab_type": "text"
      },
      "source": [
        "***Filter()***: The filter() function is used to extract subsets of rows from a data frame. "
      ]
    },
    {
      "cell_type": "code",
      "metadata": {
        "id": "j9026OEY8mnE",
        "colab_type": "code",
        "colab": {}
      },
      "source": [
        "data<- filter(gapminder,gdpPercap>750)"
      ],
      "execution_count": 0,
      "outputs": []
    },
    {
      "cell_type": "code",
      "metadata": {
        "id": "aENqEqWj8o4Z",
        "colab_type": "code",
        "colab": {
          "base_uri": "https://localhost:8080/",
          "height": 204
        },
        "outputId": "3577b036-a075-4e8e-8d79-78e385e2966c"
      },
      "source": [
        "head(data)"
      ],
      "execution_count": 84,
      "outputs": [
        {
          "output_type": "display_data",
          "data": {
            "text/plain": [
              "  country     continent year lifeExp pop      gdpPercap\n",
              "1 Afghanistan Asia      1952 28.801   8425333 779.4453 \n",
              "2 Afghanistan Asia      1957 30.332   9240934 820.8530 \n",
              "3 Afghanistan Asia      1962 31.997  10267083 853.1007 \n",
              "4 Afghanistan Asia      1967 34.020  11537966 836.1971 \n",
              "5 Afghanistan Asia      1977 38.438  14880372 786.1134 \n",
              "6 Afghanistan Asia      1982 39.854  12881816 978.0114 "
            ],
            "text/latex": "A tibble: 6 × 6\n\\begin{tabular}{llllll}\n country & continent & year & lifeExp & pop & gdpPercap\\\\\n <fct> & <fct> & <int> & <dbl> & <int> & <dbl>\\\\\n\\hline\n\t Afghanistan & Asia & 1952 & 28.801 &  8425333 & 779.4453\\\\\n\t Afghanistan & Asia & 1957 & 30.332 &  9240934 & 820.8530\\\\\n\t Afghanistan & Asia & 1962 & 31.997 & 10267083 & 853.1007\\\\\n\t Afghanistan & Asia & 1967 & 34.020 & 11537966 & 836.1971\\\\\n\t Afghanistan & Asia & 1977 & 38.438 & 14880372 & 786.1134\\\\\n\t Afghanistan & Asia & 1982 & 39.854 & 12881816 & 978.0114\\\\\n\\end{tabular}\n",
            "text/markdown": "\nA tibble: 6 × 6\n\n| country &lt;fct&gt; | continent &lt;fct&gt; | year &lt;int&gt; | lifeExp &lt;dbl&gt; | pop &lt;int&gt; | gdpPercap &lt;dbl&gt; |\n|---|---|---|---|---|---|\n| Afghanistan | Asia | 1952 | 28.801 |  8425333 | 779.4453 |\n| Afghanistan | Asia | 1957 | 30.332 |  9240934 | 820.8530 |\n| Afghanistan | Asia | 1962 | 31.997 | 10267083 | 853.1007 |\n| Afghanistan | Asia | 1967 | 34.020 | 11537966 | 836.1971 |\n| Afghanistan | Asia | 1977 | 38.438 | 14880372 | 786.1134 |\n| Afghanistan | Asia | 1982 | 39.854 | 12881816 | 978.0114 |\n\n",
            "text/html": [
              "<table>\n",
              "<caption>A tibble: 6 × 6</caption>\n",
              "<thead>\n",
              "\t<tr><th scope=col>country</th><th scope=col>continent</th><th scope=col>year</th><th scope=col>lifeExp</th><th scope=col>pop</th><th scope=col>gdpPercap</th></tr>\n",
              "\t<tr><th scope=col>&lt;fct&gt;</th><th scope=col>&lt;fct&gt;</th><th scope=col>&lt;int&gt;</th><th scope=col>&lt;dbl&gt;</th><th scope=col>&lt;int&gt;</th><th scope=col>&lt;dbl&gt;</th></tr>\n",
              "</thead>\n",
              "<tbody>\n",
              "\t<tr><td>Afghanistan</td><td>Asia</td><td>1952</td><td>28.801</td><td> 8425333</td><td>779.4453</td></tr>\n",
              "\t<tr><td>Afghanistan</td><td>Asia</td><td>1957</td><td>30.332</td><td> 9240934</td><td>820.8530</td></tr>\n",
              "\t<tr><td>Afghanistan</td><td>Asia</td><td>1962</td><td>31.997</td><td>10267083</td><td>853.1007</td></tr>\n",
              "\t<tr><td>Afghanistan</td><td>Asia</td><td>1967</td><td>34.020</td><td>11537966</td><td>836.1971</td></tr>\n",
              "\t<tr><td>Afghanistan</td><td>Asia</td><td>1977</td><td>38.438</td><td>14880372</td><td>786.1134</td></tr>\n",
              "\t<tr><td>Afghanistan</td><td>Asia</td><td>1982</td><td>39.854</td><td>12881816</td><td>978.0114</td></tr>\n",
              "</tbody>\n",
              "</table>\n"
            ]
          },
          "metadata": {
            "tags": []
          }
        }
      ]
    },
    {
      "cell_type": "code",
      "metadata": {
        "id": "OX49eHR-8yaD",
        "colab_type": "code",
        "colab": {
          "base_uri": "https://localhost:8080/",
          "height": 1000
        },
        "outputId": "a0165f65-6201-4657-fb4c-3482d17ec1e7"
      },
      "source": [
        "summary(data$country)"
      ],
      "execution_count": 85,
      "outputs": [
        {
          "output_type": "display_data",
          "data": {
            "text/plain": [
              "               Albania                Algeria                 Angola \n",
              "                    12                     12                     12 \n",
              "             Argentina              Australia                Austria \n",
              "                    12                     12                     12 \n",
              "               Bahrain                Belgium                  Benin \n",
              "                    12                     12                     12 \n",
              "               Bolivia Bosnia and Herzegovina               Botswana \n",
              "                    12                     12                     12 \n",
              "                Brazil               Bulgaria               Cameroon \n",
              "                    12                     12                     12 \n",
              "                Canada                   Chad                  Chile \n",
              "                    12                     12                     12 \n",
              "              Colombia                Comoros            Congo, Rep. \n",
              "                    12                     12                     12 \n",
              "            Costa Rica          Cote d'Ivoire                Croatia \n",
              "                    12                     12                     12 \n",
              "                  Cuba         Czech Republic                Denmark \n",
              "                    12                     12                     12 \n",
              "              Djibouti     Dominican Republic                Ecuador \n",
              "                    12                     12                     12 \n",
              "                 Egypt            El Salvador                Finland \n",
              "                    12                     12                     12 \n",
              "                France                  Gabon                Germany \n",
              "                    12                     12                     12 \n",
              "                 Ghana                 Greece              Guatemala \n",
              "                    12                     12                     12 \n",
              "                 Haiti               Honduras       Hong Kong, China \n",
              "                    12                     12                     12 \n",
              "               Hungary                Iceland                   Iran \n",
              "                    12                     12                     12 \n",
              "                  Iraq                Ireland                 Israel \n",
              "                    12                     12                     12 \n",
              "                 Italy                Jamaica                  Japan \n",
              "                    12                     12                     12 \n",
              "                Jordan                  Kenya       Korea, Dem. Rep. \n",
              "                    12                     12                     12 \n",
              "           Korea, Rep.                 Kuwait                Lebanon \n",
              "                    12                     12                     12 \n",
              "                 Libya             Madagascar               Malaysia \n",
              "                    12                     12                     12 \n",
              "             Mauritius                 Mexico               Mongolia \n",
              "                    12                     12                     12 \n",
              "            Montenegro                Morocco                Namibia \n",
              "                    12                     12                     12 \n",
              "           Netherlands            New Zealand              Nicaragua \n",
              "                    12                     12                     12 \n",
              "               Nigeria                 Norway                   Oman \n",
              "                    12                     12                     12 \n",
              "                Panama               Paraguay                   Peru \n",
              "                    12                     12                     12 \n",
              "           Philippines                 Poland               Portugal \n",
              "                    12                     12                     12 \n",
              "           Puerto Rico                Reunion                Romania \n",
              "                    12                     12                     12 \n",
              " Sao Tome and Principe           Saudi Arabia                Senegal \n",
              "                    12                     12                     12 \n",
              "                Serbia              Singapore        Slovak Republic \n",
              "                    12                     12                     12 \n",
              "              Slovenia                Somalia           South Africa \n",
              "                    12                     12                     12 \n",
              "                 Spain              Sri Lanka                  Sudan \n",
              "                    12                     12                     12 \n",
              "             Swaziland                 Sweden            Switzerland \n",
              "                    12                     12                     12 \n",
              "                 Syria                 Taiwan               Thailand \n",
              "                    12                     12                     12 \n",
              "               (Other) \n",
              "                   304 "
            ],
            "text/latex": "\\begin{description*}\n\\item[Albania] 12\n\\item[Algeria] 12\n\\item[Angola] 12\n\\item[Argentina] 12\n\\item[Australia] 12\n\\item[Austria] 12\n\\item[Bahrain] 12\n\\item[Belgium] 12\n\\item[Benin] 12\n\\item[Bolivia] 12\n\\item[Bosnia and Herzegovina] 12\n\\item[Botswana] 12\n\\item[Brazil] 12\n\\item[Bulgaria] 12\n\\item[Cameroon] 12\n\\item[Canada] 12\n\\item[Chad] 12\n\\item[Chile] 12\n\\item[Colombia] 12\n\\item[Comoros] 12\n\\item[Congo, Rep.] 12\n\\item[Costa Rica] 12\n\\item[Cote d'Ivoire] 12\n\\item[Croatia] 12\n\\item[Cuba] 12\n\\item[Czech Republic] 12\n\\item[Denmark] 12\n\\item[Djibouti] 12\n\\item[Dominican Republic] 12\n\\item[Ecuador] 12\n\\item[Egypt] 12\n\\item[El Salvador] 12\n\\item[Finland] 12\n\\item[France] 12\n\\item[Gabon] 12\n\\item[Germany] 12\n\\item[Ghana] 12\n\\item[Greece] 12\n\\item[Guatemala] 12\n\\item[Haiti] 12\n\\item[Honduras] 12\n\\item[Hong Kong, China] 12\n\\item[Hungary] 12\n\\item[Iceland] 12\n\\item[Iran] 12\n\\item[Iraq] 12\n\\item[Ireland] 12\n\\item[Israel] 12\n\\item[Italy] 12\n\\item[Jamaica] 12\n\\item[Japan] 12\n\\item[Jordan] 12\n\\item[Kenya] 12\n\\item[Korea, Dem. Rep.] 12\n\\item[Korea, Rep.] 12\n\\item[Kuwait] 12\n\\item[Lebanon] 12\n\\item[Libya] 12\n\\item[Madagascar] 12\n\\item[Malaysia] 12\n\\item[Mauritius] 12\n\\item[Mexico] 12\n\\item[Mongolia] 12\n\\item[Montenegro] 12\n\\item[Morocco] 12\n\\item[Namibia] 12\n\\item[Netherlands] 12\n\\item[New Zealand] 12\n\\item[Nicaragua] 12\n\\item[Nigeria] 12\n\\item[Norway] 12\n\\item[Oman] 12\n\\item[Panama] 12\n\\item[Paraguay] 12\n\\item[Peru] 12\n\\item[Philippines] 12\n\\item[Poland] 12\n\\item[Portugal] 12\n\\item[Puerto Rico] 12\n\\item[Reunion] 12\n\\item[Romania] 12\n\\item[Sao Tome and Principe] 12\n\\item[Saudi Arabia] 12\n\\item[Senegal] 12\n\\item[Serbia] 12\n\\item[Singapore] 12\n\\item[Slovak Republic] 12\n\\item[Slovenia] 12\n\\item[Somalia] 12\n\\item[South Africa] 12\n\\item[Spain] 12\n\\item[Sri Lanka] 12\n\\item[Sudan] 12\n\\item[Swaziland] 12\n\\item[Sweden] 12\n\\item[Switzerland] 12\n\\item[Syria] 12\n\\item[Taiwan] 12\n\\item[Thailand] 12\n\\item[(Other)] 304\n\\end{description*}\n",
            "text/markdown": "Albania\n:   12Algeria\n:   12Angola\n:   12Argentina\n:   12Australia\n:   12Austria\n:   12Bahrain\n:   12Belgium\n:   12Benin\n:   12Bolivia\n:   12Bosnia and Herzegovina\n:   12Botswana\n:   12Brazil\n:   12Bulgaria\n:   12Cameroon\n:   12Canada\n:   12Chad\n:   12Chile\n:   12Colombia\n:   12Comoros\n:   12Congo, Rep.\n:   12Costa Rica\n:   12Cote d'Ivoire\n:   12Croatia\n:   12Cuba\n:   12Czech Republic\n:   12Denmark\n:   12Djibouti\n:   12Dominican Republic\n:   12Ecuador\n:   12Egypt\n:   12El Salvador\n:   12Finland\n:   12France\n:   12Gabon\n:   12Germany\n:   12Ghana\n:   12Greece\n:   12Guatemala\n:   12Haiti\n:   12Honduras\n:   12Hong Kong, China\n:   12Hungary\n:   12Iceland\n:   12Iran\n:   12Iraq\n:   12Ireland\n:   12Israel\n:   12Italy\n:   12Jamaica\n:   12Japan\n:   12Jordan\n:   12Kenya\n:   12Korea, Dem. Rep.\n:   12Korea, Rep.\n:   12Kuwait\n:   12Lebanon\n:   12Libya\n:   12Madagascar\n:   12Malaysia\n:   12Mauritius\n:   12Mexico\n:   12Mongolia\n:   12Montenegro\n:   12Morocco\n:   12Namibia\n:   12Netherlands\n:   12New Zealand\n:   12Nicaragua\n:   12Nigeria\n:   12Norway\n:   12Oman\n:   12Panama\n:   12Paraguay\n:   12Peru\n:   12Philippines\n:   12Poland\n:   12Portugal\n:   12Puerto Rico\n:   12Reunion\n:   12Romania\n:   12Sao Tome and Principe\n:   12Saudi Arabia\n:   12Senegal\n:   12Serbia\n:   12Singapore\n:   12Slovak Republic\n:   12Slovenia\n:   12Somalia\n:   12South Africa\n:   12Spain\n:   12Sri Lanka\n:   12Sudan\n:   12Swaziland\n:   12Sweden\n:   12Switzerland\n:   12Syria\n:   12Taiwan\n:   12Thailand\n:   12(Other)\n:   304\n\n",
            "text/html": [
              "<dl class=dl-horizontal>\n",
              "\t<dt>Albania</dt>\n",
              "\t\t<dd>12</dd>\n",
              "\t<dt>Algeria</dt>\n",
              "\t\t<dd>12</dd>\n",
              "\t<dt>Angola</dt>\n",
              "\t\t<dd>12</dd>\n",
              "\t<dt>Argentina</dt>\n",
              "\t\t<dd>12</dd>\n",
              "\t<dt>Australia</dt>\n",
              "\t\t<dd>12</dd>\n",
              "\t<dt>Austria</dt>\n",
              "\t\t<dd>12</dd>\n",
              "\t<dt>Bahrain</dt>\n",
              "\t\t<dd>12</dd>\n",
              "\t<dt>Belgium</dt>\n",
              "\t\t<dd>12</dd>\n",
              "\t<dt>Benin</dt>\n",
              "\t\t<dd>12</dd>\n",
              "\t<dt>Bolivia</dt>\n",
              "\t\t<dd>12</dd>\n",
              "\t<dt>Bosnia and Herzegovina</dt>\n",
              "\t\t<dd>12</dd>\n",
              "\t<dt>Botswana</dt>\n",
              "\t\t<dd>12</dd>\n",
              "\t<dt>Brazil</dt>\n",
              "\t\t<dd>12</dd>\n",
              "\t<dt>Bulgaria</dt>\n",
              "\t\t<dd>12</dd>\n",
              "\t<dt>Cameroon</dt>\n",
              "\t\t<dd>12</dd>\n",
              "\t<dt>Canada</dt>\n",
              "\t\t<dd>12</dd>\n",
              "\t<dt>Chad</dt>\n",
              "\t\t<dd>12</dd>\n",
              "\t<dt>Chile</dt>\n",
              "\t\t<dd>12</dd>\n",
              "\t<dt>Colombia</dt>\n",
              "\t\t<dd>12</dd>\n",
              "\t<dt>Comoros</dt>\n",
              "\t\t<dd>12</dd>\n",
              "\t<dt>Congo, Rep.</dt>\n",
              "\t\t<dd>12</dd>\n",
              "\t<dt>Costa Rica</dt>\n",
              "\t\t<dd>12</dd>\n",
              "\t<dt>Cote d'Ivoire</dt>\n",
              "\t\t<dd>12</dd>\n",
              "\t<dt>Croatia</dt>\n",
              "\t\t<dd>12</dd>\n",
              "\t<dt>Cuba</dt>\n",
              "\t\t<dd>12</dd>\n",
              "\t<dt>Czech Republic</dt>\n",
              "\t\t<dd>12</dd>\n",
              "\t<dt>Denmark</dt>\n",
              "\t\t<dd>12</dd>\n",
              "\t<dt>Djibouti</dt>\n",
              "\t\t<dd>12</dd>\n",
              "\t<dt>Dominican Republic</dt>\n",
              "\t\t<dd>12</dd>\n",
              "\t<dt>Ecuador</dt>\n",
              "\t\t<dd>12</dd>\n",
              "\t<dt>Egypt</dt>\n",
              "\t\t<dd>12</dd>\n",
              "\t<dt>El Salvador</dt>\n",
              "\t\t<dd>12</dd>\n",
              "\t<dt>Finland</dt>\n",
              "\t\t<dd>12</dd>\n",
              "\t<dt>France</dt>\n",
              "\t\t<dd>12</dd>\n",
              "\t<dt>Gabon</dt>\n",
              "\t\t<dd>12</dd>\n",
              "\t<dt>Germany</dt>\n",
              "\t\t<dd>12</dd>\n",
              "\t<dt>Ghana</dt>\n",
              "\t\t<dd>12</dd>\n",
              "\t<dt>Greece</dt>\n",
              "\t\t<dd>12</dd>\n",
              "\t<dt>Guatemala</dt>\n",
              "\t\t<dd>12</dd>\n",
              "\t<dt>Haiti</dt>\n",
              "\t\t<dd>12</dd>\n",
              "\t<dt>Honduras</dt>\n",
              "\t\t<dd>12</dd>\n",
              "\t<dt>Hong Kong, China</dt>\n",
              "\t\t<dd>12</dd>\n",
              "\t<dt>Hungary</dt>\n",
              "\t\t<dd>12</dd>\n",
              "\t<dt>Iceland</dt>\n",
              "\t\t<dd>12</dd>\n",
              "\t<dt>Iran</dt>\n",
              "\t\t<dd>12</dd>\n",
              "\t<dt>Iraq</dt>\n",
              "\t\t<dd>12</dd>\n",
              "\t<dt>Ireland</dt>\n",
              "\t\t<dd>12</dd>\n",
              "\t<dt>Israel</dt>\n",
              "\t\t<dd>12</dd>\n",
              "\t<dt>Italy</dt>\n",
              "\t\t<dd>12</dd>\n",
              "\t<dt>Jamaica</dt>\n",
              "\t\t<dd>12</dd>\n",
              "\t<dt>Japan</dt>\n",
              "\t\t<dd>12</dd>\n",
              "\t<dt>Jordan</dt>\n",
              "\t\t<dd>12</dd>\n",
              "\t<dt>Kenya</dt>\n",
              "\t\t<dd>12</dd>\n",
              "\t<dt>Korea, Dem. Rep.</dt>\n",
              "\t\t<dd>12</dd>\n",
              "\t<dt>Korea, Rep.</dt>\n",
              "\t\t<dd>12</dd>\n",
              "\t<dt>Kuwait</dt>\n",
              "\t\t<dd>12</dd>\n",
              "\t<dt>Lebanon</dt>\n",
              "\t\t<dd>12</dd>\n",
              "\t<dt>Libya</dt>\n",
              "\t\t<dd>12</dd>\n",
              "\t<dt>Madagascar</dt>\n",
              "\t\t<dd>12</dd>\n",
              "\t<dt>Malaysia</dt>\n",
              "\t\t<dd>12</dd>\n",
              "\t<dt>Mauritius</dt>\n",
              "\t\t<dd>12</dd>\n",
              "\t<dt>Mexico</dt>\n",
              "\t\t<dd>12</dd>\n",
              "\t<dt>Mongolia</dt>\n",
              "\t\t<dd>12</dd>\n",
              "\t<dt>Montenegro</dt>\n",
              "\t\t<dd>12</dd>\n",
              "\t<dt>Morocco</dt>\n",
              "\t\t<dd>12</dd>\n",
              "\t<dt>Namibia</dt>\n",
              "\t\t<dd>12</dd>\n",
              "\t<dt>Netherlands</dt>\n",
              "\t\t<dd>12</dd>\n",
              "\t<dt>New Zealand</dt>\n",
              "\t\t<dd>12</dd>\n",
              "\t<dt>Nicaragua</dt>\n",
              "\t\t<dd>12</dd>\n",
              "\t<dt>Nigeria</dt>\n",
              "\t\t<dd>12</dd>\n",
              "\t<dt>Norway</dt>\n",
              "\t\t<dd>12</dd>\n",
              "\t<dt>Oman</dt>\n",
              "\t\t<dd>12</dd>\n",
              "\t<dt>Panama</dt>\n",
              "\t\t<dd>12</dd>\n",
              "\t<dt>Paraguay</dt>\n",
              "\t\t<dd>12</dd>\n",
              "\t<dt>Peru</dt>\n",
              "\t\t<dd>12</dd>\n",
              "\t<dt>Philippines</dt>\n",
              "\t\t<dd>12</dd>\n",
              "\t<dt>Poland</dt>\n",
              "\t\t<dd>12</dd>\n",
              "\t<dt>Portugal</dt>\n",
              "\t\t<dd>12</dd>\n",
              "\t<dt>Puerto Rico</dt>\n",
              "\t\t<dd>12</dd>\n",
              "\t<dt>Reunion</dt>\n",
              "\t\t<dd>12</dd>\n",
              "\t<dt>Romania</dt>\n",
              "\t\t<dd>12</dd>\n",
              "\t<dt>Sao Tome and Principe</dt>\n",
              "\t\t<dd>12</dd>\n",
              "\t<dt>Saudi Arabia</dt>\n",
              "\t\t<dd>12</dd>\n",
              "\t<dt>Senegal</dt>\n",
              "\t\t<dd>12</dd>\n",
              "\t<dt>Serbia</dt>\n",
              "\t\t<dd>12</dd>\n",
              "\t<dt>Singapore</dt>\n",
              "\t\t<dd>12</dd>\n",
              "\t<dt>Slovak Republic</dt>\n",
              "\t\t<dd>12</dd>\n",
              "\t<dt>Slovenia</dt>\n",
              "\t\t<dd>12</dd>\n",
              "\t<dt>Somalia</dt>\n",
              "\t\t<dd>12</dd>\n",
              "\t<dt>South Africa</dt>\n",
              "\t\t<dd>12</dd>\n",
              "\t<dt>Spain</dt>\n",
              "\t\t<dd>12</dd>\n",
              "\t<dt>Sri Lanka</dt>\n",
              "\t\t<dd>12</dd>\n",
              "\t<dt>Sudan</dt>\n",
              "\t\t<dd>12</dd>\n",
              "\t<dt>Swaziland</dt>\n",
              "\t\t<dd>12</dd>\n",
              "\t<dt>Sweden</dt>\n",
              "\t\t<dd>12</dd>\n",
              "\t<dt>Switzerland</dt>\n",
              "\t\t<dd>12</dd>\n",
              "\t<dt>Syria</dt>\n",
              "\t\t<dd>12</dd>\n",
              "\t<dt>Taiwan</dt>\n",
              "\t\t<dd>12</dd>\n",
              "\t<dt>Thailand</dt>\n",
              "\t\t<dd>12</dd>\n",
              "\t<dt>(Other)</dt>\n",
              "\t\t<dd>304</dd>\n",
              "</dl>\n"
            ]
          },
          "metadata": {
            "tags": []
          }
        }
      ]
    },
    {
      "cell_type": "code",
      "metadata": {
        "id": "r0S9TwWYIesA",
        "colab_type": "code",
        "colab": {
          "base_uri": "https://localhost:8080/",
          "height": 54
        },
        "outputId": "41739b3e-ceea-4136-af18-ead43ea2edf4"
      },
      "source": [
        "summary(data$lifeExp)"
      ],
      "execution_count": 86,
      "outputs": [
        {
          "output_type": "display_data",
          "data": {
            "text/plain": [
              "   Min. 1st Qu.  Median    Mean 3rd Qu.    Max. \n",
              "  28.80   51.75   64.22   61.63   71.52   82.60 "
            ]
          },
          "metadata": {
            "tags": []
          }
        }
      ]
    },
    {
      "cell_type": "code",
      "metadata": {
        "id": "X8YA5k1eIwRZ",
        "colab_type": "code",
        "colab": {
          "base_uri": "https://localhost:8080/",
          "height": 217
        },
        "outputId": "68241d6f-93fd-48fc-c516-23e6ffe6ea96"
      },
      "source": [
        "summary(data$continent)"
      ],
      "execution_count": 87,
      "outputs": [
        {
          "output_type": "display_data",
          "data": {
            "text/plain": [
              "  Africa Americas     Asia   Europe  Oceania \n",
              "     471      300      337      360       24 "
            ],
            "text/latex": "\\begin{description*}\n\\item[Africa] 471\n\\item[Americas] 300\n\\item[Asia] 337\n\\item[Europe] 360\n\\item[Oceania] 24\n\\end{description*}\n",
            "text/markdown": "Africa\n:   471Americas\n:   300Asia\n:   337Europe\n:   360Oceania\n:   24\n\n",
            "text/html": [
              "<dl class=dl-horizontal>\n",
              "\t<dt>Africa</dt>\n",
              "\t\t<dd>471</dd>\n",
              "\t<dt>Americas</dt>\n",
              "\t\t<dd>300</dd>\n",
              "\t<dt>Asia</dt>\n",
              "\t\t<dd>337</dd>\n",
              "\t<dt>Europe</dt>\n",
              "\t\t<dd>360</dd>\n",
              "\t<dt>Oceania</dt>\n",
              "\t\t<dd>24</dd>\n",
              "</dl>\n"
            ]
          },
          "metadata": {
            "tags": []
          }
        }
      ]
    },
    {
      "cell_type": "code",
      "metadata": {
        "id": "9b9n5zdMI3_1",
        "colab_type": "code",
        "colab": {}
      },
      "source": [
        "dump<- filter(gapminder,lifeExp>60 & continent=='Asia')"
      ],
      "execution_count": 0,
      "outputs": []
    },
    {
      "cell_type": "code",
      "metadata": {
        "id": "yQtpv6z7JlBX",
        "colab_type": "code",
        "colab": {
          "base_uri": "https://localhost:8080/",
          "height": 1000
        },
        "outputId": "33dbad26-29e0-45f2-a514-0026d87ec570"
      },
      "source": [
        "dump"
      ],
      "execution_count": 89,
      "outputs": [
        {
          "output_type": "display_data",
          "data": {
            "text/plain": [
              "    country            continent year lifeExp  pop        gdpPercap \n",
              "1   Bahrain            Asia      1972 63.30000     230800 18268.6584\n",
              "2   Bahrain            Asia      1977 65.59300     297410 19340.1020\n",
              "3   Bahrain            Asia      1982 69.05200     377967 19211.1473\n",
              "4   Bahrain            Asia      1987 70.75000     454612 18524.0241\n",
              "5   Bahrain            Asia      1992 72.60100     529491 19035.5792\n",
              "6   Bahrain            Asia      1997 73.92500     598561 20292.0168\n",
              "7   Bahrain            Asia      2002 74.79500     656397 23403.5593\n",
              "8   Bahrain            Asia      2007 75.63500     708573 29796.0483\n",
              "9   Bangladesh         Asia      2002 62.01300  135656790  1136.3904\n",
              "10  Bangladesh         Asia      2007 64.06200  150448339  1391.2538\n",
              "11  China              Asia      1972 63.11888  862030000   676.9001\n",
              "12  China              Asia      1977 63.96736  943455000   741.2375\n",
              "13  China              Asia      1982 65.52500 1000281000   962.4214\n",
              "14  China              Asia      1987 67.27400 1084035000  1378.9040\n",
              "15  China              Asia      1992 68.69000 1164970000  1655.7842\n",
              "16  China              Asia      1997 70.42600 1230075000  2289.2341\n",
              "17  China              Asia      2002 72.02800 1280400000  3119.2809\n",
              "18  China              Asia      2007 72.96100 1318683096  4959.1149\n",
              "19  Hong Kong, China   Asia      1952 60.96000    2125900  3054.4212\n",
              "20  Hong Kong, China   Asia      1957 64.75000    2736300  3629.0765\n",
              "21  Hong Kong, China   Asia      1962 67.65000    3305200  4692.6483\n",
              "22  Hong Kong, China   Asia      1967 70.00000    3722800  6197.9628\n",
              "23  Hong Kong, China   Asia      1972 72.00000    4115700  8315.9281\n",
              "24  Hong Kong, China   Asia      1977 73.60000    4583700 11186.1413\n",
              "25  Hong Kong, China   Asia      1982 75.45000    5264500 14560.5305\n",
              "26  Hong Kong, China   Asia      1987 76.20000    5584510 20038.4727\n",
              "27  Hong Kong, China   Asia      1992 77.60100    5829696 24757.6030\n",
              "28  Hong Kong, China   Asia      1997 80.00000    6495918 28377.6322\n",
              "29  Hong Kong, China   Asia      2002 81.49500    6762476 30209.0152\n",
              "30  Hong Kong, China   Asia      2007 82.20800    6980412 39724.9787\n",
              "⋮   ⋮                  ⋮         ⋮    ⋮        ⋮          ⋮         \n",
              "188 Taiwan             Asia      1972 69.390   15226039    4062.5239\n",
              "189 Taiwan             Asia      1977 70.590   16785196    5596.5198\n",
              "190 Taiwan             Asia      1982 72.160   18501390    7426.3548\n",
              "191 Taiwan             Asia      1987 73.400   19757799   11054.5618\n",
              "192 Taiwan             Asia      1992 74.260   20686918   15215.6579\n",
              "193 Taiwan             Asia      1997 75.250   21628605   20206.8210\n",
              "194 Taiwan             Asia      2002 76.990   22454239   23235.4233\n",
              "195 Taiwan             Asia      2007 78.400   23174294   28718.2768\n",
              "196 Thailand           Asia      1972 60.405   39276153    1524.3589\n",
              "197 Thailand           Asia      1977 62.494   44148285    1961.2246\n",
              "198 Thailand           Asia      1982 64.597   48827160    2393.2198\n",
              "199 Thailand           Asia      1987 66.084   52910342    2982.6538\n",
              "200 Thailand           Asia      1992 67.298   56667095    4616.8965\n",
              "201 Thailand           Asia      1997 67.521   60216677    5852.6255\n",
              "202 Thailand           Asia      2002 68.564   62806748    5913.1875\n",
              "203 Thailand           Asia      2007 70.616   65068149    7458.3963\n",
              "204 Vietnam            Asia      1987 62.820   62826491     820.7994\n",
              "205 Vietnam            Asia      1992 67.662   69940728     989.0231\n",
              "206 Vietnam            Asia      1997 70.672   76048996    1385.8968\n",
              "207 Vietnam            Asia      2002 73.017   80908147    1764.4567\n",
              "208 Vietnam            Asia      2007 74.249   85262356    2441.5764\n",
              "209 West Bank and Gaza Asia      1977 60.765    1261091    3682.8315\n",
              "210 West Bank and Gaza Asia      1982 64.406    1425876    4336.0321\n",
              "211 West Bank and Gaza Asia      1987 67.046    1691210    5107.1974\n",
              "212 West Bank and Gaza Asia      1992 69.718    2104779    6017.6548\n",
              "213 West Bank and Gaza Asia      1997 71.096    2826046    7110.6676\n",
              "214 West Bank and Gaza Asia      2002 72.370    3389578    4515.4876\n",
              "215 West Bank and Gaza Asia      2007 73.422    4018332    3025.3498\n",
              "216 Yemen, Rep.        Asia      2002 60.308   18701257    2234.8208\n",
              "217 Yemen, Rep.        Asia      2007 62.698   22211743    2280.7699"
            ],
            "text/latex": "A tibble: 217 × 6\n\\begin{tabular}{llllll}\n country & continent & year & lifeExp & pop & gdpPercap\\\\\n <fct> & <fct> & <int> & <dbl> & <int> & <dbl>\\\\\n\\hline\n\t Bahrain          & Asia & 1972 & 63.30000 &     230800 & 18268.6584\\\\\n\t Bahrain          & Asia & 1977 & 65.59300 &     297410 & 19340.1020\\\\\n\t Bahrain          & Asia & 1982 & 69.05200 &     377967 & 19211.1473\\\\\n\t Bahrain          & Asia & 1987 & 70.75000 &     454612 & 18524.0241\\\\\n\t Bahrain          & Asia & 1992 & 72.60100 &     529491 & 19035.5792\\\\\n\t Bahrain          & Asia & 1997 & 73.92500 &     598561 & 20292.0168\\\\\n\t Bahrain          & Asia & 2002 & 74.79500 &     656397 & 23403.5593\\\\\n\t Bahrain          & Asia & 2007 & 75.63500 &     708573 & 29796.0483\\\\\n\t Bangladesh       & Asia & 2002 & 62.01300 &  135656790 &  1136.3904\\\\\n\t Bangladesh       & Asia & 2007 & 64.06200 &  150448339 &  1391.2538\\\\\n\t China            & Asia & 1972 & 63.11888 &  862030000 &   676.9001\\\\\n\t China            & Asia & 1977 & 63.96736 &  943455000 &   741.2375\\\\\n\t China            & Asia & 1982 & 65.52500 & 1000281000 &   962.4214\\\\\n\t China            & Asia & 1987 & 67.27400 & 1084035000 &  1378.9040\\\\\n\t China            & Asia & 1992 & 68.69000 & 1164970000 &  1655.7842\\\\\n\t China            & Asia & 1997 & 70.42600 & 1230075000 &  2289.2341\\\\\n\t China            & Asia & 2002 & 72.02800 & 1280400000 &  3119.2809\\\\\n\t China            & Asia & 2007 & 72.96100 & 1318683096 &  4959.1149\\\\\n\t Hong Kong, China & Asia & 1952 & 60.96000 &    2125900 &  3054.4212\\\\\n\t Hong Kong, China & Asia & 1957 & 64.75000 &    2736300 &  3629.0765\\\\\n\t Hong Kong, China & Asia & 1962 & 67.65000 &    3305200 &  4692.6483\\\\\n\t Hong Kong, China & Asia & 1967 & 70.00000 &    3722800 &  6197.9628\\\\\n\t Hong Kong, China & Asia & 1972 & 72.00000 &    4115700 &  8315.9281\\\\\n\t Hong Kong, China & Asia & 1977 & 73.60000 &    4583700 & 11186.1413\\\\\n\t Hong Kong, China & Asia & 1982 & 75.45000 &    5264500 & 14560.5305\\\\\n\t Hong Kong, China & Asia & 1987 & 76.20000 &    5584510 & 20038.4727\\\\\n\t Hong Kong, China & Asia & 1992 & 77.60100 &    5829696 & 24757.6030\\\\\n\t Hong Kong, China & Asia & 1997 & 80.00000 &    6495918 & 28377.6322\\\\\n\t Hong Kong, China & Asia & 2002 & 81.49500 &    6762476 & 30209.0152\\\\\n\t Hong Kong, China & Asia & 2007 & 82.20800 &    6980412 & 39724.9787\\\\\n\t ⋮ & ⋮ & ⋮ & ⋮ & ⋮ & ⋮\\\\\n\t Taiwan             & Asia & 1972 & 69.390 & 15226039 &  4062.5239\\\\\n\t Taiwan             & Asia & 1977 & 70.590 & 16785196 &  5596.5198\\\\\n\t Taiwan             & Asia & 1982 & 72.160 & 18501390 &  7426.3548\\\\\n\t Taiwan             & Asia & 1987 & 73.400 & 19757799 & 11054.5618\\\\\n\t Taiwan             & Asia & 1992 & 74.260 & 20686918 & 15215.6579\\\\\n\t Taiwan             & Asia & 1997 & 75.250 & 21628605 & 20206.8210\\\\\n\t Taiwan             & Asia & 2002 & 76.990 & 22454239 & 23235.4233\\\\\n\t Taiwan             & Asia & 2007 & 78.400 & 23174294 & 28718.2768\\\\\n\t Thailand           & Asia & 1972 & 60.405 & 39276153 &  1524.3589\\\\\n\t Thailand           & Asia & 1977 & 62.494 & 44148285 &  1961.2246\\\\\n\t Thailand           & Asia & 1982 & 64.597 & 48827160 &  2393.2198\\\\\n\t Thailand           & Asia & 1987 & 66.084 & 52910342 &  2982.6538\\\\\n\t Thailand           & Asia & 1992 & 67.298 & 56667095 &  4616.8965\\\\\n\t Thailand           & Asia & 1997 & 67.521 & 60216677 &  5852.6255\\\\\n\t Thailand           & Asia & 2002 & 68.564 & 62806748 &  5913.1875\\\\\n\t Thailand           & Asia & 2007 & 70.616 & 65068149 &  7458.3963\\\\\n\t Vietnam            & Asia & 1987 & 62.820 & 62826491 &   820.7994\\\\\n\t Vietnam            & Asia & 1992 & 67.662 & 69940728 &   989.0231\\\\\n\t Vietnam            & Asia & 1997 & 70.672 & 76048996 &  1385.8968\\\\\n\t Vietnam            & Asia & 2002 & 73.017 & 80908147 &  1764.4567\\\\\n\t Vietnam            & Asia & 2007 & 74.249 & 85262356 &  2441.5764\\\\\n\t West Bank and Gaza & Asia & 1977 & 60.765 &  1261091 &  3682.8315\\\\\n\t West Bank and Gaza & Asia & 1982 & 64.406 &  1425876 &  4336.0321\\\\\n\t West Bank and Gaza & Asia & 1987 & 67.046 &  1691210 &  5107.1974\\\\\n\t West Bank and Gaza & Asia & 1992 & 69.718 &  2104779 &  6017.6548\\\\\n\t West Bank and Gaza & Asia & 1997 & 71.096 &  2826046 &  7110.6676\\\\\n\t West Bank and Gaza & Asia & 2002 & 72.370 &  3389578 &  4515.4876\\\\\n\t West Bank and Gaza & Asia & 2007 & 73.422 &  4018332 &  3025.3498\\\\\n\t Yemen, Rep.        & Asia & 2002 & 60.308 & 18701257 &  2234.8208\\\\\n\t Yemen, Rep.        & Asia & 2007 & 62.698 & 22211743 &  2280.7699\\\\\n\\end{tabular}\n",
            "text/markdown": "\nA tibble: 217 × 6\n\n| country &lt;fct&gt; | continent &lt;fct&gt; | year &lt;int&gt; | lifeExp &lt;dbl&gt; | pop &lt;int&gt; | gdpPercap &lt;dbl&gt; |\n|---|---|---|---|---|---|\n| Bahrain          | Asia | 1972 | 63.30000 |     230800 | 18268.6584 |\n| Bahrain          | Asia | 1977 | 65.59300 |     297410 | 19340.1020 |\n| Bahrain          | Asia | 1982 | 69.05200 |     377967 | 19211.1473 |\n| Bahrain          | Asia | 1987 | 70.75000 |     454612 | 18524.0241 |\n| Bahrain          | Asia | 1992 | 72.60100 |     529491 | 19035.5792 |\n| Bahrain          | Asia | 1997 | 73.92500 |     598561 | 20292.0168 |\n| Bahrain          | Asia | 2002 | 74.79500 |     656397 | 23403.5593 |\n| Bahrain          | Asia | 2007 | 75.63500 |     708573 | 29796.0483 |\n| Bangladesh       | Asia | 2002 | 62.01300 |  135656790 |  1136.3904 |\n| Bangladesh       | Asia | 2007 | 64.06200 |  150448339 |  1391.2538 |\n| China            | Asia | 1972 | 63.11888 |  862030000 |   676.9001 |\n| China            | Asia | 1977 | 63.96736 |  943455000 |   741.2375 |\n| China            | Asia | 1982 | 65.52500 | 1000281000 |   962.4214 |\n| China            | Asia | 1987 | 67.27400 | 1084035000 |  1378.9040 |\n| China            | Asia | 1992 | 68.69000 | 1164970000 |  1655.7842 |\n| China            | Asia | 1997 | 70.42600 | 1230075000 |  2289.2341 |\n| China            | Asia | 2002 | 72.02800 | 1280400000 |  3119.2809 |\n| China            | Asia | 2007 | 72.96100 | 1318683096 |  4959.1149 |\n| Hong Kong, China | Asia | 1952 | 60.96000 |    2125900 |  3054.4212 |\n| Hong Kong, China | Asia | 1957 | 64.75000 |    2736300 |  3629.0765 |\n| Hong Kong, China | Asia | 1962 | 67.65000 |    3305200 |  4692.6483 |\n| Hong Kong, China | Asia | 1967 | 70.00000 |    3722800 |  6197.9628 |\n| Hong Kong, China | Asia | 1972 | 72.00000 |    4115700 |  8315.9281 |\n| Hong Kong, China | Asia | 1977 | 73.60000 |    4583700 | 11186.1413 |\n| Hong Kong, China | Asia | 1982 | 75.45000 |    5264500 | 14560.5305 |\n| Hong Kong, China | Asia | 1987 | 76.20000 |    5584510 | 20038.4727 |\n| Hong Kong, China | Asia | 1992 | 77.60100 |    5829696 | 24757.6030 |\n| Hong Kong, China | Asia | 1997 | 80.00000 |    6495918 | 28377.6322 |\n| Hong Kong, China | Asia | 2002 | 81.49500 |    6762476 | 30209.0152 |\n| Hong Kong, China | Asia | 2007 | 82.20800 |    6980412 | 39724.9787 |\n| ⋮ | ⋮ | ⋮ | ⋮ | ⋮ | ⋮ |\n| Taiwan             | Asia | 1972 | 69.390 | 15226039 |  4062.5239 |\n| Taiwan             | Asia | 1977 | 70.590 | 16785196 |  5596.5198 |\n| Taiwan             | Asia | 1982 | 72.160 | 18501390 |  7426.3548 |\n| Taiwan             | Asia | 1987 | 73.400 | 19757799 | 11054.5618 |\n| Taiwan             | Asia | 1992 | 74.260 | 20686918 | 15215.6579 |\n| Taiwan             | Asia | 1997 | 75.250 | 21628605 | 20206.8210 |\n| Taiwan             | Asia | 2002 | 76.990 | 22454239 | 23235.4233 |\n| Taiwan             | Asia | 2007 | 78.400 | 23174294 | 28718.2768 |\n| Thailand           | Asia | 1972 | 60.405 | 39276153 |  1524.3589 |\n| Thailand           | Asia | 1977 | 62.494 | 44148285 |  1961.2246 |\n| Thailand           | Asia | 1982 | 64.597 | 48827160 |  2393.2198 |\n| Thailand           | Asia | 1987 | 66.084 | 52910342 |  2982.6538 |\n| Thailand           | Asia | 1992 | 67.298 | 56667095 |  4616.8965 |\n| Thailand           | Asia | 1997 | 67.521 | 60216677 |  5852.6255 |\n| Thailand           | Asia | 2002 | 68.564 | 62806748 |  5913.1875 |\n| Thailand           | Asia | 2007 | 70.616 | 65068149 |  7458.3963 |\n| Vietnam            | Asia | 1987 | 62.820 | 62826491 |   820.7994 |\n| Vietnam            | Asia | 1992 | 67.662 | 69940728 |   989.0231 |\n| Vietnam            | Asia | 1997 | 70.672 | 76048996 |  1385.8968 |\n| Vietnam            | Asia | 2002 | 73.017 | 80908147 |  1764.4567 |\n| Vietnam            | Asia | 2007 | 74.249 | 85262356 |  2441.5764 |\n| West Bank and Gaza | Asia | 1977 | 60.765 |  1261091 |  3682.8315 |\n| West Bank and Gaza | Asia | 1982 | 64.406 |  1425876 |  4336.0321 |\n| West Bank and Gaza | Asia | 1987 | 67.046 |  1691210 |  5107.1974 |\n| West Bank and Gaza | Asia | 1992 | 69.718 |  2104779 |  6017.6548 |\n| West Bank and Gaza | Asia | 1997 | 71.096 |  2826046 |  7110.6676 |\n| West Bank and Gaza | Asia | 2002 | 72.370 |  3389578 |  4515.4876 |\n| West Bank and Gaza | Asia | 2007 | 73.422 |  4018332 |  3025.3498 |\n| Yemen, Rep.        | Asia | 2002 | 60.308 | 18701257 |  2234.8208 |\n| Yemen, Rep.        | Asia | 2007 | 62.698 | 22211743 |  2280.7699 |\n\n",
            "text/html": [
              "<table>\n",
              "<caption>A tibble: 217 × 6</caption>\n",
              "<thead>\n",
              "\t<tr><th scope=col>country</th><th scope=col>continent</th><th scope=col>year</th><th scope=col>lifeExp</th><th scope=col>pop</th><th scope=col>gdpPercap</th></tr>\n",
              "\t<tr><th scope=col>&lt;fct&gt;</th><th scope=col>&lt;fct&gt;</th><th scope=col>&lt;int&gt;</th><th scope=col>&lt;dbl&gt;</th><th scope=col>&lt;int&gt;</th><th scope=col>&lt;dbl&gt;</th></tr>\n",
              "</thead>\n",
              "<tbody>\n",
              "\t<tr><td>Bahrain         </td><td>Asia</td><td>1972</td><td>63.30000</td><td>    230800</td><td>18268.6584</td></tr>\n",
              "\t<tr><td>Bahrain         </td><td>Asia</td><td>1977</td><td>65.59300</td><td>    297410</td><td>19340.1020</td></tr>\n",
              "\t<tr><td>Bahrain         </td><td>Asia</td><td>1982</td><td>69.05200</td><td>    377967</td><td>19211.1473</td></tr>\n",
              "\t<tr><td>Bahrain         </td><td>Asia</td><td>1987</td><td>70.75000</td><td>    454612</td><td>18524.0241</td></tr>\n",
              "\t<tr><td>Bahrain         </td><td>Asia</td><td>1992</td><td>72.60100</td><td>    529491</td><td>19035.5792</td></tr>\n",
              "\t<tr><td>Bahrain         </td><td>Asia</td><td>1997</td><td>73.92500</td><td>    598561</td><td>20292.0168</td></tr>\n",
              "\t<tr><td>Bahrain         </td><td>Asia</td><td>2002</td><td>74.79500</td><td>    656397</td><td>23403.5593</td></tr>\n",
              "\t<tr><td>Bahrain         </td><td>Asia</td><td>2007</td><td>75.63500</td><td>    708573</td><td>29796.0483</td></tr>\n",
              "\t<tr><td>Bangladesh      </td><td>Asia</td><td>2002</td><td>62.01300</td><td> 135656790</td><td> 1136.3904</td></tr>\n",
              "\t<tr><td>Bangladesh      </td><td>Asia</td><td>2007</td><td>64.06200</td><td> 150448339</td><td> 1391.2538</td></tr>\n",
              "\t<tr><td>China           </td><td>Asia</td><td>1972</td><td>63.11888</td><td> 862030000</td><td>  676.9001</td></tr>\n",
              "\t<tr><td>China           </td><td>Asia</td><td>1977</td><td>63.96736</td><td> 943455000</td><td>  741.2375</td></tr>\n",
              "\t<tr><td>China           </td><td>Asia</td><td>1982</td><td>65.52500</td><td>1000281000</td><td>  962.4214</td></tr>\n",
              "\t<tr><td>China           </td><td>Asia</td><td>1987</td><td>67.27400</td><td>1084035000</td><td> 1378.9040</td></tr>\n",
              "\t<tr><td>China           </td><td>Asia</td><td>1992</td><td>68.69000</td><td>1164970000</td><td> 1655.7842</td></tr>\n",
              "\t<tr><td>China           </td><td>Asia</td><td>1997</td><td>70.42600</td><td>1230075000</td><td> 2289.2341</td></tr>\n",
              "\t<tr><td>China           </td><td>Asia</td><td>2002</td><td>72.02800</td><td>1280400000</td><td> 3119.2809</td></tr>\n",
              "\t<tr><td>China           </td><td>Asia</td><td>2007</td><td>72.96100</td><td>1318683096</td><td> 4959.1149</td></tr>\n",
              "\t<tr><td>Hong Kong, China</td><td>Asia</td><td>1952</td><td>60.96000</td><td>   2125900</td><td> 3054.4212</td></tr>\n",
              "\t<tr><td>Hong Kong, China</td><td>Asia</td><td>1957</td><td>64.75000</td><td>   2736300</td><td> 3629.0765</td></tr>\n",
              "\t<tr><td>Hong Kong, China</td><td>Asia</td><td>1962</td><td>67.65000</td><td>   3305200</td><td> 4692.6483</td></tr>\n",
              "\t<tr><td>Hong Kong, China</td><td>Asia</td><td>1967</td><td>70.00000</td><td>   3722800</td><td> 6197.9628</td></tr>\n",
              "\t<tr><td>Hong Kong, China</td><td>Asia</td><td>1972</td><td>72.00000</td><td>   4115700</td><td> 8315.9281</td></tr>\n",
              "\t<tr><td>Hong Kong, China</td><td>Asia</td><td>1977</td><td>73.60000</td><td>   4583700</td><td>11186.1413</td></tr>\n",
              "\t<tr><td>Hong Kong, China</td><td>Asia</td><td>1982</td><td>75.45000</td><td>   5264500</td><td>14560.5305</td></tr>\n",
              "\t<tr><td>Hong Kong, China</td><td>Asia</td><td>1987</td><td>76.20000</td><td>   5584510</td><td>20038.4727</td></tr>\n",
              "\t<tr><td>Hong Kong, China</td><td>Asia</td><td>1992</td><td>77.60100</td><td>   5829696</td><td>24757.6030</td></tr>\n",
              "\t<tr><td>Hong Kong, China</td><td>Asia</td><td>1997</td><td>80.00000</td><td>   6495918</td><td>28377.6322</td></tr>\n",
              "\t<tr><td>Hong Kong, China</td><td>Asia</td><td>2002</td><td>81.49500</td><td>   6762476</td><td>30209.0152</td></tr>\n",
              "\t<tr><td>Hong Kong, China</td><td>Asia</td><td>2007</td><td>82.20800</td><td>   6980412</td><td>39724.9787</td></tr>\n",
              "\t<tr><td>⋮</td><td>⋮</td><td>⋮</td><td>⋮</td><td>⋮</td><td>⋮</td></tr>\n",
              "\t<tr><td>Taiwan            </td><td>Asia</td><td>1972</td><td>69.390</td><td>15226039</td><td> 4062.5239</td></tr>\n",
              "\t<tr><td>Taiwan            </td><td>Asia</td><td>1977</td><td>70.590</td><td>16785196</td><td> 5596.5198</td></tr>\n",
              "\t<tr><td>Taiwan            </td><td>Asia</td><td>1982</td><td>72.160</td><td>18501390</td><td> 7426.3548</td></tr>\n",
              "\t<tr><td>Taiwan            </td><td>Asia</td><td>1987</td><td>73.400</td><td>19757799</td><td>11054.5618</td></tr>\n",
              "\t<tr><td>Taiwan            </td><td>Asia</td><td>1992</td><td>74.260</td><td>20686918</td><td>15215.6579</td></tr>\n",
              "\t<tr><td>Taiwan            </td><td>Asia</td><td>1997</td><td>75.250</td><td>21628605</td><td>20206.8210</td></tr>\n",
              "\t<tr><td>Taiwan            </td><td>Asia</td><td>2002</td><td>76.990</td><td>22454239</td><td>23235.4233</td></tr>\n",
              "\t<tr><td>Taiwan            </td><td>Asia</td><td>2007</td><td>78.400</td><td>23174294</td><td>28718.2768</td></tr>\n",
              "\t<tr><td>Thailand          </td><td>Asia</td><td>1972</td><td>60.405</td><td>39276153</td><td> 1524.3589</td></tr>\n",
              "\t<tr><td>Thailand          </td><td>Asia</td><td>1977</td><td>62.494</td><td>44148285</td><td> 1961.2246</td></tr>\n",
              "\t<tr><td>Thailand          </td><td>Asia</td><td>1982</td><td>64.597</td><td>48827160</td><td> 2393.2198</td></tr>\n",
              "\t<tr><td>Thailand          </td><td>Asia</td><td>1987</td><td>66.084</td><td>52910342</td><td> 2982.6538</td></tr>\n",
              "\t<tr><td>Thailand          </td><td>Asia</td><td>1992</td><td>67.298</td><td>56667095</td><td> 4616.8965</td></tr>\n",
              "\t<tr><td>Thailand          </td><td>Asia</td><td>1997</td><td>67.521</td><td>60216677</td><td> 5852.6255</td></tr>\n",
              "\t<tr><td>Thailand          </td><td>Asia</td><td>2002</td><td>68.564</td><td>62806748</td><td> 5913.1875</td></tr>\n",
              "\t<tr><td>Thailand          </td><td>Asia</td><td>2007</td><td>70.616</td><td>65068149</td><td> 7458.3963</td></tr>\n",
              "\t<tr><td>Vietnam           </td><td>Asia</td><td>1987</td><td>62.820</td><td>62826491</td><td>  820.7994</td></tr>\n",
              "\t<tr><td>Vietnam           </td><td>Asia</td><td>1992</td><td>67.662</td><td>69940728</td><td>  989.0231</td></tr>\n",
              "\t<tr><td>Vietnam           </td><td>Asia</td><td>1997</td><td>70.672</td><td>76048996</td><td> 1385.8968</td></tr>\n",
              "\t<tr><td>Vietnam           </td><td>Asia</td><td>2002</td><td>73.017</td><td>80908147</td><td> 1764.4567</td></tr>\n",
              "\t<tr><td>Vietnam           </td><td>Asia</td><td>2007</td><td>74.249</td><td>85262356</td><td> 2441.5764</td></tr>\n",
              "\t<tr><td>West Bank and Gaza</td><td>Asia</td><td>1977</td><td>60.765</td><td> 1261091</td><td> 3682.8315</td></tr>\n",
              "\t<tr><td>West Bank and Gaza</td><td>Asia</td><td>1982</td><td>64.406</td><td> 1425876</td><td> 4336.0321</td></tr>\n",
              "\t<tr><td>West Bank and Gaza</td><td>Asia</td><td>1987</td><td>67.046</td><td> 1691210</td><td> 5107.1974</td></tr>\n",
              "\t<tr><td>West Bank and Gaza</td><td>Asia</td><td>1992</td><td>69.718</td><td> 2104779</td><td> 6017.6548</td></tr>\n",
              "\t<tr><td>West Bank and Gaza</td><td>Asia</td><td>1997</td><td>71.096</td><td> 2826046</td><td> 7110.6676</td></tr>\n",
              "\t<tr><td>West Bank and Gaza</td><td>Asia</td><td>2002</td><td>72.370</td><td> 3389578</td><td> 4515.4876</td></tr>\n",
              "\t<tr><td>West Bank and Gaza</td><td>Asia</td><td>2007</td><td>73.422</td><td> 4018332</td><td> 3025.3498</td></tr>\n",
              "\t<tr><td>Yemen, Rep.       </td><td>Asia</td><td>2002</td><td>60.308</td><td>18701257</td><td> 2234.8208</td></tr>\n",
              "\t<tr><td>Yemen, Rep.       </td><td>Asia</td><td>2007</td><td>62.698</td><td>22211743</td><td> 2280.7699</td></tr>\n",
              "</tbody>\n",
              "</table>\n"
            ]
          },
          "metadata": {
            "tags": []
          }
        }
      ]
    },
    {
      "cell_type": "code",
      "metadata": {
        "id": "C6Ro1A1BJo6O",
        "colab_type": "code",
        "colab": {}
      },
      "source": [
        ""
      ],
      "execution_count": 0,
      "outputs": []
    },
    {
      "cell_type": "markdown",
      "metadata": {
        "id": "Lg9z8LzDLUkY",
        "colab_type": "text"
      },
      "source": [
        "**arrange()**: The arrange() function is used to reorder rows of a data frame according to one of the variables/columns"
      ]
    },
    {
      "cell_type": "code",
      "metadata": {
        "id": "gZTtCDZKLkKW",
        "colab_type": "code",
        "colab": {}
      },
      "source": [
        "dump<- arrange(gapminder,lifeExp)"
      ],
      "execution_count": 0,
      "outputs": []
    },
    {
      "cell_type": "code",
      "metadata": {
        "id": "Q8HuYHumL08m",
        "colab_type": "code",
        "colab": {
          "base_uri": "https://localhost:8080/",
          "height": 204
        },
        "outputId": "aadf1151-f4e2-495a-8618-9cf8ceb0b7da"
      },
      "source": [
        "head(dump)"
      ],
      "execution_count": 92,
      "outputs": [
        {
          "output_type": "display_data",
          "data": {
            "text/plain": [
              "  country      continent year lifeExp pop     gdpPercap\n",
              "1 Rwanda       Africa    1992 23.599  7290203  737.0686\n",
              "2 Afghanistan  Asia      1952 28.801  8425333  779.4453\n",
              "3 Gambia       Africa    1952 30.000   284320  485.2307\n",
              "4 Angola       Africa    1952 30.015  4232095 3520.6103\n",
              "5 Sierra Leone Africa    1952 30.331  2143249  879.7877\n",
              "6 Afghanistan  Asia      1957 30.332  9240934  820.8530"
            ],
            "text/latex": "A tibble: 6 × 6\n\\begin{tabular}{llllll}\n country & continent & year & lifeExp & pop & gdpPercap\\\\\n <fct> & <fct> & <int> & <dbl> & <int> & <dbl>\\\\\n\\hline\n\t Rwanda       & Africa & 1992 & 23.599 & 7290203 &  737.0686\\\\\n\t Afghanistan  & Asia   & 1952 & 28.801 & 8425333 &  779.4453\\\\\n\t Gambia       & Africa & 1952 & 30.000 &  284320 &  485.2307\\\\\n\t Angola       & Africa & 1952 & 30.015 & 4232095 & 3520.6103\\\\\n\t Sierra Leone & Africa & 1952 & 30.331 & 2143249 &  879.7877\\\\\n\t Afghanistan  & Asia   & 1957 & 30.332 & 9240934 &  820.8530\\\\\n\\end{tabular}\n",
            "text/markdown": "\nA tibble: 6 × 6\n\n| country &lt;fct&gt; | continent &lt;fct&gt; | year &lt;int&gt; | lifeExp &lt;dbl&gt; | pop &lt;int&gt; | gdpPercap &lt;dbl&gt; |\n|---|---|---|---|---|---|\n| Rwanda       | Africa | 1992 | 23.599 | 7290203 |  737.0686 |\n| Afghanistan  | Asia   | 1952 | 28.801 | 8425333 |  779.4453 |\n| Gambia       | Africa | 1952 | 30.000 |  284320 |  485.2307 |\n| Angola       | Africa | 1952 | 30.015 | 4232095 | 3520.6103 |\n| Sierra Leone | Africa | 1952 | 30.331 | 2143249 |  879.7877 |\n| Afghanistan  | Asia   | 1957 | 30.332 | 9240934 |  820.8530 |\n\n",
            "text/html": [
              "<table>\n",
              "<caption>A tibble: 6 × 6</caption>\n",
              "<thead>\n",
              "\t<tr><th scope=col>country</th><th scope=col>continent</th><th scope=col>year</th><th scope=col>lifeExp</th><th scope=col>pop</th><th scope=col>gdpPercap</th></tr>\n",
              "\t<tr><th scope=col>&lt;fct&gt;</th><th scope=col>&lt;fct&gt;</th><th scope=col>&lt;int&gt;</th><th scope=col>&lt;dbl&gt;</th><th scope=col>&lt;int&gt;</th><th scope=col>&lt;dbl&gt;</th></tr>\n",
              "</thead>\n",
              "<tbody>\n",
              "\t<tr><td>Rwanda      </td><td>Africa</td><td>1992</td><td>23.599</td><td>7290203</td><td> 737.0686</td></tr>\n",
              "\t<tr><td>Afghanistan </td><td>Asia  </td><td>1952</td><td>28.801</td><td>8425333</td><td> 779.4453</td></tr>\n",
              "\t<tr><td>Gambia      </td><td>Africa</td><td>1952</td><td>30.000</td><td> 284320</td><td> 485.2307</td></tr>\n",
              "\t<tr><td>Angola      </td><td>Africa</td><td>1952</td><td>30.015</td><td>4232095</td><td>3520.6103</td></tr>\n",
              "\t<tr><td>Sierra Leone</td><td>Africa</td><td>1952</td><td>30.331</td><td>2143249</td><td> 879.7877</td></tr>\n",
              "\t<tr><td>Afghanistan </td><td>Asia  </td><td>1957</td><td>30.332</td><td>9240934</td><td> 820.8530</td></tr>\n",
              "</tbody>\n",
              "</table>\n"
            ]
          },
          "metadata": {
            "tags": []
          }
        }
      ]
    },
    {
      "cell_type": "code",
      "metadata": {
        "id": "4hRUEE61L61T",
        "colab_type": "code",
        "colab": {
          "base_uri": "https://localhost:8080/",
          "height": 141
        },
        "outputId": "205c4d63-5162-4d06-eb39-24a3756b7f72"
      },
      "source": [
        "head(select(gapminder,country,continent),3)"
      ],
      "execution_count": 93,
      "outputs": [
        {
          "output_type": "display_data",
          "data": {
            "text/plain": [
              "  country     continent\n",
              "1 Afghanistan Asia     \n",
              "2 Afghanistan Asia     \n",
              "3 Afghanistan Asia     "
            ],
            "text/latex": "A tibble: 3 × 2\n\\begin{tabular}{ll}\n country & continent\\\\\n <fct> & <fct>\\\\\n\\hline\n\t Afghanistan & Asia\\\\\n\t Afghanistan & Asia\\\\\n\t Afghanistan & Asia\\\\\n\\end{tabular}\n",
            "text/markdown": "\nA tibble: 3 × 2\n\n| country &lt;fct&gt; | continent &lt;fct&gt; |\n|---|---|\n| Afghanistan | Asia |\n| Afghanistan | Asia |\n| Afghanistan | Asia |\n\n",
            "text/html": [
              "<table>\n",
              "<caption>A tibble: 3 × 2</caption>\n",
              "<thead>\n",
              "\t<tr><th scope=col>country</th><th scope=col>continent</th></tr>\n",
              "\t<tr><th scope=col>&lt;fct&gt;</th><th scope=col>&lt;fct&gt;</th></tr>\n",
              "</thead>\n",
              "<tbody>\n",
              "\t<tr><td>Afghanistan</td><td>Asia</td></tr>\n",
              "\t<tr><td>Afghanistan</td><td>Asia</td></tr>\n",
              "\t<tr><td>Afghanistan</td><td>Asia</td></tr>\n",
              "</tbody>\n",
              "</table>\n"
            ]
          },
          "metadata": {
            "tags": []
          }
        }
      ]
    },
    {
      "cell_type": "code",
      "metadata": {
        "id": "UAPQpA9sMJmg",
        "colab_type": "code",
        "colab": {
          "base_uri": "https://localhost:8080/",
          "height": 204
        },
        "outputId": "ad797e15-c497-4285-91d5-bc3e437b964b"
      },
      "source": [
        "head(arrange(gapminder,lifeExp))"
      ],
      "execution_count": 94,
      "outputs": [
        {
          "output_type": "display_data",
          "data": {
            "text/plain": [
              "  country      continent year lifeExp pop     gdpPercap\n",
              "1 Rwanda       Africa    1992 23.599  7290203  737.0686\n",
              "2 Afghanistan  Asia      1952 28.801  8425333  779.4453\n",
              "3 Gambia       Africa    1952 30.000   284320  485.2307\n",
              "4 Angola       Africa    1952 30.015  4232095 3520.6103\n",
              "5 Sierra Leone Africa    1952 30.331  2143249  879.7877\n",
              "6 Afghanistan  Asia      1957 30.332  9240934  820.8530"
            ],
            "text/latex": "A tibble: 6 × 6\n\\begin{tabular}{llllll}\n country & continent & year & lifeExp & pop & gdpPercap\\\\\n <fct> & <fct> & <int> & <dbl> & <int> & <dbl>\\\\\n\\hline\n\t Rwanda       & Africa & 1992 & 23.599 & 7290203 &  737.0686\\\\\n\t Afghanistan  & Asia   & 1952 & 28.801 & 8425333 &  779.4453\\\\\n\t Gambia       & Africa & 1952 & 30.000 &  284320 &  485.2307\\\\\n\t Angola       & Africa & 1952 & 30.015 & 4232095 & 3520.6103\\\\\n\t Sierra Leone & Africa & 1952 & 30.331 & 2143249 &  879.7877\\\\\n\t Afghanistan  & Asia   & 1957 & 30.332 & 9240934 &  820.8530\\\\\n\\end{tabular}\n",
            "text/markdown": "\nA tibble: 6 × 6\n\n| country &lt;fct&gt; | continent &lt;fct&gt; | year &lt;int&gt; | lifeExp &lt;dbl&gt; | pop &lt;int&gt; | gdpPercap &lt;dbl&gt; |\n|---|---|---|---|---|---|\n| Rwanda       | Africa | 1992 | 23.599 | 7290203 |  737.0686 |\n| Afghanistan  | Asia   | 1952 | 28.801 | 8425333 |  779.4453 |\n| Gambia       | Africa | 1952 | 30.000 |  284320 |  485.2307 |\n| Angola       | Africa | 1952 | 30.015 | 4232095 | 3520.6103 |\n| Sierra Leone | Africa | 1952 | 30.331 | 2143249 |  879.7877 |\n| Afghanistan  | Asia   | 1957 | 30.332 | 9240934 |  820.8530 |\n\n",
            "text/html": [
              "<table>\n",
              "<caption>A tibble: 6 × 6</caption>\n",
              "<thead>\n",
              "\t<tr><th scope=col>country</th><th scope=col>continent</th><th scope=col>year</th><th scope=col>lifeExp</th><th scope=col>pop</th><th scope=col>gdpPercap</th></tr>\n",
              "\t<tr><th scope=col>&lt;fct&gt;</th><th scope=col>&lt;fct&gt;</th><th scope=col>&lt;int&gt;</th><th scope=col>&lt;dbl&gt;</th><th scope=col>&lt;int&gt;</th><th scope=col>&lt;dbl&gt;</th></tr>\n",
              "</thead>\n",
              "<tbody>\n",
              "\t<tr><td>Rwanda      </td><td>Africa</td><td>1992</td><td>23.599</td><td>7290203</td><td> 737.0686</td></tr>\n",
              "\t<tr><td>Afghanistan </td><td>Asia  </td><td>1952</td><td>28.801</td><td>8425333</td><td> 779.4453</td></tr>\n",
              "\t<tr><td>Gambia      </td><td>Africa</td><td>1952</td><td>30.000</td><td> 284320</td><td> 485.2307</td></tr>\n",
              "\t<tr><td>Angola      </td><td>Africa</td><td>1952</td><td>30.015</td><td>4232095</td><td>3520.6103</td></tr>\n",
              "\t<tr><td>Sierra Leone</td><td>Africa</td><td>1952</td><td>30.331</td><td>2143249</td><td> 879.7877</td></tr>\n",
              "\t<tr><td>Afghanistan </td><td>Asia  </td><td>1957</td><td>30.332</td><td>9240934</td><td> 820.8530</td></tr>\n",
              "</tbody>\n",
              "</table>\n"
            ]
          },
          "metadata": {
            "tags": []
          }
        }
      ]
    },
    {
      "cell_type": "code",
      "metadata": {
        "id": "8tgjDRaIMbfJ",
        "colab_type": "code",
        "colab": {
          "base_uri": "https://localhost:8080/",
          "height": 204
        },
        "outputId": "d07f7b1b-9f27-46f2-8fcc-4d461b19e745"
      },
      "source": [
        "tail(arrange(gapminder,lifeExp))"
      ],
      "execution_count": 95,
      "outputs": [
        {
          "output_type": "display_data",
          "data": {
            "text/plain": [
              "  country          continent year lifeExp pop       gdpPercap\n",
              "1 Hong Kong, China Asia      2002 81.495    6762476 30209.02 \n",
              "2 Switzerland      Europe    2007 81.701    7554661 37506.42 \n",
              "3 Iceland          Europe    2007 81.757     301931 36180.79 \n",
              "4 Japan            Asia      2002 82.000  127065841 28604.59 \n",
              "5 Hong Kong, China Asia      2007 82.208    6980412 39724.98 \n",
              "6 Japan            Asia      2007 82.603  127467972 31656.07 "
            ],
            "text/latex": "A tibble: 6 × 6\n\\begin{tabular}{llllll}\n country & continent & year & lifeExp & pop & gdpPercap\\\\\n <fct> & <fct> & <int> & <dbl> & <int> & <dbl>\\\\\n\\hline\n\t Hong Kong, China & Asia   & 2002 & 81.495 &   6762476 & 30209.02\\\\\n\t Switzerland      & Europe & 2007 & 81.701 &   7554661 & 37506.42\\\\\n\t Iceland          & Europe & 2007 & 81.757 &    301931 & 36180.79\\\\\n\t Japan            & Asia   & 2002 & 82.000 & 127065841 & 28604.59\\\\\n\t Hong Kong, China & Asia   & 2007 & 82.208 &   6980412 & 39724.98\\\\\n\t Japan            & Asia   & 2007 & 82.603 & 127467972 & 31656.07\\\\\n\\end{tabular}\n",
            "text/markdown": "\nA tibble: 6 × 6\n\n| country &lt;fct&gt; | continent &lt;fct&gt; | year &lt;int&gt; | lifeExp &lt;dbl&gt; | pop &lt;int&gt; | gdpPercap &lt;dbl&gt; |\n|---|---|---|---|---|---|\n| Hong Kong, China | Asia   | 2002 | 81.495 |   6762476 | 30209.02 |\n| Switzerland      | Europe | 2007 | 81.701 |   7554661 | 37506.42 |\n| Iceland          | Europe | 2007 | 81.757 |    301931 | 36180.79 |\n| Japan            | Asia   | 2002 | 82.000 | 127065841 | 28604.59 |\n| Hong Kong, China | Asia   | 2007 | 82.208 |   6980412 | 39724.98 |\n| Japan            | Asia   | 2007 | 82.603 | 127467972 | 31656.07 |\n\n",
            "text/html": [
              "<table>\n",
              "<caption>A tibble: 6 × 6</caption>\n",
              "<thead>\n",
              "\t<tr><th scope=col>country</th><th scope=col>continent</th><th scope=col>year</th><th scope=col>lifeExp</th><th scope=col>pop</th><th scope=col>gdpPercap</th></tr>\n",
              "\t<tr><th scope=col>&lt;fct&gt;</th><th scope=col>&lt;fct&gt;</th><th scope=col>&lt;int&gt;</th><th scope=col>&lt;dbl&gt;</th><th scope=col>&lt;int&gt;</th><th scope=col>&lt;dbl&gt;</th></tr>\n",
              "</thead>\n",
              "<tbody>\n",
              "\t<tr><td>Hong Kong, China</td><td>Asia  </td><td>2002</td><td>81.495</td><td>  6762476</td><td>30209.02</td></tr>\n",
              "\t<tr><td>Switzerland     </td><td>Europe</td><td>2007</td><td>81.701</td><td>  7554661</td><td>37506.42</td></tr>\n",
              "\t<tr><td>Iceland         </td><td>Europe</td><td>2007</td><td>81.757</td><td>   301931</td><td>36180.79</td></tr>\n",
              "\t<tr><td>Japan           </td><td>Asia  </td><td>2002</td><td>82.000</td><td>127065841</td><td>28604.59</td></tr>\n",
              "\t<tr><td>Hong Kong, China</td><td>Asia  </td><td>2007</td><td>82.208</td><td>  6980412</td><td>39724.98</td></tr>\n",
              "\t<tr><td>Japan           </td><td>Asia  </td><td>2007</td><td>82.603</td><td>127467972</td><td>31656.07</td></tr>\n",
              "</tbody>\n",
              "</table>\n"
            ]
          },
          "metadata": {
            "tags": []
          }
        }
      ]
    },
    {
      "cell_type": "code",
      "metadata": {
        "id": "ZaxErwEmMgQe",
        "colab_type": "code",
        "colab": {
          "base_uri": "https://localhost:8080/",
          "height": 204
        },
        "outputId": "d0df322d-e4e9-49b7-e1eb-697b29adef6b"
      },
      "source": [
        "head(arrange(gapminder,desc(lifeExp)))"
      ],
      "execution_count": 96,
      "outputs": [
        {
          "output_type": "display_data",
          "data": {
            "text/plain": [
              "  country          continent year lifeExp pop       gdpPercap\n",
              "1 Japan            Asia      2007 82.603  127467972 31656.07 \n",
              "2 Hong Kong, China Asia      2007 82.208    6980412 39724.98 \n",
              "3 Japan            Asia      2002 82.000  127065841 28604.59 \n",
              "4 Iceland          Europe    2007 81.757     301931 36180.79 \n",
              "5 Switzerland      Europe    2007 81.701    7554661 37506.42 \n",
              "6 Hong Kong, China Asia      2002 81.495    6762476 30209.02 "
            ],
            "text/latex": "A tibble: 6 × 6\n\\begin{tabular}{llllll}\n country & continent & year & lifeExp & pop & gdpPercap\\\\\n <fct> & <fct> & <int> & <dbl> & <int> & <dbl>\\\\\n\\hline\n\t Japan            & Asia   & 2007 & 82.603 & 127467972 & 31656.07\\\\\n\t Hong Kong, China & Asia   & 2007 & 82.208 &   6980412 & 39724.98\\\\\n\t Japan            & Asia   & 2002 & 82.000 & 127065841 & 28604.59\\\\\n\t Iceland          & Europe & 2007 & 81.757 &    301931 & 36180.79\\\\\n\t Switzerland      & Europe & 2007 & 81.701 &   7554661 & 37506.42\\\\\n\t Hong Kong, China & Asia   & 2002 & 81.495 &   6762476 & 30209.02\\\\\n\\end{tabular}\n",
            "text/markdown": "\nA tibble: 6 × 6\n\n| country &lt;fct&gt; | continent &lt;fct&gt; | year &lt;int&gt; | lifeExp &lt;dbl&gt; | pop &lt;int&gt; | gdpPercap &lt;dbl&gt; |\n|---|---|---|---|---|---|\n| Japan            | Asia   | 2007 | 82.603 | 127467972 | 31656.07 |\n| Hong Kong, China | Asia   | 2007 | 82.208 |   6980412 | 39724.98 |\n| Japan            | Asia   | 2002 | 82.000 | 127065841 | 28604.59 |\n| Iceland          | Europe | 2007 | 81.757 |    301931 | 36180.79 |\n| Switzerland      | Europe | 2007 | 81.701 |   7554661 | 37506.42 |\n| Hong Kong, China | Asia   | 2002 | 81.495 |   6762476 | 30209.02 |\n\n",
            "text/html": [
              "<table>\n",
              "<caption>A tibble: 6 × 6</caption>\n",
              "<thead>\n",
              "\t<tr><th scope=col>country</th><th scope=col>continent</th><th scope=col>year</th><th scope=col>lifeExp</th><th scope=col>pop</th><th scope=col>gdpPercap</th></tr>\n",
              "\t<tr><th scope=col>&lt;fct&gt;</th><th scope=col>&lt;fct&gt;</th><th scope=col>&lt;int&gt;</th><th scope=col>&lt;dbl&gt;</th><th scope=col>&lt;int&gt;</th><th scope=col>&lt;dbl&gt;</th></tr>\n",
              "</thead>\n",
              "<tbody>\n",
              "\t<tr><td>Japan           </td><td>Asia  </td><td>2007</td><td>82.603</td><td>127467972</td><td>31656.07</td></tr>\n",
              "\t<tr><td>Hong Kong, China</td><td>Asia  </td><td>2007</td><td>82.208</td><td>  6980412</td><td>39724.98</td></tr>\n",
              "\t<tr><td>Japan           </td><td>Asia  </td><td>2002</td><td>82.000</td><td>127065841</td><td>28604.59</td></tr>\n",
              "\t<tr><td>Iceland         </td><td>Europe</td><td>2007</td><td>81.757</td><td>   301931</td><td>36180.79</td></tr>\n",
              "\t<tr><td>Switzerland     </td><td>Europe</td><td>2007</td><td>81.701</td><td>  7554661</td><td>37506.42</td></tr>\n",
              "\t<tr><td>Hong Kong, China</td><td>Asia  </td><td>2002</td><td>81.495</td><td>  6762476</td><td>30209.02</td></tr>\n",
              "</tbody>\n",
              "</table>\n"
            ]
          },
          "metadata": {
            "tags": []
          }
        }
      ]
    },
    {
      "cell_type": "code",
      "metadata": {
        "id": "gZaKDtLQMmx-",
        "colab_type": "code",
        "colab": {}
      },
      "source": [
        ""
      ],
      "execution_count": 0,
      "outputs": []
    },
    {
      "cell_type": "markdown",
      "metadata": {
        "id": "rx_1Yd2nMvOX",
        "colab_type": "text"
      },
      "source": [
        "***rename()***: Renaming a variable in a dataframe in R.\n"
      ]
    },
    {
      "cell_type": "code",
      "metadata": {
        "id": "Q_QcBMZkNVxy",
        "colab_type": "code",
        "colab": {}
      },
      "source": [
        "dump<- rename(gapminder,Country=country)"
      ],
      "execution_count": 0,
      "outputs": []
    },
    {
      "cell_type": "code",
      "metadata": {
        "id": "Orzh2noBNgic",
        "colab_type": "code",
        "colab": {
          "base_uri": "https://localhost:8080/",
          "height": 204
        },
        "outputId": "1673e378-4348-43f9-b30e-2d576b1bff3d"
      },
      "source": [
        "head(dump)"
      ],
      "execution_count": 99,
      "outputs": [
        {
          "output_type": "display_data",
          "data": {
            "text/plain": [
              "  Country     continent year lifeExp pop      gdpPercap\n",
              "1 Afghanistan Asia      1952 28.801   8425333 779.4453 \n",
              "2 Afghanistan Asia      1957 30.332   9240934 820.8530 \n",
              "3 Afghanistan Asia      1962 31.997  10267083 853.1007 \n",
              "4 Afghanistan Asia      1967 34.020  11537966 836.1971 \n",
              "5 Afghanistan Asia      1972 36.088  13079460 739.9811 \n",
              "6 Afghanistan Asia      1977 38.438  14880372 786.1134 "
            ],
            "text/latex": "A tibble: 6 × 6\n\\begin{tabular}{llllll}\n Country & continent & year & lifeExp & pop & gdpPercap\\\\\n <fct> & <fct> & <int> & <dbl> & <int> & <dbl>\\\\\n\\hline\n\t Afghanistan & Asia & 1952 & 28.801 &  8425333 & 779.4453\\\\\n\t Afghanistan & Asia & 1957 & 30.332 &  9240934 & 820.8530\\\\\n\t Afghanistan & Asia & 1962 & 31.997 & 10267083 & 853.1007\\\\\n\t Afghanistan & Asia & 1967 & 34.020 & 11537966 & 836.1971\\\\\n\t Afghanistan & Asia & 1972 & 36.088 & 13079460 & 739.9811\\\\\n\t Afghanistan & Asia & 1977 & 38.438 & 14880372 & 786.1134\\\\\n\\end{tabular}\n",
            "text/markdown": "\nA tibble: 6 × 6\n\n| Country &lt;fct&gt; | continent &lt;fct&gt; | year &lt;int&gt; | lifeExp &lt;dbl&gt; | pop &lt;int&gt; | gdpPercap &lt;dbl&gt; |\n|---|---|---|---|---|---|\n| Afghanistan | Asia | 1952 | 28.801 |  8425333 | 779.4453 |\n| Afghanistan | Asia | 1957 | 30.332 |  9240934 | 820.8530 |\n| Afghanistan | Asia | 1962 | 31.997 | 10267083 | 853.1007 |\n| Afghanistan | Asia | 1967 | 34.020 | 11537966 | 836.1971 |\n| Afghanistan | Asia | 1972 | 36.088 | 13079460 | 739.9811 |\n| Afghanistan | Asia | 1977 | 38.438 | 14880372 | 786.1134 |\n\n",
            "text/html": [
              "<table>\n",
              "<caption>A tibble: 6 × 6</caption>\n",
              "<thead>\n",
              "\t<tr><th scope=col>Country</th><th scope=col>continent</th><th scope=col>year</th><th scope=col>lifeExp</th><th scope=col>pop</th><th scope=col>gdpPercap</th></tr>\n",
              "\t<tr><th scope=col>&lt;fct&gt;</th><th scope=col>&lt;fct&gt;</th><th scope=col>&lt;int&gt;</th><th scope=col>&lt;dbl&gt;</th><th scope=col>&lt;int&gt;</th><th scope=col>&lt;dbl&gt;</th></tr>\n",
              "</thead>\n",
              "<tbody>\n",
              "\t<tr><td>Afghanistan</td><td>Asia</td><td>1952</td><td>28.801</td><td> 8425333</td><td>779.4453</td></tr>\n",
              "\t<tr><td>Afghanistan</td><td>Asia</td><td>1957</td><td>30.332</td><td> 9240934</td><td>820.8530</td></tr>\n",
              "\t<tr><td>Afghanistan</td><td>Asia</td><td>1962</td><td>31.997</td><td>10267083</td><td>853.1007</td></tr>\n",
              "\t<tr><td>Afghanistan</td><td>Asia</td><td>1967</td><td>34.020</td><td>11537966</td><td>836.1971</td></tr>\n",
              "\t<tr><td>Afghanistan</td><td>Asia</td><td>1972</td><td>36.088</td><td>13079460</td><td>739.9811</td></tr>\n",
              "\t<tr><td>Afghanistan</td><td>Asia</td><td>1977</td><td>38.438</td><td>14880372</td><td>786.1134</td></tr>\n",
              "</tbody>\n",
              "</table>\n"
            ]
          },
          "metadata": {
            "tags": []
          }
        }
      ]
    },
    {
      "cell_type": "code",
      "metadata": {
        "id": "kOTVydUoNj2z",
        "colab_type": "code",
        "colab": {}
      },
      "source": [
        ""
      ],
      "execution_count": 0,
      "outputs": []
    },
    {
      "cell_type": "markdown",
      "metadata": {
        "id": "WTwTvuBbNpZ7",
        "colab_type": "text"
      },
      "source": [
        "***mutate()***: The mutate() function exists to compute transformations of variables in a data frame. Often, you want to create new variables that are derived from existing variables and mutate() provides a clean interface for doing that.\n"
      ]
    },
    {
      "cell_type": "code",
      "metadata": {
        "id": "G2mISQPRN1hy",
        "colab_type": "code",
        "colab": {}
      },
      "source": [
        "data<- mutate(gapminder,year_exp=lifeExp*12)"
      ],
      "execution_count": 0,
      "outputs": []
    },
    {
      "cell_type": "code",
      "metadata": {
        "id": "Uhv99_chnUo7",
        "colab_type": "code",
        "colab": {
          "base_uri": "https://localhost:8080/",
          "height": 204
        },
        "outputId": "7783cbd6-7ef8-454c-b4af-3888b635d6f7"
      },
      "source": [
        "head(data)"
      ],
      "execution_count": 103,
      "outputs": [
        {
          "output_type": "display_data",
          "data": {
            "text/plain": [
              "  country     continent year lifeExp pop      gdpPercap year_exp\n",
              "1 Afghanistan Asia      1952 28.801   8425333 779.4453  345.612 \n",
              "2 Afghanistan Asia      1957 30.332   9240934 820.8530  363.984 \n",
              "3 Afghanistan Asia      1962 31.997  10267083 853.1007  383.964 \n",
              "4 Afghanistan Asia      1967 34.020  11537966 836.1971  408.240 \n",
              "5 Afghanistan Asia      1972 36.088  13079460 739.9811  433.056 \n",
              "6 Afghanistan Asia      1977 38.438  14880372 786.1134  461.256 "
            ],
            "text/latex": "A tibble: 6 × 7\n\\begin{tabular}{lllllll}\n country & continent & year & lifeExp & pop & gdpPercap & year\\_exp\\\\\n <fct> & <fct> & <int> & <dbl> & <int> & <dbl> & <dbl>\\\\\n\\hline\n\t Afghanistan & Asia & 1952 & 28.801 &  8425333 & 779.4453 & 345.612\\\\\n\t Afghanistan & Asia & 1957 & 30.332 &  9240934 & 820.8530 & 363.984\\\\\n\t Afghanistan & Asia & 1962 & 31.997 & 10267083 & 853.1007 & 383.964\\\\\n\t Afghanistan & Asia & 1967 & 34.020 & 11537966 & 836.1971 & 408.240\\\\\n\t Afghanistan & Asia & 1972 & 36.088 & 13079460 & 739.9811 & 433.056\\\\\n\t Afghanistan & Asia & 1977 & 38.438 & 14880372 & 786.1134 & 461.256\\\\\n\\end{tabular}\n",
            "text/markdown": "\nA tibble: 6 × 7\n\n| country &lt;fct&gt; | continent &lt;fct&gt; | year &lt;int&gt; | lifeExp &lt;dbl&gt; | pop &lt;int&gt; | gdpPercap &lt;dbl&gt; | year_exp &lt;dbl&gt; |\n|---|---|---|---|---|---|---|\n| Afghanistan | Asia | 1952 | 28.801 |  8425333 | 779.4453 | 345.612 |\n| Afghanistan | Asia | 1957 | 30.332 |  9240934 | 820.8530 | 363.984 |\n| Afghanistan | Asia | 1962 | 31.997 | 10267083 | 853.1007 | 383.964 |\n| Afghanistan | Asia | 1967 | 34.020 | 11537966 | 836.1971 | 408.240 |\n| Afghanistan | Asia | 1972 | 36.088 | 13079460 | 739.9811 | 433.056 |\n| Afghanistan | Asia | 1977 | 38.438 | 14880372 | 786.1134 | 461.256 |\n\n",
            "text/html": [
              "<table>\n",
              "<caption>A tibble: 6 × 7</caption>\n",
              "<thead>\n",
              "\t<tr><th scope=col>country</th><th scope=col>continent</th><th scope=col>year</th><th scope=col>lifeExp</th><th scope=col>pop</th><th scope=col>gdpPercap</th><th scope=col>year_exp</th></tr>\n",
              "\t<tr><th scope=col>&lt;fct&gt;</th><th scope=col>&lt;fct&gt;</th><th scope=col>&lt;int&gt;</th><th scope=col>&lt;dbl&gt;</th><th scope=col>&lt;int&gt;</th><th scope=col>&lt;dbl&gt;</th><th scope=col>&lt;dbl&gt;</th></tr>\n",
              "</thead>\n",
              "<tbody>\n",
              "\t<tr><td>Afghanistan</td><td>Asia</td><td>1952</td><td>28.801</td><td> 8425333</td><td>779.4453</td><td>345.612</td></tr>\n",
              "\t<tr><td>Afghanistan</td><td>Asia</td><td>1957</td><td>30.332</td><td> 9240934</td><td>820.8530</td><td>363.984</td></tr>\n",
              "\t<tr><td>Afghanistan</td><td>Asia</td><td>1962</td><td>31.997</td><td>10267083</td><td>853.1007</td><td>383.964</td></tr>\n",
              "\t<tr><td>Afghanistan</td><td>Asia</td><td>1967</td><td>34.020</td><td>11537966</td><td>836.1971</td><td>408.240</td></tr>\n",
              "\t<tr><td>Afghanistan</td><td>Asia</td><td>1972</td><td>36.088</td><td>13079460</td><td>739.9811</td><td>433.056</td></tr>\n",
              "\t<tr><td>Afghanistan</td><td>Asia</td><td>1977</td><td>38.438</td><td>14880372</td><td>786.1134</td><td>461.256</td></tr>\n",
              "</tbody>\n",
              "</table>\n"
            ]
          },
          "metadata": {
            "tags": []
          }
        }
      ]
    },
    {
      "cell_type": "code",
      "metadata": {
        "id": "Oiux0p-hpptp",
        "colab_type": "code",
        "colab": {}
      },
      "source": [
        ""
      ],
      "execution_count": 0,
      "outputs": []
    },
    {
      "cell_type": "markdown",
      "metadata": {
        "id": "k6m1GEdep4Yc",
        "colab_type": "text"
      },
      "source": [
        " ***transmute()*** : It  does the same thing as mutate() but then drops all non-transformed variables. "
      ]
    },
    {
      "cell_type": "code",
      "metadata": {
        "id": "dfQjfPheqCv2",
        "colab_type": "code",
        "colab": {
          "base_uri": "https://localhost:8080/",
          "height": 221
        },
        "outputId": "7f3d3d6c-3e56-43bb-cd2d-faef680a436b"
      },
      "source": [
        "head(transmute(gapminder, year_exp=lifeExp * 12))"
      ],
      "execution_count": 104,
      "outputs": [
        {
          "output_type": "display_data",
          "data": {
            "text/plain": [
              "  year_exp\n",
              "1 345.612 \n",
              "2 363.984 \n",
              "3 383.964 \n",
              "4 408.240 \n",
              "5 433.056 \n",
              "6 461.256 "
            ],
            "text/latex": "A tibble: 6 × 1\n\\begin{tabular}{l}\n year\\_exp\\\\\n <dbl>\\\\\n\\hline\n\t 345.612\\\\\n\t 363.984\\\\\n\t 383.964\\\\\n\t 408.240\\\\\n\t 433.056\\\\\n\t 461.256\\\\\n\\end{tabular}\n",
            "text/markdown": "\nA tibble: 6 × 1\n\n| year_exp &lt;dbl&gt; |\n|---|\n| 345.612 |\n| 363.984 |\n| 383.964 |\n| 408.240 |\n| 433.056 |\n| 461.256 |\n\n",
            "text/html": [
              "<table>\n",
              "<caption>A tibble: 6 × 1</caption>\n",
              "<thead>\n",
              "\t<tr><th scope=col>year_exp</th></tr>\n",
              "\t<tr><th scope=col>&lt;dbl&gt;</th></tr>\n",
              "</thead>\n",
              "<tbody>\n",
              "\t<tr><td>345.612</td></tr>\n",
              "\t<tr><td>363.984</td></tr>\n",
              "\t<tr><td>383.964</td></tr>\n",
              "\t<tr><td>408.240</td></tr>\n",
              "\t<tr><td>433.056</td></tr>\n",
              "\t<tr><td>461.256</td></tr>\n",
              "</tbody>\n",
              "</table>\n"
            ]
          },
          "metadata": {
            "tags": []
          }
        }
      ]
    },
    {
      "cell_type": "code",
      "metadata": {
        "id": "RFmLxEn6qdnu",
        "colab_type": "code",
        "colab": {
          "base_uri": "https://localhost:8080/",
          "height": 204
        },
        "outputId": "5d5e024c-53bf-4ea6-beb1-09ba508ce1e6"
      },
      "source": [
        "head(gapminder)"
      ],
      "execution_count": 105,
      "outputs": [
        {
          "output_type": "display_data",
          "data": {
            "text/plain": [
              "  country     continent year lifeExp pop      gdpPercap\n",
              "1 Afghanistan Asia      1952 28.801   8425333 779.4453 \n",
              "2 Afghanistan Asia      1957 30.332   9240934 820.8530 \n",
              "3 Afghanistan Asia      1962 31.997  10267083 853.1007 \n",
              "4 Afghanistan Asia      1967 34.020  11537966 836.1971 \n",
              "5 Afghanistan Asia      1972 36.088  13079460 739.9811 \n",
              "6 Afghanistan Asia      1977 38.438  14880372 786.1134 "
            ],
            "text/latex": "A tibble: 6 × 6\n\\begin{tabular}{llllll}\n country & continent & year & lifeExp & pop & gdpPercap\\\\\n <fct> & <fct> & <int> & <dbl> & <int> & <dbl>\\\\\n\\hline\n\t Afghanistan & Asia & 1952 & 28.801 &  8425333 & 779.4453\\\\\n\t Afghanistan & Asia & 1957 & 30.332 &  9240934 & 820.8530\\\\\n\t Afghanistan & Asia & 1962 & 31.997 & 10267083 & 853.1007\\\\\n\t Afghanistan & Asia & 1967 & 34.020 & 11537966 & 836.1971\\\\\n\t Afghanistan & Asia & 1972 & 36.088 & 13079460 & 739.9811\\\\\n\t Afghanistan & Asia & 1977 & 38.438 & 14880372 & 786.1134\\\\\n\\end{tabular}\n",
            "text/markdown": "\nA tibble: 6 × 6\n\n| country &lt;fct&gt; | continent &lt;fct&gt; | year &lt;int&gt; | lifeExp &lt;dbl&gt; | pop &lt;int&gt; | gdpPercap &lt;dbl&gt; |\n|---|---|---|---|---|---|\n| Afghanistan | Asia | 1952 | 28.801 |  8425333 | 779.4453 |\n| Afghanistan | Asia | 1957 | 30.332 |  9240934 | 820.8530 |\n| Afghanistan | Asia | 1962 | 31.997 | 10267083 | 853.1007 |\n| Afghanistan | Asia | 1967 | 34.020 | 11537966 | 836.1971 |\n| Afghanistan | Asia | 1972 | 36.088 | 13079460 | 739.9811 |\n| Afghanistan | Asia | 1977 | 38.438 | 14880372 | 786.1134 |\n\n",
            "text/html": [
              "<table>\n",
              "<caption>A tibble: 6 × 6</caption>\n",
              "<thead>\n",
              "\t<tr><th scope=col>country</th><th scope=col>continent</th><th scope=col>year</th><th scope=col>lifeExp</th><th scope=col>pop</th><th scope=col>gdpPercap</th></tr>\n",
              "\t<tr><th scope=col>&lt;fct&gt;</th><th scope=col>&lt;fct&gt;</th><th scope=col>&lt;int&gt;</th><th scope=col>&lt;dbl&gt;</th><th scope=col>&lt;int&gt;</th><th scope=col>&lt;dbl&gt;</th></tr>\n",
              "</thead>\n",
              "<tbody>\n",
              "\t<tr><td>Afghanistan</td><td>Asia</td><td>1952</td><td>28.801</td><td> 8425333</td><td>779.4453</td></tr>\n",
              "\t<tr><td>Afghanistan</td><td>Asia</td><td>1957</td><td>30.332</td><td> 9240934</td><td>820.8530</td></tr>\n",
              "\t<tr><td>Afghanistan</td><td>Asia</td><td>1962</td><td>31.997</td><td>10267083</td><td>853.1007</td></tr>\n",
              "\t<tr><td>Afghanistan</td><td>Asia</td><td>1967</td><td>34.020</td><td>11537966</td><td>836.1971</td></tr>\n",
              "\t<tr><td>Afghanistan</td><td>Asia</td><td>1972</td><td>36.088</td><td>13079460</td><td>739.9811</td></tr>\n",
              "\t<tr><td>Afghanistan</td><td>Asia</td><td>1977</td><td>38.438</td><td>14880372</td><td>786.1134</td></tr>\n",
              "</tbody>\n",
              "</table>\n"
            ]
          },
          "metadata": {
            "tags": []
          }
        }
      ]
    },
    {
      "cell_type": "code",
      "metadata": {
        "id": "RIBSQzERqiFt",
        "colab_type": "code",
        "colab": {}
      },
      "source": [
        ""
      ],
      "execution_count": 0,
      "outputs": []
    },
    {
      "cell_type": "markdown",
      "metadata": {
        "id": "GT6OFaWoqnVQ",
        "colab_type": "text"
      },
      "source": [
        " ***group_by()***: Group by one or more variables.\n"
      ]
    },
    {
      "cell_type": "code",
      "metadata": {
        "id": "JkMSxQYJsgGc",
        "colab_type": "code",
        "colab": {
          "base_uri": "https://localhost:8080/",
          "height": 204
        },
        "outputId": "9cacbce3-9f71-43ce-eaca-06acf960f1a9"
      },
      "source": [
        "head(mutate(gapminder,totalcont_lifeExp= 12* lifeExp) %>% group_by(continent))"
      ],
      "execution_count": 112,
      "outputs": [
        {
          "output_type": "display_data",
          "data": {
            "text/plain": [
              "  country     continent year lifeExp pop      gdpPercap totalcont_lifeExp\n",
              "1 Afghanistan Asia      1952 28.801   8425333 779.4453  345.612          \n",
              "2 Afghanistan Asia      1957 30.332   9240934 820.8530  363.984          \n",
              "3 Afghanistan Asia      1962 31.997  10267083 853.1007  383.964          \n",
              "4 Afghanistan Asia      1967 34.020  11537966 836.1971  408.240          \n",
              "5 Afghanistan Asia      1972 36.088  13079460 739.9811  433.056          \n",
              "6 Afghanistan Asia      1977 38.438  14880372 786.1134  461.256          "
            ],
            "text/latex": "A grouped\\_df: 6 × 7\n\\begin{tabular}{lllllll}\n country & continent & year & lifeExp & pop & gdpPercap & totalcont\\_lifeExp\\\\\n <fct> & <fct> & <int> & <dbl> & <int> & <dbl> & <dbl>\\\\\n\\hline\n\t Afghanistan & Asia & 1952 & 28.801 &  8425333 & 779.4453 & 345.612\\\\\n\t Afghanistan & Asia & 1957 & 30.332 &  9240934 & 820.8530 & 363.984\\\\\n\t Afghanistan & Asia & 1962 & 31.997 & 10267083 & 853.1007 & 383.964\\\\\n\t Afghanistan & Asia & 1967 & 34.020 & 11537966 & 836.1971 & 408.240\\\\\n\t Afghanistan & Asia & 1972 & 36.088 & 13079460 & 739.9811 & 433.056\\\\\n\t Afghanistan & Asia & 1977 & 38.438 & 14880372 & 786.1134 & 461.256\\\\\n\\end{tabular}\n",
            "text/markdown": "\nA grouped_df: 6 × 7\n\n| country &lt;fct&gt; | continent &lt;fct&gt; | year &lt;int&gt; | lifeExp &lt;dbl&gt; | pop &lt;int&gt; | gdpPercap &lt;dbl&gt; | totalcont_lifeExp &lt;dbl&gt; |\n|---|---|---|---|---|---|---|\n| Afghanistan | Asia | 1952 | 28.801 |  8425333 | 779.4453 | 345.612 |\n| Afghanistan | Asia | 1957 | 30.332 |  9240934 | 820.8530 | 363.984 |\n| Afghanistan | Asia | 1962 | 31.997 | 10267083 | 853.1007 | 383.964 |\n| Afghanistan | Asia | 1967 | 34.020 | 11537966 | 836.1971 | 408.240 |\n| Afghanistan | Asia | 1972 | 36.088 | 13079460 | 739.9811 | 433.056 |\n| Afghanistan | Asia | 1977 | 38.438 | 14880372 | 786.1134 | 461.256 |\n\n",
            "text/html": [
              "<table>\n",
              "<caption>A grouped_df: 6 × 7</caption>\n",
              "<thead>\n",
              "\t<tr><th scope=col>country</th><th scope=col>continent</th><th scope=col>year</th><th scope=col>lifeExp</th><th scope=col>pop</th><th scope=col>gdpPercap</th><th scope=col>totalcont_lifeExp</th></tr>\n",
              "\t<tr><th scope=col>&lt;fct&gt;</th><th scope=col>&lt;fct&gt;</th><th scope=col>&lt;int&gt;</th><th scope=col>&lt;dbl&gt;</th><th scope=col>&lt;int&gt;</th><th scope=col>&lt;dbl&gt;</th><th scope=col>&lt;dbl&gt;</th></tr>\n",
              "</thead>\n",
              "<tbody>\n",
              "\t<tr><td>Afghanistan</td><td>Asia</td><td>1952</td><td>28.801</td><td> 8425333</td><td>779.4453</td><td>345.612</td></tr>\n",
              "\t<tr><td>Afghanistan</td><td>Asia</td><td>1957</td><td>30.332</td><td> 9240934</td><td>820.8530</td><td>363.984</td></tr>\n",
              "\t<tr><td>Afghanistan</td><td>Asia</td><td>1962</td><td>31.997</td><td>10267083</td><td>853.1007</td><td>383.964</td></tr>\n",
              "\t<tr><td>Afghanistan</td><td>Asia</td><td>1967</td><td>34.020</td><td>11537966</td><td>836.1971</td><td>408.240</td></tr>\n",
              "\t<tr><td>Afghanistan</td><td>Asia</td><td>1972</td><td>36.088</td><td>13079460</td><td>739.9811</td><td>433.056</td></tr>\n",
              "\t<tr><td>Afghanistan</td><td>Asia</td><td>1977</td><td>38.438</td><td>14880372</td><td>786.1134</td><td>461.256</td></tr>\n",
              "</tbody>\n",
              "</table>\n"
            ]
          },
          "metadata": {
            "tags": []
          }
        }
      ]
    },
    {
      "cell_type": "code",
      "metadata": {
        "id": "r4GQcWSQtido",
        "colab_type": "code",
        "colab": {}
      },
      "source": [
        ""
      ],
      "execution_count": 0,
      "outputs": []
    },
    {
      "cell_type": "markdown",
      "metadata": {
        "id": "7xzXjhPyuovL",
        "colab_type": "text"
      },
      "source": [
        "***%>%***: The pipe line operater %>% is very handy for stringing together multiple dplyr functions in a sequence of operations.  The %>% operator allows you to string operations in a left-to-right fashion, i.e.\n",
        "> first(x) %>% second %>% third\n"
      ]
    },
    {
      "cell_type": "code",
      "metadata": {
        "id": "bM5LyxdSu7L7",
        "colab_type": "code",
        "colab": {
          "base_uri": "https://localhost:8080/",
          "height": 204
        },
        "outputId": "067e11f4-a118-44e5-c950-1c1f9bbbc5dd"
      },
      "source": [
        "head(mutate(gapminder,totalcont_lifeExp= 12* lifeExp) %>% group_by(continent) %>% arrange(desc(totalcont_lifeExp)))"
      ],
      "execution_count": 113,
      "outputs": [
        {
          "output_type": "display_data",
          "data": {
            "text/plain": [
              "  country          continent year lifeExp pop       gdpPercap totalcont_lifeExp\n",
              "1 Japan            Asia      2007 82.603  127467972 31656.07  991.236          \n",
              "2 Hong Kong, China Asia      2007 82.208    6980412 39724.98  986.496          \n",
              "3 Japan            Asia      2002 82.000  127065841 28604.59  984.000          \n",
              "4 Iceland          Europe    2007 81.757     301931 36180.79  981.084          \n",
              "5 Switzerland      Europe    2007 81.701    7554661 37506.42  980.412          \n",
              "6 Hong Kong, China Asia      2002 81.495    6762476 30209.02  977.940          "
            ],
            "text/latex": "A grouped\\_df: 6 × 7\n\\begin{tabular}{lllllll}\n country & continent & year & lifeExp & pop & gdpPercap & totalcont\\_lifeExp\\\\\n <fct> & <fct> & <int> & <dbl> & <int> & <dbl> & <dbl>\\\\\n\\hline\n\t Japan            & Asia   & 2007 & 82.603 & 127467972 & 31656.07 & 991.236\\\\\n\t Hong Kong, China & Asia   & 2007 & 82.208 &   6980412 & 39724.98 & 986.496\\\\\n\t Japan            & Asia   & 2002 & 82.000 & 127065841 & 28604.59 & 984.000\\\\\n\t Iceland          & Europe & 2007 & 81.757 &    301931 & 36180.79 & 981.084\\\\\n\t Switzerland      & Europe & 2007 & 81.701 &   7554661 & 37506.42 & 980.412\\\\\n\t Hong Kong, China & Asia   & 2002 & 81.495 &   6762476 & 30209.02 & 977.940\\\\\n\\end{tabular}\n",
            "text/markdown": "\nA grouped_df: 6 × 7\n\n| country &lt;fct&gt; | continent &lt;fct&gt; | year &lt;int&gt; | lifeExp &lt;dbl&gt; | pop &lt;int&gt; | gdpPercap &lt;dbl&gt; | totalcont_lifeExp &lt;dbl&gt; |\n|---|---|---|---|---|---|---|\n| Japan            | Asia   | 2007 | 82.603 | 127467972 | 31656.07 | 991.236 |\n| Hong Kong, China | Asia   | 2007 | 82.208 |   6980412 | 39724.98 | 986.496 |\n| Japan            | Asia   | 2002 | 82.000 | 127065841 | 28604.59 | 984.000 |\n| Iceland          | Europe | 2007 | 81.757 |    301931 | 36180.79 | 981.084 |\n| Switzerland      | Europe | 2007 | 81.701 |   7554661 | 37506.42 | 980.412 |\n| Hong Kong, China | Asia   | 2002 | 81.495 |   6762476 | 30209.02 | 977.940 |\n\n",
            "text/html": [
              "<table>\n",
              "<caption>A grouped_df: 6 × 7</caption>\n",
              "<thead>\n",
              "\t<tr><th scope=col>country</th><th scope=col>continent</th><th scope=col>year</th><th scope=col>lifeExp</th><th scope=col>pop</th><th scope=col>gdpPercap</th><th scope=col>totalcont_lifeExp</th></tr>\n",
              "\t<tr><th scope=col>&lt;fct&gt;</th><th scope=col>&lt;fct&gt;</th><th scope=col>&lt;int&gt;</th><th scope=col>&lt;dbl&gt;</th><th scope=col>&lt;int&gt;</th><th scope=col>&lt;dbl&gt;</th><th scope=col>&lt;dbl&gt;</th></tr>\n",
              "</thead>\n",
              "<tbody>\n",
              "\t<tr><td>Japan           </td><td>Asia  </td><td>2007</td><td>82.603</td><td>127467972</td><td>31656.07</td><td>991.236</td></tr>\n",
              "\t<tr><td>Hong Kong, China</td><td>Asia  </td><td>2007</td><td>82.208</td><td>  6980412</td><td>39724.98</td><td>986.496</td></tr>\n",
              "\t<tr><td>Japan           </td><td>Asia  </td><td>2002</td><td>82.000</td><td>127065841</td><td>28604.59</td><td>984.000</td></tr>\n",
              "\t<tr><td>Iceland         </td><td>Europe</td><td>2007</td><td>81.757</td><td>   301931</td><td>36180.79</td><td>981.084</td></tr>\n",
              "\t<tr><td>Switzerland     </td><td>Europe</td><td>2007</td><td>81.701</td><td>  7554661</td><td>37506.42</td><td>980.412</td></tr>\n",
              "\t<tr><td>Hong Kong, China</td><td>Asia  </td><td>2002</td><td>81.495</td><td>  6762476</td><td>30209.02</td><td>977.940</td></tr>\n",
              "</tbody>\n",
              "</table>\n"
            ]
          },
          "metadata": {
            "tags": []
          }
        }
      ]
    },
    {
      "cell_type": "code",
      "metadata": {
        "id": "-BZaHCdnvlWP",
        "colab_type": "code",
        "colab": {}
      },
      "source": [
        ""
      ],
      "execution_count": 0,
      "outputs": []
    }
  ]
}